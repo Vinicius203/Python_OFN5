{
  "nbformat": 4,
  "nbformat_minor": 0,
  "metadata": {
    "colab": {
      "provenance": [],
      "collapsed_sections": [
        "lgsNrlPbu8Pm",
        "RvpxIi6pd3sP",
        "KmDUHQvnd5D1",
        "heRCT7jfd-NR",
        "vqE8dx-Kt4T9",
        "DFGqTi-B6Qpd",
        "cwQa5jHTKbi6",
        "7smri6U7ccAd",
        "iTbp-wDAtxeN",
        "hKaOtMX2Ixtj",
        "GtBueta3mRqr",
        "IybNIB0t3woS",
        "ALrvcY7UuyFE",
        "G8-oINOzp3py",
        "INKYBYPFqFNO",
        "WZBsbfpFleWn",
        "5udrip6R1LpR",
        "mm_xu2UA26BN",
        "7GIU6VnIEqb2",
        "pcqQD1sXd7i8",
        "GsG4G33YCKBK",
        "TsK4fSW1tb-O"
      ],
      "include_colab_link": true
    },
    "kernelspec": {
      "name": "python3",
      "display_name": "Python 3"
    },
    "language_info": {
      "name": "python"
    }
  },
  "cells": [
    {
      "cell_type": "markdown",
      "metadata": {
        "id": "view-in-github",
        "colab_type": "text"
      },
      "source": [
        "<a href=\"https://colab.research.google.com/github/Vinicius203/Python_OFN5/blob/main/notebook_aulas.ipynb\" target=\"_parent\"><img src=\"https://colab.research.google.com/assets/colab-badge.svg\" alt=\"Open In Colab\"/></a>"
      ]
    },
    {
      "cell_type": "markdown",
      "source": [
        "---\n",
        "# Python para Ciência de Dados\n",
        "\n",
        "_Guilherme Sasso Ruy_\n",
        "\n",
        "_Endereço para consulta dos arquivos:_ <br>\n",
        "https://github.com/GuilhermeRuy97/Curso-ministrado-Python-para-Dados\n",
        "\n",
        "---"
      ],
      "metadata": {
        "id": "s9puR4fMjv8G"
      }
    },
    {
      "cell_type": "markdown",
      "source": [
        "# Conteúdo abordado:"
      ],
      "metadata": {
        "id": "lgsNrlPbu8Pm"
      }
    },
    {
      "cell_type": "markdown",
      "source": [
        "## Parte 1"
      ],
      "metadata": {
        "id": "RvpxIi6pd3sP"
      }
    },
    {
      "cell_type": "markdown",
      "source": [
        "**Conteúdo**:\n",
        "- <font color='yellow'> **Hello World** </font> ( _obrigatório_ ☑)\n",
        "- **Um pouco de teoria sobre Pyhon**\n",
        "  - \"Por que estudar programação?\"\n",
        "  - O que é (conceitos e motivo de se popularizar)\n",
        "- **Dicas para utilizar o Google Colab**\n",
        "  - O que é um arquivo 'python notebook'\n",
        "- **Tipos de variáveis e atribuições**\n",
        "  - Operações matemáticas e lógicas com variáveis\n",
        "- **Tipos de dados**\n",
        "    - Básicos\n",
        "    - Listas, tuplas e strings\n",
        "    - Dicionários\n",
        "- **Slicing**\n",
        "- **Estruturas de controle**\n",
        "    - Comando **if**\n",
        "    - Estruturas de repetição (como \"for\" e \"while\" em linguagem C)\n",
        "- **Como funcionam as referências**\n",
        "- **Operações em sequências**\n",
        "  - +, *, in, append, insert etc\n",
        "  - Comprehensions e sua eficiência\n",
        "- **Funções**\n",
        "  - Parâmetros\n",
        "  - Função \"lambda\"\n",
        "- **Imports**\n",
        "  - Bibliotecas e módulos\n",
        "- **Programação Funcional**\n",
        "  - map\n",
        "  - filter\n",
        "  - reduce\n",
        "  - functools\n",
        "- **Arquivos em python**\n",
        "  - leitura\n",
        "  - escrita\n",
        "  - append\n",
        "- **Abordagem rápida de classes e objetos**\n",
        "  - Classes\n",
        "  - Objetos\n",
        "  - Atributos\n",
        "  - Heranças\n"
      ],
      "metadata": {
        "id": "xyaMMk-jjzEP"
      }
    },
    {
      "cell_type": "markdown",
      "source": [
        "![tempo](data:image/jpeg;base64,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)"
      ],
      "metadata": {
        "id": "zMpW7zbEj1sw"
      }
    },
    {
      "cell_type": "markdown",
      "source": [
        "## Parte 2"
      ],
      "metadata": {
        "id": "KmDUHQvnd5D1"
      }
    },
    {
      "cell_type": "markdown",
      "source": [
        "**Conteúdo**:\n",
        "- <font color='orange'> **Numpy** </font>\n",
        "- **Visão geral**\n",
        "  - Quais as vantagens do Numpy\n",
        "- **Arrays**\n",
        "  - Dimensões (flatten, ravel, reshape)\n",
        "- **Máscaras Booleanas**\n",
        "  - Aplicando a lógica em arrays\n",
        "- **Cópias e visualizações**\n",
        "  - Cópias\n",
        "  - Views\n",
        "  - Cópias e visualizações\n",
        "- **Broadcasting**\n",
        "  - Abstraindo o conceito\n",
        "- **Reduções**\n",
        "  - Sum, max, min, argmax, argmin\n",
        "  - Mean, median, std\n",
        "  - Lógicas (all, any)\n",
        "- **Ordenação**\n",
        "  - sort\n",
        "  - argsort\n",
        "  - argmax e argmin\n",
        "- **Básico de aritmética vetorial e matricial**\n",
        "<br><br>\n",
        "- <font color='Orange'> **Matplotlib** </font>\n",
        "- **Visão Geral**\n",
        "- **Plots**\n",
        "- **Subplots**\n",
        "- **Informações textuais**\n",
        "  - texto\n",
        "  - legendas\n",
        "- **Derivados**\n",
        "  - Utilizando o matplotlib com a biblioteca Seaborn (sns)\n",
        "  - Uso do pairplot() e dica de estudo heatmap()\n",
        "- <font color='Orange'> **Extras** </font>\n",
        "  - Deixando o notebook organizado e legível com Markdown e HTML\n",
        "  - Como ser autônomo em um projeto pesquisando na documentação das bibliotecas (+ stackoverflow)\n",
        "  - Aplicando a prática com o teste de proeficiência Linkedin"
      ],
      "metadata": {
        "id": "aqvhhW7GeDgu"
      }
    },
    {
      "cell_type": "markdown",
      "source": [
        "<img src=\"https://i1.wp.com/gestaodesegurancaprivada.com.br/wp-content/uploads/definicao-de-grafico.jpg?fit=750%2C405&ssl=1\" width=50%>\n",
        "\n",
        "*fonte: https://gestaodesegurancaprivada.com.br/grafico-o-que-e-objetivo-caracteristica-e-tipos/*"
      ],
      "metadata": {
        "id": "GtjWwOLFhVyD"
      }
    },
    {
      "cell_type": "markdown",
      "source": [
        "## Parte 3"
      ],
      "metadata": {
        "id": "heRCT7jfd-NR"
      }
    },
    {
      "cell_type": "markdown",
      "source": [
        "**Conteúdo**:\n",
        "- <font color='Orange'> **Pandas** </font>\n",
        "- **Visão geral**\n",
        "- **Séries**\n",
        "  - Criação\n",
        "  - Acesso (índice, slicing, máscara booleana)\n",
        "  - Reindexação\n",
        "  - NaN's\n",
        "  - Aritmética\n",
        "  - Ordenação\n",
        "  - Valores únicos, número de ocorrências e presença de valor\n",
        "- **Dataframes**\n",
        "  - Criação\n",
        "  - Manipulação e acesso de colunas\n",
        "  - Consultas Booleanas\n",
        "  - Manipulando e acessando linhas e colunas\n",
        "  - 'loc' e 'iloc'\n",
        "  - values\n",
        "  - E operações semelhantes às series\n",
        "- **Load de arquivos**\n",
        "  - Como ler arquivos de diferentes tipos e escritas\n",
        "- **Dados faltantes**\n",
        "  - isnull, dropna\n",
        "  - fill\n",
        "- **Dados redundantes**\n",
        "  - Dados duplicados e como encontrá=los\n",
        "- **Funções manipuladoras**\n",
        "  - map\n",
        "  - replace\n",
        "  - rename\n",
        "- **Estatísticas básicas**\n",
        "- <font color='#4CF06E'> **Groupby** </font>\n",
        "  - A importância no dia a dia\n",
        "  - Agregação\n",
        "  - Filtragem ('filter')\n",
        "  - Cópias alteradas ('transform')\n",
        "\n",
        "- <font color='Orange'> **Projeto final** </font>\n",
        "  - Desafiando-se com um projeto que busca responder perguntas do mundo real utilizando os dados que temos em mãos\n",
        "  - Projeto de exploração do notebook Titanic pelo Kaggle  "
      ],
      "metadata": {
        "id": "lPV40Ll3eJ9b"
      }
    },
    {
      "cell_type": "markdown",
      "source": [
        "<img src=\"https://d5y9g7a5.rocketcdn.me/wp-content/uploads/2021/08/historia-do-titanic-origem-naufragio-sobreviventes-e-fatos-sobre-o-navio-2-960x576.jpg\" width=50%>\n",
        "\n",
        "*fonte: https://segredosdomundo.r7.com/historia-do-titanic/*"
      ],
      "metadata": {
        "id": "l8WwrAC5ghOo"
      }
    },
    {
      "cell_type": "markdown",
      "source": [
        "## Materiais extras"
      ],
      "metadata": {
        "id": "vqE8dx-Kt4T9"
      }
    },
    {
      "cell_type": "markdown",
      "source": [
        "Tutorial de instalação do Python para quem for programar em Python utilizando outros ambientes fora Google Colab:\n",
        "\n",
        "https://www.youtube.com/watch?v=VuKvR1J2LQE"
      ],
      "metadata": {
        "id": "9t2FNSMTs73Q"
      }
    },
    {
      "cell_type": "markdown",
      "source": [
        "Fonte de pesquisa e consulta Python:\n",
        "\n",
        "www.python.org"
      ],
      "metadata": {
        "id": "dUuBA8XMuMh0"
      }
    },
    {
      "cell_type": "markdown",
      "source": [
        "Vídeo \"Por que todos deveriam aprender a programar? LEGENDADO\":\n",
        "\n",
        "https://www.youtube.com/watch?v=mHW1Hsqlp6A&t=11s&ab_channel=Kolaborativa"
      ],
      "metadata": {
        "id": "NmQbPCeYrqPK"
      }
    },
    {
      "cell_type": "markdown",
      "source": [
        "Cola para Google Colab:\n",
        "\n",
        "https://colab.research.google.com/github/Tanu-N-Prabhu/Python/blob/master/Cheat_sheet_for_Google_Colab.ipynb"
      ],
      "metadata": {
        "id": "u7qRMe5szmV2"
      }
    },
    {
      "cell_type": "markdown",
      "source": [
        "# PARTE 01"
      ],
      "metadata": {
        "id": "_6fAqjsm3vAs"
      }
    },
    {
      "cell_type": "markdown",
      "source": [
        "O que é Python?\n",
        "\n",
        "- Python é uma linguagem **dinâmica** e interpretada.\n",
        "\n",
        "Python também é:\n",
        "- **Imperativo**: \"algo diz o como fazer\", o que quer dizer que ele segue uma sequência de passos\n",
        "- **Orientada a objetos**: permite utilizar classes e objetos\n",
        "- **Procedural**: permite o uso de funções\n",
        "- **Funcional**: \"um código escrito sob um paradigma funcional é composto de múltiplas funções, que trabalham de forma unificada para a resolução de um problema\""
      ],
      "metadata": {
        "id": "5R8gpS0DisqL"
      }
    },
    {
      "cell_type": "code",
      "source": [
        "# Começando a aula com o Hello World!\n",
        "print('Hello World')\n",
        "\n",
        "# Printandol \"-\" 80 vezes\n",
        "print('-'*80)"
      ],
      "metadata": {
        "id": "C8ecMZoP3z1D",
        "colab": {
          "base_uri": "https://localhost:8080/"
        },
        "outputId": "76091a43-1429-43a1-875c-5ea2d1a370f4"
      },
      "execution_count": 2,
      "outputs": [
        {
          "output_type": "stream",
          "name": "stdout",
          "text": [
            "Hello World\n",
            "--------------------------------------------------------------------------------\n"
          ]
        }
      ]
    },
    {
      "cell_type": "markdown",
      "source": [
        "## Tipos de variáveis e atribuições"
      ],
      "metadata": {
        "id": "DFGqTi-B6Qpd"
      }
    },
    {
      "cell_type": "markdown",
      "source": [
        "* Uma variável é uma **referência** para um endereço de memória (ponteiros em linguagem C). Sendo assim, reforce a atenção ao modificar esse endereço de memória com métodos como `append()` etc (*visto ao longo do curso*).\n",
        "* Por ser uma linguagem dinâmica, não é necessário atribuir no código o tipo da variável (`int`, `float`, `str` etc). O Python atribuirá automaticamente."
      ],
      "metadata": {
        "id": "yDCgPZWw6UdA"
      }
    },
    {
      "cell_type": "code",
      "source": [
        "# Inicializando as variáveis do tipo int, float, string e booleana\n",
        "a = 1\n",
        "b = 1.4\n",
        "c = 'Vinicius'\n",
        "d = True\n",
        "\n",
        "# Procurando o tipo do dado com a função type() e imprimindo os valores com a função print()\n",
        "print(a, type(a))\n",
        "print(b, type(b))\n",
        "print(c, type(c))\n",
        "print(d, type(d))"
      ],
      "metadata": {
        "id": "jIN8AdQH878G",
        "colab": {
          "base_uri": "https://localhost:8080/"
        },
        "outputId": "2f9a17c6-338d-4d5c-8cda-069f3e6f2331"
      },
      "execution_count": 3,
      "outputs": [
        {
          "output_type": "stream",
          "name": "stdout",
          "text": [
            "1 <class 'int'>\n",
            "1.4 <class 'float'>\n",
            "Vinicius <class 'str'>\n",
            "True <class 'bool'>\n"
          ]
        }
      ]
    },
    {
      "cell_type": "code",
      "source": [
        "# Print com fstring\n",
        "print(f'O valor e tipo da variável a é {a} e seu tipo é {type(a)}.')"
      ],
      "metadata": {
        "id": "RiVsxd2j-nZu",
        "colab": {
          "base_uri": "https://localhost:8080/"
        },
        "outputId": "5d01105d-09f1-4293-9957-e71480bbd55f"
      },
      "execution_count": 4,
      "outputs": [
        {
          "output_type": "stream",
          "name": "stdout",
          "text": [
            "O valor e tipo da variável a é 1 e seu tipo é <class 'int'>.\n"
          ]
        }
      ]
    },
    {
      "cell_type": "code",
      "source": [
        "# Extra: é possível declarar mais de uma variável de uma vez\n",
        "a, b, c = 1, 2, 3\n",
        "\n",
        "print(a)\n",
        "print(b)\n",
        "print(c)"
      ],
      "metadata": {
        "id": "DW8Z37VPZ-Zs",
        "colab": {
          "base_uri": "https://localhost:8080/"
        },
        "outputId": "5a52017a-d442-4d7d-e306-721f178afa51"
      },
      "execution_count": 5,
      "outputs": [
        {
          "output_type": "stream",
          "name": "stdout",
          "text": [
            "1\n",
            "2\n",
            "3\n"
          ]
        }
      ]
    },
    {
      "cell_type": "markdown",
      "source": [
        "Algumas operações matemáticas são possíveis com os tipos int e float\n",
        " - Obs: toda divisão resulta em float"
      ],
      "metadata": {
        "id": "Sp6nBXWD9yk9"
      }
    },
    {
      "cell_type": "code",
      "source": [
        "a = 4\n",
        "b = 2\n",
        "c = 3\n",
        "d = 2.5\n",
        "\n",
        "# Soma -> +\n",
        "soma = a + b\n",
        "print(f'Resultado da soma: {soma}')\n",
        "\n",
        "# Subtração -> -\n",
        "subtracao = a - b\n",
        "print(\"Resultado do tipo da subtração:\",subtracao)\n",
        "\n",
        "# Multiplicação -> *\n",
        "multiplicacao = 2 * b\n",
        "print(\"Resultado do tipo da multiplicação:\",multiplicacao)\n",
        "\n",
        "# Divisão -> /\n",
        "divisao = 4 / 2\n",
        "print(\"Resultado do tipo da divisão:\",divisao)\n",
        "\n",
        "# Exponenciação -> **\n",
        "exponencial = 4 ** 2\n",
        "print(\"Resultado do tipo da exponencial:\",exponencial)\n",
        "\n",
        "# Divisão inteira (mod) -> //\n",
        "a_inteira = 5 // 2\n",
        "print(f'A divisão inteira é: {a_inteira}')\n",
        "\n",
        "# Resto da divisão -> %\n",
        "b_resto = 5 % 2\n",
        "print(f'O resto da divisão é: {b_resto}')\n",
        "\n",
        "# Operações Booleanas -> >,<,=>,<=,!=\n",
        "print(1 == 1)\n",
        "print(1 == 2)\n",
        "print(1 != 2)\n",
        "print(2 > 1)"
      ],
      "metadata": {
        "id": "J9adaptW9-j-",
        "colab": {
          "base_uri": "https://localhost:8080/"
        },
        "outputId": "dc738b3d-1b18-43bf-994a-57b245fb0397"
      },
      "execution_count": 6,
      "outputs": [
        {
          "output_type": "stream",
          "name": "stdout",
          "text": [
            "Resultado da soma: 6\n",
            "Resultado do tipo da subtração: 2\n",
            "Resultado do tipo da multiplicação: 4\n",
            "Resultado do tipo da divisão: 2.0\n",
            "Resultado do tipo da exponencial: 16\n",
            "A divisão inteira é: 2\n",
            "O resto da divisão é: 1\n",
            "True\n",
            "False\n",
            "True\n",
            "True\n"
          ]
        }
      ]
    },
    {
      "cell_type": "code",
      "source": [
        "# Alterando um tipo de dado \"string\" para \"int\"\n",
        "a = '10'\n",
        "print(f'Valor de \"a\" antes da transformação: {a}, tipo do dado \"a\": {type(a)}')\n",
        "\n",
        "# Transformando\n",
        "a = int(a)\n",
        "print(f'Novo dado \"a\": {a}, tipo do dado \"a\": {type(a)}')\n",
        "\n",
        "print('-'*80)\n",
        "\n",
        "# Alterando um tipo \"float\" para \"int\"\n",
        "b = 2.3\n",
        "print(f'Valor de \"b\" antes da transformação: {b}, tipo do dado \"b\": {type(b)}')\n",
        "\n",
        "# Transformando\n",
        "b = int(b)\n",
        "print(f'Novo dado \"b\": {b}, tipo do dado \"b\": {type(b)}')"
      ],
      "metadata": {
        "id": "gRbyAKcQRv3X",
        "colab": {
          "base_uri": "https://localhost:8080/"
        },
        "outputId": "8be0c670-685f-4d4c-8120-49886e0a1f89"
      },
      "execution_count": 7,
      "outputs": [
        {
          "output_type": "stream",
          "name": "stdout",
          "text": [
            "Valor de \"a\" antes da transformação: 10, tipo do dado \"a\": <class 'str'>\n",
            "Novo dado \"a\": 10, tipo do dado \"a\": <class 'int'>\n",
            "--------------------------------------------------------------------------------\n",
            "Valor de \"b\" antes da transformação: 2.3, tipo do dado \"b\": <class 'float'>\n",
            "Novo dado \"b\": 2, tipo do dado \"b\": <class 'int'>\n"
          ]
        }
      ]
    },
    {
      "cell_type": "markdown",
      "source": [
        "Algumas operações interessantes com strings"
      ],
      "metadata": {
        "id": "hbtyeWkUCPf4"
      }
    },
    {
      "cell_type": "code",
      "source": [
        "a = 'Seminário'\n",
        "b = ' de '\n",
        "c = 'Python'\n",
        "\n",
        "# Concatenação\n",
        "print(f'a+b+c = {a+b+c}')\n",
        "\n",
        "print('-'*80)\n",
        "\n",
        "# Replicação\n",
        "print(f'a+b+c = {(a+b+c)*5}')"
      ],
      "metadata": {
        "id": "Aaz2PPS0CRXQ",
        "colab": {
          "base_uri": "https://localhost:8080/"
        },
        "outputId": "067fd834-de90-42e1-b122-2f7fb3446ce6"
      },
      "execution_count": 8,
      "outputs": [
        {
          "output_type": "stream",
          "name": "stdout",
          "text": [
            "a+b+c = Seminário de Python\n",
            "--------------------------------------------------------------------------------\n",
            "a+b+c = Seminário de PythonSeminário de PythonSeminário de PythonSeminário de PythonSeminário de Python\n"
          ]
        }
      ]
    },
    {
      "cell_type": "markdown",
      "source": [
        "Referências:\n",
        "- Quando atribuimos uma variável, geramos uma referência a um endereço de memória"
      ],
      "metadata": {
        "id": "ckFNltm5oG9c"
      }
    },
    {
      "cell_type": "code",
      "source": [
        "A = 1\n",
        "B = A\n",
        "\n",
        "print(f\"O valor do endereço de 'A' é: {id(A)}\")\n",
        "print(f\"O valor do endereço de 'B' é: {id(B)}\")"
      ],
      "metadata": {
        "id": "pBmmwtA4osq4",
        "colab": {
          "base_uri": "https://localhost:8080/"
        },
        "outputId": "20c10394-cb11-4067-8980-b759bfead713"
      },
      "execution_count": 9,
      "outputs": [
        {
          "output_type": "stream",
          "name": "stdout",
          "text": [
            "O valor do endereço de 'A' é: 140345024610544\n",
            "O valor do endereço de 'B' é: 140345024610544\n"
          ]
        }
      ]
    },
    {
      "cell_type": "markdown",
      "source": [
        "___\n",
        "\n",
        "**Desafio 1:**\n",
        "\n",
        "Bart foi um aluno negligente na aula do professor Boca e como castigo teve que escrever a frase \"Eu não vou mais matar aula no D.A.\" **250** vezes em um arquivo txt.\n",
        "\n",
        "Pra aumentar a infelicidade de Bart, ele foi obrigado a utilizar um computador do laboratório em que o \"ctrl c\" (copiar e colar) não funcionava!\n",
        "\n",
        "Por sorte, Bart era esperto e tinha alguns truques de Python na manga.\n",
        "Resolva o problema sendo ele!\n",
        "\n",
        "<img src=\"https://i.pinimg.com/originals/97/09/80/97098039eb089e4f68cb02095db6e696.jpg\" width=30%>\n",
        "\n",
        "___"
      ],
      "metadata": {
        "id": "-F2NEUH6Daqz"
      }
    },
    {
      "cell_type": "code",
      "source": [
        "# Ajude Bart\n",
        "frase = 'Eu não vou mais matar aula no D.A'\n",
        "\n",
        "print(f'{frase}\\n'*250)"
      ],
      "metadata": {
        "id": "AZu6tJorGFQ7",
        "colab": {
          "base_uri": "https://localhost:8080/"
        },
        "outputId": "2dfabad9-c58b-4a75-8cef-8de237ab79dd"
      },
      "execution_count": 10,
      "outputs": [
        {
          "output_type": "stream",
          "name": "stdout",
          "text": [
            "Eu não vou mais matar aula no D.A\n",
            "Eu não vou mais matar aula no D.A\n",
            "Eu não vou mais matar aula no D.A\n",
            "Eu não vou mais matar aula no D.A\n",
            "Eu não vou mais matar aula no D.A\n",
            "Eu não vou mais matar aula no D.A\n",
            "Eu não vou mais matar aula no D.A\n",
            "Eu não vou mais matar aula no D.A\n",
            "Eu não vou mais matar aula no D.A\n",
            "Eu não vou mais matar aula no D.A\n",
            "Eu não vou mais matar aula no D.A\n",
            "Eu não vou mais matar aula no D.A\n",
            "Eu não vou mais matar aula no D.A\n",
            "Eu não vou mais matar aula no D.A\n",
            "Eu não vou mais matar aula no D.A\n",
            "Eu não vou mais matar aula no D.A\n",
            "Eu não vou mais matar aula no D.A\n",
            "Eu não vou mais matar aula no D.A\n",
            "Eu não vou mais matar aula no D.A\n",
            "Eu não vou mais matar aula no D.A\n",
            "Eu não vou mais matar aula no D.A\n",
            "Eu não vou mais matar aula no D.A\n",
            "Eu não vou mais matar aula no D.A\n",
            "Eu não vou mais matar aula no D.A\n",
            "Eu não vou mais matar aula no D.A\n",
            "Eu não vou mais matar aula no D.A\n",
            "Eu não vou mais matar aula no D.A\n",
            "Eu não vou mais matar aula no D.A\n",
            "Eu não vou mais matar aula no D.A\n",
            "Eu não vou mais matar aula no D.A\n",
            "Eu não vou mais matar aula no D.A\n",
            "Eu não vou mais matar aula no D.A\n",
            "Eu não vou mais matar aula no D.A\n",
            "Eu não vou mais matar aula no D.A\n",
            "Eu não vou mais matar aula no D.A\n",
            "Eu não vou mais matar aula no D.A\n",
            "Eu não vou mais matar aula no D.A\n",
            "Eu não vou mais matar aula no D.A\n",
            "Eu não vou mais matar aula no D.A\n",
            "Eu não vou mais matar aula no D.A\n",
            "Eu não vou mais matar aula no D.A\n",
            "Eu não vou mais matar aula no D.A\n",
            "Eu não vou mais matar aula no D.A\n",
            "Eu não vou mais matar aula no D.A\n",
            "Eu não vou mais matar aula no D.A\n",
            "Eu não vou mais matar aula no D.A\n",
            "Eu não vou mais matar aula no D.A\n",
            "Eu não vou mais matar aula no D.A\n",
            "Eu não vou mais matar aula no D.A\n",
            "Eu não vou mais matar aula no D.A\n",
            "Eu não vou mais matar aula no D.A\n",
            "Eu não vou mais matar aula no D.A\n",
            "Eu não vou mais matar aula no D.A\n",
            "Eu não vou mais matar aula no D.A\n",
            "Eu não vou mais matar aula no D.A\n",
            "Eu não vou mais matar aula no D.A\n",
            "Eu não vou mais matar aula no D.A\n",
            "Eu não vou mais matar aula no D.A\n",
            "Eu não vou mais matar aula no D.A\n",
            "Eu não vou mais matar aula no D.A\n",
            "Eu não vou mais matar aula no D.A\n",
            "Eu não vou mais matar aula no D.A\n",
            "Eu não vou mais matar aula no D.A\n",
            "Eu não vou mais matar aula no D.A\n",
            "Eu não vou mais matar aula no D.A\n",
            "Eu não vou mais matar aula no D.A\n",
            "Eu não vou mais matar aula no D.A\n",
            "Eu não vou mais matar aula no D.A\n",
            "Eu não vou mais matar aula no D.A\n",
            "Eu não vou mais matar aula no D.A\n",
            "Eu não vou mais matar aula no D.A\n",
            "Eu não vou mais matar aula no D.A\n",
            "Eu não vou mais matar aula no D.A\n",
            "Eu não vou mais matar aula no D.A\n",
            "Eu não vou mais matar aula no D.A\n",
            "Eu não vou mais matar aula no D.A\n",
            "Eu não vou mais matar aula no D.A\n",
            "Eu não vou mais matar aula no D.A\n",
            "Eu não vou mais matar aula no D.A\n",
            "Eu não vou mais matar aula no D.A\n",
            "Eu não vou mais matar aula no D.A\n",
            "Eu não vou mais matar aula no D.A\n",
            "Eu não vou mais matar aula no D.A\n",
            "Eu não vou mais matar aula no D.A\n",
            "Eu não vou mais matar aula no D.A\n",
            "Eu não vou mais matar aula no D.A\n",
            "Eu não vou mais matar aula no D.A\n",
            "Eu não vou mais matar aula no D.A\n",
            "Eu não vou mais matar aula no D.A\n",
            "Eu não vou mais matar aula no D.A\n",
            "Eu não vou mais matar aula no D.A\n",
            "Eu não vou mais matar aula no D.A\n",
            "Eu não vou mais matar aula no D.A\n",
            "Eu não vou mais matar aula no D.A\n",
            "Eu não vou mais matar aula no D.A\n",
            "Eu não vou mais matar aula no D.A\n",
            "Eu não vou mais matar aula no D.A\n",
            "Eu não vou mais matar aula no D.A\n",
            "Eu não vou mais matar aula no D.A\n",
            "Eu não vou mais matar aula no D.A\n",
            "Eu não vou mais matar aula no D.A\n",
            "Eu não vou mais matar aula no D.A\n",
            "Eu não vou mais matar aula no D.A\n",
            "Eu não vou mais matar aula no D.A\n",
            "Eu não vou mais matar aula no D.A\n",
            "Eu não vou mais matar aula no D.A\n",
            "Eu não vou mais matar aula no D.A\n",
            "Eu não vou mais matar aula no D.A\n",
            "Eu não vou mais matar aula no D.A\n",
            "Eu não vou mais matar aula no D.A\n",
            "Eu não vou mais matar aula no D.A\n",
            "Eu não vou mais matar aula no D.A\n",
            "Eu não vou mais matar aula no D.A\n",
            "Eu não vou mais matar aula no D.A\n",
            "Eu não vou mais matar aula no D.A\n",
            "Eu não vou mais matar aula no D.A\n",
            "Eu não vou mais matar aula no D.A\n",
            "Eu não vou mais matar aula no D.A\n",
            "Eu não vou mais matar aula no D.A\n",
            "Eu não vou mais matar aula no D.A\n",
            "Eu não vou mais matar aula no D.A\n",
            "Eu não vou mais matar aula no D.A\n",
            "Eu não vou mais matar aula no D.A\n",
            "Eu não vou mais matar aula no D.A\n",
            "Eu não vou mais matar aula no D.A\n",
            "Eu não vou mais matar aula no D.A\n",
            "Eu não vou mais matar aula no D.A\n",
            "Eu não vou mais matar aula no D.A\n",
            "Eu não vou mais matar aula no D.A\n",
            "Eu não vou mais matar aula no D.A\n",
            "Eu não vou mais matar aula no D.A\n",
            "Eu não vou mais matar aula no D.A\n",
            "Eu não vou mais matar aula no D.A\n",
            "Eu não vou mais matar aula no D.A\n",
            "Eu não vou mais matar aula no D.A\n",
            "Eu não vou mais matar aula no D.A\n",
            "Eu não vou mais matar aula no D.A\n",
            "Eu não vou mais matar aula no D.A\n",
            "Eu não vou mais matar aula no D.A\n",
            "Eu não vou mais matar aula no D.A\n",
            "Eu não vou mais matar aula no D.A\n",
            "Eu não vou mais matar aula no D.A\n",
            "Eu não vou mais matar aula no D.A\n",
            "Eu não vou mais matar aula no D.A\n",
            "Eu não vou mais matar aula no D.A\n",
            "Eu não vou mais matar aula no D.A\n",
            "Eu não vou mais matar aula no D.A\n",
            "Eu não vou mais matar aula no D.A\n",
            "Eu não vou mais matar aula no D.A\n",
            "Eu não vou mais matar aula no D.A\n",
            "Eu não vou mais matar aula no D.A\n",
            "Eu não vou mais matar aula no D.A\n",
            "Eu não vou mais matar aula no D.A\n",
            "Eu não vou mais matar aula no D.A\n",
            "Eu não vou mais matar aula no D.A\n",
            "Eu não vou mais matar aula no D.A\n",
            "Eu não vou mais matar aula no D.A\n",
            "Eu não vou mais matar aula no D.A\n",
            "Eu não vou mais matar aula no D.A\n",
            "Eu não vou mais matar aula no D.A\n",
            "Eu não vou mais matar aula no D.A\n",
            "Eu não vou mais matar aula no D.A\n",
            "Eu não vou mais matar aula no D.A\n",
            "Eu não vou mais matar aula no D.A\n",
            "Eu não vou mais matar aula no D.A\n",
            "Eu não vou mais matar aula no D.A\n",
            "Eu não vou mais matar aula no D.A\n",
            "Eu não vou mais matar aula no D.A\n",
            "Eu não vou mais matar aula no D.A\n",
            "Eu não vou mais matar aula no D.A\n",
            "Eu não vou mais matar aula no D.A\n",
            "Eu não vou mais matar aula no D.A\n",
            "Eu não vou mais matar aula no D.A\n",
            "Eu não vou mais matar aula no D.A\n",
            "Eu não vou mais matar aula no D.A\n",
            "Eu não vou mais matar aula no D.A\n",
            "Eu não vou mais matar aula no D.A\n",
            "Eu não vou mais matar aula no D.A\n",
            "Eu não vou mais matar aula no D.A\n",
            "Eu não vou mais matar aula no D.A\n",
            "Eu não vou mais matar aula no D.A\n",
            "Eu não vou mais matar aula no D.A\n",
            "Eu não vou mais matar aula no D.A\n",
            "Eu não vou mais matar aula no D.A\n",
            "Eu não vou mais matar aula no D.A\n",
            "Eu não vou mais matar aula no D.A\n",
            "Eu não vou mais matar aula no D.A\n",
            "Eu não vou mais matar aula no D.A\n",
            "Eu não vou mais matar aula no D.A\n",
            "Eu não vou mais matar aula no D.A\n",
            "Eu não vou mais matar aula no D.A\n",
            "Eu não vou mais matar aula no D.A\n",
            "Eu não vou mais matar aula no D.A\n",
            "Eu não vou mais matar aula no D.A\n",
            "Eu não vou mais matar aula no D.A\n",
            "Eu não vou mais matar aula no D.A\n",
            "Eu não vou mais matar aula no D.A\n",
            "Eu não vou mais matar aula no D.A\n",
            "Eu não vou mais matar aula no D.A\n",
            "Eu não vou mais matar aula no D.A\n",
            "Eu não vou mais matar aula no D.A\n",
            "Eu não vou mais matar aula no D.A\n",
            "Eu não vou mais matar aula no D.A\n",
            "Eu não vou mais matar aula no D.A\n",
            "Eu não vou mais matar aula no D.A\n",
            "Eu não vou mais matar aula no D.A\n",
            "Eu não vou mais matar aula no D.A\n",
            "Eu não vou mais matar aula no D.A\n",
            "Eu não vou mais matar aula no D.A\n",
            "Eu não vou mais matar aula no D.A\n",
            "Eu não vou mais matar aula no D.A\n",
            "Eu não vou mais matar aula no D.A\n",
            "Eu não vou mais matar aula no D.A\n",
            "Eu não vou mais matar aula no D.A\n",
            "Eu não vou mais matar aula no D.A\n",
            "Eu não vou mais matar aula no D.A\n",
            "Eu não vou mais matar aula no D.A\n",
            "Eu não vou mais matar aula no D.A\n",
            "Eu não vou mais matar aula no D.A\n",
            "Eu não vou mais matar aula no D.A\n",
            "Eu não vou mais matar aula no D.A\n",
            "Eu não vou mais matar aula no D.A\n",
            "Eu não vou mais matar aula no D.A\n",
            "Eu não vou mais matar aula no D.A\n",
            "Eu não vou mais matar aula no D.A\n",
            "Eu não vou mais matar aula no D.A\n",
            "Eu não vou mais matar aula no D.A\n",
            "Eu não vou mais matar aula no D.A\n",
            "Eu não vou mais matar aula no D.A\n",
            "Eu não vou mais matar aula no D.A\n",
            "Eu não vou mais matar aula no D.A\n",
            "Eu não vou mais matar aula no D.A\n",
            "Eu não vou mais matar aula no D.A\n",
            "Eu não vou mais matar aula no D.A\n",
            "Eu não vou mais matar aula no D.A\n",
            "Eu não vou mais matar aula no D.A\n",
            "Eu não vou mais matar aula no D.A\n",
            "Eu não vou mais matar aula no D.A\n",
            "Eu não vou mais matar aula no D.A\n",
            "Eu não vou mais matar aula no D.A\n",
            "Eu não vou mais matar aula no D.A\n",
            "Eu não vou mais matar aula no D.A\n",
            "Eu não vou mais matar aula no D.A\n",
            "Eu não vou mais matar aula no D.A\n",
            "Eu não vou mais matar aula no D.A\n",
            "Eu não vou mais matar aula no D.A\n",
            "Eu não vou mais matar aula no D.A\n",
            "Eu não vou mais matar aula no D.A\n",
            "Eu não vou mais matar aula no D.A\n",
            "Eu não vou mais matar aula no D.A\n",
            "\n"
          ]
        }
      ]
    },
    {
      "cell_type": "code",
      "source": [
        "# Exercício 2\n",
        "# Realize as seguintes operações:\n",
        "\n",
        "# a. 2 + 3 - 1\n",
        "a = 2 + 3 - 1\n",
        "print('a:', a)\n",
        "\n",
        "# b. 2 + 3 * 2\n",
        "b = 2 + (3 * 2)\n",
        "print('b:', b)\n",
        "\n",
        "# c. (2)^3^2 [Observe que o resultado é o mesmo que 2^9]\n",
        "c = 2**(3**2)\n",
        "print('c:', c)"
      ],
      "metadata": {
        "id": "2yC0Ur76JZVs",
        "colab": {
          "base_uri": "https://localhost:8080/"
        },
        "outputId": "aff396f5-ac51-4627-ac07-a0e12dfbaf69"
      },
      "execution_count": 11,
      "outputs": [
        {
          "output_type": "stream",
          "name": "stdout",
          "text": [
            "a: 4\n",
            "b: 8\n",
            "c: 512\n"
          ]
        }
      ]
    },
    {
      "cell_type": "markdown",
      "source": [
        "## Listas, tuplas, strings e Dicionários"
      ],
      "metadata": {
        "id": "cwQa5jHTKbi6"
      }
    },
    {
      "cell_type": "markdown",
      "source": [
        "**Lista**\n",
        "- Chamada de \"list\"\n",
        "- É uma sequência de elementos (de vários tipos) com uma dada ordem\n",
        "- Comum ao nosso dia a dia na \"lista de mercado\" ou \"lista de notas de provas\""
      ],
      "metadata": {
        "id": "mal5wbkjKj_g"
      }
    },
    {
      "cell_type": "code",
      "source": [
        "# Criando uma lista com [ ]\n",
        "lst = [1, 5, 5.7, 'João', False]\n",
        "lst"
      ],
      "metadata": {
        "id": "yQAFveoMK8yt",
        "colab": {
          "base_uri": "https://localhost:8080/"
        },
        "outputId": "6bf0cae4-3653-4729-a1cc-ce8fda7475ed"
      },
      "execution_count": 12,
      "outputs": [
        {
          "output_type": "execute_result",
          "data": {
            "text/plain": [
              "[1, 5, 5.7, 'João', False]"
            ]
          },
          "metadata": {},
          "execution_count": 12
        }
      ]
    },
    {
      "cell_type": "code",
      "source": [
        "# Acessando valores da lista pelo índice com lista[n]\n",
        "lst[3]"
      ],
      "metadata": {
        "colab": {
          "base_uri": "https://localhost:8080/",
          "height": 0
        },
        "id": "yTU-Ij3QddX_",
        "outputId": "4bdac86f-43b2-40cc-a941-46a5de5e3a2f"
      },
      "execution_count": 13,
      "outputs": [
        {
          "output_type": "execute_result",
          "data": {
            "text/plain": [
              "'João'"
            ],
            "application/vnd.google.colaboratory.intrinsic+json": {
              "type": "string"
            }
          },
          "metadata": {},
          "execution_count": 13
        }
      ]
    },
    {
      "cell_type": "code",
      "source": [
        "# Criando uma lista vazia\n",
        "lst_vazia = []\n",
        "\n",
        "# Inserindo elementos na lista com o lista.append(x)\n",
        "lst_vazia.append('Carlos')\n",
        "lst_vazia.append('Roberto')\n",
        "lst_vazia"
      ],
      "metadata": {
        "id": "7QJEO7hqMYXr",
        "colab": {
          "base_uri": "https://localhost:8080/"
        },
        "outputId": "cbda3df6-f430-4bd2-e9fb-631773d6e1ee"
      },
      "execution_count": 14,
      "outputs": [
        {
          "output_type": "execute_result",
          "data": {
            "text/plain": [
              "['Carlos', 'Roberto']"
            ]
          },
          "metadata": {},
          "execution_count": 14
        }
      ]
    },
    {
      "cell_type": "code",
      "source": [
        "lst_auxiliar = ['a','b','c','d','e']\n",
        "\n",
        "# Inserindo elementos na lista escolhendo a posição com o lista.insert(posição, elemento)\n",
        "lst_auxiliar.insert(2, '2')\n",
        "\n",
        "print(lst_auxiliar)"
      ],
      "metadata": {
        "id": "LUE2pt0HNMm8",
        "colab": {
          "base_uri": "https://localhost:8080/"
        },
        "outputId": "591c5209-5aa3-4e01-b52a-1c9b56f2b21e"
      },
      "execution_count": 15,
      "outputs": [
        {
          "output_type": "stream",
          "name": "stdout",
          "text": [
            "['a', 'b', '2', 'c', 'd', 'e']\n"
          ]
        }
      ]
    },
    {
      "cell_type": "code",
      "source": [
        "lst_auxiliar = ['a','b','c','d','e']\n",
        "\n",
        "# Excluindo elementos da lista escolhendo a posição com del lista[posição]\n",
        "del lst_auxiliar[0]\n",
        "print(lst_auxiliar)"
      ],
      "metadata": {
        "id": "VwT-thXONSVn",
        "colab": {
          "base_uri": "https://localhost:8080/"
        },
        "outputId": "3917779d-f70f-4969-e682-99eefc548616"
      },
      "execution_count": 16,
      "outputs": [
        {
          "output_type": "stream",
          "name": "stdout",
          "text": [
            "['b', 'c', 'd', 'e']\n"
          ]
        }
      ]
    },
    {
      "cell_type": "code",
      "source": [
        "lst_auxiliar = ['a','b','c','d','e']\n",
        "\n",
        "# Excluindo elemento da lista e salvando o elemento excluído em uma variável com o lista.pop(posição)\n",
        "excluido = lst_auxiliar.pop(2)\n",
        "print(f'Elemento excluido: {excluido}')"
      ],
      "metadata": {
        "id": "LD6qOowDNlCc",
        "colab": {
          "base_uri": "https://localhost:8080/"
        },
        "outputId": "97dfe71a-fb48-4535-9a67-95e1a98d3d99"
      },
      "execution_count": 17,
      "outputs": [
        {
          "output_type": "stream",
          "name": "stdout",
          "text": [
            "Elemento excluido: c\n"
          ]
        }
      ]
    },
    {
      "cell_type": "code",
      "source": [
        "lst_auxiliar = ['a','b','c','d','e']\n",
        "\n",
        "# Verificando o tamanho de uma lista com a função len(lista)\n",
        "len(lst_auxiliar)"
      ],
      "metadata": {
        "id": "sFcXlAtmOun7",
        "colab": {
          "base_uri": "https://localhost:8080/"
        },
        "outputId": "c19a90df-a804-4fa0-8efc-35c7a56453f1"
      },
      "execution_count": 18,
      "outputs": [
        {
          "output_type": "execute_result",
          "data": {
            "text/plain": [
              "5"
            ]
          },
          "metadata": {},
          "execution_count": 18
        }
      ]
    },
    {
      "cell_type": "code",
      "source": [
        "lst_auxiliar = ['a','b','c','d','e']\n",
        "\n",
        "# Índices negativos (buscando elementos em ordem contrária)\n",
        "print(lst_auxiliar[-1]) # último\n",
        "print(lst_auxiliar[-2]) # penúltimo"
      ],
      "metadata": {
        "id": "wdr7NqwEO9Xz",
        "colab": {
          "base_uri": "https://localhost:8080/"
        },
        "outputId": "baee131b-dfa8-47c3-adf9-b43356a60e18"
      },
      "execution_count": 19,
      "outputs": [
        {
          "output_type": "stream",
          "name": "stdout",
          "text": [
            "e\n",
            "d\n"
          ]
        }
      ]
    },
    {
      "cell_type": "code",
      "source": [
        "# Extra: listas com listas dentro\n",
        "lst_extra = ['a', 2, 3.5, ['João', ['Carlos', 'Rodolfo']], True]\n",
        "print(lst_extra)"
      ],
      "metadata": {
        "colab": {
          "base_uri": "https://localhost:8080/"
        },
        "id": "Ma-MOc5VPPrv",
        "outputId": "abab8e45-50c3-4d47-dfb8-4be6a4406478"
      },
      "execution_count": 20,
      "outputs": [
        {
          "output_type": "stream",
          "name": "stdout",
          "text": [
            "['a', 2, 3.5, ['João', ['Carlos', 'Rodolfo']], True]\n"
          ]
        }
      ]
    },
    {
      "cell_type": "code",
      "source": [
        "# Extra: concatenando listas com o operador +\n",
        "lst_a = [1,2,3,4,5]\n",
        "lst_b = [2,2,2,2,2]\n",
        "\n",
        "lst_a + lst_b"
      ],
      "metadata": {
        "id": "YmizLlnHrYE7",
        "colab": {
          "base_uri": "https://localhost:8080/"
        },
        "outputId": "647f9983-60e1-47c6-9d3d-b866cf6264bc"
      },
      "execution_count": 21,
      "outputs": [
        {
          "output_type": "execute_result",
          "data": {
            "text/plain": [
              "[1, 2, 3, 4, 5, 2, 2, 2, 2, 2]"
            ]
          },
          "metadata": {},
          "execution_count": 21
        }
      ]
    },
    {
      "cell_type": "code",
      "source": [
        "# Extra: copiando outra lista em uma nova com o lista.extend()\n",
        "\n",
        "lst_a = ['a','b', 'c', 'd']\n",
        "lst_b = ['e', 'f', 'g', 'h']\n",
        "\n",
        "# Trazendo o conteúdo da lista B para a lista A\n",
        "lst_a.extend(lst_b)\n",
        "\n",
        "print(lst_a)"
      ],
      "metadata": {
        "id": "muuqx7H2rqxe",
        "colab": {
          "base_uri": "https://localhost:8080/"
        },
        "outputId": "051e7183-8f71-4bc2-9b15-a70b1b204dff"
      },
      "execution_count": 22,
      "outputs": [
        {
          "output_type": "stream",
          "name": "stdout",
          "text": [
            "['a', 'b', 'c', 'd', 'e', 'f', 'g', 'h']\n"
          ]
        }
      ]
    },
    {
      "cell_type": "markdown",
      "source": [
        "Lembram de como o Python faz a referência?\n",
        "\n",
        "Então realize o seguinte teste:\n",
        "```Python\n",
        "A = [1,2,3,4,5]\n",
        "B = A\n",
        "\n",
        "print(f'A antes: {A}')\n",
        "\n",
        "B.append(30)\n",
        "\n",
        "print(f'A depois: {A}')\n",
        "```"
      ],
      "metadata": {
        "id": "8tQUy4kxqOok"
      }
    },
    {
      "cell_type": "code",
      "source": [
        "A = [1,2,3,4,5]\n",
        "B = A\n",
        "\n",
        "print(f'A antes: {A}')\n",
        "\n",
        "B.append(55)\n",
        "\n",
        "print(f'A depois: {A}')"
      ],
      "metadata": {
        "colab": {
          "base_uri": "https://localhost:8080/"
        },
        "id": "fO7r0cXsqyej",
        "outputId": "81371177-0b8c-4778-8a07-052e05591080"
      },
      "execution_count": 23,
      "outputs": [
        {
          "output_type": "stream",
          "name": "stdout",
          "text": [
            "A antes: [1, 2, 3, 4, 5]\n",
            "A depois: [1, 2, 3, 4, 5, 55]\n"
          ]
        }
      ]
    },
    {
      "cell_type": "markdown",
      "source": [
        "O que ocorre é que como ambas as variáveis **A** e **B** referenciam para a mesma lista, quando **B** é alterada através do `append()`, **A** também é afetada!"
      ],
      "metadata": {
        "id": "HUttjxsnq2QG"
      }
    },
    {
      "cell_type": "code",
      "source": [
        "# Outro exemplo\n",
        "a = [1,2,3,4,5]\n",
        "b = a\n",
        "\n",
        "b.extend([5, 15, 20])\n",
        "\n",
        "print(a)"
      ],
      "metadata": {
        "colab": {
          "base_uri": "https://localhost:8080/"
        },
        "id": "oxHB17_CsHGo",
        "outputId": "b9c01c5e-3aab-4874-f378-bfb6ec17b8ff"
      },
      "execution_count": 24,
      "outputs": [
        {
          "output_type": "stream",
          "name": "stdout",
          "text": [
            "[1, 2, 3, 4, 5, 5, 15, 20]\n"
          ]
        }
      ]
    },
    {
      "cell_type": "code",
      "source": [
        "# Encontrando o índice da primeira ocorrência de um valor em uma lista\n",
        "nomes = ['Joao', 'Pedro', 'Carlos']\n",
        "\n",
        "# Encontrando o índice de Pedro com o lista.index(x)\n",
        "posicao= nomes.index('Carlos')\n",
        "print('O índice de Carlos é:', posicao)"
      ],
      "metadata": {
        "id": "YFUFYMiksbm9",
        "colab": {
          "base_uri": "https://localhost:8080/"
        },
        "outputId": "fa237461-625a-4e69-fef7-aa0494e05190"
      },
      "execution_count": 25,
      "outputs": [
        {
          "output_type": "stream",
          "name": "stdout",
          "text": [
            "O índice de Carlos é: 2\n"
          ]
        }
      ]
    },
    {
      "cell_type": "code",
      "source": [
        "# Contando o número de letras 'a' em 'abacate' com o lista.count()\n",
        "fruta = 'abacate'\n",
        "print(fruta.count('a'))"
      ],
      "metadata": {
        "id": "SqjyNFMMsnS9",
        "colab": {
          "base_uri": "https://localhost:8080/"
        },
        "outputId": "bb159ed4-993f-45a0-d967-3d47c1400656"
      },
      "execution_count": 26,
      "outputs": [
        {
          "output_type": "stream",
          "name": "stdout",
          "text": [
            "3\n"
          ]
        }
      ]
    },
    {
      "cell_type": "code",
      "source": [
        "lst_aux = [3, 1, 2, 20, 10]\n",
        "\n",
        "# Ordenando uma lista com lista.sort()   OBS: este método altera a lista original\n",
        "\n",
        "print('Lista ordenada:\\n', lst_aux)\n",
        "print('-'*80)\n",
        "print('Lista original:\\n', lst_aux)"
      ],
      "metadata": {
        "id": "6x-TtAJXsuya",
        "colab": {
          "base_uri": "https://localhost:8080/"
        },
        "outputId": "a11e2347-7cfa-43e1-d598-e689ac0ac599"
      },
      "execution_count": 27,
      "outputs": [
        {
          "output_type": "stream",
          "name": "stdout",
          "text": [
            "Lista ordenada:\n",
            " [3, 1, 2, 20, 10]\n",
            "--------------------------------------------------------------------------------\n",
            "Lista original:\n",
            " [3, 1, 2, 20, 10]\n"
          ]
        }
      ]
    },
    {
      "cell_type": "code",
      "source": [
        "lst_aux = [3, 1, 2, 20, 10]\n",
        "\n",
        "# Ordenando a lista sem alterar a original (cria-se uma nova sequência na memória) usando o sorted(lista)\n",
        "lst_ordenada = sorted(lst_aux)\n",
        "\n",
        "print('Lista ordenada:\\n', lst_ordenada)\n",
        "print('-'*80)\n",
        "print('Lista original:\\n', lst_aux)"
      ],
      "metadata": {
        "id": "MeMSv8PvtQkk",
        "colab": {
          "base_uri": "https://localhost:8080/"
        },
        "outputId": "1a273196-454e-49ca-90dd-e10ca6625de0"
      },
      "execution_count": 28,
      "outputs": [
        {
          "output_type": "stream",
          "name": "stdout",
          "text": [
            "Lista ordenada:\n",
            " [1, 2, 3, 10, 20]\n",
            "--------------------------------------------------------------------------------\n",
            "Lista original:\n",
            " [3, 1, 2, 20, 10]\n"
          ]
        }
      ]
    },
    {
      "cell_type": "code",
      "source": [
        "# Achando o maior elemento da sequência com max(lista)\n",
        "lst_aux = [3, 1, 2, 20, 10]\n",
        "print(max(lst_aux))"
      ],
      "metadata": {
        "id": "Sp9YXY9JthjJ",
        "colab": {
          "base_uri": "https://localhost:8080/"
        },
        "outputId": "cd7c1306-a580-44cc-b7a9-92408140e1a0"
      },
      "execution_count": 29,
      "outputs": [
        {
          "output_type": "stream",
          "name": "stdout",
          "text": [
            "20\n"
          ]
        }
      ]
    },
    {
      "cell_type": "code",
      "source": [
        "# Achando o menor elemento da sequência com min(lista)\n",
        "lst_aux = [3, 1, 2, 20, 10]\n",
        "print(min(lst_aux))"
      ],
      "metadata": {
        "id": "Takt6mBctneN",
        "colab": {
          "base_uri": "https://localhost:8080/"
        },
        "outputId": "9364e261-9e9c-420b-90bc-49c5fa4e117c"
      },
      "execution_count": 30,
      "outputs": [
        {
          "output_type": "stream",
          "name": "stdout",
          "text": [
            "1\n"
          ]
        }
      ]
    },
    {
      "cell_type": "markdown",
      "source": [
        "**Tupla**\n",
        "\n",
        "- Chamada de \"tuple\"\n",
        "- Similar a lista mas os elementos não podem ser modificados!\n",
        "- Muito útil quando queremos que outra pessoa, função ou método NÃO altere a lista original"
      ],
      "metadata": {
        "id": "FwzptiiaK-8R"
      }
    },
    {
      "cell_type": "code",
      "source": [
        "# Criando uma tupla com ()\n",
        "tupla_auxiliar = (2, 3, 'a', 'b', 3.5)\n",
        "\n",
        "print(tupla_auxiliar)"
      ],
      "metadata": {
        "id": "dwU-UHfmLKZ3",
        "colab": {
          "base_uri": "https://localhost:8080/"
        },
        "outputId": "9ab886ca-c15d-4f9f-d59e-b71fecbbff56"
      },
      "execution_count": 31,
      "outputs": [
        {
          "output_type": "stream",
          "name": "stdout",
          "text": [
            "(2, 3, 'a', 'b', 3.5)\n"
          ]
        }
      ]
    },
    {
      "cell_type": "code",
      "source": [
        "# Tentando adicionar algo em uma tupla (descomente e veja o que acontece)\n",
        "tupla_auxiliar = (2, 3, 'a', 'b', 3.5)\n",
        "# tupla_auxiliar.append(3)"
      ],
      "metadata": {
        "id": "vRl6BucLP3gw"
      },
      "execution_count": 32,
      "outputs": []
    },
    {
      "cell_type": "markdown",
      "source": [
        "\"Mas e se eu precisar muito mexer na tupla? (Você precisa mesmo??!)\"\n",
        "\n",
        "<img src=\"https://www.memesmonkey.com/images/memesmonkey/8c/8c61344284918bae325bdc4fbf9c6c6f.jpeg\" width=20%>"
      ],
      "metadata": {
        "id": "qzU2_88uQDaF"
      }
    },
    {
      "cell_type": "code",
      "source": [
        "tupla_auxiliar = (2, 3, 'a', 'b', 3.5)\n",
        "type(tupla_auxiliar)"
      ],
      "metadata": {
        "colab": {
          "base_uri": "https://localhost:8080/"
        },
        "id": "fGayiwvkdQ-a",
        "outputId": "4c8ec003-10f9-4914-c67f-a529b16a8e1b"
      },
      "execution_count": 33,
      "outputs": [
        {
          "output_type": "execute_result",
          "data": {
            "text/plain": [
              "tuple"
            ]
          },
          "metadata": {},
          "execution_count": 33
        }
      ]
    },
    {
      "cell_type": "code",
      "source": [
        "# Transformando uma tupla em uma lista com o list(x)\n",
        "tupla_auxiliar = (2, 3, 'a', 'b', 3.5)\n",
        "lst_tupla = list(tupla_auxiliar)\n",
        "\n",
        "type(lst_tupla)"
      ],
      "metadata": {
        "id": "O6vcLCPiQOni",
        "colab": {
          "base_uri": "https://localhost:8080/"
        },
        "outputId": "7f197013-db90-40c1-be30-70d4ff22e506"
      },
      "execution_count": 34,
      "outputs": [
        {
          "output_type": "execute_result",
          "data": {
            "text/plain": [
              "list"
            ]
          },
          "metadata": {},
          "execution_count": 34
        }
      ]
    },
    {
      "cell_type": "code",
      "source": [
        "# Adicionando o elemento na lista\n",
        "tupla_auxiliar = (2, 3, 'a', 'b', 3.5)\n",
        "lst_tupla = list(tupla_auxiliar)\n",
        "\n",
        "lst_tupla.append(3)\n",
        "print(lst_tupla)"
      ],
      "metadata": {
        "id": "JefvRsP4QRuX",
        "colab": {
          "base_uri": "https://localhost:8080/"
        },
        "outputId": "b0e36dce-41ff-49ef-9fba-82b6f4a180b8"
      },
      "execution_count": 35,
      "outputs": [
        {
          "output_type": "stream",
          "name": "stdout",
          "text": [
            "[2, 3, 'a', 'b', 3.5, 3]\n"
          ]
        }
      ]
    },
    {
      "cell_type": "code",
      "source": [
        "# Transformando a lista em uma tupla novamente com tuple(x)\n",
        "tupla_auxiliar = tuple(lst_tupla)\n",
        "\n",
        "type( tupla_auxiliar )"
      ],
      "metadata": {
        "id": "5BnQ4-AKQUV7",
        "colab": {
          "base_uri": "https://localhost:8080/"
        },
        "outputId": "c4ec4e4a-2203-40f9-adf2-5ef713440a53"
      },
      "execution_count": 36,
      "outputs": [
        {
          "output_type": "execute_result",
          "data": {
            "text/plain": [
              "tuple"
            ]
          },
          "metadata": {},
          "execution_count": 36
        }
      ]
    },
    {
      "cell_type": "code",
      "source": [],
      "metadata": {
        "id": "yef1_DT89_cb"
      },
      "execution_count": 36,
      "outputs": []
    },
    {
      "cell_type": "code",
      "source": [
        "# Verificando como ficou nossa tupla\n",
        "print(tupla_auxiliar)"
      ],
      "metadata": {
        "id": "r6ipK2cJP_u-",
        "outputId": "3cbb55f0-b64d-4a05-e548-f83af135256a",
        "colab": {
          "base_uri": "https://localhost:8080/"
        }
      },
      "execution_count": 37,
      "outputs": [
        {
          "output_type": "stream",
          "name": "stdout",
          "text": [
            "(2, 3, 'a', 'b', 3.5, 3)\n"
          ]
        }
      ]
    },
    {
      "cell_type": "markdown",
      "source": [
        "**String**\n",
        "\n",
        "- Cadeia de caracteres com leitura 1 a 1\n",
        "- \"Uma palavra é uma **SEQUÊNCIA** de letras"
      ],
      "metadata": {
        "id": "PaSYm103LKhn"
      }
    },
    {
      "cell_type": "code",
      "source": [
        "str_auxiliar = 'Computação é o orgulho da PUC'\n",
        "\n",
        "# Acessando as letras da string com str[posição]\n",
        "print('Posição 1 da string: ', str_auxiliar[0])   # Obs: >\n",
        "print('Posição 3 da string: ', str_auxiliar[2])\n",
        "print('Posição 10 da string: ', str_auxiliar[9])\n",
        "print('Última posição da string: ', str_auxiliar[-1])"
      ],
      "metadata": {
        "id": "xO7knLe5LTz4",
        "colab": {
          "base_uri": "https://localhost:8080/"
        },
        "outputId": "c51bc7f8-88ca-4cc5-8339-767f77ebb628"
      },
      "execution_count": 38,
      "outputs": [
        {
          "output_type": "stream",
          "name": "stdout",
          "text": [
            "Posição 1 da string:  C\n",
            "Posição 3 da string:  m\n",
            "Posição 10 da string:  o\n",
            "Última posição da string:  C\n"
          ]
        }
      ]
    },
    {
      "cell_type": "code",
      "source": [
        "# Transformando as primeiras letras das palavras em maiúsculas com o string.title()\n",
        "nome = 'joao barbosa'\n",
        "print(nome.title())"
      ],
      "metadata": {
        "colab": {
          "base_uri": "https://localhost:8080/"
        },
        "id": "NJDdsOiiUUzo",
        "outputId": "d6a851b2-fb11-420f-f52a-7b5254b6914c"
      },
      "execution_count": 39,
      "outputs": [
        {
          "output_type": "stream",
          "name": "stdout",
          "text": [
            "Joao Barbosa\n"
          ]
        }
      ]
    },
    {
      "cell_type": "code",
      "source": [
        "# Transformando todas as letras em maiúsculas com string.upper()\n",
        "nome = 'joao barbosa'\n",
        "print(nome.upper())"
      ],
      "metadata": {
        "id": "FCnKVh2XUwx3",
        "colab": {
          "base_uri": "https://localhost:8080/"
        },
        "outputId": "f0a474b2-8232-4c72-c417-02672d21256c"
      },
      "execution_count": 40,
      "outputs": [
        {
          "output_type": "stream",
          "name": "stdout",
          "text": [
            "JOAO BARBOSA\n"
          ]
        }
      ]
    },
    {
      "cell_type": "code",
      "source": [
        "# Transformando todas as letras em minúsculas com string.lower()\n",
        "nome = 'JOAO BARBOSA'\n",
        "print(nome.lower())"
      ],
      "metadata": {
        "id": "62loN-QvU0Sv",
        "colab": {
          "base_uri": "https://localhost:8080/"
        },
        "outputId": "62ea17c0-b2e6-416e-f2c2-1b4445dba334"
      },
      "execution_count": 41,
      "outputs": [
        {
          "output_type": "stream",
          "name": "stdout",
          "text": [
            "joao barbosa\n"
          ]
        }
      ]
    },
    {
      "cell_type": "code",
      "source": [
        "# Tabulações com \\n e \\t\n",
        "print('Hello World')\n",
        "print('-'*80)\n",
        "print('>\\t>')\n",
        "print('-'*80)\n",
        "print('>\\n>')\n",
        "\n",
        "# \\t adicionará um tab\n",
        "# \\n pulará uma linha"
      ],
      "metadata": {
        "id": "HOlo8u6lU7qI",
        "colab": {
          "base_uri": "https://localhost:8080/"
        },
        "outputId": "fb158994-5eff-4c92-fa5d-c5c359efcca8"
      },
      "execution_count": 42,
      "outputs": [
        {
          "output_type": "stream",
          "name": "stdout",
          "text": [
            "Hello World\n",
            "--------------------------------------------------------------------------------\n",
            ">\t>\n",
            "--------------------------------------------------------------------------------\n",
            ">\n",
            ">\n"
          ]
        }
      ]
    },
    {
      "cell_type": "code",
      "source": [
        "str_aux = '    olá mundo   '\n",
        "\n",
        "# Removendo espaços da direita com string.rstrip()\n",
        "print(str_aux.rstrip())\n",
        "print('-'*80)\n",
        "\n",
        "# Removendo espaços da esquerda com string.lstrip()\n",
        "print(str_aux.lstrip())\n",
        "print('-'*80)\n",
        "\n",
        "# Removendo espaços de ambos os lados com string.strip()\n",
        "print(str_aux.strip())\n",
        "print('-'*80)\n",
        "\n",
        "# Trocando alguma string por outra com string.replace(\"str antiga\", \"str nova\")\n",
        "str_aux.replace('olá', 'hello')"
      ],
      "metadata": {
        "id": "S6-psHWQVENC",
        "colab": {
          "base_uri": "https://localhost:8080/",
          "height": 0
        },
        "outputId": "2a8d5698-c38a-4175-e929-e99cfcafa74c"
      },
      "execution_count": 43,
      "outputs": [
        {
          "output_type": "stream",
          "name": "stdout",
          "text": [
            "    olá mundo\n",
            "--------------------------------------------------------------------------------\n",
            "olá mundo   \n",
            "--------------------------------------------------------------------------------\n",
            "olá mundo\n",
            "--------------------------------------------------------------------------------\n"
          ]
        },
        {
          "output_type": "execute_result",
          "data": {
            "text/plain": [
              "'    hello mundo   '"
            ],
            "application/vnd.google.colaboratory.intrinsic+json": {
              "type": "string"
            }
          },
          "metadata": {},
          "execution_count": 43
        }
      ]
    },
    {
      "cell_type": "markdown",
      "source": [
        "**Exercício**\n",
        "\n",
        "Imprima o índice do maior valor da lista [1, 2, 3, 4, 50, 60, 7, 8, 9, 10]"
      ],
      "metadata": {
        "id": "XbWAaYr8kbFH"
      }
    },
    {
      "cell_type": "code",
      "source": [
        "lst = [1, 2, 3, 4, 50, 60, 7, 8, 9, 10]\n",
        "\n",
        "lst.index(max(lst))\n",
        "\n",
        "\n"
      ],
      "metadata": {
        "colab": {
          "base_uri": "https://localhost:8080/"
        },
        "id": "1BAwzrL9M5T4",
        "outputId": "26ca5ea7-7980-487d-d7de-66749ad225bc"
      },
      "execution_count": 44,
      "outputs": [
        {
          "output_type": "execute_result",
          "data": {
            "text/plain": [
              "5"
            ]
          },
          "metadata": {},
          "execution_count": 44
        }
      ]
    },
    {
      "cell_type": "markdown",
      "source": [
        "**Dicionários**\n",
        "- Chamado de \"dict\n",
        "- Mapeia um par (chave-valor) de informações\n",
        "- Chaves são imutáveis (ex. string)\n",
        "- Valores podem ser de qualquer tipo (str, int, float etc)\n",
        "- Similar a buscar o significado de uma palavra no dicionário, pois buscamos uma palavra (chave) e seu significado (valor)"
      ],
      "metadata": {
        "id": "6KJpFCAEWj3k"
      }
    },
    {
      "cell_type": "code",
      "source": [
        "# Exemplo simples\n",
        "dict_simples = {'A' : 1}\n",
        "\n",
        "type( dict_simples )"
      ],
      "metadata": {
        "colab": {
          "base_uri": "https://localhost:8080/"
        },
        "id": "OycFyHmkLDrk",
        "outputId": "9042cefe-e6d4-4727-80bb-cc44e3a859d8"
      },
      "execution_count": 45,
      "outputs": [
        {
          "output_type": "execute_result",
          "data": {
            "text/plain": [
              "dict"
            ]
          },
          "metadata": {},
          "execution_count": 45
        }
      ]
    },
    {
      "cell_type": "code",
      "source": [
        "# Exemplo com estado e cidade\n",
        "\n",
        "# dic_exemplo = {'chave1': \"valor1 da chave 1\", \"valor 2 da chave 1\",\n",
        "#                'chave2': 'valor1 da chave 2\"(...)}\n",
        "\n",
        "dict_cidade_estado = { 'Rio de Janeiro': 'Petrópolis',\n",
        "                       'São Paulo': ['São João da Boa Vista', 'Divinolândia'],\n",
        "                       'Minas Gerais': ['Poços de Caldas', 'Alfenas'] }"
      ],
      "metadata": {
        "id": "qwUqYWROXHAx"
      },
      "execution_count": 46,
      "outputs": []
    },
    {
      "cell_type": "code",
      "source": [
        "# Acessando uma chave do dicionário\n",
        "dict_cidade_estado['São Paulo']"
      ],
      "metadata": {
        "id": "ptcNO8f5YTpE",
        "colab": {
          "base_uri": "https://localhost:8080/"
        },
        "outputId": "7855cd35-3922-4b28-e22a-238095236f47"
      },
      "execution_count": 47,
      "outputs": [
        {
          "output_type": "execute_result",
          "data": {
            "text/plain": [
              "['São João da Boa Vista', 'Divinolândia']"
            ]
          },
          "metadata": {},
          "execution_count": 47
        }
      ]
    },
    {
      "cell_type": "code",
      "source": [
        "# Dicionários podem conter diferentes tipos de valores\n",
        "dict_valor = { 'chave1': 1,\n",
        "               'chave2': [2, 3, [5, 5, 5], 2]\n",
        "             }\n",
        "dict_valor"
      ],
      "metadata": {
        "id": "9nbEuN8RYYrE",
        "colab": {
          "base_uri": "https://localhost:8080/"
        },
        "outputId": "7499f00d-9818-45af-f755-37efa4ddcc52"
      },
      "execution_count": 48,
      "outputs": [
        {
          "output_type": "execute_result",
          "data": {
            "text/plain": [
              "{'chave1': 1, 'chave2': [2, 3, [5, 5, 5], 2]}"
            ]
          },
          "metadata": {},
          "execution_count": 48
        }
      ]
    },
    {
      "cell_type": "code",
      "source": [
        "dict_aux = {'a': 1,\n",
        "            'b': 2,\n",
        "            'c': 3}\n",
        "\n",
        "print(dict_aux)\n",
        "\n",
        "# Adicionando um novo par de chave-valor ao dicionário com dict['chave'] = valor\n",
        "\n",
        "dict_aux['d'] = 4\n",
        "\n",
        "# Alterando valores de um dicionário\n",
        "\n",
        "dict_aux['b'] = 50\n",
        "\n",
        "# Deletar valores de um dicionário\n",
        "\n",
        "del dict_aux['a']\n",
        "\n",
        "print('Dicionário modificado: ', dict_aux)"
      ],
      "metadata": {
        "id": "hFaYrz17ZhoD",
        "colab": {
          "base_uri": "https://localhost:8080/"
        },
        "outputId": "932cf8d9-7c08-4487-c0a8-1a435cfcab53"
      },
      "execution_count": 49,
      "outputs": [
        {
          "output_type": "stream",
          "name": "stdout",
          "text": [
            "{'a': 1, 'b': 2, 'c': 3}\n",
            "Dicionário modificado:  {'b': 50, 'c': 3, 'd': 4}\n"
          ]
        }
      ]
    },
    {
      "cell_type": "code",
      "source": [
        "# Retornando os pares chave-valor de um dicionário com dict.items()\n",
        "print(dict_aux.items())\n",
        "\n",
        "# Retornando chaves de um dicionário com dict.keys()\n",
        "print(dict_aux.keys())\n",
        "\n",
        "# Retornando os valores de um dicionário com dict.values()\n",
        "print(dict_aux.values())"
      ],
      "metadata": {
        "id": "gzSkCzItakv0",
        "colab": {
          "base_uri": "https://localhost:8080/"
        },
        "outputId": "e5e116a8-961d-4af1-d9c1-b91cac9efced"
      },
      "execution_count": 50,
      "outputs": [
        {
          "output_type": "stream",
          "name": "stdout",
          "text": [
            "dict_items([('b', 50), ('c', 3), ('d', 4)])\n",
            "dict_keys(['b', 'c', 'd'])\n",
            "dict_values([50, 3, 4])\n"
          ]
        }
      ]
    },
    {
      "cell_type": "markdown",
      "source": [
        "**Slicing**\n",
        "- Modo de pegar apenas uma 'fatia' de algo\n",
        "\n",
        "<img src=\"https://images.pexels.com/photos/5848259/pexels-photo-5848259.jpeg?auto=compress&cs=tinysrgb&w=1260&h=750&dpr=1\" width = 30%>\n"
      ],
      "metadata": {
        "id": "9-vlcSnqa9Lw"
      }
    },
    {
      "cell_type": "code",
      "source": [
        "lst_auxiliar = ['a', 'b', 'c', 'd', 'e']\n",
        "\n",
        "# Retornando do segundo elemento em diante\n",
        "print(lst_auxiliar[1:])"
      ],
      "metadata": {
        "id": "eDJvwWrZbFJa",
        "colab": {
          "base_uri": "https://localhost:8080/"
        },
        "outputId": "a87eaeaf-4cf9-473d-f630-ceb0264212dc"
      },
      "execution_count": 51,
      "outputs": [
        {
          "output_type": "stream",
          "name": "stdout",
          "text": [
            "['b', 'c', 'd', 'e']\n"
          ]
        }
      ]
    },
    {
      "cell_type": "code",
      "source": [
        "# Retornando do segundo elemento ao quarto\n",
        "print(lst_auxiliar[1:4])"
      ],
      "metadata": {
        "id": "k1r2j9ITbRkL",
        "colab": {
          "base_uri": "https://localhost:8080/"
        },
        "outputId": "6ac0f9a6-5780-4ab0-8ef1-e0584f182173"
      },
      "execution_count": 52,
      "outputs": [
        {
          "output_type": "stream",
          "name": "stdout",
          "text": [
            "['b', 'c', 'd']\n"
          ]
        }
      ]
    },
    {
      "cell_type": "code",
      "source": [
        "# Acessando os últimos 3 elementos\n",
        "print(lst_auxiliar[-3:])"
      ],
      "metadata": {
        "id": "88fK4ZahbXVN",
        "colab": {
          "base_uri": "https://localhost:8080/"
        },
        "outputId": "4a5f94ad-1443-48e0-a8d8-8c06e0d021d6"
      },
      "execution_count": 53,
      "outputs": [
        {
          "output_type": "stream",
          "name": "stdout",
          "text": [
            "['c', 'd', 'e']\n"
          ]
        }
      ]
    },
    {
      "cell_type": "code",
      "source": [
        "# Acessando do segundo e indo até o penúltimo elemento com lst[1:-1]\n",
        "print(lst_auxiliar[1:-1])"
      ],
      "metadata": {
        "id": "3OeywJxRbcMG",
        "colab": {
          "base_uri": "https://localhost:8080/"
        },
        "outputId": "7c2fa7d8-b8f1-43c7-ac9e-6b93a6d31a94"
      },
      "execution_count": 54,
      "outputs": [
        {
          "output_type": "stream",
          "name": "stdout",
          "text": [
            "['b', 'c', 'd']\n"
          ]
        }
      ]
    },
    {
      "cell_type": "code",
      "source": [
        "# Fatiando uma string\n",
        "aux = \"Computação\"\n",
        "\n",
        "# Abreviando para Comp\n",
        "print(aux[:4])"
      ],
      "metadata": {
        "id": "BS7-D8hlbnyl",
        "colab": {
          "base_uri": "https://localhost:8080/"
        },
        "outputId": "e30bbd0b-a6cc-4431-cb12-0e63a13dd0b3"
      },
      "execution_count": 55,
      "outputs": [
        {
          "output_type": "stream",
          "name": "stdout",
          "text": [
            "Comp\n"
          ]
        }
      ]
    },
    {
      "cell_type": "markdown",
      "source": [
        "## Estruturas de controle"
      ],
      "metadata": {
        "id": "7smri6U7ccAd"
      }
    },
    {
      "cell_type": "markdown",
      "source": [
        "São os comandos responsáveis por controlar a execução de algo, como na maioria das linguagens que conhecemos.\n",
        "\n",
        "Ex.\n",
        "- if: \"se\" algo acontecer faça isso\n",
        "- elif: \" e além disso se\" algo acontecer faça isso\n",
        "- for: \"por tantas vezes\" faça isso\n",
        "- while: \"enquanto\" algo acontecer faça isso\n",
        "\n",
        "<img src=\"https://media.istockphoto.com/photos/question-what-if-handwritten-with-black-marker-picture-id1093311164?s=612x612\" width = 30%>"
      ],
      "metadata": {
        "id": "6tP2lz_xcizY"
      }
    },
    {
      "cell_type": "markdown",
      "source": [
        "Comando if:\n",
        "```python\n",
        "se (condição for verdadeira):\n",
        "  faça X\n",
        "se não caso (...):\n",
        "  faça Y\n",
        "se não ():\n",
        "  faça Z  \n",
        "```\n",
        "Ex."
      ],
      "metadata": {
        "id": "TwYbvLZ_dpem"
      }
    },
    {
      "cell_type": "code",
      "source": [
        "# Comando if\n",
        "a = 2\n",
        "b = 2\n",
        "c = 3\n",
        "\n",
        "if (b < a):\n",
        "  print('Deu certo no primeiro.')\n",
        "elif (b == a):\n",
        "  print('Deu certo na segunda.')\n",
        "else:\n",
        "  print('Nada deu certo.')"
      ],
      "metadata": {
        "id": "xk0qwN1odd2s",
        "colab": {
          "base_uri": "https://localhost:8080/"
        },
        "outputId": "38510446-fcc6-466b-b821-9dc3a7aa2be3"
      },
      "execution_count": 56,
      "outputs": [
        {
          "output_type": "stream",
          "name": "stdout",
          "text": [
            "Deu certo na segunda.\n"
          ]
        }
      ]
    },
    {
      "cell_type": "code",
      "source": [
        "# Extra: declarando variáveis com uma condição\n",
        "a = 2\n",
        "\n",
        "if (a == 2):\n",
        "  valor = 'Verdadeiro'\n",
        "else:\n",
        "  valor = 'Falso'\n",
        "\n",
        "# Equivalente\n",
        "valor = 'Verdadeiro' if a == 2 else 'False'\n",
        "\n",
        "print(valor)"
      ],
      "metadata": {
        "id": "yMIc5sqnfGUV",
        "colab": {
          "base_uri": "https://localhost:8080/"
        },
        "outputId": "d379c459-9d12-4579-c3b9-dfd350776e01"
      },
      "execution_count": 57,
      "outputs": [
        {
          "output_type": "stream",
          "name": "stdout",
          "text": [
            "Verdadeiro\n"
          ]
        }
      ]
    },
    {
      "cell_type": "markdown",
      "source": [
        "Comando for:\n",
        "```Python\n",
        "para 'cada x' em 'intervalo':\n",
        "  faça isso\n",
        "```\n",
        "\n",
        "<img src=\"https://images.pexels.com/photos/315499/pexels-photo-315499.jpeg?auto=compress&cs=tinysrgb&w=1260&h=750&dpr=1\" width = 40%>"
      ],
      "metadata": {
        "id": "CTexliSXfZAM"
      }
    },
    {
      "cell_type": "code",
      "source": [
        "# Comando for\n",
        "for numero in range(10):\n",
        "  print(numero)"
      ],
      "metadata": {
        "colab": {
          "base_uri": "https://localhost:8080/"
        },
        "id": "LCnkkuxpfmug",
        "outputId": "49554f96-1d23-4e9c-8472-3daacf8a362d"
      },
      "execution_count": 58,
      "outputs": [
        {
          "output_type": "stream",
          "name": "stdout",
          "text": [
            "0\n",
            "1\n",
            "2\n",
            "3\n",
            "4\n",
            "5\n",
            "6\n",
            "7\n",
            "8\n",
            "9\n"
          ]
        }
      ]
    },
    {
      "cell_type": "code",
      "source": [
        "lst_aux = [-60, -50, -40, -30, 10, 20, 50, 80, 90, 100]\n",
        "\n",
        "# Utilizando for em listas para imprimir os valores positivos\n",
        "for valor in lst_aux:\n",
        "  if valor >= 0:\n",
        "    print(valor)"
      ],
      "metadata": {
        "id": "BmmkH1K0fzne",
        "colab": {
          "base_uri": "https://localhost:8080/"
        },
        "outputId": "538425bd-f3bd-41a0-8b95-ca799d3732af"
      },
      "execution_count": 59,
      "outputs": [
        {
          "output_type": "stream",
          "name": "stdout",
          "text": [
            "10\n",
            "20\n",
            "50\n",
            "80\n",
            "90\n",
            "100\n"
          ]
        }
      ]
    },
    {
      "cell_type": "markdown",
      "source": [
        "**Exercício**\n",
        "\n",
        "Dada a lista [1, 2, 3, 4, 5, 6, 7, 8, 9, 10], adicione os valores pares em uma nova lista e a imprima.\n",
        "\n",
        "Dica: popule a lista auxiliar com os valores pares utilizando um laço 'for' e '.append()' <br>\n",
        "Dica 2: valores pares são divisíveis por 2"
      ],
      "metadata": {
        "id": "RzWPei0pgYSI"
      }
    },
    {
      "cell_type": "code",
      "source": [
        "lst = [1, 2, 3, 4, 5, 6, 7, 8, 9, 10]\n",
        "lst_aux = []\n",
        "\n",
        "# Resolva\n",
        "for valor in lst:\n",
        "  if (valor % 2 == 0):\n",
        "    lst_aux.append(valor)\n",
        "\n",
        "print(lst_aux)"
      ],
      "metadata": {
        "colab": {
          "base_uri": "https://localhost:8080/"
        },
        "id": "y5JuERtVPl2v",
        "outputId": "ac2f7ed7-9958-4463-be33-916e6eb9e2fe"
      },
      "execution_count": 60,
      "outputs": [
        {
          "output_type": "stream",
          "name": "stdout",
          "text": [
            "[2, 4, 6, 8, 10]\n"
          ]
        }
      ]
    },
    {
      "cell_type": "markdown",
      "source": [
        "**Exercício**\n",
        "\n",
        "Imprima a média da lista [1, 2, 3, 4, 5, 6, 7, 8, 9, 10]\n",
        "\n",
        "Lembrando que:\n",
        "média = Soma dos valores / Quantidade de valores"
      ],
      "metadata": {
        "id": "vnPoOqedksb2"
      }
    },
    {
      "cell_type": "code",
      "source": [
        "lst = [1, 2, 3, 4, 5, 6, 7, 8, 9, 10]\n",
        "\n",
        "# Resolva\n",
        "soma = 0\n",
        "media = 0\n",
        "\n",
        "for valor in lst:\n",
        "  soma += valor\n",
        "\n",
        "media = soma / len(lst)\n",
        "\n",
        "print(f'{media:.2f}')"
      ],
      "metadata": {
        "id": "Dl84ed6sk0J9",
        "colab": {
          "base_uri": "https://localhost:8080/"
        },
        "outputId": "1b7fa9e6-e04f-4ba2-c20a-7df56495efb7"
      },
      "execution_count": 61,
      "outputs": [
        {
          "output_type": "stream",
          "name": "stdout",
          "text": [
            "5.50\n"
          ]
        }
      ]
    },
    {
      "cell_type": "markdown",
      "source": [
        "**Exercício**\n",
        "\n",
        "Dada a lista a seguir, imprima somente os nomes que contenham a string 'de'.\n",
        "\n",
        "Dica: utilize o comando in() e uma lista auxiliar vazia para popular com append()"
      ],
      "metadata": {
        "id": "bw1_MisMlXt6"
      }
    },
    {
      "cell_type": "code",
      "source": [
        "# Exemplo de comando in() e not in()\n",
        "print('Jo' in 'Joao')\n",
        "print('Za' in 'Joao')\n",
        "print('Za' not in 'Joao')"
      ],
      "metadata": {
        "colab": {
          "base_uri": "https://localhost:8080/"
        },
        "id": "MWRtIhHQl2k0",
        "outputId": "4a33647b-1ab5-4f59-fb73-ec51d6440b59"
      },
      "execution_count": 62,
      "outputs": [
        {
          "output_type": "stream",
          "name": "stdout",
          "text": [
            "True\n",
            "False\n",
            "True\n"
          ]
        }
      ]
    },
    {
      "cell_type": "code",
      "source": [
        "lst = ['João de Paula', 'Guimarães de Fernandes', 'Sebastião', 'Dienefer']\n",
        "lst_aux = []\n",
        "\n",
        "# Resolva\n",
        "for nome in lst:\n",
        "  if ('de' in nome):\n",
        "    lst_aux.append(nome)\n",
        "\n",
        "print(lst_aux)\n"
      ],
      "metadata": {
        "id": "B-uSlTogmAcs",
        "colab": {
          "base_uri": "https://localhost:8080/"
        },
        "outputId": "e90dc805-df2c-4b10-b6f7-107ae1a4a942"
      },
      "execution_count": 63,
      "outputs": [
        {
          "output_type": "stream",
          "name": "stdout",
          "text": [
            "['João de Paula', 'Guimarães de Fernandes']\n"
          ]
        }
      ]
    },
    {
      "cell_type": "markdown",
      "source": [
        "Comando while:\n",
        "```Python\n",
        "enquanto (condição for verdadeira):\n",
        "  faça isso\n",
        "```"
      ],
      "metadata": {
        "id": "wspkGKf6h-4a"
      }
    },
    {
      "cell_type": "markdown",
      "source": [
        "Reparou como basta traduzir os comandos do inglês para entender?"
      ],
      "metadata": {
        "id": "4Z-E4FJeSV54"
      }
    },
    {
      "cell_type": "code",
      "source": [
        "# Exemplo de while\n",
        "aux = 0\n",
        "\n",
        "while aux < 20:\n",
        "  print(aux)\n",
        "  aux += 2"
      ],
      "metadata": {
        "id": "wjQhLKzfiOKF",
        "colab": {
          "base_uri": "https://localhost:8080/"
        },
        "outputId": "04c4efa7-760b-41d3-d4e1-357cc8e79994"
      },
      "execution_count": 64,
      "outputs": [
        {
          "output_type": "stream",
          "name": "stdout",
          "text": [
            "0\n",
            "2\n",
            "4\n",
            "6\n",
            "8\n",
            "10\n",
            "12\n",
            "14\n",
            "16\n",
            "18\n"
          ]
        }
      ]
    },
    {
      "cell_type": "code",
      "source": [
        "# Retornando os itens de um dicionário\n",
        "dict_aux = {'a': 2,\n",
        "            'b': 'João',\n",
        "            'L': 'Luiz'}\n",
        "\n",
        "for chaveValor in dict_aux.items():\n",
        "  print(f'Chave: {chaveValor[0]}, Valor: {chaveValor[1]}')"
      ],
      "metadata": {
        "colab": {
          "base_uri": "https://localhost:8080/"
        },
        "id": "l_mANfjWN9mj",
        "outputId": "c9f18b90-81f4-4a9b-8e31-78d7c80736d4"
      },
      "execution_count": 65,
      "outputs": [
        {
          "output_type": "stream",
          "name": "stdout",
          "text": [
            "Chave: a, Valor: 2\n",
            "Chave: b, Valor: João\n",
            "Chave: L, Valor: Luiz\n"
          ]
        }
      ]
    },
    {
      "cell_type": "code",
      "source": [
        "# Extra: laço for em dicionários\n",
        "dict_aux = {'a': 2,\n",
        "            'b': 'João',\n",
        "            'L': 'Luiz'}\n",
        "\n",
        "for chaveValor in dict_aux.items():\n",
        "  print(f'Chave: {chaveValor[0]}, Valor: {chaveValor[1]}')"
      ],
      "metadata": {
        "id": "QFdZ3uD8mh-S",
        "colab": {
          "base_uri": "https://localhost:8080/"
        },
        "outputId": "154b5962-5061-4eb1-e3bf-9a4f004c281b"
      },
      "execution_count": 66,
      "outputs": [
        {
          "output_type": "stream",
          "name": "stdout",
          "text": [
            "Chave: a, Valor: 2\n",
            "Chave: b, Valor: João\n",
            "Chave: L, Valor: Luiz\n"
          ]
        }
      ]
    },
    {
      "cell_type": "markdown",
      "source": [
        "## Comprehension"
      ],
      "metadata": {
        "id": "iTbp-wDAtxeN"
      }
    },
    {
      "cell_type": "markdown",
      "source": [
        "Comprehension é um recurso que permite criar uma sequência avaliada com base em outra sequência.\n",
        "\n",
        "É uma maneira eficiente de se trabalhar ✅ (melhor em termos de processamento do que utilizar um laço for)"
      ],
      "metadata": {
        "id": "Wo4Tr_Pl7bXa"
      }
    },
    {
      "cell_type": "code",
      "source": [
        "# Exemplo criando uma lista de modo \"convencional\" onde a lista vem de uma outra lista multiplicada por 3\n",
        "lst_1 = [1,2,3,4,5]\n",
        "lst_1_vezes_3 = []\n",
        "\n",
        "for valor in lst_1:\n",
        "  lst_1_vezes_3.append(valor * 3)\n",
        "\n",
        "print(lst_1_vezes_3)"
      ],
      "metadata": {
        "id": "sN_z28jp71mp",
        "colab": {
          "base_uri": "https://localhost:8080/"
        },
        "outputId": "609313b6-b620-42a3-ec95-00e1100ecab2"
      },
      "execution_count": 67,
      "outputs": [
        {
          "output_type": "stream",
          "name": "stdout",
          "text": [
            "[3, 6, 9, 12, 15]\n"
          ]
        }
      ]
    },
    {
      "cell_type": "code",
      "source": [
        "# Mesmo exemplo utilizando comprehension\n",
        "lst_1 = [1,2,3,4,5]\n",
        "\n",
        "lst_1_vezes_3_comprehension = [valor * 3 for valor in lst_1]\n",
        "\n",
        "print(lst_1_vezes_3)"
      ],
      "metadata": {
        "id": "sVXkOrjI8d1d",
        "colab": {
          "base_uri": "https://localhost:8080/"
        },
        "outputId": "086da063-4ee0-4ac6-fa54-6689c7758a5a"
      },
      "execution_count": 68,
      "outputs": [
        {
          "output_type": "stream",
          "name": "stdout",
          "text": [
            "[3, 6, 9, 12, 15]\n"
          ]
        }
      ]
    },
    {
      "cell_type": "code",
      "source": [
        "# Utilizando comprehension com \"if\" e \"else\"\n",
        "lista_1 = [1,2,3,4,5]\n",
        "\n",
        "# Retornando o número caso este seja par e retornando \"ímpar\" caso o número seja ímpar\n",
        "lista_1_r = [valor if valor % 2 == 0 else 'impar' for valor in lista_1]\n",
        "\n",
        "print(lista_1_r)"
      ],
      "metadata": {
        "id": "T-PvOOQ99JOW",
        "colab": {
          "base_uri": "https://localhost:8080/"
        },
        "outputId": "9d7e03e2-a125-4e9b-c1b3-b1c191f5af8d"
      },
      "execution_count": 69,
      "outputs": [
        {
          "output_type": "stream",
          "name": "stdout",
          "text": [
            "['impar', 2, 'impar', 4, 'impar']\n"
          ]
        }
      ]
    },
    {
      "cell_type": "markdown",
      "source": [
        "**Exercicio**\n",
        "\n",
        "Dada a lista [1,2,3,4,5,6,7,8,9,10]: <Br><Br>\n",
        "Se o elemento for par -> multiplique por 2 e adicione 1 ( n*2 + 1 ) <Br>\n",
        "Se o elemento for ímpar -> multiplique por 2"
      ],
      "metadata": {
        "id": "n745T9wS-173"
      }
    },
    {
      "cell_type": "code",
      "source": [
        "lista = [1,2,3,4,5,6,7,8,9,10]\n",
        "\n",
        "lista_r = [valor * 2 if valor % 2 == 1 else (valor * 2) + 1 for valor in lista]\n",
        "\n",
        "print(lista_r)\n"
      ],
      "metadata": {
        "id": "fpBIpUNB_X3i",
        "colab": {
          "base_uri": "https://localhost:8080/"
        },
        "outputId": "f463cf13-1446-40f6-de24-fb3b52594f15"
      },
      "execution_count": 70,
      "outputs": [
        {
          "output_type": "stream",
          "name": "stdout",
          "text": [
            "[2, 5, 6, 9, 10, 13, 14, 17, 18, 21]\n"
          ]
        }
      ]
    },
    {
      "cell_type": "code",
      "source": [
        "# Lista de 1 a 100, gerar nova lista com apenas os números primos\n",
        "\n"
      ],
      "metadata": {
        "id": "8534UL8U51Yj"
      },
      "execution_count": 71,
      "outputs": []
    },
    {
      "cell_type": "markdown",
      "source": [
        "## Funções"
      ],
      "metadata": {
        "id": "hKaOtMX2Ixtj"
      }
    },
    {
      "cell_type": "markdown",
      "source": [
        "Uma função é uma espécie de \"máquina geradora\".\n",
        "\n",
        "- É definida no python pelo comando **def**\n",
        "\n",
        "Por exemplo, se você colocar laranjas em um espremedor de frutas, ele retornará um Suco.\n",
        "\n",
        "Ou seja, ao colocarmos o **parâmetro** frutas (no caso Laranja) na **função** espremedor, é retornado um **objeto** Suco.\n",
        "\n",
        "Neste caso:\n",
        "- Função: espremedor\n",
        "- Parâmetro: laranjas\n",
        "- Objeto resultado: Suco\n",
        "\n",
        "<img src=\"https://cf.shopee.com.br/file/e8a29d6873abc9e4d196ad2254504e53_tn\" width=30%>"
      ],
      "metadata": {
        "id": "haSIRVgEIzFM"
      }
    },
    {
      "cell_type": "code",
      "source": [
        "# Exemplo\n",
        "def espremedor(fruta):\n",
        "  suco = 'Suco de ' + fruta\n",
        "  return suco\n",
        "\n",
        "print(espremedor('Limão'))"
      ],
      "metadata": {
        "id": "IA7RG0M7Ki2H",
        "colab": {
          "base_uri": "https://localhost:8080/"
        },
        "outputId": "62dcb6b0-dc83-4e77-dbde-5f31bbbc37f6"
      },
      "execution_count": 72,
      "outputs": [
        {
          "output_type": "stream",
          "name": "stdout",
          "text": [
            "Suco de Limão\n"
          ]
        }
      ]
    },
    {
      "cell_type": "code",
      "source": [
        "# Podemos deixar valores default para uma função com def func(suco = 'limao')\n",
        "def espremedor(fruta = 'Abacaxi'):\n",
        "  suco = 'Suco de ' + fruta\n",
        "  return suco\n",
        "\n",
        "print(espremedor())"
      ],
      "metadata": {
        "id": "U9vaUUmBLMRK",
        "colab": {
          "base_uri": "https://localhost:8080/"
        },
        "outputId": "ca43c0ca-b06b-4757-8efa-6488372f65f9"
      },
      "execution_count": 73,
      "outputs": [
        {
          "output_type": "stream",
          "name": "stdout",
          "text": [
            "Suco de Abacaxi\n"
          ]
        }
      ]
    },
    {
      "cell_type": "code",
      "source": [
        "# Passando uma função como parâmetro para outra função\n",
        "def almoco(suco, prato):\n",
        "  refeicao = espremedor(suco) + ' com ' + prato\n",
        "  return refeicao\n",
        "\n",
        "print(almoco('Laranja', 'Parmegiana'))"
      ],
      "metadata": {
        "id": "d7lc4pEkLtDX",
        "colab": {
          "base_uri": "https://localhost:8080/"
        },
        "outputId": "23370caf-5994-429b-884f-02472311b4c1"
      },
      "execution_count": 74,
      "outputs": [
        {
          "output_type": "stream",
          "name": "stdout",
          "text": [
            "Suco de Laranja com Parmegiana\n"
          ]
        }
      ]
    },
    {
      "cell_type": "markdown",
      "source": [
        "**Exercício**\n",
        "\n",
        "Faça uma função que recebe como parâmetros um nome de aluno X, sua idade Y e retorne quantos anos faltam para o aluno ter 80 anos.\n",
        "\n",
        "Ex. \"Me chamo Beatriz, tenho 28 anos e faltam 52 anos para que eu tenha 80 anos.\"\n",
        "\n",
        "Caso queira, tente utilizar a função input() para receber os valores, por exemplo:\n",
        "```python\n",
        "idade = int( input(\"Digite a idade: \") )\n",
        "```"
      ],
      "metadata": {
        "id": "XN0Afd2BL32z"
      }
    },
    {
      "cell_type": "code",
      "source": [
        "def calcula (nome, idade):\n",
        "  return f'Me chamo {nome}, tenho {idade} anos e faltam {80-idade} anos para que eu tenha 80 anos.'\n",
        "\n",
        "nome = input()\n",
        "idade = int(input())\n",
        "\n",
        "print(calcula(nome, idade))"
      ],
      "metadata": {
        "colab": {
          "base_uri": "https://localhost:8080/"
        },
        "id": "uwfnBMhET71I",
        "outputId": "f8d8c585-e4b7-4f87-9c0e-01ae39c120ac"
      },
      "execution_count": 75,
      "outputs": [
        {
          "output_type": "stream",
          "name": "stdout",
          "text": [
            "José\n",
            "24\n",
            "Me chamo José, tenho 24 anos e faltam 56 anos para que eu tenha 80 anos.\n"
          ]
        }
      ]
    },
    {
      "cell_type": "markdown",
      "source": [
        "Extra: Snake Case vs Camel Case\n",
        "\n",
        "```python\n",
        "# snake case\n",
        "variavel_a = 1\n",
        "\n",
        "# camel case\n",
        "variavelA = 1\n",
        "```"
      ],
      "metadata": {
        "id": "v7998v2ow20i"
      }
    },
    {
      "cell_type": "markdown",
      "source": [
        "## Lambda"
      ],
      "metadata": {
        "id": "GtBueta3mRqr"
      }
    },
    {
      "cell_type": "markdown",
      "source": [
        "A função lambda em python também é chamada de função anônima (sem nome) e pode ser escrita no momento de utilização, não sendo necessário escrevê-la anteriormente. <br>\n",
        "Ou seja... você cria a função enquanto a usa!\n",
        "\n",
        "Ex.<br>\n",
        "O seguinte código:\n",
        "```python\n",
        "def soma_dois_numeros(num1, num2):\n",
        "  return num1+num2\n",
        "print( soma_dois_numeros(2,5) )\n",
        ">>>7\n",
        "```\n",
        "Poderia ser escrito da seguinte forma utilizando lambda:\n",
        "```python\n",
        "resultado = lambda num1, num2: num1 + num2\n",
        "print( resultado(2,5) )\n",
        ">>> 7\n",
        "```"
      ],
      "metadata": {
        "id": "NdighGBbmUXd"
      }
    },
    {
      "cell_type": "markdown",
      "source": [
        "<img href=\"https://raw.githubusercontent.com/the-akira/Python-Iluminado/master/Imagens/Lambda.png\" src=\"https://raw.githubusercontent.com/the-akira/Python-Iluminado/master/Imagens/Lambda.png\" width = 50%>\n",
        "\n",
        "*fonte-img-e-consulta: https://pythoniluminado.netlify.app/expressoes-lambda*"
      ],
      "metadata": {
        "id": "MKV1EbyQHpaL"
      }
    },
    {
      "cell_type": "code",
      "source": [
        "# Criando uma função que descreve se o número é positivo ou negativo\n",
        "\n",
        "lst_aux = [10, -2, 4, 0, 3, -2]\n",
        "lst_aux2 = []\n",
        "\n",
        "def is_positivo(lst_aux):\n",
        "  for valor in lst_aux:\n",
        "    if valor >= 0:\n",
        "      lst_aux2.append('positivo')\n",
        "    else:\n",
        "      lst_aux2.append('negativo')\n",
        "\n",
        "is_positivo(lst_aux)\n",
        "\n",
        "print(lst_aux2)"
      ],
      "metadata": {
        "id": "TtBLJzL4IDZG",
        "colab": {
          "base_uri": "https://localhost:8080/"
        },
        "outputId": "a4699064-260d-4916-843a-70b2fb97d77c"
      },
      "execution_count": 76,
      "outputs": [
        {
          "output_type": "stream",
          "name": "stdout",
          "text": [
            "['positivo', 'negativo', 'positivo', 'positivo', 'positivo', 'negativo']\n"
          ]
        }
      ]
    },
    {
      "cell_type": "code",
      "source": [
        "# Podemos reescrever o código utilizando a função lambda e comprehension\n",
        "lst_aux = [10,-2,4,0,3,-2]\n",
        "\n",
        "# Função lambda\n",
        "is_positivo = lambda x:'positivo' if x >= 0 else 'negativo'\n",
        "\n",
        "# Aplicando a função para criar uma lista com comprehension\n",
        "tipo = [is_positivo(y) for y in lst_aux]\n",
        "\n",
        "print(tipo)"
      ],
      "metadata": {
        "id": "WVCnWJOynJKK",
        "colab": {
          "base_uri": "https://localhost:8080/"
        },
        "outputId": "c1ad34d0-8602-4000-8922-de3e6797cee9"
      },
      "execution_count": 77,
      "outputs": [
        {
          "output_type": "stream",
          "name": "stdout",
          "text": [
            "['positivo', 'negativo', 'positivo', 'positivo', 'positivo', 'negativo']\n"
          ]
        }
      ]
    },
    {
      "cell_type": "code",
      "source": [
        "# Adicionando o caso neutro na função lambda (0 =  neutro)\n",
        "lst_aux = [10,-2,4,0,3,-2]\n",
        "\n",
        "is_positivo = lambda x:'positivo' if x > 0 else('neutro' if x == 0 else 'negativo')\n",
        "\n",
        "positivos = [is_positivo(y) for y in lst_aux]\n",
        "\n",
        "print(positivos)"
      ],
      "metadata": {
        "id": "PHD8vJBXovqi",
        "colab": {
          "base_uri": "https://localhost:8080/"
        },
        "outputId": "e570dcde-1957-4eb5-8c2c-bf83226961f7"
      },
      "execution_count": 78,
      "outputs": [
        {
          "output_type": "stream",
          "name": "stdout",
          "text": [
            "['positivo', 'negativo', 'positivo', 'neutro', 'positivo', 'negativo']\n"
          ]
        }
      ]
    },
    {
      "cell_type": "markdown",
      "source": [
        "**Exercício**\n",
        "\n",
        "Geraldo é um rapaz supersticioso e acredita que toda palavra que começa em vogal [a,e,i,o,u] deveria ser escrita em letra maiúscula antes de ser impressa em sua impressora 'amaldiçoada' da década de 1780.\n",
        "\n",
        "Ele está cansado de alterar todos os textos de seus trabalhos, ajude-o automatizando o processo.\n",
        "\n",
        "<img src=\"http://lh4.ggpht.com/-_x9PXMjU0LQ/TmtZaKHESvI/AAAAAAAAB0A/71bjy-376mA/Impressora_thumb%25255B1%25255D.jpg?imgmax=800\" width=30%>\n",
        "\n",
        "Exemplo de entrada:<Br>\n",
        "*'Este ambiente de inovação jamais abrirá as portas para mim se eu não estudar ...'*\n",
        "\n",
        "Exemplo de saída:<Br>\n",
        "*'Este Ambiente de Inovação jamais Abrirá As portas para mim se Eu não Estudar ...'*\n",
        "\n",
        "Dica: utilize a função split!"
      ],
      "metadata": {
        "id": "_8qU3E10pbOe"
      }
    },
    {
      "cell_type": "code",
      "source": [
        "# Exemplo de uso da função split\n",
        "str_split = 'Olá mundo'\n",
        "\n",
        "str_split.split( sep = ' ' )   # separa a string acima após o separador ' ' (espaço)"
      ],
      "metadata": {
        "id": "0TY181gMIgCQ",
        "colab": {
          "base_uri": "https://localhost:8080/"
        },
        "outputId": "3543501e-e6b0-4624-d990-3c82f5407a8a"
      },
      "execution_count": 79,
      "outputs": [
        {
          "output_type": "execute_result",
          "data": {
            "text/plain": [
              "['Olá', 'mundo']"
            ]
          },
          "metadata": {},
          "execution_count": 79
        }
      ]
    },
    {
      "cell_type": "code",
      "source": [
        "# Exemplo de utilidade da função split\n",
        "str_split = 'Poços de Caldas - MG'\n",
        "\n",
        "aux = str_split.split( sep = ' - ' )\n",
        "\n",
        "aux[1]"
      ],
      "metadata": {
        "colab": {
          "base_uri": "https://localhost:8080/",
          "height": 0
        },
        "id": "_tyKMADy6UC0",
        "outputId": "d3ef7ceb-899c-4abc-b1ba-f5cbec712c1b"
      },
      "execution_count": 80,
      "outputs": [
        {
          "output_type": "execute_result",
          "data": {
            "text/plain": [
              "'MG'"
            ],
            "application/vnd.google.colaboratory.intrinsic+json": {
              "type": "string"
            }
          },
          "metadata": {},
          "execution_count": 80
        }
      ]
    },
    {
      "cell_type": "code",
      "source": [
        "# Extra: \"Como separo uma frase por uma palavra? Por exemplo,\n",
        "# separar a frase 'olá meu nome é joão' até o \"Olá meu nome\"\n",
        "str_exemplo = 'Olá meu nome é João'\n",
        "\n",
        "str_exemplo.split(sep = 'é')[0].rstrip()"
      ],
      "metadata": {
        "id": "J_UXzYx6tmlP",
        "colab": {
          "base_uri": "https://localhost:8080/",
          "height": 0
        },
        "outputId": "7184159a-9a09-4541-a4d7-e45965e2b721"
      },
      "execution_count": 81,
      "outputs": [
        {
          "output_type": "execute_result",
          "data": {
            "text/plain": [
              "'Olá meu nome'"
            ],
            "application/vnd.google.colaboratory.intrinsic+json": {
              "type": "string"
            }
          },
          "metadata": {},
          "execution_count": 81
        }
      ]
    },
    {
      "cell_type": "code",
      "source": [
        "# Exemplo utilizando função def\n",
        "\n",
        "frase = 'Este ambiente de inovação jamais abrirá as portas para mim se eu não estudar ...'   \n",
        "palavras_da_frase = frase.split( sep = ' ' )        # retorna uma lista com palavras separadas por espaço na frase exemplo\n",
        "lista_auxiliar = []                                 # lista vazia para armazenar as palavras modificadas dentro da função\n",
        "\n",
        "def geraldo_aliviado(lista):\n",
        "  for palavra in lista:\n",
        "    if palavra[0] in 'aeiou':\n",
        "      lista_auxiliar.append( palavra.title() )      # retorna a palavra com a primeira letra maiúscula\n",
        "    else:\n",
        "      lista_auxiliar.append( palavra )\n",
        "\n",
        "geraldo_aliviado(palavras_da_frase)                 # utilizando a função para deixar as vogais iniciais em maiúsculo\n",
        "\n",
        "lista_auxiliar = ' '.join(lista_auxiliar)           # transformando a lista auxiliar em uma única string\n",
        "\n",
        "print(lista_auxiliar)"
      ],
      "metadata": {
        "id": "NKJ5TcjurLjm",
        "colab": {
          "base_uri": "https://localhost:8080/"
        },
        "outputId": "e4146e4f-bb3d-401d-aa72-ad3777948510"
      },
      "execution_count": 82,
      "outputs": [
        {
          "output_type": "stream",
          "name": "stdout",
          "text": [
            "Este Ambiente de Inovação jamais Abrirá As portas para mim se Eu não Estudar ...\n"
          ]
        }
      ]
    },
    {
      "cell_type": "code",
      "source": [
        "# Agora resolva utilizando a função lambda e comprehension\n",
        "\n",
        "frase = 'Este ambiente de inovação jamais abrirá as portas para mim se eu não estudar ...'\n",
        "palavras_da_frase = frase.split( sep = ' ' )\n",
        "\n",
        "# Resolva\n",
        "alfabeto = 'aeiou'\n",
        "\n",
        "palavras_maiusculas = lambda palavra:palavra.title() if palavra[0] in alfabeto else palavra\n",
        "\n",
        "palavras_consertadas = [palavras_maiusculas(n) for n in palavras_da_frase]\n",
        "\n",
        "frase_final = ' '.join(palavras_consertadas)\n",
        "\n",
        "print(frase_final)\n",
        "\n",
        "# Outra forma\n",
        "f_lambda = lambda x:x.title() if x[0] in 'aeiou' else x\n",
        "\n",
        "frase_modificada = ' '.join([f_lambda(y) for y in palavras_da_frase])\n",
        "print(frase_modificada)"
      ],
      "metadata": {
        "id": "a6gGhrWWqJzb",
        "colab": {
          "base_uri": "https://localhost:8080/"
        },
        "outputId": "298bfa28-0fad-4f3d-fccf-65aa6a665685"
      },
      "execution_count": 83,
      "outputs": [
        {
          "output_type": "stream",
          "name": "stdout",
          "text": [
            "Este Ambiente de Inovação jamais Abrirá As portas para mim se Eu não Estudar ...\n",
            "Este Ambiente de Inovação jamais Abrirá As portas para mim se Eu não Estudar ...\n"
          ]
        }
      ]
    },
    {
      "cell_type": "code",
      "source": [
        "# Reforçando a função lambda\n",
        "\n",
        "# Criando uma lista \"compreendida\" através de outra, com os números elevados ao cubo\n",
        "lista_1 = [1, 2, 3, 4, 5]\n",
        "lista_2 = [2, 3]\n",
        "\n",
        "lista_elevada_a_outra_lista = lambda x,y: x**y\n",
        "\n",
        "lista_elevada = [lista_elevada_a_outra_lista(x,y) for x in lista_1 for y in lista_2]\n",
        "\n",
        "print(lista_elevada)"
      ],
      "metadata": {
        "colab": {
          "base_uri": "https://localhost:8080/"
        },
        "id": "zZCdECzTgNzJ",
        "outputId": "201f0121-b884-4ca2-eab9-b8eaf27d1a1c"
      },
      "execution_count": 84,
      "outputs": [
        {
          "output_type": "stream",
          "name": "stdout",
          "text": [
            "[1, 1, 4, 8, 9, 27, 16, 64, 25, 125]\n"
          ]
        }
      ]
    },
    {
      "cell_type": "markdown",
      "source": [
        "## DESAFIO DO DIA\n",
        "\n",
        "Faça uma função que retorne os números primos de 1 a 100"
      ],
      "metadata": {
        "id": "IybNIB0t3woS"
      }
    },
    {
      "cell_type": "code",
      "source": [
        "# Resolva\n",
        "\n",
        "primos = [2,3,5,7]\n",
        "\n",
        "for i in range(7, 101, 2):\n",
        "  if( i%3 != 0 and i%5!=0 and i%7!=0 ):\n",
        "    primos.append(i)\n",
        "\n",
        "print(primos)"
      ],
      "metadata": {
        "id": "05WLcfFbx2Oo",
        "colab": {
          "base_uri": "https://localhost:8080/"
        },
        "outputId": "c66edcf8-4189-4854-f97c-16e6bde32246"
      },
      "execution_count": 85,
      "outputs": [
        {
          "output_type": "stream",
          "name": "stdout",
          "text": [
            "[2, 3, 5, 7, 11, 13, 17, 19, 23, 29, 31, 37, 41, 43, 47, 53, 59, 61, 67, 71, 73, 79, 83, 89, 97]\n"
          ]
        }
      ]
    },
    {
      "cell_type": "markdown",
      "source": [
        "## Imports"
      ],
      "metadata": {
        "id": "ALrvcY7UuyFE"
      }
    },
    {
      "cell_type": "markdown",
      "source": [
        "Um dos maiores poderes da linguagem Python! 🥇\n",
        "\n",
        "Um \"import\" nos permite \"trazer\" ao projeto várias funções previamente escritas por outros programadores contendo módulos e bibliotecas.\n",
        "- Semelhante ao `#include <stdio>` ou `#include \"customlib.h\"` na linguagem C\n",
        "\n",
        "<img src='https://live.staticflickr.com/4827/45340089845_845d139556_z.jpg' width=50%>\n",
        "\n",
        "Obs: Um pacote é um conjunto de vários módulos reunidos\n"
      ],
      "metadata": {
        "id": "WkcbGP0OK8BO"
      }
    },
    {
      "cell_type": "code",
      "source": [
        "# COMANDOS ÚTEIS\n",
        "\n",
        "!cd: navega até uma pasta\n",
        "!pwd: mostra o diretório atual\n",
        "!ls: lista os elementos do diretório atual\n",
        "!rm: remove um algum arquivo (-r)\n",
        "!unzip: unzipa um arquivo\n",
        "!zip: zipa um arquivo\n",
        "!mv: move um arquivo de uma pasta para outra\n",
        "!mkdir: criar um diretório\n",
        "!pip: instala uma biblioteca no ambiente"
      ],
      "metadata": {
        "id": "cXPxGHrNs0yB",
        "outputId": "519bd1cf-cdec-48e2-9c11-1002172cba56",
        "colab": {
          "base_uri": "https://localhost:8080/"
        }
      },
      "execution_count": 86,
      "outputs": [
        {
          "output_type": "stream",
          "name": "stdout",
          "text": [
            "/bin/bash: cd:: command not found\n",
            "/bin/bash: pwd:: command not found\n",
            "/bin/bash: ls:: command not found\n",
            "/bin/bash: -c: line 0: syntax error near unexpected token `('\n",
            "/bin/bash: -c: line 0: `rm: remove um algum arquivo (-r)'\n",
            "/bin/bash: unzip:: command not found\n",
            "/bin/bash: zip:: command not found\n",
            "/bin/bash: mv:: command not found\n",
            "/bin/bash: mkdir:: command not found\n",
            "/bin/bash: pip:: command not found\n"
          ]
        }
      ]
    },
    {
      "cell_type": "code",
      "source": [
        "# Realizando o import do pacote numpy com o comando \"import\"\n",
        "import numpy\n",
        "\n",
        "# Realizando o import do modulo pyplot com o comando \"from\" que vem do pacote matplotlib \n",
        "from matplotlib import pyplot\n",
        "# ou\n",
        "import matplotlib.pyplot"
      ],
      "metadata": {
        "id": "1bqGWHu2L_it"
      },
      "execution_count": 87,
      "outputs": []
    },
    {
      "cell_type": "code",
      "source": [
        "# Listando os módulos presentes no numpy com dir(pacote)\n",
        "dir(numpy)"
      ],
      "metadata": {
        "id": "6KA9QaIHcmo7",
        "colab": {
          "base_uri": "https://localhost:8080/"
        },
        "outputId": "a3c1a718-0ee4-424a-a573-e1b6d76ec1ec"
      },
      "execution_count": 88,
      "outputs": [
        {
          "output_type": "execute_result",
          "data": {
            "text/plain": [
              "['ALLOW_THREADS',\n",
              " 'AxisError',\n",
              " 'BUFSIZE',\n",
              " 'CLIP',\n",
              " 'ComplexWarning',\n",
              " 'DataSource',\n",
              " 'ERR_CALL',\n",
              " 'ERR_DEFAULT',\n",
              " 'ERR_IGNORE',\n",
              " 'ERR_LOG',\n",
              " 'ERR_PRINT',\n",
              " 'ERR_RAISE',\n",
              " 'ERR_WARN',\n",
              " 'FLOATING_POINT_SUPPORT',\n",
              " 'FPE_DIVIDEBYZERO',\n",
              " 'FPE_INVALID',\n",
              " 'FPE_OVERFLOW',\n",
              " 'FPE_UNDERFLOW',\n",
              " 'False_',\n",
              " 'Inf',\n",
              " 'Infinity',\n",
              " 'MAXDIMS',\n",
              " 'MAY_SHARE_BOUNDS',\n",
              " 'MAY_SHARE_EXACT',\n",
              " 'ModuleDeprecationWarning',\n",
              " 'NAN',\n",
              " 'NINF',\n",
              " 'NZERO',\n",
              " 'NaN',\n",
              " 'PINF',\n",
              " 'PZERO',\n",
              " 'RAISE',\n",
              " 'RankWarning',\n",
              " 'SHIFT_DIVIDEBYZERO',\n",
              " 'SHIFT_INVALID',\n",
              " 'SHIFT_OVERFLOW',\n",
              " 'SHIFT_UNDERFLOW',\n",
              " 'ScalarType',\n",
              " 'Tester',\n",
              " 'TooHardError',\n",
              " 'True_',\n",
              " 'UFUNC_BUFSIZE_DEFAULT',\n",
              " 'UFUNC_PYVALS_NAME',\n",
              " 'VisibleDeprecationWarning',\n",
              " 'WRAP',\n",
              " '_CopyMode',\n",
              " '_NoValue',\n",
              " '_UFUNC_API',\n",
              " '__NUMPY_SETUP__',\n",
              " '__all__',\n",
              " '__builtins__',\n",
              " '__cached__',\n",
              " '__config__',\n",
              " '__deprecated_attrs__',\n",
              " '__dir__',\n",
              " '__doc__',\n",
              " '__expired_functions__',\n",
              " '__file__',\n",
              " '__getattr__',\n",
              " '__git_version__',\n",
              " '__loader__',\n",
              " '__name__',\n",
              " '__package__',\n",
              " '__path__',\n",
              " '__spec__',\n",
              " '__version__',\n",
              " '_add_newdoc_ufunc',\n",
              " '_distributor_init',\n",
              " '_financial_names',\n",
              " '_from_dlpack',\n",
              " '_globals',\n",
              " '_mat',\n",
              " '_pytesttester',\n",
              " '_version',\n",
              " 'abs',\n",
              " 'absolute',\n",
              " 'add',\n",
              " 'add_docstring',\n",
              " 'add_newdoc',\n",
              " 'add_newdoc_ufunc',\n",
              " 'alen',\n",
              " 'all',\n",
              " 'allclose',\n",
              " 'alltrue',\n",
              " 'amax',\n",
              " 'amin',\n",
              " 'angle',\n",
              " 'any',\n",
              " 'append',\n",
              " 'apply_along_axis',\n",
              " 'apply_over_axes',\n",
              " 'arange',\n",
              " 'arccos',\n",
              " 'arccosh',\n",
              " 'arcsin',\n",
              " 'arcsinh',\n",
              " 'arctan',\n",
              " 'arctan2',\n",
              " 'arctanh',\n",
              " 'argmax',\n",
              " 'argmin',\n",
              " 'argpartition',\n",
              " 'argsort',\n",
              " 'argwhere',\n",
              " 'around',\n",
              " 'array',\n",
              " 'array2string',\n",
              " 'array_equal',\n",
              " 'array_equiv',\n",
              " 'array_repr',\n",
              " 'array_split',\n",
              " 'array_str',\n",
              " 'asanyarray',\n",
              " 'asarray',\n",
              " 'asarray_chkfinite',\n",
              " 'ascontiguousarray',\n",
              " 'asfarray',\n",
              " 'asfortranarray',\n",
              " 'asmatrix',\n",
              " 'asscalar',\n",
              " 'atleast_1d',\n",
              " 'atleast_2d',\n",
              " 'atleast_3d',\n",
              " 'average',\n",
              " 'bartlett',\n",
              " 'base_repr',\n",
              " 'binary_repr',\n",
              " 'bincount',\n",
              " 'bitwise_and',\n",
              " 'bitwise_not',\n",
              " 'bitwise_or',\n",
              " 'bitwise_xor',\n",
              " 'blackman',\n",
              " 'block',\n",
              " 'bmat',\n",
              " 'bool8',\n",
              " 'bool_',\n",
              " 'broadcast',\n",
              " 'broadcast_arrays',\n",
              " 'broadcast_shapes',\n",
              " 'broadcast_to',\n",
              " 'busday_count',\n",
              " 'busday_offset',\n",
              " 'busdaycalendar',\n",
              " 'byte',\n",
              " 'byte_bounds',\n",
              " 'bytes0',\n",
              " 'bytes_',\n",
              " 'c_',\n",
              " 'can_cast',\n",
              " 'cast',\n",
              " 'cbrt',\n",
              " 'cdouble',\n",
              " 'ceil',\n",
              " 'cfloat',\n",
              " 'char',\n",
              " 'character',\n",
              " 'chararray',\n",
              " 'choose',\n",
              " 'clip',\n",
              " 'clongdouble',\n",
              " 'clongfloat',\n",
              " 'column_stack',\n",
              " 'common_type',\n",
              " 'compare_chararrays',\n",
              " 'compat',\n",
              " 'complex128',\n",
              " 'complex256',\n",
              " 'complex64',\n",
              " 'complex_',\n",
              " 'complexfloating',\n",
              " 'compress',\n",
              " 'concatenate',\n",
              " 'conj',\n",
              " 'conjugate',\n",
              " 'convolve',\n",
              " 'copy',\n",
              " 'copysign',\n",
              " 'copyto',\n",
              " 'core',\n",
              " 'corrcoef',\n",
              " 'correlate',\n",
              " 'cos',\n",
              " 'cosh',\n",
              " 'count_nonzero',\n",
              " 'cov',\n",
              " 'cross',\n",
              " 'csingle',\n",
              " 'ctypeslib',\n",
              " 'cumprod',\n",
              " 'cumproduct',\n",
              " 'cumsum',\n",
              " 'datetime64',\n",
              " 'datetime_as_string',\n",
              " 'datetime_data',\n",
              " 'deg2rad',\n",
              " 'degrees',\n",
              " 'delete',\n",
              " 'deprecate',\n",
              " 'deprecate_with_doc',\n",
              " 'diag',\n",
              " 'diag_indices',\n",
              " 'diag_indices_from',\n",
              " 'diagflat',\n",
              " 'diagonal',\n",
              " 'diff',\n",
              " 'digitize',\n",
              " 'disp',\n",
              " 'divide',\n",
              " 'divmod',\n",
              " 'dot',\n",
              " 'double',\n",
              " 'dsplit',\n",
              " 'dstack',\n",
              " 'dtype',\n",
              " 'e',\n",
              " 'ediff1d',\n",
              " 'einsum',\n",
              " 'einsum_path',\n",
              " 'emath',\n",
              " 'empty',\n",
              " 'empty_like',\n",
              " 'equal',\n",
              " 'errstate',\n",
              " 'euler_gamma',\n",
              " 'exp',\n",
              " 'exp2',\n",
              " 'expand_dims',\n",
              " 'expm1',\n",
              " 'extract',\n",
              " 'eye',\n",
              " 'fabs',\n",
              " 'fastCopyAndTranspose',\n",
              " 'fft',\n",
              " 'fill_diagonal',\n",
              " 'find_common_type',\n",
              " 'finfo',\n",
              " 'fix',\n",
              " 'flatiter',\n",
              " 'flatnonzero',\n",
              " 'flexible',\n",
              " 'flip',\n",
              " 'fliplr',\n",
              " 'flipud',\n",
              " 'float128',\n",
              " 'float16',\n",
              " 'float32',\n",
              " 'float64',\n",
              " 'float_',\n",
              " 'float_power',\n",
              " 'floating',\n",
              " 'floor',\n",
              " 'floor_divide',\n",
              " 'fmax',\n",
              " 'fmin',\n",
              " 'fmod',\n",
              " 'format_float_positional',\n",
              " 'format_float_scientific',\n",
              " 'format_parser',\n",
              " 'frexp',\n",
              " 'frombuffer',\n",
              " 'fromfile',\n",
              " 'fromfunction',\n",
              " 'fromiter',\n",
              " 'frompyfunc',\n",
              " 'fromregex',\n",
              " 'fromstring',\n",
              " 'full',\n",
              " 'full_like',\n",
              " 'gcd',\n",
              " 'generic',\n",
              " 'genfromtxt',\n",
              " 'geomspace',\n",
              " 'get_array_wrap',\n",
              " 'get_include',\n",
              " 'get_printoptions',\n",
              " 'getbufsize',\n",
              " 'geterr',\n",
              " 'geterrcall',\n",
              " 'geterrobj',\n",
              " 'gradient',\n",
              " 'greater',\n",
              " 'greater_equal',\n",
              " 'half',\n",
              " 'hamming',\n",
              " 'hanning',\n",
              " 'heaviside',\n",
              " 'histogram',\n",
              " 'histogram2d',\n",
              " 'histogram_bin_edges',\n",
              " 'histogramdd',\n",
              " 'hsplit',\n",
              " 'hstack',\n",
              " 'hypot',\n",
              " 'i0',\n",
              " 'identity',\n",
              " 'iinfo',\n",
              " 'imag',\n",
              " 'in1d',\n",
              " 'index_exp',\n",
              " 'indices',\n",
              " 'inexact',\n",
              " 'inf',\n",
              " 'info',\n",
              " 'infty',\n",
              " 'inner',\n",
              " 'insert',\n",
              " 'int0',\n",
              " 'int16',\n",
              " 'int32',\n",
              " 'int64',\n",
              " 'int8',\n",
              " 'int_',\n",
              " 'intc',\n",
              " 'integer',\n",
              " 'interp',\n",
              " 'intersect1d',\n",
              " 'intp',\n",
              " 'invert',\n",
              " 'is_busday',\n",
              " 'isclose',\n",
              " 'iscomplex',\n",
              " 'iscomplexobj',\n",
              " 'isfinite',\n",
              " 'isfortran',\n",
              " 'isin',\n",
              " 'isinf',\n",
              " 'isnan',\n",
              " 'isnat',\n",
              " 'isneginf',\n",
              " 'isposinf',\n",
              " 'isreal',\n",
              " 'isrealobj',\n",
              " 'isscalar',\n",
              " 'issctype',\n",
              " 'issubclass_',\n",
              " 'issubdtype',\n",
              " 'issubsctype',\n",
              " 'iterable',\n",
              " 'ix_',\n",
              " 'kaiser',\n",
              " 'kernel_version',\n",
              " 'kron',\n",
              " 'lcm',\n",
              " 'ldexp',\n",
              " 'left_shift',\n",
              " 'less',\n",
              " 'less_equal',\n",
              " 'lexsort',\n",
              " 'lib',\n",
              " 'linalg',\n",
              " 'linspace',\n",
              " 'little_endian',\n",
              " 'load',\n",
              " 'loadtxt',\n",
              " 'log',\n",
              " 'log10',\n",
              " 'log1p',\n",
              " 'log2',\n",
              " 'logaddexp',\n",
              " 'logaddexp2',\n",
              " 'logical_and',\n",
              " 'logical_not',\n",
              " 'logical_or',\n",
              " 'logical_xor',\n",
              " 'logspace',\n",
              " 'longcomplex',\n",
              " 'longdouble',\n",
              " 'longfloat',\n",
              " 'longlong',\n",
              " 'lookfor',\n",
              " 'ma',\n",
              " 'mask_indices',\n",
              " 'mat',\n",
              " 'math',\n",
              " 'matmul',\n",
              " 'matrix',\n",
              " 'matrixlib',\n",
              " 'max',\n",
              " 'maximum',\n",
              " 'maximum_sctype',\n",
              " 'may_share_memory',\n",
              " 'mean',\n",
              " 'median',\n",
              " 'memmap',\n",
              " 'meshgrid',\n",
              " 'mgrid',\n",
              " 'min',\n",
              " 'min_scalar_type',\n",
              " 'minimum',\n",
              " 'mintypecode',\n",
              " 'mod',\n",
              " 'modf',\n",
              " 'moveaxis',\n",
              " 'msort',\n",
              " 'multiply',\n",
              " 'nan',\n",
              " 'nan_to_num',\n",
              " 'nanargmax',\n",
              " 'nanargmin',\n",
              " 'nancumprod',\n",
              " 'nancumsum',\n",
              " 'nanmax',\n",
              " 'nanmean',\n",
              " 'nanmedian',\n",
              " 'nanmin',\n",
              " 'nanpercentile',\n",
              " 'nanprod',\n",
              " 'nanquantile',\n",
              " 'nanstd',\n",
              " 'nansum',\n",
              " 'nanvar',\n",
              " 'nbytes',\n",
              " 'ndarray',\n",
              " 'ndenumerate',\n",
              " 'ndim',\n",
              " 'ndindex',\n",
              " 'nditer',\n",
              " 'negative',\n",
              " 'nested_iters',\n",
              " 'newaxis',\n",
              " 'nextafter',\n",
              " 'nonzero',\n",
              " 'not_equal',\n",
              " 'numarray',\n",
              " 'number',\n",
              " 'obj2sctype',\n",
              " 'object0',\n",
              " 'object_',\n",
              " 'ogrid',\n",
              " 'oldnumeric',\n",
              " 'ones',\n",
              " 'ones_like',\n",
              " 'os',\n",
              " 'outer',\n",
              " 'packbits',\n",
              " 'pad',\n",
              " 'partition',\n",
              " 'percentile',\n",
              " 'pi',\n",
              " 'piecewise',\n",
              " 'place',\n",
              " 'poly',\n",
              " 'poly1d',\n",
              " 'polyadd',\n",
              " 'polyder',\n",
              " 'polydiv',\n",
              " 'polyfit',\n",
              " 'polyint',\n",
              " 'polymul',\n",
              " 'polynomial',\n",
              " 'polysub',\n",
              " 'polyval',\n",
              " 'positive',\n",
              " 'power',\n",
              " 'printoptions',\n",
              " 'prod',\n",
              " 'product',\n",
              " 'promote_types',\n",
              " 'ptp',\n",
              " 'put',\n",
              " 'put_along_axis',\n",
              " 'putmask',\n",
              " 'quantile',\n",
              " 'r_',\n",
              " 'rad2deg',\n",
              " 'radians',\n",
              " 'random',\n",
              " 'ravel',\n",
              " 'ravel_multi_index',\n",
              " 'real',\n",
              " 'real_if_close',\n",
              " 'rec',\n",
              " 'recarray',\n",
              " 'recfromcsv',\n",
              " 'recfromtxt',\n",
              " 'reciprocal',\n",
              " 'record',\n",
              " 'remainder',\n",
              " 'repeat',\n",
              " 'require',\n",
              " 'reshape',\n",
              " 'resize',\n",
              " 'result_type',\n",
              " 'right_shift',\n",
              " 'rint',\n",
              " 'roll',\n",
              " 'rollaxis',\n",
              " 'roots',\n",
              " 'rot90',\n",
              " 'round',\n",
              " 'round_',\n",
              " 'row_stack',\n",
              " 's_',\n",
              " 'safe_eval',\n",
              " 'save',\n",
              " 'savetxt',\n",
              " 'savez',\n",
              " 'savez_compressed',\n",
              " 'sctype2char',\n",
              " 'sctypeDict',\n",
              " 'sctypes',\n",
              " 'searchsorted',\n",
              " 'select',\n",
              " 'set_numeric_ops',\n",
              " 'set_printoptions',\n",
              " 'set_string_function',\n",
              " 'setbufsize',\n",
              " 'setdiff1d',\n",
              " 'seterr',\n",
              " 'seterrcall',\n",
              " 'seterrobj',\n",
              " 'setxor1d',\n",
              " 'shape',\n",
              " 'shares_memory',\n",
              " 'short',\n",
              " 'show_config',\n",
              " 'sign',\n",
              " 'signbit',\n",
              " 'signedinteger',\n",
              " 'sin',\n",
              " 'sinc',\n",
              " 'single',\n",
              " 'singlecomplex',\n",
              " 'sinh',\n",
              " 'size',\n",
              " 'sometrue',\n",
              " 'sort',\n",
              " 'sort_complex',\n",
              " 'source',\n",
              " 'spacing',\n",
              " 'split',\n",
              " 'sqrt',\n",
              " 'square',\n",
              " 'squeeze',\n",
              " 'stack',\n",
              " 'std',\n",
              " 'str0',\n",
              " 'str_',\n",
              " 'string_',\n",
              " 'subtract',\n",
              " 'sum',\n",
              " 'swapaxes',\n",
              " 'sys',\n",
              " 'take',\n",
              " 'take_along_axis',\n",
              " 'tan',\n",
              " 'tanh',\n",
              " 'tensordot',\n",
              " 'test',\n",
              " 'testing',\n",
              " 'tile',\n",
              " 'timedelta64',\n",
              " 'trace',\n",
              " 'tracemalloc_domain',\n",
              " 'transpose',\n",
              " 'trapz',\n",
              " 'tri',\n",
              " 'tril',\n",
              " 'tril_indices',\n",
              " 'tril_indices_from',\n",
              " 'trim_zeros',\n",
              " 'triu',\n",
              " 'triu_indices',\n",
              " 'triu_indices_from',\n",
              " 'true_divide',\n",
              " 'trunc',\n",
              " 'typecodes',\n",
              " 'typename',\n",
              " 'ubyte',\n",
              " 'ufunc',\n",
              " 'uint',\n",
              " 'uint0',\n",
              " 'uint16',\n",
              " 'uint32',\n",
              " 'uint64',\n",
              " 'uint8',\n",
              " 'uintc',\n",
              " 'uintp',\n",
              " 'ulonglong',\n",
              " 'unicode_',\n",
              " 'union1d',\n",
              " 'unique',\n",
              " 'unpackbits',\n",
              " 'unravel_index',\n",
              " 'unsignedinteger',\n",
              " 'unwrap',\n",
              " 'use_hugepage',\n",
              " 'ushort',\n",
              " 'vander',\n",
              " 'var',\n",
              " 'vdot',\n",
              " 'vectorize',\n",
              " 'version',\n",
              " 'void',\n",
              " 'void0',\n",
              " 'vsplit',\n",
              " 'vstack',\n",
              " 'warnings',\n",
              " 'where',\n",
              " 'who',\n",
              " 'zeros',\n",
              " 'zeros_like']"
            ]
          },
          "metadata": {},
          "execution_count": 88
        }
      ]
    },
    {
      "cell_type": "markdown",
      "source": [
        "Extra: Qual a diferença entre um pacote e um módulo em Python?\n",
        "\n",
        "\n",
        "\n",
        "> \"Um módulo é um arquivo com a extensão .py contendo um script Python. O pacote é a maneira de manter os nomes desses módulos separados, usando a “notação ponto”, ou seja, <pacote>.<módulo>. Essa notação é usada internamente pelo Python para separar os módulos em “espaços de nomes” diferentes, mas para o sistema operacional, o pacote é apenas o diretório que contém os arquivos .py de cada módulo.\"\n",
        "\n",
        "*fonte: https://vaiprogramar.com/qual-a-diferenca-modulo-pacote-python/*\n",
        "\n",
        "\n",
        "Ou seja...\n",
        "Qualquer arquivo Python pode ser um módulo; um pacote é uma organização lógica de módulos em um dado diretório.\n",
        "O arquivo que transformará o diretório em um pacote se chama **__init__.py**"
      ],
      "metadata": {
        "id": "to2cxSwvNYv-"
      }
    },
    {
      "cell_type": "code",
      "source": [
        "# Importando o pacote numpy e dando um \"apelido\" para ele\n",
        "import numpy as np"
      ],
      "metadata": {
        "id": "AKQZR3Y0NLUX"
      },
      "execution_count": 89,
      "outputs": []
    },
    {
      "cell_type": "code",
      "source": [
        "# Alguns pacotes famosos e seus apelidos: np, plt, pd, sns\n",
        "import numpy             as np\n",
        "import matplotlib.pyplot as plt\n",
        "import pandas            as pd\n",
        "import seaborn           as sns"
      ],
      "metadata": {
        "id": "LzfN_-9FOnvO"
      },
      "execution_count": 90,
      "outputs": []
    },
    {
      "cell_type": "code",
      "source": [
        "# Utilizando o comando ! para acessar o terminal (descomente o código e veja o que acontece)\n",
        "!pip install numpy"
      ],
      "metadata": {
        "id": "k9n3Ib3BQULe",
        "colab": {
          "base_uri": "https://localhost:8080/"
        },
        "outputId": "33eede39-7204-4fe7-da7a-09f30540a5f7"
      },
      "execution_count": 91,
      "outputs": [
        {
          "output_type": "stream",
          "name": "stdout",
          "text": [
            "Looking in indexes: https://pypi.org/simple, https://us-python.pkg.dev/colab-wheels/public/simple/\n",
            "Requirement already satisfied: numpy in /usr/local/lib/python3.10/dist-packages (1.22.4)\n"
          ]
        }
      ]
    },
    {
      "cell_type": "markdown",
      "source": [
        "## Programação Funcional"
      ],
      "metadata": {
        "id": "rcygOcRxuzjh"
      }
    },
    {
      "cell_type": "markdown",
      "source": [
        "Python conta com um recurso interessante para melhorar a eficiência de se aplicar funções em sequências, chamada de programação funcional.<br>\n",
        "Pode-se acessar essa \"funcional\" pelo comando: <br>\n",
        "`funcao_funcional(funcao_utilizada, sequencia_ou_iterador)`\n",
        "\n",
        "Alguns dos exemplos mais famosos são as funcionais:\n",
        "- map: retorna um objeto do tipo \"map\" do resultado da aplicação da função escolhida para os elementos da sequência\n",
        "- filter: retorna um objeto do tipo \"filter\" com um filtro aplicado (condição verdadeira) para a sequência de elementos\n",
        "- reduce: aplica a função realizando um acumulado dos elementos (diferente das duas acimas, ela necessita ser importada pelo modulo functools)"
      ],
      "metadata": {
        "id": "v0cCraUpdiZ5"
      }
    },
    {
      "cell_type": "markdown",
      "source": [
        "**Funcional map()**"
      ],
      "metadata": {
        "id": "CGJ8krttkwMG"
      }
    },
    {
      "cell_type": "code",
      "source": [
        "# Criando uma lista qualquer\n",
        "lst_auxiliar = [1,2,3,4,5,6,7,8,9,10]\n",
        "\n",
        "# Criando uma função qualquer para ser utilizada\n",
        "def par_ou_impar(elemento):\n",
        "  if (elemento % 2) == 0:\n",
        "    return 'par'\n",
        "  else:\n",
        "    return 'impar'\n",
        "\n",
        "# Aplicando a função criada na lista auxiliar utilizando o .map(funcao, iterador)\n",
        "lst_modificada = map(par_ou_impar, lst_auxiliar)\n",
        "print(lst_modificada)\n",
        "\n",
        "# Porém, o resultado foi um objeto do tipo map; para vermos o resultado precisamos transformá-lo em lista\n",
        "print(list(lst_modificada))"
      ],
      "metadata": {
        "id": "nfzP5S1jikpk",
        "colab": {
          "base_uri": "https://localhost:8080/"
        },
        "outputId": "5e8d6a74-62dd-4379-b0bf-640716cda6fc"
      },
      "execution_count": 92,
      "outputs": [
        {
          "output_type": "stream",
          "name": "stdout",
          "text": [
            "<map object at 0x7fa450af86d0>\n",
            "['impar', 'par', 'impar', 'par', 'impar', 'par', 'impar', 'par', 'impar', 'par']\n"
          ]
        }
      ]
    },
    {
      "cell_type": "code",
      "source": [
        "# O mesmo código acima utilizando lambda\n",
        "lst_auxiliar = [1,2,3,4,5,6,7,8,9,10]\n",
        "\n",
        "lst_modificada = list(map(lambda x:'par' if x % 2 == 0 else 'impar', lst_auxiliar))\n",
        "print(lst_modificada)"
      ],
      "metadata": {
        "id": "qBY61t4YkJ2e",
        "colab": {
          "base_uri": "https://localhost:8080/"
        },
        "outputId": "86f5635e-b7a2-4d49-f0b1-4c10053cc528"
      },
      "execution_count": 93,
      "outputs": [
        {
          "output_type": "stream",
          "name": "stdout",
          "text": [
            "['impar', 'par', 'impar', 'par', 'impar', 'par', 'impar', 'par', 'impar', 'par']\n"
          ]
        }
      ]
    },
    {
      "cell_type": "markdown",
      "source": [
        "**Funcional filter()**"
      ],
      "metadata": {
        "id": "8QbPZtRkkyHC"
      }
    },
    {
      "cell_type": "code",
      "source": [
        "# Filtrando a lista auxiliar para retornar apenas os valores múltiplos de 3\n",
        "lst_auxiliar = [1,2,3,4,5,6,7,8,9,10]\n",
        "\n",
        "lst_modificada = list(filter(lambda x: x % 3 == 0, lst_auxiliar))\n",
        "print(lst_modificada)"
      ],
      "metadata": {
        "id": "V2vr5Et9kurc",
        "colab": {
          "base_uri": "https://localhost:8080/"
        },
        "outputId": "fcb86c29-79b4-4858-8ff2-111624fade23"
      },
      "execution_count": 94,
      "outputs": [
        {
          "output_type": "stream",
          "name": "stdout",
          "text": [
            "[3, 6, 9]\n"
          ]
        }
      ]
    },
    {
      "cell_type": "markdown",
      "source": [
        "**Funcional reduce()**"
      ],
      "metadata": {
        "id": "6PFNTPFTk0rP"
      }
    },
    {
      "cell_type": "code",
      "source": [
        "# Importando a funçao reduce\n",
        "from functools import reduce\n",
        "\n",
        "# Fazendo um acumulado de 0 ao 100\n",
        "lst_auxiliar = list(range(1, 101))\n",
        "\n",
        "lst_reduzida = reduce(lambda x,y: x+y, lst_auxiliar)\n",
        "\n",
        "print(lst_reduzida) \n",
        "\n",
        "# Curiosidade: neste exemplo realizamos a soma de Gauss"
      ],
      "metadata": {
        "id": "BHX0SEETltQp",
        "colab": {
          "base_uri": "https://localhost:8080/"
        },
        "outputId": "7a1857a3-12e5-4a7a-e7fb-10f19383bfc0"
      },
      "execution_count": 95,
      "outputs": [
        {
          "output_type": "stream",
          "name": "stdout",
          "text": [
            "5050\n"
          ]
        }
      ]
    },
    {
      "cell_type": "markdown",
      "source": [
        "___\n",
        "\n",
        "**Exercícios funcionais**\n",
        "\n",
        "___"
      ],
      "metadata": {
        "id": "WLMS487Gm4mI"
      }
    },
    {
      "cell_type": "markdown",
      "source": [
        "1) Dada uma lista [1,2,3,4,5,6,7,8,9,10], utilize a funcional **filter** para retornar os números cujo dobro sejam menores que 12.<br>\n",
        "Exemplo:<br>\n",
        "Dado o número 1, seu dobro é 2, logo menor que 12 ✅ <Br>\n",
        "Dado o número 6, seu dobro é 12, logo não é menor que 12 ❌"
      ],
      "metadata": {
        "id": "xc6F6au9nFDJ"
      }
    },
    {
      "cell_type": "code",
      "source": [
        "lst_auxiliar = list(range(1,11))\n",
        "\n",
        "# Resolva em uma linha\n",
        "lst_modificada = list(filter(lambda x:x*2 < 12, lst_auxiliar))\n",
        "\n",
        "print(lst_modificada)"
      ],
      "metadata": {
        "id": "HPr2sZaloAMP",
        "colab": {
          "base_uri": "https://localhost:8080/"
        },
        "outputId": "a00b0afe-1a3b-4492-f56a-56554b44bd1e"
      },
      "execution_count": 96,
      "outputs": [
        {
          "output_type": "stream",
          "name": "stdout",
          "text": [
            "[1, 2, 3, 4, 5]\n"
          ]
        }
      ]
    },
    {
      "cell_type": "markdown",
      "source": [
        "2) Aplique a função para retirar os espaços laterais de todos os elementos da lista.<br>\n",
        "**Dica**: Utilize a função strip() juntamente da funcional map() e lambda()"
      ],
      "metadata": {
        "id": "kxGzgMmsopAB"
      }
    },
    {
      "cell_type": "code",
      "source": [
        "lst_auxiliar = ['   Matheus Carvalo', 'Janaina Oliveira  ', 'Paulo Cesar', '  Geraldo Osvaldo ']\n",
        "\n",
        "# Resolva em uma linha\n",
        "lst_corrigida_2  = list(map(lambda nome:nome.strip(), lst_auxiliar))\n",
        "print(lst_corrigida_2)"
      ],
      "metadata": {
        "id": "L_UbptZ-pCfC",
        "colab": {
          "base_uri": "https://localhost:8080/"
        },
        "outputId": "9d70f61d-b0e2-45a0-86a0-3f0b84e3c9c8"
      },
      "execution_count": 97,
      "outputs": [
        {
          "output_type": "stream",
          "name": "stdout",
          "text": [
            "['Matheus Carvalo', 'Janaina Oliveira', 'Paulo Cesar', 'Geraldo Osvaldo']\n"
          ]
        }
      ]
    },
    {
      "cell_type": "markdown",
      "source": [
        "3) Some os números múltiplos de 3 começando em 1 e terminando em 100: [3+6+9+12+...+99].\n",
        "\n",
        "Ex.<br>\n",
        "Entrada: 1,2,3,4,5,6,7,8,9 <br>\n",
        "Saída: 18   --> 3 + 6 + 9  <br>"
      ],
      "metadata": {
        "id": "pMNP7MkDub0k"
      }
    },
    {
      "cell_type": "code",
      "source": [
        "# Resolva em uma linha\n",
        "from functools import reduce\n",
        "lst_aux = list(range(1,101))\n",
        "\n",
        "lst_soma_3 = reduce(lambda x,y: x+y, filter(lambda x: x % 3 == 0, lst_aux))\n",
        "\n",
        "print(lst_soma_3)"
      ],
      "metadata": {
        "id": "KTQVX4v-uv5v",
        "colab": {
          "base_uri": "https://localhost:8080/"
        },
        "outputId": "73e82e96-55b8-438e-d1d7-900bc0313ba0"
      },
      "execution_count": 98,
      "outputs": [
        {
          "output_type": "stream",
          "name": "stdout",
          "text": [
            "1683\n"
          ]
        }
      ]
    },
    {
      "cell_type": "markdown",
      "source": [
        "4) Um certo clã do jogo World of Warcraft separava seus líderes colocando a nomenclatura LD ao final do nome.<br>\n",
        "Por exemplo, xXGeraldoXxLD significa que Geraldo é um lider.<br>\n",
        "Seguindo a lógica, OsvaldoHunter significa que o membro não é um líder.<br>\n",
        "Acontece que para o ano de 2022, o clã resolveu atualizar a nomenclatura de líder para futuramente incluir mais cargos, trocando a nomenclatura de 'LD' para 'LDG'.\n",
        "\n",
        "**Ajude a guilda** acrescentando a letra \"G\" ao final do nome dos atuais líderes e separando-os em uma nova lista\n",
        "\n",
        "Obs: **todo o código deve estar em uma linha**\n",
        "\n",
        "**Ex**: <br>\n",
        "Membros: GeraldoLD, Leandro, JanainaxxD, CaioLD <br>\n",
        "Lista resultado: GeraldoLDG, CaioLDG <Br>\n",
        "\n",
        "<img src=\"https://www.joyscribe.com/wp-content/uploads/2018/01/GAA.jpg\" width=50%>"
      ],
      "metadata": {
        "id": "IO5R9AG0pk8s"
      }
    },
    {
      "cell_type": "code",
      "source": [
        "membros = ['xXGeraldoXxLD', 'OsvaldoHunter', 'RichardGaviao', 'SilenceLD', 'Apocalyptico', 'LeeroyLD', 'Wakanda']\n",
        "\n",
        "# Resolva em UMA linha\n",
        "lst_atualizada = lst_atualizada = list(map(lambda x: x + 'G', filter(lambda nome: 'LD' in nome[-2:] , membros)))\n",
        "print(lst_atualizada)"
      ],
      "metadata": {
        "id": "z47_S-QCrIow",
        "colab": {
          "base_uri": "https://localhost:8080/"
        },
        "outputId": "a2908eb9-92fa-4334-be4f-4251f1ab93bc"
      },
      "execution_count": 99,
      "outputs": [
        {
          "output_type": "stream",
          "name": "stdout",
          "text": [
            "['xXGeraldoXxLDG', 'SilenceLDG', 'LeeroyLDG']\n"
          ]
        }
      ]
    },
    {
      "cell_type": "markdown",
      "source": [
        "## Trabalhando com arquivos"
      ],
      "metadata": {
        "id": "wO2Y9MhJu3OW"
      }
    },
    {
      "cell_type": "markdown",
      "source": [
        "Criando um arquivo mágico para efeitos didáticos no Google Colab: <br>\n",
        "Tudo que for escrito após o comando `%%writefile (nome do arquivo)` será salvo em um arquivo criado no notebook (ver aba \"arquivos\" à esquerda).\n"
      ],
      "metadata": {
        "id": "8k36S_1NyrjI"
      }
    },
    {
      "cell_type": "code",
      "source": [
        "%%writefile teste_aula.txt\n",
        "Olá pessoas,\n",
        "aqui estou mais um dia,\n",
        "sobre olhar"
      ],
      "metadata": {
        "id": "ib32w3sky2Pt",
        "outputId": "cf497727-4d8b-4dbf-8c60-dcf1dcb98d5e",
        "colab": {
          "base_uri": "https://localhost:8080/"
        }
      },
      "execution_count": 100,
      "outputs": [
        {
          "output_type": "stream",
          "name": "stdout",
          "text": [
            "Writing teste_aula.txt\n"
          ]
        }
      ]
    },
    {
      "cell_type": "markdown",
      "source": [
        "**Abertura** <Br>\n",
        "Ao tratarmos da abertura do arquivo, deveremos passar o parâmetro de permissão de abertura, sendo eles:\n",
        "\n",
        "- r: read (leitura)\n",
        "- w: write (escrita)\n",
        "- r+: leitura e escrita\n",
        "- a: faz um append à um arquivo existente\n",
        "\n",
        "Fazemos isso, por exemplo, para que não tenhamos o risco de alterar um arquivo ou darmos permissão para alguém alterar sem consentimento. "
      ],
      "metadata": {
        "id": "YaXBAhTxzVhQ"
      }
    },
    {
      "cell_type": "code",
      "source": [
        "# LENDO o arquivo criado com open()\n",
        "\n",
        "f = open( 'teste_aula.txt', 'r' )\n",
        "\n",
        "lines = f.readlines()\n",
        "print(lines)"
      ],
      "metadata": {
        "id": "zoGhWw1E0A8X",
        "outputId": "9ec555df-cc67-415b-e6f6-cceecd257cb7",
        "colab": {
          "base_uri": "https://localhost:8080/"
        }
      },
      "execution_count": 101,
      "outputs": [
        {
          "output_type": "stream",
          "name": "stdout",
          "text": [
            "['Olá pessoas,\\n', 'aqui estou mais um dia,\\n', 'sobre olhar\\n']\n"
          ]
        }
      ]
    },
    {
      "cell_type": "markdown",
      "source": [
        "Outros comandos úteis além do readlines()\n",
        "- readline(): lê uma linha específica\n",
        "- read(): Lê N bytes do arquivo"
      ],
      "metadata": {
        "id": "j70Lybjv02JL"
      }
    },
    {
      "cell_type": "code",
      "source": [
        "# Utilizando a forma mais comum de leitura em Python com o comando \"with\"\n",
        "\n",
        "with open('teste_aula.txt', 'r') as f:\n",
        "  print(f.readlines())"
      ],
      "metadata": {
        "id": "PhmoF1Nv1HMM",
        "outputId": "09f3c4e2-19a6-4ae3-a770-73c84583ca4a",
        "colab": {
          "base_uri": "https://localhost:8080/"
        }
      },
      "execution_count": 102,
      "outputs": [
        {
          "output_type": "stream",
          "name": "stdout",
          "text": [
            "['Olá pessoas,\\n', 'aqui estou mais um dia,\\n', 'sobre olhar\\n']\n"
          ]
        }
      ]
    },
    {
      "cell_type": "markdown",
      "source": [
        "**Escrita**"
      ],
      "metadata": {
        "id": "Cpdilp5_1uiO"
      }
    },
    {
      "cell_type": "code",
      "source": [
        "# ESCREVENDO a lista em um novo arquivo (repare no diretório após rodar o código)\n",
        "\n",
        "lst_palavras = ['amora ', 'abacate ', 'limao ']\n",
        "\n",
        "with open('teste_aula_02.txt', 'w') as f:\n",
        "  f.writelines(lst_palavras)\n",
        "\n",
        "with open('teste_aula_02.txt', 'r') as f:\n",
        "  print(f.readlines())"
      ],
      "metadata": {
        "id": "8XTnSlwt15Up",
        "outputId": "a5a6fb3c-88b6-48d7-ec13-9a5f14e34f7a",
        "colab": {
          "base_uri": "https://localhost:8080/"
        }
      },
      "execution_count": 103,
      "outputs": [
        {
          "output_type": "stream",
          "name": "stdout",
          "text": [
            "['amora abacate limao ']\n"
          ]
        }
      ]
    },
    {
      "cell_type": "code",
      "source": [
        "# Colocando uma nova fruta no arquivo anterior utilizando o f.write('mensagem') e parâmetro 'a'\n",
        "with open('teste_aula_02.txt', 'a' ) as f:\n",
        "  f.write('laranja')\n",
        "\n",
        "with open('teste_aula_02.txt', 'r') as f:\n",
        "  print( f.readlines() )"
      ],
      "metadata": {
        "id": "c_Gf9rYl1wQy",
        "outputId": "c818f4ca-3e8d-41a4-dda2-f8f081397f7c",
        "colab": {
          "base_uri": "https://localhost:8080/"
        }
      },
      "execution_count": 104,
      "outputs": [
        {
          "output_type": "stream",
          "name": "stdout",
          "text": [
            "['amora abacate limao laranja']\n"
          ]
        }
      ]
    },
    {
      "cell_type": "code",
      "source": [
        "# Comandos úteis\n",
        "%cd: navega até uma pasta\n",
        "!pwd: mostra o diretório atual\n",
        "!ls: lista os elementos do diretório atual\n",
        "!rm: remove um algum arquivo (-r)\n",
        "!unzip: unzipa um arquivo\n",
        "!zip: zipa um arquivo\n",
        "!mv: move um arquivo de uma pasta para outra\n",
        "!mkdir: criar um diretório\n",
        "!pip: instala uma biblioteca no ambiente"
      ],
      "metadata": {
        "id": "LYnjrInI4grZ",
        "outputId": "51ae7652-8c49-4728-e65a-999b4b467202",
        "colab": {
          "base_uri": "https://localhost:8080/"
        }
      },
      "execution_count": 105,
      "outputs": [
        {
          "output_type": "stream",
          "name": "stderr",
          "text": [
            "UsageError: Line magic function `%cd:` not found.\n"
          ]
        }
      ]
    },
    {
      "cell_type": "markdown",
      "source": [
        "<h4> Extra 2 </h4>\n",
        "\n",
        "[Como fechar arquivo em Python](https://www.tutorialspoint.com/python/file_close.htm#:~:text=Python%20file%20method%20close(),more%20than%20once%20is%20allowed.)"
      ],
      "metadata": {
        "id": "lte_MkSY5Lvl"
      }
    },
    {
      "cell_type": "markdown",
      "source": [
        "<h4> Extra 3 </h3>\n",
        "\n",
        "> Qual a diferença entre `f.writeline()` e `f.writelines()`\n",
        "\n",
        "[link exemplo](https://acervolima.com/diferenca-entre-as-funcoes-write-e-writelines-em-python/)\n",
        "\n",
        "Resumindo, a principal diferença entre f.write() e f.writelines() é que a primeira escreve uma string única, enquanto a segunda escreve uma lista de strings, sem inserir automaticamente qualquer separador entre elas."
      ],
      "metadata": {
        "id": "JBnyfh_V5Obv"
      }
    },
    {
      "cell_type": "markdown",
      "source": [
        "## Classes e objetos"
      ],
      "metadata": {
        "id": "TTFV7EaGu7Yl"
      }
    },
    {
      "cell_type": "markdown",
      "source": [
        "Um objeto conterá informações salvas nos **atributos** e poderá ser manifestado através de **funções**\n",
        "\n",
        "Resumo de classe:\n",
        "- é uma representação do mundo real, ou seja, um protótipo\n",
        "- uma boa prática é declará-la com a primeira letra em maiúsculo seguindo o estilo CamelCase\n",
        "- criada através do comando `class`\n",
        "- pode **herdar** características de uma outra superclasse\n",
        "\n",
        "Declarando uma classe:\n",
        "```python\n",
        "class Aluno():\n",
        "  # atributos\n",
        "  # construtores\n",
        "  # métodos\n",
        "```\n",
        "Onde:<br>\n",
        "Atributos:\n",
        "- Representa as características da classe\n",
        "- Caso seja um atributo de classe, funciona como uma variável no escopo de outras instâncias da classe\n",
        "- Caso seja um atributo de uma instância, funciona como uma variável local para a instância que o criou\n",
        "\n",
        "Métodos:\n",
        "- Representa o comportamento de uma classe\n",
        "\n",
        "Construtor da classe:\n",
        "- Utiliza-se o método `__init__`<br>\n",
        "Ex. <br>\n",
        "```python\n",
        "class Aluno:\n",
        "    def __init__(self, nome, sexo, idade, curso):  #self é obrigatório para se distinguir um método de classe\n",
        "        self.nome = nome\n",
        "        self.sexo = sexo\n",
        "        self.idade = idade\n",
        "        self.curso = curso\n",
        "```\n",
        "\n"
      ],
      "metadata": {
        "id": "cdbtaeV6nkvV"
      }
    },
    {
      "cell_type": "markdown",
      "source": [
        "Uma classe 'carro' pode gerar diversos objetos 'veículos' diferentes\n",
        "\n",
        "<img href=\"https://www.alura.com.br/artigos/assets/poo-programacao-orientada-a-objetos/class-analogy.png\" src=\"https://www.alura.com.br/artigos/assets/poo-programacao-orientada-a-objetos/class-analogy.png\" width=50%>\n",
        "\n",
        "*fonte-img: https://www.alura.com.br/artigos/assets/poo-programacao-orientada-a-objetos/class-analogy.png*"
      ],
      "metadata": {
        "id": "rck4is3ZQ0X9"
      }
    },
    {
      "cell_type": "code",
      "source": [
        "# Criando a class Aluno na prática\n",
        "\n",
        "class Aluno():\n",
        "  def __init__(self, nome, sexo, idade, curso):\n",
        "    self.nome = nome\n",
        "    self.sexo = sexo\n",
        "    self.idade = idade\n",
        "    self.curso = curso\n",
        "\n",
        "  def altera_idade(self, idade):\n",
        "    self.idade = idade\n",
        "    print('Idade alterada')\n",
        "\n",
        "  def __str__(self):\n",
        "    return ('Nome:' + str(self.nome) + '\\n'\n",
        "            'Sexo:' + str(self.sexo) + '\\n'\n",
        "            'Idade:' + str(self.idade) + '\\n'\n",
        "            'Curso:' + str(self.curso))\n",
        "    \n",
        "# --------------------------------------------------------------------------\n",
        "\n",
        "if __name__ == '__main__':\n",
        "  aluno1 = Aluno('Geraldo', 'Masculino', '20', 'Computação')\n",
        "  aluno1.altera_idade(22)\n",
        "\n",
        "print(aluno1)"
      ],
      "metadata": {
        "id": "-jSVe5ivnnRq",
        "outputId": "bde81f9d-db94-4905-8a79-5ab0b814c3b6",
        "colab": {
          "base_uri": "https://localhost:8080/"
        }
      },
      "execution_count": 106,
      "outputs": [
        {
          "output_type": "stream",
          "name": "stdout",
          "text": [
            "Idade alterada\n",
            "Nome:Geraldo\n",
            "Sexo:Masculino\n",
            "Idade:22\n",
            "Curso:Computação\n"
          ]
        }
      ]
    },
    {
      "cell_type": "markdown",
      "source": [
        "Lembrando que esta foi uma abordagem rápida sobre orientação a objetos por não ser o escopo da semana de seminários. <br>\n",
        "Recomendo a leitura sobre escopos Public, Private e Protected para melhorar a segurança do código.\n",
        "\n",
        "leitura extra: https://www.treinaweb.com.br/blog/orientacao-a-objetos-em-python"
      ],
      "metadata": {
        "id": "z9Yi_IHknodS"
      }
    },
    {
      "cell_type": "markdown",
      "source": [
        "# PARTE 02"
      ],
      "metadata": {
        "id": "G8-oINOzp3py"
      }
    },
    {
      "cell_type": "markdown",
      "source": [
        "## **Numpy**"
      ],
      "metadata": {
        "id": "INKYBYPFqFNO"
      }
    },
    {
      "cell_type": "markdown",
      "source": [
        "Numpy é um importante pacote da linguagem Python para operações matriciais onde as classes são escritas em sua maior em **LINGUAGEM C**, garantindo um processamento mais rápido. ✅\n",
        "\n",
        "Curiosidade: O nome Numpy vem de \"Python Numérico\" e é amplamente utilizado pela comunidade para se trabalhar com arrays, podendo aplicar funções matemáticas sem a necessidade de laços e até mesmo aplicar funções como transformadas de Fourier!\n",
        "\n",
        "Site de consulta numpy: https://numpy.org/"
      ],
      "metadata": {
        "id": "CEwjLW6DqG75"
      }
    },
    {
      "cell_type": "code",
      "source": [
        "# Realizando a importação do pacote numpy\n",
        "import numpy as np"
      ],
      "metadata": {
        "id": "AJD9uU7Xqjdp"
      },
      "execution_count": 107,
      "outputs": []
    },
    {
      "cell_type": "markdown",
      "source": [
        "Um dos motivos de sua eficiência é que sua estrutura de dados se baseia em **arrays**.\n",
        "\n",
        "O que são arrays?\n",
        "- Semelhante a sequência de lista, porém de tipo único (apenas int ou float para todos os elementos)\n",
        "- Cada dimensão é chamada de eixo\n",
        "  - Um array com 1 linha e 2 colunas possui as dimensões linha e coluna.\n",
        "  - Um array multidimensional poderia apresentar um eixo Z (...)\n",
        "  - Arrays são estruturas que são armazenas com indexação, ou seja, podemos encontrar o dados através de um index (código)"
      ],
      "metadata": {
        "id": "3-2U0WSnq6oT"
      }
    },
    {
      "cell_type": "code",
      "source": [
        "# Criando arrays através dos métodos numpy\n",
        "\n",
        "# Método 1: np.zeros((quantidade))\n",
        "array1 = np.zeros((10))\n",
        "print(array1)\n",
        "\n",
        "# Método 2: np.ones((quantidade))\n",
        "array2 = np.ones((10))\n",
        "print(array2)\n",
        "\n",
        "# Método 3: np.linspace(inicio, fim, intervalo)\n",
        "array3 = np.linspace(1, 20, 5)\n",
        "print(array3)\n",
        "\n",
        "# Método 4: np.arange(quantidade)\n",
        "array4 = np.arange(15)\n",
        "print(array4)\n",
        "\n",
        "print(type(array4))\n"
      ],
      "metadata": {
        "id": "p7sveCxWr12h",
        "outputId": "48a4c252-f7d9-4a09-9467-1a773c83ac90",
        "colab": {
          "base_uri": "https://localhost:8080/"
        }
      },
      "execution_count": 108,
      "outputs": [
        {
          "output_type": "stream",
          "name": "stdout",
          "text": [
            "[0. 0. 0. 0. 0. 0. 0. 0. 0. 0.]\n",
            "[1. 1. 1. 1. 1. 1. 1. 1. 1. 1.]\n",
            "[ 1.    5.75 10.5  15.25 20.  ]\n",
            "[ 0  1  2  3  4  5  6  7  8  9 10 11 12 13 14]\n",
            "<class 'numpy.ndarray'>\n"
          ]
        }
      ]
    },
    {
      "cell_type": "code",
      "source": [
        "# Convertendo uma lista para um numpy array com o np.array(lista)\n",
        "\n",
        "lst_auxiliar = [1,2,3,4,5]\n",
        "print('Antes: ', type(lst_auxiliar))\n",
        "\n",
        "lst_numpy = np.array(lst_auxiliar)\n",
        "print('Depois: ', type(lst_numpy))"
      ],
      "metadata": {
        "id": "spPQ5D7lsvGl",
        "outputId": "99844d3f-01ee-48d9-c193-69504fb5364f",
        "colab": {
          "base_uri": "https://localhost:8080/"
        }
      },
      "execution_count": 109,
      "outputs": [
        {
          "output_type": "stream",
          "name": "stdout",
          "text": [
            "Antes:  <class 'list'>\n",
            "Depois:  <class 'numpy.ndarray'>\n"
          ]
        }
      ]
    },
    {
      "cell_type": "code",
      "source": [
        "# Transformando uma lista em numpy pelo range()\n",
        "\n",
        "np.array(range(1, 10, 2))"
      ],
      "metadata": {
        "id": "sPlItoEmyggJ",
        "outputId": "e8c72dac-eb97-4eb5-bcc1-0e834abcc992",
        "colab": {
          "base_uri": "https://localhost:8080/"
        }
      },
      "execution_count": 110,
      "outputs": [
        {
          "output_type": "execute_result",
          "data": {
            "text/plain": [
              "array([1, 3, 5, 7, 9])"
            ]
          },
          "metadata": {},
          "execution_count": 110
        }
      ]
    },
    {
      "cell_type": "code",
      "source": [
        "# Arrays bidimensionais (mais usado)\n",
        "\n",
        "arr_zeros =  np.zeros((5,4)) # matriz 5 (linhas) por 4 (colunas)\n",
        "arr_zeros"
      ],
      "metadata": {
        "id": "c_y0l2IhtFKE",
        "outputId": "cf30ffdd-c776-4e0d-cfea-c3f96f4f2de8",
        "colab": {
          "base_uri": "https://localhost:8080/"
        }
      },
      "execution_count": 111,
      "outputs": [
        {
          "output_type": "execute_result",
          "data": {
            "text/plain": [
              "array([[0., 0., 0., 0.],\n",
              "       [0., 0., 0., 0.],\n",
              "       [0., 0., 0., 0.],\n",
              "       [0., 0., 0., 0.],\n",
              "       [0., 0., 0., 0.]])"
            ]
          },
          "metadata": {},
          "execution_count": 111
        }
      ]
    },
    {
      "cell_type": "code",
      "source": [
        "# Criando um array bidimensional utilizando o np.arange().reshape(())\n",
        "\n",
        "arr_aux = np.arange(20).reshape(5,4)\n",
        "arr_aux"
      ],
      "metadata": {
        "id": "1xp8PQ6ftddf",
        "outputId": "be95d42f-9121-458e-fcea-ae83cc45c485",
        "colab": {
          "base_uri": "https://localhost:8080/"
        }
      },
      "execution_count": 112,
      "outputs": [
        {
          "output_type": "execute_result",
          "data": {
            "text/plain": [
              "array([[ 0,  1,  2,  3],\n",
              "       [ 4,  5,  6,  7],\n",
              "       [ 8,  9, 10, 11],\n",
              "       [12, 13, 14, 15],\n",
              "       [16, 17, 18, 19]])"
            ]
          },
          "metadata": {},
          "execution_count": 112
        }
      ]
    },
    {
      "cell_type": "markdown",
      "source": [
        "Podemos utilizar alguns métodos para realizar consultas no array, como os que se encontram em: https://numpy.org/doc/stable/reference/generated/numpy.ndarray.html"
      ],
      "metadata": {
        "id": "7vU_2d05uMw3"
      }
    },
    {
      "cell_type": "code",
      "source": [
        "# Ex. procurando quantas dimensões tem o array com nome_array.ndim\n",
        "\n",
        "arr_zeros = np.zeros((5,4))\n",
        "\n",
        "arr_zeros.ndim # ndim = 'number of dimensions"
      ],
      "metadata": {
        "id": "_fFkOmint4ow",
        "outputId": "631a6177-4912-400c-d6b5-9d038f5de5ef",
        "colab": {
          "base_uri": "https://localhost:8080/"
        }
      },
      "execution_count": 113,
      "outputs": [
        {
          "output_type": "execute_result",
          "data": {
            "text/plain": [
              "2"
            ]
          },
          "metadata": {},
          "execution_count": 113
        }
      ]
    },
    {
      "cell_type": "code",
      "source": [
        "# Procurando o parâmetro .mean() no site do numpy\n",
        "# https://numpy.org/doc/stable/reference/generated/numpy.mean.html\n",
        "\n",
        "array_aux = np.arange(10)\n",
        "\n",
        "# calculando a média do array\n",
        "np.mean(array_aux)"
      ],
      "metadata": {
        "id": "E-9GBN8MuyKq",
        "outputId": "1f2a812e-59f2-41ce-9b7c-7c790255f470",
        "colab": {
          "base_uri": "https://localhost:8080/"
        }
      },
      "execution_count": 114,
      "outputs": [
        {
          "output_type": "execute_result",
          "data": {
            "text/plain": [
              "4.5"
            ]
          },
          "metadata": {},
          "execution_count": 114
        }
      ]
    },
    {
      "cell_type": "code",
      "source": [
        "# Acessando elementos de um array\n",
        "\n",
        "array_aux = np.arange(20).reshape(5,4)\n",
        "\n",
        "print('array')\n",
        "print(array_aux)\n",
        "print('-'*80)\n",
        "\n",
        "# Acessando a primeira linha pelo índice array[0]\n",
        "print('array[0]')\n",
        "print(array_aux[0])\n",
        "print('-'*80)\n",
        "\n",
        "# Acessando o elemento da linha 4 e coluna 3 com array[3,2]\n",
        "print('array[3,2]')\n",
        "print(array_aux[3,2])"
      ],
      "metadata": {
        "id": "iE4kMJESvJKr",
        "outputId": "b214c287-b4c1-4a1f-fc8a-8e75b6233496",
        "colab": {
          "base_uri": "https://localhost:8080/"
        }
      },
      "execution_count": 115,
      "outputs": [
        {
          "output_type": "stream",
          "name": "stdout",
          "text": [
            "array\n",
            "[[ 0  1  2  3]\n",
            " [ 4  5  6  7]\n",
            " [ 8  9 10 11]\n",
            " [12 13 14 15]\n",
            " [16 17 18 19]]\n",
            "--------------------------------------------------------------------------------\n",
            "array[0]\n",
            "[0 1 2 3]\n",
            "--------------------------------------------------------------------------------\n",
            "array[3,2]\n",
            "14\n"
          ]
        }
      ]
    },
    {
      "cell_type": "code",
      "source": [
        "# Percorrendo um array com o enumerate (\"enumera\" a iteração)\n",
        "# Extra: videoaula sobre enumerate (Hashtag Programação): https://www.youtube.com/watch?v=5IysC0Yjrrg&t=3s\n",
        "\n",
        "array_aux = np.arange(20).reshape(5,4)\n",
        "\n",
        "for linha, coluna in enumerate(array_aux):\n",
        "  print(f'{linha+1}ª Linha; Colunas: {coluna}')"
      ],
      "metadata": {
        "id": "cVh53Hu4yi3o",
        "outputId": "7eac5a24-89ea-4406-da2c-da884fb2e2e1",
        "colab": {
          "base_uri": "https://localhost:8080/"
        }
      },
      "execution_count": 116,
      "outputs": [
        {
          "output_type": "stream",
          "name": "stdout",
          "text": [
            "1ª Linha; Colunas: [0 1 2 3]\n",
            "2ª Linha; Colunas: [4 5 6 7]\n",
            "3ª Linha; Colunas: [ 8  9 10 11]\n",
            "4ª Linha; Colunas: [12 13 14 15]\n",
            "5ª Linha; Colunas: [16 17 18 19]\n"
          ]
        }
      ]
    },
    {
      "cell_type": "code",
      "source": [
        "# Laço aninhado para percorrer linha e coluna e retornar o elemento\n",
        "\n",
        "array_aux = np.random.randint(0, 10, 20, int).reshape(5,4) # criando um array aleatório com 20 (5x4) valores inteiros que variam de 0 a 10\n",
        "\n",
        "for linha, coluna in enumerate(array_aux):\n",
        "  for indice_coluna, valor in enumerate(coluna):\n",
        "    print(f'Posição: [{linha};{indice_coluna}], valor = {valor}')"
      ],
      "metadata": {
        "id": "gy1LK7tg0Q7B",
        "outputId": "7ae2707d-8356-4f7e-f4d9-95a764dda987",
        "colab": {
          "base_uri": "https://localhost:8080/"
        }
      },
      "execution_count": 117,
      "outputs": [
        {
          "output_type": "stream",
          "name": "stdout",
          "text": [
            "Posição: [0;0], valor = 2\n",
            "Posição: [0;1], valor = 3\n",
            "Posição: [0;2], valor = 5\n",
            "Posição: [0;3], valor = 4\n",
            "Posição: [1;0], valor = 6\n",
            "Posição: [1;1], valor = 9\n",
            "Posição: [1;2], valor = 1\n",
            "Posição: [1;3], valor = 9\n",
            "Posição: [2;0], valor = 9\n",
            "Posição: [2;1], valor = 7\n",
            "Posição: [2;2], valor = 9\n",
            "Posição: [2;3], valor = 8\n",
            "Posição: [3;0], valor = 3\n",
            "Posição: [3;1], valor = 6\n",
            "Posição: [3;2], valor = 1\n",
            "Posição: [3;3], valor = 9\n",
            "Posição: [4;0], valor = 2\n",
            "Posição: [4;1], valor = 4\n",
            "Posição: [4;2], valor = 0\n",
            "Posição: [4;3], valor = 1\n"
          ]
        }
      ]
    },
    {
      "cell_type": "code",
      "source": [
        "# Deixando um array flat com array.flat\n",
        "\n",
        "array_aux = np.ones((3,4))\n",
        "\n",
        "print(f'Array antes do flat:\\n {array_aux}')\n",
        "print('-'*40)\n",
        "print(f'Array depois do flat: {array_aux.flat}')\n",
        "\n",
        "# Precisamos transformar o array.flat em uma lista para entender o que aconteceu\n",
        "list(array_aux)"
      ],
      "metadata": {
        "id": "nbUPTqTm2C6c",
        "outputId": "c0c06684-ca2d-4071-9445-3dc02e352054",
        "colab": {
          "base_uri": "https://localhost:8080/"
        }
      },
      "execution_count": 118,
      "outputs": [
        {
          "output_type": "stream",
          "name": "stdout",
          "text": [
            "Array antes do flat:\n",
            " [[1. 1. 1. 1.]\n",
            " [1. 1. 1. 1.]\n",
            " [1. 1. 1. 1.]]\n",
            "----------------------------------------\n",
            "Array depois do flat: <numpy.flatiter object at 0x48f40e0>\n"
          ]
        },
        {
          "output_type": "execute_result",
          "data": {
            "text/plain": [
              "[array([1., 1., 1., 1.]), array([1., 1., 1., 1.]), array([1., 1., 1., 1.])]"
            ]
          },
          "metadata": {},
          "execution_count": 118
        }
      ]
    },
    {
      "cell_type": "markdown",
      "source": [
        "Percorrendo arrays criando **VIEWS** com **slicing**\n",
        "- Melhor eficiência do que o laço for ✅\n",
        "- Semelhante às sequências\n",
        "- Utilizamos uma vírgula para separar as dimensões\n",
        "  - ex. Em um array de 2 dimensões com 3 linhas e 4 colunas:\n",
        "  - `nome_array[:,:]` (lendo tudo)\n",
        "  - `nome_array[0:2,0:3]` (lendo as 3 primeiras linhas e 4 primeiras colunas)"
      ],
      "metadata": {
        "id": "w2UtG8oE3DSM"
      }
    },
    {
      "cell_type": "code",
      "source": [
        "# Criando um array qualquer\n",
        "array_aux = np.random.randint(0, 5, 20, int).reshape(4,5)\n",
        "array_aux"
      ],
      "metadata": {
        "id": "evgcUCqC3gdo",
        "outputId": "4d8d2253-2d8d-4faf-b503-50055522c91b",
        "colab": {
          "base_uri": "https://localhost:8080/"
        }
      },
      "execution_count": 119,
      "outputs": [
        {
          "output_type": "execute_result",
          "data": {
            "text/plain": [
              "array([[4, 1, 0, 3, 1],\n",
              "       [0, 0, 1, 2, 3],\n",
              "       [2, 0, 1, 0, 3],\n",
              "       [2, 1, 0, 0, 2]])"
            ]
          },
          "metadata": {},
          "execution_count": 119
        }
      ]
    },
    {
      "cell_type": "code",
      "source": [
        "# Percorrendo as linhas com array[linha,:]\n",
        "# Repare que se não for passado o argumento ':' ele pegará a linha toda\n",
        "\n",
        "# Buscando a terceira linha\n",
        "array_aux[2,:]"
      ],
      "metadata": {
        "id": "Q3FJnHtK4ON8",
        "outputId": "c358e7e4-0548-4072-e8d0-dbc64bebce1c",
        "colab": {
          "base_uri": "https://localhost:8080/"
        }
      },
      "execution_count": 120,
      "outputs": [
        {
          "output_type": "execute_result",
          "data": {
            "text/plain": [
              "array([2, 0, 1, 0, 3])"
            ]
          },
          "metadata": {},
          "execution_count": 120
        }
      ]
    },
    {
      "cell_type": "code",
      "source": [
        "# Percorrendo as linhas com array[:,coluna]\n",
        "# Repare que se não for passado o argumento ':' ele pegará a coluna toda\n",
        "\n",
        "# Buscando a quarta coluna\n",
        "array_aux[:,3]"
      ],
      "metadata": {
        "id": "lMtgGOEv4hBY",
        "outputId": "2eff6314-c8cd-4b49-ef77-7fee3453d750",
        "colab": {
          "base_uri": "https://localhost:8080/"
        }
      },
      "execution_count": 121,
      "outputs": [
        {
          "output_type": "execute_result",
          "data": {
            "text/plain": [
              "array([3, 2, 0, 0])"
            ]
          },
          "metadata": {},
          "execution_count": 121
        }
      ]
    },
    {
      "cell_type": "code",
      "source": [
        "# Escolhendo a partir de qual linha começar e quais colunas pegar\n",
        "\n",
        "# Começando da linha 3 e pegando as 2 últimas colunas\n",
        "array_aux[2:, -2:]"
      ],
      "metadata": {
        "id": "jDy9ulMR4y-A",
        "outputId": "ee439719-8d12-4881-971c-e0c0c8576aa1",
        "colab": {
          "base_uri": "https://localhost:8080/"
        }
      },
      "execution_count": 122,
      "outputs": [
        {
          "output_type": "execute_result",
          "data": {
            "text/plain": [
              "array([[0, 3],\n",
              "       [0, 2]])"
            ]
          },
          "metadata": {},
          "execution_count": 122
        }
      ]
    },
    {
      "cell_type": "code",
      "source": [
        "# Recuperando as colunas 1, 3 e 4 a partir da segunda linha\n",
        "array_aux[1:, [1,3,4]]"
      ],
      "metadata": {
        "id": "oiEtuNGJ5ZwE",
        "outputId": "2978f2c8-6d69-4be2-c15e-7cf30eed33d3",
        "colab": {
          "base_uri": "https://localhost:8080/"
        }
      },
      "execution_count": 123,
      "outputs": [
        {
          "output_type": "execute_result",
          "data": {
            "text/plain": [
              "array([[0, 2, 3],\n",
              "       [0, 0, 3],\n",
              "       [1, 0, 2]])"
            ]
          },
          "metadata": {},
          "execution_count": 123
        }
      ]
    },
    {
      "cell_type": "code",
      "source": [
        "# Porém... se passarmos 2 listas com array[ [lista_linhas], [lista_colunas] ] ... recuperamos 2 elementos que dão match com a coordenada\n",
        "array_aux[[1,2],[2,3]]"
      ],
      "metadata": {
        "id": "7CHnrxyj5ywN",
        "outputId": "c5767b19-7b9e-464f-bda4-1a512a9aff4a",
        "colab": {
          "base_uri": "https://localhost:8080/"
        }
      },
      "execution_count": 124,
      "outputs": [
        {
          "output_type": "execute_result",
          "data": {
            "text/plain": [
              "array([1, 0])"
            ]
          },
          "metadata": {},
          "execution_count": 124
        }
      ]
    },
    {
      "cell_type": "markdown",
      "source": [
        "**Exercícios de fixação**"
      ],
      "metadata": {
        "id": "ojMZYABf5UNK"
      }
    },
    {
      "cell_type": "markdown",
      "source": [
        "Dado o array a seguir, faça o que se pede"
      ],
      "metadata": {
        "id": "RUGGtJx-6Mon"
      }
    },
    {
      "cell_type": "code",
      "source": [
        "# Array dado\n",
        "array_aux = np.random.randint(0,5,20,int).reshape(4,5)\n",
        "array_aux"
      ],
      "metadata": {
        "id": "njfHnrk-8wmW",
        "outputId": "1f7777cb-676b-401d-fbbf-0604eec40ce1",
        "colab": {
          "base_uri": "https://localhost:8080/"
        }
      },
      "execution_count": 125,
      "outputs": [
        {
          "output_type": "execute_result",
          "data": {
            "text/plain": [
              "array([[1, 2, 0, 1, 0],\n",
              "       [4, 0, 3, 2, 4],\n",
              "       [2, 1, 4, 3, 1],\n",
              "       [0, 1, 3, 0, 4]])"
            ]
          },
          "metadata": {},
          "execution_count": 125
        }
      ]
    },
    {
      "cell_type": "code",
      "source": [
        "# Retorne as colunas 1, 3 e 4\n",
        "array_aux[:, [0,2,3]]"
      ],
      "metadata": {
        "id": "0fi8VX_S8Uwp",
        "outputId": "d65a6ba4-c74f-4564-ad70-7ef119f44720",
        "colab": {
          "base_uri": "https://localhost:8080/"
        }
      },
      "execution_count": 126,
      "outputs": [
        {
          "output_type": "execute_result",
          "data": {
            "text/plain": [
              "array([[1, 0, 1],\n",
              "       [4, 3, 2],\n",
              "       [2, 4, 3],\n",
              "       [0, 3, 0]])"
            ]
          },
          "metadata": {},
          "execution_count": 126
        }
      ]
    },
    {
      "cell_type": "code",
      "source": [
        "# Retorne as linhas 3 e 4\n",
        "array_aux[[2,3], :]"
      ],
      "metadata": {
        "id": "lR3-uICa875M",
        "outputId": "bb1f371c-4bc0-40e8-91e7-03c767ab0fd4",
        "colab": {
          "base_uri": "https://localhost:8080/"
        }
      },
      "execution_count": 127,
      "outputs": [
        {
          "output_type": "execute_result",
          "data": {
            "text/plain": [
              "array([[2, 1, 4, 3, 1],\n",
              "       [0, 1, 3, 0, 4]])"
            ]
          },
          "metadata": {},
          "execution_count": 127
        }
      ]
    },
    {
      "cell_type": "code",
      "source": [
        "# Retorne a partir da coluna 3 e a partir da linha 2\n",
        "array_aux[1:, 2:]\n"
      ],
      "metadata": {
        "id": "2jb1HpOL8-Yt",
        "outputId": "62fd5dc4-c218-421a-be46-ad7e1b17a40c",
        "colab": {
          "base_uri": "https://localhost:8080/"
        }
      },
      "execution_count": 128,
      "outputs": [
        {
          "output_type": "execute_result",
          "data": {
            "text/plain": [
              "array([[3, 2, 4],\n",
              "       [4, 3, 1],\n",
              "       [3, 0, 4]])"
            ]
          },
          "metadata": {},
          "execution_count": 128
        }
      ]
    },
    {
      "cell_type": "code",
      "source": [
        "# Retorne a primeira e última linha das 2 últimas colunas\n",
        "array_aux[[0,-1], -2:]"
      ],
      "metadata": {
        "id": "6tWinL3N9H4V",
        "outputId": "c1149e1d-f260-430e-cd7d-2ec91586aa1b",
        "colab": {
          "base_uri": "https://localhost:8080/"
        }
      },
      "execution_count": 129,
      "outputs": [
        {
          "output_type": "execute_result",
          "data": {
            "text/plain": [
              "array([[1, 0],\n",
              "       [0, 4]])"
            ]
          },
          "metadata": {},
          "execution_count": 129
        }
      ]
    },
    {
      "cell_type": "code",
      "source": [
        "# Retorne o elemento da primeira linha e primeira coluna e o elemento da segunda linha e quarta coluna\n",
        "array_aux[[0,1],[0,3]]"
      ],
      "metadata": {
        "id": "yxPSJR0I9UF2",
        "outputId": "f2267475-12f3-4021-8691-f7ae81cedefa",
        "colab": {
          "base_uri": "https://localhost:8080/"
        }
      },
      "execution_count": 130,
      "outputs": [
        {
          "output_type": "execute_result",
          "data": {
            "text/plain": [
              "array([1, 2])"
            ]
          },
          "metadata": {},
          "execution_count": 130
        }
      ]
    },
    {
      "cell_type": "markdown",
      "source": [
        " Métodos Ravel e Flatten"
      ],
      "metadata": {
        "id": "lHf-EfIS9qlL"
      }
    },
    {
      "cell_type": "code",
      "source": [
        "# Utilizando o ravel para transformar um array bidimensional em um array unidimensional com o array.ravel()\n",
        "array_aux = np.arange(12).reshape(4,3)\n",
        "\n",
        "array_aux.ravel()"
      ],
      "metadata": {
        "id": "_vnmPSij9tL2",
        "outputId": "bcc79625-9586-40f4-847f-b3dda2fb1f72",
        "colab": {
          "base_uri": "https://localhost:8080/"
        }
      },
      "execution_count": 131,
      "outputs": [
        {
          "output_type": "execute_result",
          "data": {
            "text/plain": [
              "array([ 0,  1,  2,  3,  4,  5,  6,  7,  8,  9, 10, 11])"
            ]
          },
          "metadata": {},
          "execution_count": 131
        }
      ]
    },
    {
      "cell_type": "code",
      "source": [
        "# Utilizando o flatten para transformar um array bidimensional em um array unidimensional com o array.flatten()\n",
        "array_aux = np.arange(12).reshape(4,3)\n",
        "\n",
        "array_aux.flatten()"
      ],
      "metadata": {
        "id": "3TAKtgYR-PkW",
        "outputId": "9d000972-94eb-4234-face-e2b83b1273b8",
        "colab": {
          "base_uri": "https://localhost:8080/"
        }
      },
      "execution_count": 132,
      "outputs": [
        {
          "output_type": "execute_result",
          "data": {
            "text/plain": [
              "array([ 0,  1,  2,  3,  4,  5,  6,  7,  8,  9, 10, 11])"
            ]
          },
          "metadata": {},
          "execution_count": 132
        }
      ]
    },
    {
      "cell_type": "markdown",
      "source": [
        "Qual a diferença então?\n",
        "- O método ravel cria uma VIEW! (altera o array original)\n",
        "- O método flatten cria uma cópia! (não altera o array original)"
      ],
      "metadata": {
        "id": "U9dm5m2g-oMG"
      }
    },
    {
      "cell_type": "code",
      "source": [
        "# Veriricando a VIEW com ravel()\n",
        "\n",
        "array_original = np.arange(12).reshape(4,3)\n",
        "print(f'Array original\\n: {array_original}')\n",
        "print('-'*40)\n",
        "\n",
        "array_ravel = array_original.ravel()\n",
        "\n",
        "print(f'Array ravel antes da alteração\\n: {array_ravel}')\n",
        "\n",
        "print('-'*40)\n",
        "\n",
        "# alterando um valor no array ravel\n",
        "array_ravel[0] = 333\n",
        "print(f'Array ravel depois da alteração\\n: {array_ravel}')\n",
        "\n",
        "print('-'*40)\n",
        "\n",
        "# verificando se o array ravel modificou o array original\n",
        "print(f'Array original\\n: {array_original}')"
      ],
      "metadata": {
        "id": "3Z4z-B-0-wN7",
        "outputId": "32cb69a6-fb2a-484b-c91d-71e5604e6e48",
        "colab": {
          "base_uri": "https://localhost:8080/"
        }
      },
      "execution_count": 133,
      "outputs": [
        {
          "output_type": "stream",
          "name": "stdout",
          "text": [
            "Array original\n",
            ": [[ 0  1  2]\n",
            " [ 3  4  5]\n",
            " [ 6  7  8]\n",
            " [ 9 10 11]]\n",
            "----------------------------------------\n",
            "Array ravel antes da alteração\n",
            ": [ 0  1  2  3  4  5  6  7  8  9 10 11]\n",
            "----------------------------------------\n",
            "Array ravel depois da alteração\n",
            ": [333   1   2   3   4   5   6   7   8   9  10  11]\n",
            "----------------------------------------\n",
            "Array original\n",
            ": [[333   1   2]\n",
            " [  3   4   5]\n",
            " [  6   7   8]\n",
            " [  9  10  11]]\n"
          ]
        }
      ]
    },
    {
      "cell_type": "code",
      "source": [
        "# Verificando a cópia com flatten()\n",
        "\n",
        "array_original = np.arange(12).reshape(4,3)\n",
        "print(f'Array original\\n: {array_original}')\n",
        "print('-'*40)\n",
        "\n",
        "array_flatten = array_original.flatten()\n",
        "\n",
        "print(f'Array flatten antes da alteração\\n: {array_flatten}')\n",
        "print('-'*40)\n",
        "\n",
        "# alterando um valor no array ravel\n",
        "array_flatten[0] = 444\n",
        "print(f'Array flatten depois da alteração\\n: {array_flatten}')\n",
        "print('-'*40)\n",
        "\n",
        "# verificando se o array ravel modificou o array original\n",
        "print(f'Array original\\n: {array_original}')"
      ],
      "metadata": {
        "id": "0nWU3G6c_uuo",
        "outputId": "0070b451-3c8f-478d-c78b-639f25afd5d8",
        "colab": {
          "base_uri": "https://localhost:8080/"
        }
      },
      "execution_count": 134,
      "outputs": [
        {
          "output_type": "stream",
          "name": "stdout",
          "text": [
            "Array original\n",
            ": [[ 0  1  2]\n",
            " [ 3  4  5]\n",
            " [ 6  7  8]\n",
            " [ 9 10 11]]\n",
            "----------------------------------------\n",
            "Array flatten antes da alteração\n",
            ": [ 0  1  2  3  4  5  6  7  8  9 10 11]\n",
            "----------------------------------------\n",
            "Array flatten depois da alteração\n",
            ": [444   1   2   3   4   5   6   7   8   9  10  11]\n",
            "----------------------------------------\n",
            "Array original\n",
            ": [[ 0  1  2]\n",
            " [ 3  4  5]\n",
            " [ 6  7  8]\n",
            " [ 9 10 11]]\n"
          ]
        }
      ]
    },
    {
      "cell_type": "markdown",
      "source": [
        "Extra: Matriz transposta"
      ],
      "metadata": {
        "id": "CF-k0PWfAHsh"
      }
    },
    {
      "cell_type": "code",
      "source": [
        "# Dada a matriz a seguir\n",
        "matriz_aux = np.arange(15).reshape(3,5)\n",
        "print( matriz_aux )\n",
        "print('-'*80)\n",
        "\n",
        "# Sua transposta será dada por matriz.T\n",
        "transposta = matriz_aux.T\n",
        "print(transposta)"
      ],
      "metadata": {
        "id": "ttan5SFFAKIk",
        "outputId": "49d1e06a-b230-4159-e817-ec0ffadc7c97",
        "colab": {
          "base_uri": "https://localhost:8080/"
        }
      },
      "execution_count": 135,
      "outputs": [
        {
          "output_type": "stream",
          "name": "stdout",
          "text": [
            "[[ 0  1  2  3  4]\n",
            " [ 5  6  7  8  9]\n",
            " [10 11 12 13 14]]\n",
            "--------------------------------------------------------------------------------\n",
            "[[ 0  5 10]\n",
            " [ 1  6 11]\n",
            " [ 2  7 12]\n",
            " [ 3  8 13]\n",
            " [ 4  9 14]]\n"
          ]
        }
      ]
    },
    {
      "cell_type": "markdown",
      "source": [
        "**Exercício**\n",
        "\n",
        "Dado o array a seguir, escreve um código que encontre a mediana de um array de TAMANHO ÍMPAR (sem usar funções prontas)\n",
        "\n",
        "Dica: use o método sorted() e len()"
      ],
      "metadata": {
        "id": "ECDE0G5OsYDB"
      }
    },
    {
      "cell_type": "code",
      "source": [
        "array_aux = np.random.randint(1,10, 15, int)\n",
        "print(array_aux)\n",
        "\n",
        "# Resolva\n",
        "array_ordenado = sorted(array_aux)\n",
        "pos = int(len(array_ordenado) / 2)\n",
        "print(array_ordenado)\n",
        "print(float(array_ordenado[pos]))\n",
        "\n",
        "# Conferindo com numpy\n",
        "print(np.median(array_aux))\n"
      ],
      "metadata": {
        "id": "ZZmhZwQvssAJ",
        "outputId": "7b28c2f1-d4f5-4a35-8a1c-b4571ca26cd7",
        "colab": {
          "base_uri": "https://localhost:8080/"
        }
      },
      "execution_count": 136,
      "outputs": [
        {
          "output_type": "stream",
          "name": "stdout",
          "text": [
            "[6 8 3 4 9 4 7 7 4 3 3 5 4 6 5]\n",
            "[3, 3, 3, 4, 4, 4, 4, 5, 5, 6, 6, 7, 7, 8, 9]\n",
            "5.0\n",
            "5.0\n"
          ]
        }
      ]
    },
    {
      "cell_type": "markdown",
      "source": [
        "Extra: procurando o erro no código pelo Google Colab usando alt+f8"
      ],
      "metadata": {
        "id": "ttX6rYH2qE8M"
      }
    },
    {
      "cell_type": "code",
      "source": [
        "# Procurando o erro no código\n",
        "aux = [1,2,3,4,5]\n",
        "\n",
        "aux.harmonic_mean()\n",
        "\n",
        "print('Texto aleatorio')"
      ],
      "metadata": {
        "id": "3MT8uxRNqG6H"
      },
      "execution_count": null,
      "outputs": []
    },
    {
      "cell_type": "markdown",
      "source": [
        "## **Máscaras Booleanas**\n",
        "- Importante❗"
      ],
      "metadata": {
        "id": "WZBsbfpFleWn"
      }
    },
    {
      "cell_type": "code",
      "source": [
        "# 1º: Reforçando operações Booleanas\n",
        "\n",
        "A = 2\n",
        "B = 5\n",
        "C = 6\n",
        "\n",
        "# A é maior que B? Não\n",
        "print('A>B:', A>B)\n",
        "# A é menor que B? Sim\n",
        "print('A<B:', A<B)\n",
        "# A é menor que B e menor que C? Sim\n",
        "print('(A<B) & (A<C):', (A<B) & (A<C))\n",
        "# A é menor que B e maior que C? Não\n",
        "print('(A<B) & (A>C):', (A<B) & (A>C))\n",
        "# A é maior que B ou A é menor que C? Sim\n",
        "print('(A>B) | (A<C):', (A>B) | (A<C))\n",
        "# Outra forma é escrever 'e' como 'and' e 'ou' como 'or'  => Não recomendo\n",
        "print('(A>B) and (A<C):', (A>B) and (A<C))\n",
        "print('(A>B) or (A<C):', (A>B) or (A<C))"
      ],
      "metadata": {
        "id": "uEg7Gb55lwzf",
        "outputId": "935ecb8b-b440-46ee-b242-91e544714ea7",
        "colab": {
          "base_uri": "https://localhost:8080/"
        }
      },
      "execution_count": 150,
      "outputs": [
        {
          "output_type": "stream",
          "name": "stdout",
          "text": [
            "A>B: False\n",
            "A<B: True\n",
            "(A<B) & (A<C): True\n",
            "(A<B) & (A>C): False\n",
            "(A>B) | (A<C): True\n",
            "(A>B) and (A<C): False\n",
            "(A>B) or (A<C): True\n"
          ]
        }
      ]
    },
    {
      "cell_type": "code",
      "source": [
        "# Criando um array com valores de 1 a 50\n",
        "array_50 = np.arange(51)\n",
        "print('Array exemplo:\\n', array_50)\n",
        "print('-'*80)\n",
        "print('Resultado da transformação:\\n')\n",
        "\n",
        "# Vamos filtrar os valores multiplos de 5 com uma máscara!\n",
        "mask = (array_50 % 5 == 0)\n",
        "\n",
        "# Como uma condição acontece quando o valor é verdadeiro então vamos passar o valor com array[ mask ]\n",
        "array_50[mask]\n",
        "\n",
        "\n",
        "# Vamos trocar esses elementos múltiplos de 5 por 888 com array[ mask ] = 888\n",
        "array_50[mask] = 555\n",
        "array_50\n"
      ],
      "metadata": {
        "id": "zlKQGoKxqJf1",
        "outputId": "8af200c3-9456-48be-e39e-451e45c14808",
        "colab": {
          "base_uri": "https://localhost:8080/"
        }
      },
      "execution_count": 138,
      "outputs": [
        {
          "output_type": "stream",
          "name": "stdout",
          "text": [
            "Array exemplo:\n",
            " [ 0  1  2  3  4  5  6  7  8  9 10 11 12 13 14 15 16 17 18 19 20 21 22 23\n",
            " 24 25 26 27 28 29 30 31 32 33 34 35 36 37 38 39 40 41 42 43 44 45 46 47\n",
            " 48 49 50]\n",
            "--------------------------------------------------------------------------------\n",
            "Resultado da transformação:\n",
            "\n"
          ]
        },
        {
          "output_type": "execute_result",
          "data": {
            "text/plain": [
              "array([555,   1,   2,   3,   4, 555,   6,   7,   8,   9, 555,  11,  12,\n",
              "        13,  14, 555,  16,  17,  18,  19, 555,  21,  22,  23,  24, 555,\n",
              "        26,  27,  28,  29, 555,  31,  32,  33,  34, 555,  36,  37,  38,\n",
              "        39, 555,  41,  42,  43,  44, 555,  46,  47,  48,  49, 555])"
            ]
          },
          "metadata": {},
          "execution_count": 138
        }
      ]
    },
    {
      "cell_type": "markdown",
      "source": [
        "Exercício\n",
        "\n",
        "Em uma base de dado de alguns alunos há notas negativas. Mas ninguém consegue tirar uma nova negativa (certo?!). <br>\n",
        "Sendo assim, quando encontrar um valor negativo no array (unidimensional), altere o valor para que ele se torne positivo.\n",
        "\n",
        "Ex. de entrada:\n",
        "> 10, 5, -4, 10, 9 <br>\n",
        "\n",
        "Ex. de saída <br>\n",
        "> 10, 5, 4, 10, 9<br>\n",
        "\n",
        "<img src = \"https://conteudo.imguol.com.br/c/noticias/e6/2015/09/14/alunos-de-exatas-fazem-piada-com-a-rotina-de-estudos-nas-redes-sociais-1442243660716_300x300.jpg.webp\" width=30%>"
      ],
      "metadata": {
        "id": "1sD018JJw98u"
      }
    },
    {
      "cell_type": "code",
      "source": [
        "notas = np.array( [10, 5, 3, -3, 6, 8, 10, -6, 0] )\n",
        "\n",
        "# Resolva\n",
        "mask = (notas < 0)\n",
        "notas[mask] *= -1\n",
        "print(notas)\n"
      ],
      "metadata": {
        "id": "4J03J3NhyMsU",
        "outputId": "91f7b58c-65d3-401a-cd7a-23e9d2561380",
        "colab": {
          "base_uri": "https://localhost:8080/"
        }
      },
      "execution_count": 139,
      "outputs": [
        {
          "output_type": "stream",
          "name": "stdout",
          "text": [
            "[10  5  3  3  6  8 10  6  0]\n"
          ]
        }
      ]
    },
    {
      "cell_type": "markdown",
      "source": [
        "## Desafio\n",
        "\n",
        "Escreva um código que recebe 2 parâmetros (2 colunas) e devolve uma nova matriz com as colunas invertidas.\n",
        "(Envie o resultado caso deseje uma correção)\n",
        "\n",
        "Por exemplo\n",
        "\n",
        "\n",
        "```\n",
        "matriz  =\n",
        "[1, 2, 3]\n",
        "[4, 5, 6]\n",
        "\n",
        "ao aplicarmos a função troca_coluna(0,2), temos o resultado:\n",
        "[3, 2, 1]\n",
        "[6, 5, 4]\n",
        "```\n",
        "\n"
      ],
      "metadata": {
        "id": "5udrip6R1LpR"
      }
    },
    {
      "cell_type": "code",
      "source": [
        "# Resolva\n"
      ],
      "metadata": {
        "id": "3C5usXy60aKV"
      },
      "execution_count": null,
      "outputs": []
    },
    {
      "cell_type": "markdown",
      "source": [
        "## **Broadcast**\n",
        "\n",
        "Um método para tentar aumentar a eficiência de cálculos de matrizes ao fazer uma \"transmissão\" do vetor de menor tamanho para o de maior tamanho. Com isso, conseguimos fazer soma entre dois arrays e outras operações aritméticas calculando elemento a elemento.\n",
        "\n",
        "Vamos tentar entender na prática ⏭\n"
      ],
      "metadata": {
        "id": "mm_xu2UA26BN"
      }
    },
    {
      "cell_type": "code",
      "source": [
        "# Como multiplicar um array por 2\n",
        "\n",
        "array_aux = np.arange(12).reshape(4,3)\n",
        "\n",
        "print('Array antes da multiplicação:\\n', array_aux)\n",
        "\n",
        "multiplicador = 2\n",
        "\n",
        "print('\\nArray após a multiplicação:\\n', array_aux * 2 )"
      ],
      "metadata": {
        "id": "t8UGm_db3bBx",
        "outputId": "1018b3b7-7ae2-4133-baa1-3ae29a90107c",
        "colab": {
          "base_uri": "https://localhost:8080/"
        }
      },
      "execution_count": 142,
      "outputs": [
        {
          "output_type": "stream",
          "name": "stdout",
          "text": [
            "Array antes da multiplicação:\n",
            " [[ 0  1  2]\n",
            " [ 3  4  5]\n",
            " [ 6  7  8]\n",
            " [ 9 10 11]]\n",
            "\n",
            "Array após a multiplicação:\n",
            " [[ 0  2  4]\n",
            " [ 6  8 10]\n",
            " [12 14 16]\n",
            " [18 20 22]]\n"
          ]
        }
      ]
    },
    {
      "cell_type": "markdown",
      "source": [
        "O que aconteceu?\n",
        "Replicamos o valor 2 para uma matriz de mesmo tamanho do array original e então multiplicamos elemento a elemento.\n",
        "\n",
        "<img src=\"https://www.astroml.org/_images/fig_broadcast_visual_1.png\" width =50%>\n",
        "\n",
        "*fonte: https://www.astroml.org/_images/fig_broadcast_visual_1.png*"
      ],
      "metadata": {
        "id": "IpddvO3Z4OS-"
      }
    },
    {
      "cell_type": "code",
      "source": [
        "# Forçando um broadcast NA LINHA para criar um novo array a partir de outro existente\n",
        "\n",
        "# 1º: Criamos o esqueleto\n",
        "esqueleto = np.ones((4,4))  # matriz de 1's de 4 linhas e 4 colunas\n",
        "print('Array \"esqueleto\":\\n ')\n",
        "print(esqueleto)\n",
        "print('-'*80)\n",
        "\n",
        "# 2º: Criamos o array ao qual faremos um broadcasting\n",
        "esqueleto[:] = np.array([2,4,6,8])\n",
        "print('Array após o broadcasting:\\n')\n",
        "print(esqueleto)"
      ],
      "metadata": {
        "id": "hAur4cJmF-0p",
        "outputId": "4263e4a9-c86b-4f91-e01e-fe79b3d55c0c",
        "colab": {
          "base_uri": "https://localhost:8080/"
        }
      },
      "execution_count": 143,
      "outputs": [
        {
          "output_type": "stream",
          "name": "stdout",
          "text": [
            "Array \"esqueleto\":\n",
            " \n",
            "[[1. 1. 1. 1.]\n",
            " [1. 1. 1. 1.]\n",
            " [1. 1. 1. 1.]\n",
            " [1. 1. 1. 1.]]\n",
            "--------------------------------------------------------------------------------\n",
            "Array após o broadcasting:\n",
            "\n",
            "[[2. 4. 6. 8.]\n",
            " [2. 4. 6. 8.]\n",
            " [2. 4. 6. 8.]\n",
            " [2. 4. 6. 8.]]\n"
          ]
        }
      ]
    },
    {
      "cell_type": "code",
      "source": [
        "# Realizando o mesmo broadcasting para COLUNA\n",
        "\n",
        "# 1º: Criamos o esqueleto\n",
        "esqueleto = np.ones((4,4))\n",
        "print('Array \"esqueleto\":\\n ')\n",
        "print(esqueleto)\n",
        "print('-'*80)\n",
        "\n",
        "# 2º: Criamos o array ao qual faremos um broadcasting\n",
        "esqueleto[:] = np.array([2,4,6,8]).reshape(4,1) # Fazemos um reshape do formato (1,4) para o formato (4,1)\n",
        "print('Array após o broadcasting:\\n')\n",
        "print(esqueleto)"
      ],
      "metadata": {
        "id": "fQAiKmI8HFkf",
        "outputId": "90af6336-ebfa-4688-c1b0-15ec5bc67419",
        "colab": {
          "base_uri": "https://localhost:8080/"
        }
      },
      "execution_count": 144,
      "outputs": [
        {
          "output_type": "stream",
          "name": "stdout",
          "text": [
            "Array \"esqueleto\":\n",
            " \n",
            "[[1. 1. 1. 1.]\n",
            " [1. 1. 1. 1.]\n",
            " [1. 1. 1. 1.]\n",
            " [1. 1. 1. 1.]]\n",
            "--------------------------------------------------------------------------------\n",
            "Array após o broadcasting:\n",
            "\n",
            "[[2. 2. 2. 2.]\n",
            " [4. 4. 4. 4.]\n",
            " [6. 6. 6. 6.]\n",
            " [8. 8. 8. 8.]]\n"
          ]
        }
      ]
    },
    {
      "cell_type": "code",
      "source": [
        "# Criando os vetores\n",
        "array_1 = np.identity(3)\n",
        "array_2 = np.array( [[1,0,0], [0,1,0], [0,0,1]], int )\n",
        "\n",
        "print(array_1)\n",
        "print('-'*80)\n",
        "print(array_2)"
      ],
      "metadata": {
        "id": "k4TepXxaZ0Jn",
        "outputId": "4386b74c-f51d-4af7-a5b2-638644c7a2b6",
        "colab": {
          "base_uri": "https://localhost:8080/"
        }
      },
      "execution_count": 145,
      "outputs": [
        {
          "output_type": "stream",
          "name": "stdout",
          "text": [
            "[[1. 0. 0.]\n",
            " [0. 1. 0.]\n",
            " [0. 0. 1.]]\n",
            "--------------------------------------------------------------------------------\n",
            "[[1 0 0]\n",
            " [0 1 0]\n",
            " [0 0 1]]\n"
          ]
        }
      ]
    },
    {
      "cell_type": "code",
      "source": [
        "# Verificando se um array é igual a outro em todos seus elementos\n",
        "\n",
        "# Criando os vetores\n",
        "array_1 = np.identity(3)\n",
        "array_2 = np.array( [[1,0,0], [0,1,0], [0,0,1]], int )\n",
        "\n",
        "# 1º: Buscando os valores que são iguais em ambos os vetores\n",
        "elementos_iguais = array_1 == array_2\n",
        "\n",
        "# 2º: Retornando se todos os elementos dos dois arrays são iguais com np.all(elementos_iguais)\n",
        "comparacao = np.all(elementos_iguais)\n",
        "\n",
        "# 3º: Respondendo se os arrays são iguais ou não\n",
        "f = lambda x: print('Os arrays são iguais') if x == True else print('Os arrays são diferentes')\n",
        "f(comparacao)"
      ],
      "metadata": {
        "id": "wdwzkP_49TbR",
        "outputId": "1390bf4c-9469-416e-c620-ceabca75b266",
        "colab": {
          "base_uri": "https://localhost:8080/"
        }
      },
      "execution_count": 146,
      "outputs": [
        {
          "output_type": "stream",
          "name": "stdout",
          "text": [
            "Os arrays são iguais\n"
          ]
        }
      ]
    },
    {
      "cell_type": "markdown",
      "source": [
        "Obs:<br>\n",
        "Caso queira saber se algum elemento qualquer do array_1 também está no array_2 use `np.any(comparacao)` ao invés de `np.all(comparacao)`"
      ],
      "metadata": {
        "id": "IYUvTsrkOm0s"
      }
    },
    {
      "cell_type": "code",
      "source": [
        "# Outra solução com np.array_equal()\n",
        "\n",
        "# Criando os vetores\n",
        "array_1 = np.identity(3)\n",
        "array_2 = np.array( [[1,0,0], [0,1,0], [0,0,1]], int )\n",
        "\n",
        "np.array_equal(array_1, array_2)"
      ],
      "metadata": {
        "id": "QAv0UFIqENFe",
        "outputId": "371150f6-d782-4107-e63d-dcc4ea638560",
        "colab": {
          "base_uri": "https://localhost:8080/"
        }
      },
      "execution_count": 147,
      "outputs": [
        {
          "output_type": "execute_result",
          "data": {
            "text/plain": [
              "True"
            ]
          },
          "metadata": {},
          "execution_count": 147
        }
      ]
    },
    {
      "cell_type": "markdown",
      "source": [
        "**Exercício**\n",
        "\n",
        "Dados os vetores [0 2 4 6 8 10] e [1 3 5 7 9 11], construa a matriz:\n",
        "\n",
        "\n",
        "```\n",
        "[  0,   0,   0,   0,   0,   0]\n",
        "[  2,   6,  10,  14,  18,  22]\n",
        "[  4,  12,  20,  28,  36,  44]\n",
        "[  6,  18,  30,  42,  54,  66]\n",
        "[  8,  24,  40,  56,  72,  88]\n",
        "[ 10,  30,  50,  70,  90, 110]\n",
        "```\n",
        "\n",
        "\n"
      ],
      "metadata": {
        "id": "fpuiyxA05qq1"
      }
    },
    {
      "cell_type": "code",
      "source": [
        "a = np.array( [0, 2, 4, 6, 8, 10] ) \n",
        "b = np.array( [1, 3, 5, 7, 9, 11] )\n",
        "\n",
        "# Resolva\n",
        "\n",
        "array_a_reshape = a.reshape(6,1)\n",
        "array_novo = b * array_a_reshape\n",
        "print(array_novo)"
      ],
      "metadata": {
        "id": "JR8obY6t7BR_",
        "outputId": "1dc36555-64b2-42b6-862d-a3228b825de5",
        "colab": {
          "base_uri": "https://localhost:8080/"
        }
      },
      "execution_count": 148,
      "outputs": [
        {
          "output_type": "stream",
          "name": "stdout",
          "text": [
            "[[  0   0   0   0   0   0]\n",
            " [  2   6  10  14  18  22]\n",
            " [  4  12  20  28  36  44]\n",
            " [  6  18  30  42  54  66]\n",
            " [  8  24  40  56  72  88]\n",
            " [ 10  30  50  70  90 110]]\n"
          ]
        }
      ]
    },
    {
      "cell_type": "markdown",
      "source": [
        "## **Reduções**"
      ],
      "metadata": {
        "id": "7GIU6VnIEqb2"
      }
    },
    {
      "cell_type": "markdown",
      "source": [
        "Funções de redução são funções que \"reduzem\" uma certa amostra de valores em uma única resposta.\n",
        "\n",
        "> Já utilizamos algumas, como: <br>\n",
        "> Soma, média, desvio padrão, valor máximo etc\n",
        "\n",
        "Ou seja... <br>\n",
        "Dado uma série de valores, reduzimos à um resultado"
      ],
      "metadata": {
        "id": "QVu-Vs44E1dX"
      }
    },
    {
      "cell_type": "markdown",
      "source": [
        "Para trabalhar com reduções no numpy, precisaremos entender como funcionam os eixos.\n",
        "\n",
        "- Axis 0: Faz a redução de linhas <br>\n",
        "- Axis 1: Faz a redução de colunas <br>\n",
        "- Axis 3: Faz a redução no eixo Z <br>\n",
        "(...)\n",
        "\n",
        "Logo, se passarmos o comando max() para o array todo, retornaremos o maior elemento do array.\n",
        "\n",
        "Se passarmos o comando `max()` especificando o eixo 1 com `max(axis=1)`, encontraremos o maior valor da linha (pois estamos comprimindo as colunas ❗)\n",
        "\n",
        "Se passarmos o comando `max(axis=0)` encontraremos o maior valor das colunas.\n",
        "\n",
        "<img src=\"https://i.stack.imgur.com/zzTgR.png\" width = 50%>"
      ],
      "metadata": {
        "id": "wnhrO-KaJOJK"
      }
    },
    {
      "cell_type": "markdown",
      "source": [
        "Teste prático"
      ],
      "metadata": {
        "id": "8rW3BHBYK_Ou"
      }
    },
    {
      "cell_type": "code",
      "source": [
        "array_aux = np.arange(20).reshape(4,5)\n",
        "\n",
        "print('Array: \\n', array_aux, '\\n', '-'*80)\n",
        "\n",
        "# Soma do array todo com array.sum()\n",
        "soma = array_aux.sum()\n",
        "print('Soma do array: ', soma, '\\n', '-'*80)\n",
        "\n",
        "# Somando as linhas com axis=1 -> \"Para somar as linhas achatamos as colunas\"\n",
        "soma_linha = array_aux.sum(axis=1)\n",
        "print('Soma por linha: ', soma_linha, '\\n', '-'*80)\n",
        "\n",
        "# Somando as colunas com axis=0 -> \"Para somar as colunas achatamos as linhas\"\n",
        "soma_coluna = array_aux.sum(axis=0)\n",
        "print('Soma por coluna: ', soma_coluna)"
      ],
      "metadata": {
        "id": "vbPgaPYEK9sj",
        "outputId": "bb3a6750-35ba-4e56-b595-89c5cb447eb5",
        "colab": {
          "base_uri": "https://localhost:8080/"
        }
      },
      "execution_count": 151,
      "outputs": [
        {
          "output_type": "stream",
          "name": "stdout",
          "text": [
            "Array: \n",
            " [[ 0  1  2  3  4]\n",
            " [ 5  6  7  8  9]\n",
            " [10 11 12 13 14]\n",
            " [15 16 17 18 19]] \n",
            " --------------------------------------------------------------------------------\n",
            "Soma do array:  190 \n",
            " --------------------------------------------------------------------------------\n",
            "Soma por linha:  [10 35 60 85] \n",
            " --------------------------------------------------------------------------------\n",
            "Soma por coluna:  [30 34 38 42 46]\n"
          ]
        }
      ]
    },
    {
      "cell_type": "markdown",
      "source": [
        "Outros comandos de redução úteis\n",
        "- argmax()\n",
        "- argmin()\n",
        "- argsort()\n",
        "\n",
        "Obs: Se utilizarmos o método `array.sort()` ao invés de `np.sort(array)`, afetaremos o array original ❗"
      ],
      "metadata": {
        "id": "SXSJo7q2Jef7"
      }
    },
    {
      "cell_type": "code",
      "source": [
        "# Seguindo o mesmo princípio do np.sum(), podemos ordenar por colunas ou linhas\n",
        "\n",
        "array_aux = np.array( [[1,3,2], [2,4,4], [5,2,1]] )\n",
        "print('Array original:\\n', array_aux)\n",
        "\n",
        "# Ordenando as linhas com axis=1\n",
        "array_ordenado_linha = np.sort(array_aux, axis=1)\n",
        "print( '\\nArray ordenado por linha:\\n', array_ordenado_linha )"
      ],
      "metadata": {
        "id": "hk5JwS1KIx1t",
        "outputId": "59aa304f-d8f4-45c3-983f-71878beb60be",
        "colab": {
          "base_uri": "https://localhost:8080/"
        }
      },
      "execution_count": 152,
      "outputs": [
        {
          "output_type": "stream",
          "name": "stdout",
          "text": [
            "Array original:\n",
            " [[1 3 2]\n",
            " [2 4 4]\n",
            " [5 2 1]]\n",
            "\n",
            "Array ordenado por linha:\n",
            " [[1 2 3]\n",
            " [2 4 4]\n",
            " [1 2 5]]\n"
          ]
        }
      ]
    },
    {
      "cell_type": "code",
      "source": [
        "# Retornando os índices do array como se estivessem ordenado usando o np.argsort(array)\n",
        "\n",
        "array_aux = [1,3,5,2,5,6,99,0]\n",
        "\n",
        "array_argsort = np.argsort( array_aux )\n",
        "print(array_argsort)\n",
        "\n",
        "# Ou seja, o menor elemento está na posição 7, o segundo menor na posição 0 (...)\n",
        "# e o maior na posição 6\n",
        "\n",
        "# Obs: também é possível utilizar os eixos (...)"
      ],
      "metadata": {
        "id": "K81f7ZlERgis",
        "outputId": "41582e35-d88f-42b6-a429-5a8216b581fe",
        "colab": {
          "base_uri": "https://localhost:8080/"
        }
      },
      "execution_count": 153,
      "outputs": [
        {
          "output_type": "stream",
          "name": "stdout",
          "text": [
            "[7 0 3 1 2 4 5 6]\n"
          ]
        }
      ]
    },
    {
      "cell_type": "code",
      "source": [
        "array_aux = [1, 3, 5, 2, 5, 6, 99, 0]\n",
        "\n",
        "# Buscando a posição do maior elemento com np.argmax()\n",
        "print(f'Posição do maior elemento: { np.argmax(array_aux) }')\n",
        "\n",
        "# Buscando a posição do menor elemento com np.argmin()\n",
        "print(f'Posição do menor elemento: { np.argmin(array_aux) }')"
      ],
      "metadata": {
        "id": "grIergUHSo6c",
        "outputId": "e2310adb-9867-458d-a71c-fd09232989cb",
        "colab": {
          "base_uri": "https://localhost:8080/"
        }
      },
      "execution_count": 154,
      "outputs": [
        {
          "output_type": "stream",
          "name": "stdout",
          "text": [
            "Posição do maior elemento: 6\n",
            "Posição do menor elemento: 7\n"
          ]
        }
      ]
    },
    {
      "cell_type": "markdown",
      "source": [
        "**Exercício**\n",
        "\n",
        "1) Dado o array a seguir, encontre a linha com a maior média"
      ],
      "metadata": {
        "id": "MuBJaxX1TMJy"
      }
    },
    {
      "cell_type": "code",
      "source": [
        "array_aux = np.array( [[1,2,3,4,5], [2,3,2,3,2], [5,5,5,5,5],[10,9,5,0,0], [10,0,10,0,1]] )\n",
        "print(array_aux)\n",
        "\n",
        "# Resolva\n",
        "linha_maior_media = np.argmax(array_aux.mean(axis=1))\n",
        "print(linha_maior_media+1)"
      ],
      "metadata": {
        "id": "5vQNMpSxTRmu",
        "outputId": "12f0f6b5-62d0-45b8-8c0d-4182ec7b456b",
        "colab": {
          "base_uri": "https://localhost:8080/"
        }
      },
      "execution_count": 155,
      "outputs": [
        {
          "output_type": "stream",
          "name": "stdout",
          "text": [
            "[[ 1  2  3  4  5]\n",
            " [ 2  3  2  3  2]\n",
            " [ 5  5  5  5  5]\n",
            " [10  9  5  0  0]\n",
            " [10  0 10  0  1]]\n",
            "3\n"
          ]
        }
      ]
    },
    {
      "cell_type": "markdown",
      "source": [
        "2) Dado o array a seguir, encontre a posição do maior elemento e mostre qual é esse elemento"
      ],
      "metadata": {
        "id": "9OtL19AzTR73"
      }
    },
    {
      "cell_type": "code",
      "source": [
        "array_aux = np.array( [[1,2,3,4,5], [2,3,2,3,2], [5,5,5,5,5],[10,9,5,0,0], [11,0,10,0,1]] )\n",
        "print(array_aux)\n",
        "\n",
        "# Resolva\n",
        "pos_maior = np.argmax(array_aux)\n",
        "\n",
        "maior_elemento = np.max(array_aux)\n",
        "\n",
        "print(f'Posição do maior elemento: {pos_maior}')\n",
        "print(f'Valor do maior elemento: {maior_elemento}')\n"
      ],
      "metadata": {
        "id": "m5peqr86Tc5O",
        "outputId": "90387131-c67a-4ad3-d775-952db24a85d4",
        "colab": {
          "base_uri": "https://localhost:8080/"
        }
      },
      "execution_count": 156,
      "outputs": [
        {
          "output_type": "stream",
          "name": "stdout",
          "text": [
            "[[ 1  2  3  4  5]\n",
            " [ 2  3  2  3  2]\n",
            " [ 5  5  5  5  5]\n",
            " [10  9  5  0  0]\n",
            " [11  0 10  0  1]]\n",
            "Posição do maior elemento: 20\n",
            "Valor do maior elemento: 11\n"
          ]
        }
      ]
    },
    {
      "cell_type": "markdown",
      "source": [
        "3) Seguindo a lógica anterior, mostre qual é o segundo maior elemento"
      ],
      "metadata": {
        "id": "rWNMBDyYTdEy"
      }
    },
    {
      "cell_type": "code",
      "source": [
        "import numpy as np\n",
        "\n",
        "array_aux = np.array( [[1,2,3,4,5], [2,3,2,3,2], [5,5,5,5,5],[11,9,5,0,0], [12,0,10,0,1]] )\n",
        "print(array_aux)\n",
        "print('-'*80)\n",
        "\n",
        "# Resolva \n",
        "resposta = array_aux.flatten()\n",
        "np.sort(resposta)[-2]"
      ],
      "metadata": {
        "id": "fJYnoB_eTpcg",
        "outputId": "502c5b20-6e67-4d1d-d151-02867d060b35",
        "colab": {
          "base_uri": "https://localhost:8080/"
        }
      },
      "execution_count": 158,
      "outputs": [
        {
          "output_type": "stream",
          "name": "stdout",
          "text": [
            "[[ 1  2  3  4  5]\n",
            " [ 2  3  2  3  2]\n",
            " [ 5  5  5  5  5]\n",
            " [11  9  5  0  0]\n",
            " [12  0 10  0  1]]\n",
            "--------------------------------------------------------------------------------\n"
          ]
        },
        {
          "output_type": "execute_result",
          "data": {
            "text/plain": [
              "11"
            ]
          },
          "metadata": {},
          "execution_count": 158
        }
      ]
    },
    {
      "cell_type": "code",
      "source": [
        "# Extra: Buscando o valor e posição do segundo maior elemento\n",
        "array_aux = np.array( [[1,2,3,4,5], [2,3,2,3,2], [5,5,5,5,5],[11,9,5,0,0], [12,0,10,0,1]] )\n",
        "print(array_aux)\n",
        "print('-'*80)\n",
        "\n",
        "array_flat = array_aux.ravel()\n",
        "\n",
        "segundo_maior = np.sort(array_flat)[-2]\n",
        "\n",
        "print(f'O segundo maior elemento é o de valor: {segundo_maior}')\n",
        "print(f'E ele está na posição: {np.where(array_aux == segundo_maior)}')"
      ],
      "metadata": {
        "id": "pBvvS8UAusdR",
        "outputId": "b9dc1f36-5c69-4047-8463-5efb7e8586f2",
        "colab": {
          "base_uri": "https://localhost:8080/"
        }
      },
      "execution_count": 161,
      "outputs": [
        {
          "output_type": "stream",
          "name": "stdout",
          "text": [
            "[[ 1  2  3  4  5]\n",
            " [ 2  3  2  3  2]\n",
            " [ 5  5  5  5  5]\n",
            " [11  9  5  0  0]\n",
            " [12  0 10  0  1]]\n",
            "--------------------------------------------------------------------------------\n",
            "O segundo maior elemento é o de valor: 11\n",
            "E ele está na posição: (array([3]), array([0]))\n"
          ]
        }
      ]
    },
    {
      "cell_type": "markdown",
      "source": [
        "## Matplotlib"
      ],
      "metadata": {
        "id": "pcqQD1sXd7i8"
      }
    },
    {
      "cell_type": "markdown",
      "source": [
        "Matplotlib é um pacote de visualização de gráficos que aceita dados em array (ou os converte automaticamente) e nos da um resultado visual; ela também utiliza a extensão matemática NumPy.\n",
        "\n",
        "Seu módulo mais famoso é o pyplot!"
      ],
      "metadata": {
        "id": "eCAT98TFd9fr"
      }
    },
    {
      "cell_type": "markdown",
      "source": [
        "Podemos fazer o import dele com: <br>\n",
        "`import matplotlib`\n",
        "\n",
        "E para importar o pyplot:\n",
        "`from matplotlib import pyplot` <br>\n",
        "ou <br>\n",
        "`import matplotlib.pyplot`"
      ],
      "metadata": {
        "id": "fPLmmWjXf7xd"
      }
    },
    {
      "cell_type": "markdown",
      "source": [
        "*Obs: A beleza vem com o tempo*\n",
        "\n",
        "<img src = \"https://encrypted-tbn0.gstatic.com/images?q=tbn:ANd9GcSNyohI8C4n8UySkw_IXsqFZn51wbTpwZlzHg&usqp=CAU\" width=30%>"
      ],
      "metadata": {
        "id": "qCgoNbRXtoaY"
      }
    },
    {
      "cell_type": "code",
      "source": [
        "# Import com apelido\n",
        ">"
      ],
      "metadata": {
        "id": "9HVpLaIfgHlY"
      },
      "execution_count": null,
      "outputs": []
    },
    {
      "cell_type": "markdown",
      "source": [
        "Vamos relembrar alguns gráficos do ensino médio na prática!"
      ],
      "metadata": {
        "id": "3e6FMhKygvIs"
      }
    },
    {
      "cell_type": "code",
      "source": [
        "# Retornando uma função quadrática\n",
        "\n",
        "# Criação do array de dados\n",
        "X = np.array(range(-20,21) )\n",
        "\n",
        "# Elevando os dados ao quadrado\n",
        "Y = X**2\n",
        "\n",
        "# Plot do gráfico com plt.plot(X,Y)\n",
        "plt.plot(X, Y)"
      ],
      "metadata": {
        "id": "dVu1tCYzgzUv",
        "outputId": "da647cd3-11d1-48db-8e94-d490d090c4f8",
        "colab": {
          "base_uri": "https://localhost:8080/",
          "height": 447
        }
      },
      "execution_count": 162,
      "outputs": [
        {
          "output_type": "execute_result",
          "data": {
            "text/plain": [
              "[<matplotlib.lines.Line2D at 0x7fa44f78a290>]"
            ]
          },
          "metadata": {},
          "execution_count": 162
        },
        {
          "output_type": "display_data",
          "data": {
            "text/plain": [
              "<Figure size 640x480 with 1 Axes>"
            ],
            "image/png": "[encoded data removed]"
          },
          "metadata": {}
        }
      ]
    },
    {
      "cell_type": "code",
      "source": [
        "# Retornando uma função cúbica\n",
        "\n",
        "# Criação do array de dados\n",
        "X = np.array( range(-20,21) )\n",
        "\n",
        "# Elevando os dados ao cubo\n",
        "Y = X**3\n",
        "\n",
        "# Plot do gráfico com plt.plot(X,Y)\n",
        "plt.plot(X, Y)"
      ],
      "metadata": {
        "id": "h4mvz6K5hghQ",
        "outputId": "028b90c5-7fa1-4dcc-fd51-c83702e716ce",
        "colab": {
          "base_uri": "https://localhost:8080/",
          "height": 447
        }
      },
      "execution_count": 163,
      "outputs": [
        {
          "output_type": "execute_result",
          "data": {
            "text/plain": [
              "[<matplotlib.lines.Line2D at 0x7fa44f7a7280>]"
            ]
          },
          "metadata": {},
          "execution_count": 163
        },
        {
          "output_type": "display_data",
          "data": {
            "text/plain": [
              "<Figure size 640x480 with 1 Axes>"
            ],
            "image/png": "[encoded data removed]"
          },
          "metadata": {}
        }
      ]
    },
    {
      "cell_type": "code",
      "source": [
        "# Função seno\n",
        "from math import pi\n",
        "\n",
        "# Criação do array de dados\n",
        "X = np.linspace(-2 * np.pi, 2 * np.pi, 1000)\n",
        "\n",
        "# Seno dos dados\n",
        "Y = np.sin(X)\n",
        "\n",
        "# Plot do gráfico com plt.plot(X,Y)\n",
        "plt.plot(X, Y)"
      ],
      "metadata": {
        "id": "KjYATWLGhv2l",
        "outputId": "e2d86271-e9c8-41be-ecfa-bbe1dd61d6b1",
        "colab": {
          "base_uri": "https://localhost:8080/",
          "height": 447
        }
      },
      "execution_count": 164,
      "outputs": [
        {
          "output_type": "execute_result",
          "data": {
            "text/plain": [
              "[<matplotlib.lines.Line2D at 0x7fa44acef7c0>]"
            ]
          },
          "metadata": {},
          "execution_count": 164
        },
        {
          "output_type": "display_data",
          "data": {
            "text/plain": [
              "<Figure size 640x480 with 1 Axes>"
            ],
            "image/png": "[encoded data removed]"
          },
          "metadata": {}
        }
      ]
    },
    {
      "cell_type": "code",
      "source": [
        "# Gráfico da tangente\n",
        "\n",
        "# Criação do array de dados\n",
        "X = np.linspace(-2 * np.pi, 2 * np.pi, 1000)\n",
        "\n",
        "# Tangente dos dados\n",
        "Y = np.sin(X)/np.cos(X)\n",
        "\n",
        "# Plot do gráfico com plt.plot(X,Y)\n",
        "plt.plot(X, Y)\n",
        "\n",
        "# Limitando a aplitude do eixo Y com plt.ylim(-5, 5)\n",
        "plt.ylim(-5, 5)"
      ],
      "metadata": {
        "id": "JCM6Bqz8h6YH",
        "outputId": "f71b5043-025c-4f53-f468-915fc6d0c216",
        "colab": {
          "base_uri": "https://localhost:8080/",
          "height": 447
        }
      },
      "execution_count": 166,
      "outputs": [
        {
          "output_type": "execute_result",
          "data": {
            "text/plain": [
              "(-5.0, 5.0)"
            ]
          },
          "metadata": {},
          "execution_count": 166
        },
        {
          "output_type": "display_data",
          "data": {
            "text/plain": [
              "<Figure size 640x480 with 1 Axes>"
            ],
            "image/png": "[encoded data removed]"
          },
          "metadata": {}
        }
      ]
    },
    {
      "cell_type": "code",
      "source": [
        "# Mudando o estilo da linha\n",
        "plt.plot(X, Y, color = 'purple', linewidth = 4, linestyle = ':')\n",
        "\n",
        "plt.ylim(-5, 5)\n",
        "\n",
        "# Busque por outros estilos em https://matplotlib.org/2.0.2/users/pyplot_tutorial.html"
      ],
      "metadata": {
        "id": "BkSJ4Y5akL8l",
        "outputId": "8d60d2c8-4064-463a-c084-4c15da561817",
        "colab": {
          "base_uri": "https://localhost:8080/",
          "height": 447
        }
      },
      "execution_count": 168,
      "outputs": [
        {
          "output_type": "execute_result",
          "data": {
            "text/plain": [
              "(-5.0, 5.0)"
            ]
          },
          "metadata": {},
          "execution_count": 168
        },
        {
          "output_type": "display_data",
          "data": {
            "text/plain": [
              "<Figure size 640x480 with 1 Axes>"
            ],
            "image/png": "[encoded data removed]"
          },
          "metadata": {}
        }
      ]
    },
    {
      "cell_type": "code",
      "source": [
        "# Adicionando um título ao gráfico\n",
        "plt.plot(X, Y, color='orange', linewidth = 4, linestyle = ':')\n",
        "\n",
        "plt.title('Gráfico da tangente')\n",
        "plt.ylim(-5,5)"
      ],
      "metadata": {
        "id": "vpyVMm4PnMOW",
        "outputId": "4d4b4921-be8c-427b-ad23-8d932388890e",
        "colab": {
          "base_uri": "https://localhost:8080/",
          "height": 447
        }
      },
      "execution_count": 170,
      "outputs": [
        {
          "output_type": "execute_result",
          "data": {
            "text/plain": [
              "(-5.0, 5.0)"
            ]
          },
          "metadata": {},
          "execution_count": 170
        },
        {
          "output_type": "display_data",
          "data": {
            "text/plain": [
              "<Figure size 640x480 with 1 Axes>"
            ],
            "image/png": "[encoded data removed]"
          },
          "metadata": {}
        }
      ]
    },
    {
      "cell_type": "code",
      "source": [
        "# Adicionando legenda nos eixos X e Y\n",
        "plt.plot(X, Y, color='orange', linewidth = 4, linestyle = ':')\n",
        "plt.xlabel('Eixo x')\n",
        "plt.ylabel('Eixo y')\n",
        "plt.title('Gráfico da tangente')\n",
        "plt.ylim(-5,5)"
      ],
      "metadata": {
        "id": "YS7fmFIMnTR-",
        "outputId": "c0ddd46c-ac3b-46e4-cda6-d15442306bd3",
        "colab": {
          "base_uri": "https://localhost:8080/",
          "height": 489
        }
      },
      "execution_count": 172,
      "outputs": [
        {
          "output_type": "execute_result",
          "data": {
            "text/plain": [
              "(-5.0, 5.0)"
            ]
          },
          "metadata": {},
          "execution_count": 172
        },
        {
          "output_type": "display_data",
          "data": {
            "text/plain": [
              "<Figure size 640x480 with 1 Axes>"
            ],
            "image/png": "[encoded data removed]"
          },
          "metadata": {}
        }
      ]
    },
    {
      "cell_type": "markdown",
      "source": [
        "Extra:<br>\n",
        "Para definir os intervalos dos eixos, passe uma lista com os valores desejados<br>\n",
        "`plt.axis([list])`"
      ],
      "metadata": {
        "id": "cVq83SaSr9p2"
      }
    },
    {
      "cell_type": "markdown",
      "source": [
        "**Exercício**\n",
        "\n",
        "Gere os dados de 1 a 50 e aplique a função log na base 2. <br>\n",
        "Feito isso, gere o gráfico com o `linestyle='--'` e cor vermelha!\n",
        "\n",
        "Dica: use a função https://numpy.org/doc/stable/reference/generated/numpy.log.html <br>\n",
        "Obs: Sempre se atente aos detalhes para procurar algo que você busca nas documentações"
      ],
      "metadata": {
        "id": "KAICcOdok3yu"
      }
    },
    {
      "cell_type": "code",
      "source": [
        "# Resolva\n",
        "X = np.array(range(1,51))\n",
        "\n",
        "Y = np.log(X)\n",
        "\n",
        "plt.plot(X, Y, color = 'red', linestyle = '--')"
      ],
      "metadata": {
        "id": "wOLU3agulg_m",
        "outputId": "2d46beed-a621-416f-96af-dcd23f7a0d4c",
        "colab": {
          "base_uri": "https://localhost:8080/",
          "height": 447
        }
      },
      "execution_count": 175,
      "outputs": [
        {
          "output_type": "execute_result",
          "data": {
            "text/plain": [
              "[<matplotlib.lines.Line2D at 0x7fa44a913c40>]"
            ]
          },
          "metadata": {},
          "execution_count": 175
        },
        {
          "output_type": "display_data",
          "data": {
            "text/plain": [
              "<Figure size 640x480 with 1 Axes>"
            ],
            "image/png": "[encoded data removed]"
          },
          "metadata": {}
        }
      ]
    },
    {
      "cell_type": "code",
      "source": [
        "# Extra: mais de um plot por vez (subplots)\n",
        "X = np.linspace(-2 * np.pi, 2 * np.pi, 1000)\n",
        "Y = np.sin(X)\n",
        "\n",
        "plt.subplot(2, 3, 1)   # Dado um esquema de 2 linhas e 3 colunas, coloque o próximo gráfico na primeira posição\n",
        "plt.plot(X, Y, color='orange', linewidth = 4, linestyle = ':')\n",
        "\n",
        "plt.subplot(2, 3, 2)   # Dado um esquema de 2 linhas e 3 colunas, coloque o próximo gráfico na segunda posição (...)\n",
        "plt.plot(X, Y, color='red', linewidth = 4, linestyle = ':')\n",
        "\n",
        "plt.subplot(2, 3, 3)\n",
        "plt.plot(X, Y, color='blue', linewidth = 4, linestyle = ':')\n",
        "\n",
        "plt.subplot(2, 3, 4)\n",
        "plt.plot(X, Y, color='yellow', linewidth = 4, linestyle = ':')\n",
        "\n",
        "plt.subplot(2, 3, 5)\n",
        "plt.plot(X, Y, color='black', linewidth = 4, linestyle = ':')\n",
        "\n",
        "plt.subplot(2, 3, 6)\n",
        "plt.plot(X, Y, color='green', linewidth = 4, linestyle = ':')"
      ],
      "metadata": {
        "id": "W1z9Z4ZMn-q0",
        "outputId": "6e5e7c06-6739-41a6-ecf8-940aca64023f",
        "colab": {
          "base_uri": "https://localhost:8080/",
          "height": 447
        }
      },
      "execution_count": 176,
      "outputs": [
        {
          "output_type": "execute_result",
          "data": {
            "text/plain": [
              "[<matplotlib.lines.Line2D at 0x7fa44a9805e0>]"
            ]
          },
          "metadata": {},
          "execution_count": 176
        },
        {
          "output_type": "display_data",
          "data": {
            "text/plain": [
              "<Figure size 640x480 with 6 Axes>"
            ],
            "image/png": "[encoded data removed]"
          },
          "metadata": {}
        }
      ]
    },
    {
      "cell_type": "markdown",
      "source": [
        "Outros tipos de gráficos com distribuições estatísticas"
      ],
      "metadata": {
        "id": "EThHHAolsHko"
      }
    },
    {
      "cell_type": "code",
      "source": [
        "# Gerando dados normais\n",
        "\n",
        "mu, sigma = 0, 0.1  # mean and standard deviation\n",
        "s = np.random.normal(mu, sigma, 1000)"
      ],
      "metadata": {
        "id": "jDnaX5Y5sK0X"
      },
      "execution_count": 177,
      "outputs": []
    },
    {
      "cell_type": "code",
      "source": [
        "# Histograma\n",
        "\n",
        "plt.hist(s, 30)\n",
        "# Gráfico de 30 elementos gerados"
      ],
      "metadata": {
        "id": "nW9iZfhhsI3-",
        "outputId": "e0873103-c25b-4a8d-f2e7-e84735e6767c",
        "colab": {
          "base_uri": "https://localhost:8080/",
          "height": 621
        }
      },
      "execution_count": 180,
      "outputs": [
        {
          "output_type": "execute_result",
          "data": {
            "text/plain": [
              "(array([ 1.,  0.,  1.,  2.,  6., 10., 12., 12., 26., 37., 35., 54., 45.,\n",
              "        75., 73., 78., 60., 75., 84., 70., 76., 41., 41., 33., 19., 11.,\n",
              "        12.,  5.,  5.,  1.]),\n",
              " array([-0.34867081, -0.32738668, -0.30610254, -0.28481841, -0.26353427,\n",
              "        -0.24225014, -0.220966  , -0.19968187, -0.17839773, -0.1571136 ,\n",
              "        -0.13582947, -0.11454533, -0.0932612 , -0.07197706, -0.05069293,\n",
              "        -0.02940879, -0.00812466,  0.01315948,  0.03444361,  0.05572775,\n",
              "         0.07701188,  0.09829602,  0.11958015,  0.14086429,  0.16214842,\n",
              "         0.18343256,  0.20471669,  0.22600082,  0.24728496,  0.26856909,\n",
              "         0.28985323]),\n",
              " <BarContainer object of 30 artists>)"
            ]
          },
          "metadata": {},
          "execution_count": 180
        },
        {
          "output_type": "display_data",
          "data": {
            "text/plain": [
              "<Figure size 640x480 with 1 Axes>"
            ],
            "image/png": "[encoded data removed]"
          },
          "metadata": {}
        }
      ]
    },
    {
      "cell_type": "markdown",
      "source": [
        "Consultas matplotlib:\n",
        "\n",
        "Alguns exemplos de gráficos: https://matplotlib.org/stable/plot_types/index.html\n",
        "\n",
        "Cola para estilos de gráficos: https://matplotlib.org/3.5.0/gallery/style_sheets/style_sheets_reference.html"
      ],
      "metadata": {
        "id": "aPuZ3dC-s-v7"
      }
    },
    {
      "cell_type": "markdown",
      "source": [
        "**Extra**\n",
        "<font color='orange'> **Fique de olho no pacote Seaborn!** </font> <br>\n",
        "Seaborn é uma biblioteca de interface de alto nível baseada no pacote matplotlib que estamos estudando.\n",
        "Obs: No geral é uma ótima biblioteca em termos visuais ⛳\n",
        "\n",
        "Lista de exemplos no seaborn: <br>\n",
        "https://seaborn.pydata.org/examples/index.html\n",
        "\n",
        "Leitura extra: <br>\n",
        "https://pt.linkedin.com/pulse/o-poder-dos-nascidos-mar-seaborn-para-visualiza%C3%A7%C3%A3o-de-manoel\n",
        "\n",
        "<img src=\"https://seaborn.pydata.org/_images/layered_bivariate_plot.png\" width=30%>"
      ],
      "metadata": {
        "id": "uCLG-qAEA6g0"
      }
    },
    {
      "cell_type": "code",
      "source": [
        "# Importando o seaborn\n",
        "import seaborn as sns\n",
        "\n",
        "# import de uma base de dados pronta\n",
        "penguins = sns.load_dataset(\"penguins\")\n",
        "\n",
        "# plot gráfico\n",
        "sns.histplot(data = penguins, x=\"flipper_length_mm\")"
      ],
      "metadata": {
        "id": "WXlblBUj3HYl",
        "outputId": "80c68642-b33b-4f95-a67c-ebdbde01dad7",
        "colab": {
          "base_uri": "https://localhost:8080/",
          "height": 467
        }
      },
      "execution_count": 182,
      "outputs": [
        {
          "output_type": "execute_result",
          "data": {
            "text/plain": [
              "<Axes: xlabel='flipper_length_mm', ylabel='Count'>"
            ]
          },
          "metadata": {},
          "execution_count": 182
        },
        {
          "output_type": "display_data",
          "data": {
            "text/plain": [
              "<Figure size 640x480 with 1 Axes>"
            ],
            "image/png": "[encoded data removed]"
          },
          "metadata": {}
        }
      ]
    },
    {
      "cell_type": "code",
      "source": [
        "# Plot de barras\n",
        "\n",
        "# make data:\n",
        "np.random.seed(3)\n",
        "x = 0.5 + np.arange(8)\n",
        "y = np.random.uniform(2, 7, len(x))\n",
        "\n",
        "# plot\n",
        "fig, ax = plt.subplots()\n",
        "\n",
        "ax.bar(x, y, width=1, edgecolor=\"white\", linewidth=0.7)\n",
        "\n",
        "ax.set(xlim=(0, 8), xticks=np.arange(1, 8),\n",
        "       ylim=(0, 8), yticks=np.arange(1, 8))\n",
        "\n",
        "plt.show()"
      ],
      "metadata": {
        "id": "ziRvIcMosiy_",
        "outputId": "a16b15d9-2c68-4343-fd2c-a42e2aad8a16",
        "colab": {
          "base_uri": "https://localhost:8080/",
          "height": 430
        }
      },
      "execution_count": 183,
      "outputs": [
        {
          "output_type": "display_data",
          "data": {
            "text/plain": [
              "<Figure size 640x480 with 1 Axes>"
            ],
            "image/png": "[encoded data removed]"
          },
          "metadata": {}
        }
      ]
    },
    {
      "cell_type": "code",
      "source": [
        "# Plot de pizza\n",
        "\n",
        "# make data\n",
        "x = [1, 2, 3, 4]\n",
        "colors = plt.get_cmap('Blues')(np.linspace(0.2, 0.7, len(x)))\n",
        "\n",
        "# plot\n",
        "fig, ax = plt.subplots()\n",
        "ax.pie(x, colors=colors, radius=3, center=(4, 4),\n",
        "       wedgeprops={\"linewidth\": 1, \"edgecolor\": \"white\"}, frame=True)\n",
        "\n",
        "ax.set(xlim=(0, 8), xticks=np.arange(1, 8),\n",
        "       ylim=(0, 8), yticks=np.arange(1, 8))\n",
        "\n",
        "plt.show()"
      ],
      "metadata": {
        "id": "LSi-qURltPCM",
        "outputId": "97495ada-ffef-4bee-b57d-a27936a88c61",
        "colab": {
          "base_uri": "https://localhost:8080/",
          "height": 430
        }
      },
      "execution_count": 184,
      "outputs": [
        {
          "output_type": "display_data",
          "data": {
            "text/plain": [
              "<Figure size 640x480 with 1 Axes>"
            ],
            "image/png": "[encoded data removed]"
          },
          "metadata": {}
        }
      ]
    },
    {
      "cell_type": "markdown",
      "source": [
        "Estes últimos gráficos foram feitos utilizando https://matplotlib.org/stable/plot_types/index.html"
      ],
      "metadata": {
        "id": "q67QGR-dwVfA"
      }
    },
    {
      "cell_type": "markdown",
      "source": [
        "# PARTE 03"
      ],
      "metadata": {
        "id": "GsG4G33YCKBK"
      }
    },
    {
      "cell_type": "markdown",
      "source": [
        "## Pandas"
      ],
      "metadata": {
        "id": "TsK4fSW1tb-O"
      }
    },
    {
      "cell_type": "markdown",
      "source": [
        "Pandas é uma biblioteca que utiliza o matplotlib e numpy como base e retorna tabelas com indexação para linhas e colunas (como o excel) em formato de ***séries*** e ***dataframes*** por exemplo.\n",
        "\n",
        "Nele, podemos ler arquivos de diversas fontes e formatações possíveis.\n",
        "\n",
        "Processaremos as tabelas com ele de forma fácil e muito mais rápida do que quando usamos excel para arquivos maiores, pois o limite de linhas no excel é de 1.048.576 linhas (consideravelmente pequeno).\n",
        "\n",
        "Sobre o retorno do pandas:\n",
        "1. Séries:\n",
        "- Semelhante a um array de uma dimensão, mas com a possibilidade de se indexar por \"nomes\" (rótulos) e não só inteiros.\n",
        "- Podem ser criadas a partir de dataframes e sequências básicas como listas, dicionários e arrays.\n",
        "- Encontrada pelo comando `pd.Series()`\n",
        "\n",
        "2. DataFrames:\n",
        "- Uma tabela propriamente dita (com indexação).\n",
        "- Podem ser importados para o python através de CSV, excel, web scraping etc.\n",
        "- Podem ser criados através de matriz, dicionários, listas de listas (entre outras listas e tuplas) etc.\n",
        "- Encontrado pelo comando `pd.DataFrame()`\n",
        "\n",
        "Dica extra: caso o tamanho do arquivo seja exorbitante, utilize o pacote inspirado no pandas para processamento paralelo: **dask** (https://dask.org/)\n",
        "\n",
        "<img src=\"https://files.realpython.com/media/Reading-and-Writing-Data-With-Pandas_Watermarked.435ef1c38466.jpg\" width=50%>\n",
        "\n",
        "*fonte-img: https://realpython.com/pandas-read-write-files/*"
      ],
      "metadata": {
        "id": "Qkex237QGvCT"
      }
    },
    {
      "cell_type": "code",
      "source": [
        "# Importação do pacote pandas\n",
        "import pandas as  pd\n"
      ],
      "metadata": {
        "id": "FNePixnWQsvN"
      },
      "execution_count": 185,
      "outputs": []
    },
    {
      "cell_type": "code",
      "source": [
        "import numpy as np\n",
        "\n",
        "# Criando um dataset aluno\n",
        "data = {'aluno'       : ['João', 'Ribeiro', 'Evaldo', 'Isaias', 'Jessyca','Anne','Luiz'],    \n",
        "        'idade'       : ['20', '29', '22', '21', '35', '32', '40'],    \n",
        "        'cidade'      : ['São Paulo', 'São João', 'Pinhal', 'Mococa', 'Poços', 'Botelhos', 'Pinhal'],\n",
        "        'aniversario' : ['021004', '030220', np.nan, '000420', '871212', '000101', np.nan] }           #np.nan nos traz um NaN (not a number)\n",
        "\n",
        "df = pd.DataFrame(data)\n",
        "\n",
        "print(df)"
      ],
      "metadata": {
        "id": "earrM4ckSx7I",
        "outputId": "66f90c39-ee96-4219-c214-0bd5a9ca932e",
        "colab": {
          "base_uri": "https://localhost:8080/"
        }
      },
      "execution_count": 187,
      "outputs": [
        {
          "output_type": "stream",
          "name": "stdout",
          "text": [
            "     aluno idade     cidade aniversario\n",
            "0     João    20  São Paulo      021004\n",
            "1  Ribeiro    29   São João      030220\n",
            "2   Evaldo    22     Pinhal         NaN\n",
            "3   Isaias    21     Mococa      000420\n",
            "4  Jessyca    35      Poços      871212\n",
            "5     Anne    32   Botelhos      000101\n",
            "6     Luiz    40     Pinhal         NaN\n"
          ]
        }
      ]
    },
    {
      "cell_type": "code",
      "source": [
        "# Lendo as 5 primeiras linhas com o comando head()\n",
        "df.head()\n",
        "# Lendo as 3 primeiras linhas\n",
        "df.head(3)\n",
        "# Lendo as últimas 5 linhas com o tail()\n",
        "df.tail(5)\n",
        "# Lendo 2 amostras aleatórias com o sample()\n",
        "df.sample(2)"
      ],
      "metadata": {
        "id": "zjRsFXCNTlW-",
        "outputId": "2b20ac59-1a0d-4eb6-ffc3-8c2a43b17832",
        "colab": {
          "base_uri": "https://localhost:8080/",
          "height": 112
        }
      },
      "execution_count": 191,
      "outputs": [
        {
          "output_type": "execute_result",
          "data": {
            "text/plain": [
              "    aluno idade  cidade aniversario\n",
              "3  Isaias    21  Mococa      000420\n",
              "2  Evaldo    22  Pinhal         NaN"
            ],
            "text/html": [
              "\n",
              "  <div id=\"df-464d9243-362e-4023-8c26-2320afde7fed\">\n",
              "    <div class=\"colab-df-container\">\n",
              "      <div>\n",
              "<style scoped>\n",
              "    .dataframe tbody tr th:only-of-type {\n",
              "        vertical-align: middle;\n",
              "    }\n",
              "\n",
              "    .dataframe tbody tr th {\n",
              "        vertical-align: top;\n",
              "    }\n",
              "\n",
              "    .dataframe thead th {\n",
              "        text-align: right;\n",
              "    }\n",
              "</style>\n",
              "<table border=\"1\" class=\"dataframe\">\n",
              "  <thead>\n",
              "    <tr style=\"text-align: right;\">\n",
              "      <th></th>\n",
              "      <th>aluno</th>\n",
              "      <th>idade</th>\n",
              "      <th>cidade</th>\n",
              "      <th>aniversario</th>\n",
              "    </tr>\n",
              "  </thead>\n",
              "  <tbody>\n",
              "    <tr>\n",
              "      <th>3</th>\n",
              "      <td>Isaias</td>\n",
              "      <td>21</td>\n",
              "      <td>Mococa</td>\n",
              "      <td>000420</td>\n",
              "    </tr>\n",
              "    <tr>\n",
              "      <th>2</th>\n",
              "      <td>Evaldo</td>\n",
              "      <td>22</td>\n",
              "      <td>Pinhal</td>\n",
              "      <td>NaN</td>\n",
              "    </tr>\n",
              "  </tbody>\n",
              "</table>\n",
              "</div>\n",
              "      <button class=\"colab-df-convert\" onclick=\"convertToInteractive('df-464d9243-362e-4023-8c26-2320afde7fed')\"\n",
              "              title=\"Convert this dataframe to an interactive table.\"\n",
              "              style=\"display:none;\">\n",
              "        \n",
              "  <svg xmlns=\"http://www.w3.org/2000/svg\" height=\"24px\"viewBox=\"0 0 24 24\"\n",
              "       width=\"24px\">\n",
              "    <path d=\"M0 0h24v24H0V0z\" fill=\"none\"/>\n",
              "    <path d=\"M18.56 5.44l.94 2.06.94-2.06 2.06-.94-2.06-.94-.94-2.06-.94 2.06-2.06.94zm-11 1L8.5 8.5l.94-2.06 2.06-.94-2.06-.94L8.5 2.5l-.94 2.06-2.06.94zm10 10l.94 2.06.94-2.06 2.06-.94-2.06-.94-.94-2.06-.94 2.06-2.06.94z\"/><path d=\"M17.41 7.96l-1.37-1.37c-.4-.4-.92-.59-1.43-.59-.52 0-1.04.2-1.43.59L10.3 9.45l-7.72 7.72c-.78.78-.78 2.05 0 2.83L4 21.41c.39.39.9.59 1.41.59.51 0 1.02-.2 1.41-.59l7.78-7.78 2.81-2.81c.8-.78.8-2.07 0-2.86zM5.41 20L4 18.59l7.72-7.72 1.47 1.35L5.41 20z\"/>\n",
              "  </svg>\n",
              "      </button>\n",
              "      \n",
              "  <style>\n",
              "    .colab-df-container {\n",
              "      display:flex;\n",
              "      flex-wrap:wrap;\n",
              "      gap: 12px;\n",
              "    }\n",
              "\n",
              "    .colab-df-convert {\n",
              "      background-color: #E8F0FE;\n",
              "      border: none;\n",
              "      border-radius: 50%;\n",
              "      cursor: pointer;\n",
              "      display: none;\n",
              "      fill: #1967D2;\n",
              "      height: 32px;\n",
              "      padding: 0 0 0 0;\n",
              "      width: 32px;\n",
              "    }\n",
              "\n",
              "    .colab-df-convert:hover {\n",
              "      background-color: #E2EBFA;\n",
              "      box-shadow: 0px 1px 2px rgba(60, 64, 67, 0.3), 0px 1px 3px 1px rgba(60, 64, 67, 0.15);\n",
              "      fill: #174EA6;\n",
              "    }\n",
              "\n",
              "    [theme=dark] .colab-df-convert {\n",
              "      background-color: #3B4455;\n",
              "      fill: #D2E3FC;\n",
              "    }\n",
              "\n",
              "    [theme=dark] .colab-df-convert:hover {\n",
              "      background-color: #434B5C;\n",
              "      box-shadow: 0px 1px 3px 1px rgba(0, 0, 0, 0.15);\n",
              "      filter: drop-shadow(0px 1px 2px rgba(0, 0, 0, 0.3));\n",
              "      fill: #FFFFFF;\n",
              "    }\n",
              "  </style>\n",
              "\n",
              "      <script>\n",
              "        const buttonEl =\n",
              "          document.querySelector('#df-464d9243-362e-4023-8c26-2320afde7fed button.colab-df-convert');\n",
              "        buttonEl.style.display =\n",
              "          google.colab.kernel.accessAllowed ? 'block' : 'none';\n",
              "\n",
              "        async function convertToInteractive(key) {\n",
              "          const element = document.querySelector('#df-464d9243-362e-4023-8c26-2320afde7fed');\n",
              "          const dataTable =\n",
              "            await google.colab.kernel.invokeFunction('convertToInteractive',\n",
              "                                                     [key], {});\n",
              "          if (!dataTable) return;\n",
              "\n",
              "          const docLinkHtml = 'Like what you see? Visit the ' +\n",
              "            '<a target=\"_blank\" href=https://colab.research.google.com/notebooks/data_table.ipynb>data table notebook</a>'\n",
              "            + ' to learn more about interactive tables.';\n",
              "          element.innerHTML = '';\n",
              "          dataTable['output_type'] = 'display_data';\n",
              "          await google.colab.output.renderOutput(dataTable, element);\n",
              "          const docLink = document.createElement('div');\n",
              "          docLink.innerHTML = docLinkHtml;\n",
              "          element.appendChild(docLink);\n",
              "        }\n",
              "      </script>\n",
              "    </div>\n",
              "  </div>\n",
              "  "
            ]
          },
          "metadata": {},
          "execution_count": 191
        }
      ]
    },
    {
      "cell_type": "code",
      "source": [
        "# Acessando a coluna nome\n",
        "df['aluno']\n"
      ],
      "metadata": {
        "id": "muTHSg7MVEBE",
        "outputId": "7102f43e-ff12-4411-d4f0-1cbf533c180a",
        "colab": {
          "base_uri": "https://localhost:8080/"
        }
      },
      "execution_count": 192,
      "outputs": [
        {
          "output_type": "execute_result",
          "data": {
            "text/plain": [
              "0       João\n",
              "1    Ribeiro\n",
              "2     Evaldo\n",
              "3     Isaias\n",
              "4    Jessyca\n",
              "5       Anne\n",
              "6       Luiz\n",
              "Name: aluno, dtype: object"
            ]
          },
          "metadata": {},
          "execution_count": 192
        }
      ]
    },
    {
      "cell_type": "code",
      "source": [
        "# Acessando as colunas nome e idade\n",
        "df[['aluno', 'idade']]\n"
      ],
      "metadata": {
        "id": "1B_DiYPTVKlN",
        "outputId": "44091608-c772-48fe-877c-afbf168c5245",
        "colab": {
          "base_uri": "https://localhost:8080/",
          "height": 269
        }
      },
      "execution_count": 195,
      "outputs": [
        {
          "output_type": "execute_result",
          "data": {
            "text/plain": [
              "     aluno idade\n",
              "0     João    20\n",
              "1  Ribeiro    29\n",
              "2   Evaldo    22\n",
              "3   Isaias    21\n",
              "4  Jessyca    35\n",
              "5     Anne    32\n",
              "6     Luiz    40"
            ],
            "text/html": [
              "\n",
              "  <div id=\"df-d4b5066d-e8e9-4f20-9f69-6cc77b347be2\">\n",
              "    <div class=\"colab-df-container\">\n",
              "      <div>\n",
              "<style scoped>\n",
              "    .dataframe tbody tr th:only-of-type {\n",
              "        vertical-align: middle;\n",
              "    }\n",
              "\n",
              "    .dataframe tbody tr th {\n",
              "        vertical-align: top;\n",
              "    }\n",
              "\n",
              "    .dataframe thead th {\n",
              "        text-align: right;\n",
              "    }\n",
              "</style>\n",
              "<table border=\"1\" class=\"dataframe\">\n",
              "  <thead>\n",
              "    <tr style=\"text-align: right;\">\n",
              "      <th></th>\n",
              "      <th>aluno</th>\n",
              "      <th>idade</th>\n",
              "    </tr>\n",
              "  </thead>\n",
              "  <tbody>\n",
              "    <tr>\n",
              "      <th>0</th>\n",
              "      <td>João</td>\n",
              "      <td>20</td>\n",
              "    </tr>\n",
              "    <tr>\n",
              "      <th>1</th>\n",
              "      <td>Ribeiro</td>\n",
              "      <td>29</td>\n",
              "    </tr>\n",
              "    <tr>\n",
              "      <th>2</th>\n",
              "      <td>Evaldo</td>\n",
              "      <td>22</td>\n",
              "    </tr>\n",
              "    <tr>\n",
              "      <th>3</th>\n",
              "      <td>Isaias</td>\n",
              "      <td>21</td>\n",
              "    </tr>\n",
              "    <tr>\n",
              "      <th>4</th>\n",
              "      <td>Jessyca</td>\n",
              "      <td>35</td>\n",
              "    </tr>\n",
              "    <tr>\n",
              "      <th>5</th>\n",
              "      <td>Anne</td>\n",
              "      <td>32</td>\n",
              "    </tr>\n",
              "    <tr>\n",
              "      <th>6</th>\n",
              "      <td>Luiz</td>\n",
              "      <td>40</td>\n",
              "    </tr>\n",
              "  </tbody>\n",
              "</table>\n",
              "</div>\n",
              "      <button class=\"colab-df-convert\" onclick=\"convertToInteractive('df-d4b5066d-e8e9-4f20-9f69-6cc77b347be2')\"\n",
              "              title=\"Convert this dataframe to an interactive table.\"\n",
              "              style=\"display:none;\">\n",
              "        \n",
              "  <svg xmlns=\"http://www.w3.org/2000/svg\" height=\"24px\"viewBox=\"0 0 24 24\"\n",
              "       width=\"24px\">\n",
              "    <path d=\"M0 0h24v24H0V0z\" fill=\"none\"/>\n",
              "    <path d=\"M18.56 5.44l.94 2.06.94-2.06 2.06-.94-2.06-.94-.94-2.06-.94 2.06-2.06.94zm-11 1L8.5 8.5l.94-2.06 2.06-.94-2.06-.94L8.5 2.5l-.94 2.06-2.06.94zm10 10l.94 2.06.94-2.06 2.06-.94-2.06-.94-.94-2.06-.94 2.06-2.06.94z\"/><path d=\"M17.41 7.96l-1.37-1.37c-.4-.4-.92-.59-1.43-.59-.52 0-1.04.2-1.43.59L10.3 9.45l-7.72 7.72c-.78.78-.78 2.05 0 2.83L4 21.41c.39.39.9.59 1.41.59.51 0 1.02-.2 1.41-.59l7.78-7.78 2.81-2.81c.8-.78.8-2.07 0-2.86zM5.41 20L4 18.59l7.72-7.72 1.47 1.35L5.41 20z\"/>\n",
              "  </svg>\n",
              "      </button>\n",
              "      \n",
              "  <style>\n",
              "    .colab-df-container {\n",
              "      display:flex;\n",
              "      flex-wrap:wrap;\n",
              "      gap: 12px;\n",
              "    }\n",
              "\n",
              "    .colab-df-convert {\n",
              "      background-color: #E8F0FE;\n",
              "      border: none;\n",
              "      border-radius: 50%;\n",
              "      cursor: pointer;\n",
              "      display: none;\n",
              "      fill: #1967D2;\n",
              "      height: 32px;\n",
              "      padding: 0 0 0 0;\n",
              "      width: 32px;\n",
              "    }\n",
              "\n",
              "    .colab-df-convert:hover {\n",
              "      background-color: #E2EBFA;\n",
              "      box-shadow: 0px 1px 2px rgba(60, 64, 67, 0.3), 0px 1px 3px 1px rgba(60, 64, 67, 0.15);\n",
              "      fill: #174EA6;\n",
              "    }\n",
              "\n",
              "    [theme=dark] .colab-df-convert {\n",
              "      background-color: #3B4455;\n",
              "      fill: #D2E3FC;\n",
              "    }\n",
              "\n",
              "    [theme=dark] .colab-df-convert:hover {\n",
              "      background-color: #434B5C;\n",
              "      box-shadow: 0px 1px 3px 1px rgba(0, 0, 0, 0.15);\n",
              "      filter: drop-shadow(0px 1px 2px rgba(0, 0, 0, 0.3));\n",
              "      fill: #FFFFFF;\n",
              "    }\n",
              "  </style>\n",
              "\n",
              "      <script>\n",
              "        const buttonEl =\n",
              "          document.querySelector('#df-d4b5066d-e8e9-4f20-9f69-6cc77b347be2 button.colab-df-convert');\n",
              "        buttonEl.style.display =\n",
              "          google.colab.kernel.accessAllowed ? 'block' : 'none';\n",
              "\n",
              "        async function convertToInteractive(key) {\n",
              "          const element = document.querySelector('#df-d4b5066d-e8e9-4f20-9f69-6cc77b347be2');\n",
              "          const dataTable =\n",
              "            await google.colab.kernel.invokeFunction('convertToInteractive',\n",
              "                                                     [key], {});\n",
              "          if (!dataTable) return;\n",
              "\n",
              "          const docLinkHtml = 'Like what you see? Visit the ' +\n",
              "            '<a target=\"_blank\" href=https://colab.research.google.com/notebooks/data_table.ipynb>data table notebook</a>'\n",
              "            + ' to learn more about interactive tables.';\n",
              "          element.innerHTML = '';\n",
              "          dataTable['output_type'] = 'display_data';\n",
              "          await google.colab.output.renderOutput(dataTable, element);\n",
              "          const docLink = document.createElement('div');\n",
              "          docLink.innerHTML = docLinkHtml;\n",
              "          element.appendChild(docLink);\n",
              "        }\n",
              "      </script>\n",
              "    </div>\n",
              "  </div>\n",
              "  "
            ]
          },
          "metadata": {},
          "execution_count": 195
        }
      ]
    },
    {
      "cell_type": "code",
      "source": [
        "# Verificando o tipo dos dados de cada coluna: IMPORTANTE!\n",
        "df.dtypes"
      ],
      "metadata": {
        "id": "C26xipH1T6AY",
        "outputId": "2cab97b5-42dd-483a-fc11-f6003f88b3d8",
        "colab": {
          "base_uri": "https://localhost:8080/"
        }
      },
      "execution_count": 196,
      "outputs": [
        {
          "output_type": "execute_result",
          "data": {
            "text/plain": [
              "aluno          object\n",
              "idade          object\n",
              "cidade         object\n",
              "aniversario    object\n",
              "dtype: object"
            ]
          },
          "metadata": {},
          "execution_count": 196
        }
      ]
    },
    {
      "cell_type": "code",
      "source": [
        "# Transformando a coluna idade para o tipo int\n",
        "df['idade'] = df['idade'].astype(int)\n",
        "df.dtypes\n"
      ],
      "metadata": {
        "id": "3BrqDtukVui1",
        "outputId": "0badfa22-cf32-4cb3-8ec3-8afc674294f9",
        "colab": {
          "base_uri": "https://localhost:8080/"
        }
      },
      "execution_count": 197,
      "outputs": [
        {
          "output_type": "execute_result",
          "data": {
            "text/plain": [
              "aluno          object\n",
              "idade           int64\n",
              "cidade         object\n",
              "aniversario    object\n",
              "dtype: object"
            ]
          },
          "metadata": {},
          "execution_count": 197
        }
      ]
    },
    {
      "cell_type": "code",
      "source": [
        "# Transformando a coluna aniversário para o tipo data\n",
        "df['aniversario'] = pd.to_datetime(df['aniversario'], format = '%y%m%d')\n",
        "df.dtypes\n"
      ],
      "metadata": {
        "id": "NUZrVk-1U-Rh",
        "outputId": "7c0cf30c-50df-4d72-e2d4-8a19dec8ded3",
        "colab": {
          "base_uri": "https://localhost:8080/"
        }
      },
      "execution_count": 200,
      "outputs": [
        {
          "output_type": "execute_result",
          "data": {
            "text/plain": [
              "aluno                  object\n",
              "idade                   int64\n",
              "cidade                 object\n",
              "aniversario    datetime64[ns]\n",
              "dtype: object"
            ]
          },
          "metadata": {},
          "execution_count": 200
        }
      ]
    },
    {
      "cell_type": "code",
      "source": [
        "# Verificando como ficou a data após a transformação\n",
        "df.sample(2)"
      ],
      "metadata": {
        "id": "HDoN-r4WbL0S",
        "outputId": "6ecc174c-e284-41d9-a8cc-59decaac4295",
        "colab": {
          "base_uri": "https://localhost:8080/",
          "height": 112
        }
      },
      "execution_count": 202,
      "outputs": [
        {
          "output_type": "execute_result",
          "data": {
            "text/plain": [
              "    aluno  idade    cidade aniversario\n",
              "3  Isaias     21    Mococa  2000-04-20\n",
              "5    Anne     32  Botelhos  2000-01-01"
            ],
            "text/html": [
              "\n",
              "  <div id=\"df-7ceb9cd8-cb35-40f3-a8d0-1ecb7dbc1f08\">\n",
              "    <div class=\"colab-df-container\">\n",
              "      <div>\n",
              "<style scoped>\n",
              "    .dataframe tbody tr th:only-of-type {\n",
              "        vertical-align: middle;\n",
              "    }\n",
              "\n",
              "    .dataframe tbody tr th {\n",
              "        vertical-align: top;\n",
              "    }\n",
              "\n",
              "    .dataframe thead th {\n",
              "        text-align: right;\n",
              "    }\n",
              "</style>\n",
              "<table border=\"1\" class=\"dataframe\">\n",
              "  <thead>\n",
              "    <tr style=\"text-align: right;\">\n",
              "      <th></th>\n",
              "      <th>aluno</th>\n",
              "      <th>idade</th>\n",
              "      <th>cidade</th>\n",
              "      <th>aniversario</th>\n",
              "    </tr>\n",
              "  </thead>\n",
              "  <tbody>\n",
              "    <tr>\n",
              "      <th>3</th>\n",
              "      <td>Isaias</td>\n",
              "      <td>21</td>\n",
              "      <td>Mococa</td>\n",
              "      <td>2000-04-20</td>\n",
              "    </tr>\n",
              "    <tr>\n",
              "      <th>5</th>\n",
              "      <td>Anne</td>\n",
              "      <td>32</td>\n",
              "      <td>Botelhos</td>\n",
              "      <td>2000-01-01</td>\n",
              "    </tr>\n",
              "  </tbody>\n",
              "</table>\n",
              "</div>\n",
              "      <button class=\"colab-df-convert\" onclick=\"convertToInteractive('df-7ceb9cd8-cb35-40f3-a8d0-1ecb7dbc1f08')\"\n",
              "              title=\"Convert this dataframe to an interactive table.\"\n",
              "              style=\"display:none;\">\n",
              "        \n",
              "  <svg xmlns=\"http://www.w3.org/2000/svg\" height=\"24px\"viewBox=\"0 0 24 24\"\n",
              "       width=\"24px\">\n",
              "    <path d=\"M0 0h24v24H0V0z\" fill=\"none\"/>\n",
              "    <path d=\"M18.56 5.44l.94 2.06.94-2.06 2.06-.94-2.06-.94-.94-2.06-.94 2.06-2.06.94zm-11 1L8.5 8.5l.94-2.06 2.06-.94-2.06-.94L8.5 2.5l-.94 2.06-2.06.94zm10 10l.94 2.06.94-2.06 2.06-.94-2.06-.94-.94-2.06-.94 2.06-2.06.94z\"/><path d=\"M17.41 7.96l-1.37-1.37c-.4-.4-.92-.59-1.43-.59-.52 0-1.04.2-1.43.59L10.3 9.45l-7.72 7.72c-.78.78-.78 2.05 0 2.83L4 21.41c.39.39.9.59 1.41.59.51 0 1.02-.2 1.41-.59l7.78-7.78 2.81-2.81c.8-.78.8-2.07 0-2.86zM5.41 20L4 18.59l7.72-7.72 1.47 1.35L5.41 20z\"/>\n",
              "  </svg>\n",
              "      </button>\n",
              "      \n",
              "  <style>\n",
              "    .colab-df-container {\n",
              "      display:flex;\n",
              "      flex-wrap:wrap;\n",
              "      gap: 12px;\n",
              "    }\n",
              "\n",
              "    .colab-df-convert {\n",
              "      background-color: #E8F0FE;\n",
              "      border: none;\n",
              "      border-radius: 50%;\n",
              "      cursor: pointer;\n",
              "      display: none;\n",
              "      fill: #1967D2;\n",
              "      height: 32px;\n",
              "      padding: 0 0 0 0;\n",
              "      width: 32px;\n",
              "    }\n",
              "\n",
              "    .colab-df-convert:hover {\n",
              "      background-color: #E2EBFA;\n",
              "      box-shadow: 0px 1px 2px rgba(60, 64, 67, 0.3), 0px 1px 3px 1px rgba(60, 64, 67, 0.15);\n",
              "      fill: #174EA6;\n",
              "    }\n",
              "\n",
              "    [theme=dark] .colab-df-convert {\n",
              "      background-color: #3B4455;\n",
              "      fill: #D2E3FC;\n",
              "    }\n",
              "\n",
              "    [theme=dark] .colab-df-convert:hover {\n",
              "      background-color: #434B5C;\n",
              "      box-shadow: 0px 1px 3px 1px rgba(0, 0, 0, 0.15);\n",
              "      filter: drop-shadow(0px 1px 2px rgba(0, 0, 0, 0.3));\n",
              "      fill: #FFFFFF;\n",
              "    }\n",
              "  </style>\n",
              "\n",
              "      <script>\n",
              "        const buttonEl =\n",
              "          document.querySelector('#df-7ceb9cd8-cb35-40f3-a8d0-1ecb7dbc1f08 button.colab-df-convert');\n",
              "        buttonEl.style.display =\n",
              "          google.colab.kernel.accessAllowed ? 'block' : 'none';\n",
              "\n",
              "        async function convertToInteractive(key) {\n",
              "          const element = document.querySelector('#df-7ceb9cd8-cb35-40f3-a8d0-1ecb7dbc1f08');\n",
              "          const dataTable =\n",
              "            await google.colab.kernel.invokeFunction('convertToInteractive',\n",
              "                                                     [key], {});\n",
              "          if (!dataTable) return;\n",
              "\n",
              "          const docLinkHtml = 'Like what you see? Visit the ' +\n",
              "            '<a target=\"_blank\" href=https://colab.research.google.com/notebooks/data_table.ipynb>data table notebook</a>'\n",
              "            + ' to learn more about interactive tables.';\n",
              "          element.innerHTML = '';\n",
              "          dataTable['output_type'] = 'display_data';\n",
              "          await google.colab.output.renderOutput(dataTable, element);\n",
              "          const docLink = document.createElement('div');\n",
              "          docLink.innerHTML = docLinkHtml;\n",
              "          element.appendChild(docLink);\n",
              "        }\n",
              "      </script>\n",
              "    </div>\n",
              "  </div>\n",
              "  "
            ]
          },
          "metadata": {},
          "execution_count": 202
        }
      ]
    },
    {
      "cell_type": "code",
      "source": [
        "# Verificando os rótulos das colunas\n",
        "df.columns.values\n"
      ],
      "metadata": {
        "id": "mYkHL6OFUKoA",
        "outputId": "4b10b55d-c26e-4142-a4fc-28237e8ab1b0",
        "colab": {
          "base_uri": "https://localhost:8080/"
        }
      },
      "execution_count": 205,
      "outputs": [
        {
          "output_type": "execute_result",
          "data": {
            "text/plain": [
              "array(['aluno', 'idade', 'cidade', 'aniversario'], dtype=object)"
            ]
          },
          "metadata": {},
          "execution_count": 205
        }
      ]
    },
    {
      "cell_type": "code",
      "source": [
        "# Recuperando somente os valores\n",
        "df.columns.values"
      ],
      "metadata": {
        "id": "qVOfYKirj54h",
        "outputId": "4f8b9a87-2a26-45a2-834f-8a637a64d90b",
        "colab": {
          "base_uri": "https://localhost:8080/"
        }
      },
      "execution_count": 212,
      "outputs": [
        {
          "output_type": "execute_result",
          "data": {
            "text/plain": [
              "array(['aluno', 'idade', 'cidade', 'aniversario'], dtype=object)"
            ]
          },
          "metadata": {},
          "execution_count": 212
        }
      ]
    },
    {
      "cell_type": "markdown",
      "source": [
        "Buscando valores com condição \"WHERE\"\n",
        "\n",
        "Ou seja... dado um dataset qualquer ou amostragem de dados, retorne apenas os dados que satisfazem a condição 'X'"
      ],
      "metadata": {
        "id": "yNvU1Ylvcghq"
      }
    },
    {
      "cell_type": "code",
      "source": [
        "# 1. Utilizando o método query() para retornar idades menores que 25 anos\n",
        "df.query('idade < 25')\n"
      ],
      "metadata": {
        "id": "RjjqxWBfcVNW",
        "outputId": "cee5312f-251e-41ad-e8a2-68a8d231a2d8",
        "colab": {
          "base_uri": "https://localhost:8080/",
          "height": 143
        }
      },
      "execution_count": 206,
      "outputs": [
        {
          "output_type": "execute_result",
          "data": {
            "text/plain": [
              "    aluno  idade     cidade aniversario\n",
              "0    João     20  São Paulo  2002-10-04\n",
              "2  Evaldo     22     Pinhal         NaT\n",
              "3  Isaias     21     Mococa  2000-04-20"
            ],
            "text/html": [
              "\n",
              "  <div id=\"df-82e6d2d7-9949-4301-9d66-8af6a4c44701\">\n",
              "    <div class=\"colab-df-container\">\n",
              "      <div>\n",
              "<style scoped>\n",
              "    .dataframe tbody tr th:only-of-type {\n",
              "        vertical-align: middle;\n",
              "    }\n",
              "\n",
              "    .dataframe tbody tr th {\n",
              "        vertical-align: top;\n",
              "    }\n",
              "\n",
              "    .dataframe thead th {\n",
              "        text-align: right;\n",
              "    }\n",
              "</style>\n",
              "<table border=\"1\" class=\"dataframe\">\n",
              "  <thead>\n",
              "    <tr style=\"text-align: right;\">\n",
              "      <th></th>\n",
              "      <th>aluno</th>\n",
              "      <th>idade</th>\n",
              "      <th>cidade</th>\n",
              "      <th>aniversario</th>\n",
              "    </tr>\n",
              "  </thead>\n",
              "  <tbody>\n",
              "    <tr>\n",
              "      <th>0</th>\n",
              "      <td>João</td>\n",
              "      <td>20</td>\n",
              "      <td>São Paulo</td>\n",
              "      <td>2002-10-04</td>\n",
              "    </tr>\n",
              "    <tr>\n",
              "      <th>2</th>\n",
              "      <td>Evaldo</td>\n",
              "      <td>22</td>\n",
              "      <td>Pinhal</td>\n",
              "      <td>NaT</td>\n",
              "    </tr>\n",
              "    <tr>\n",
              "      <th>3</th>\n",
              "      <td>Isaias</td>\n",
              "      <td>21</td>\n",
              "      <td>Mococa</td>\n",
              "      <td>2000-04-20</td>\n",
              "    </tr>\n",
              "  </tbody>\n",
              "</table>\n",
              "</div>\n",
              "      <button class=\"colab-df-convert\" onclick=\"convertToInteractive('df-82e6d2d7-9949-4301-9d66-8af6a4c44701')\"\n",
              "              title=\"Convert this dataframe to an interactive table.\"\n",
              "              style=\"display:none;\">\n",
              "        \n",
              "  <svg xmlns=\"http://www.w3.org/2000/svg\" height=\"24px\"viewBox=\"0 0 24 24\"\n",
              "       width=\"24px\">\n",
              "    <path d=\"M0 0h24v24H0V0z\" fill=\"none\"/>\n",
              "    <path d=\"M18.56 5.44l.94 2.06.94-2.06 2.06-.94-2.06-.94-.94-2.06-.94 2.06-2.06.94zm-11 1L8.5 8.5l.94-2.06 2.06-.94-2.06-.94L8.5 2.5l-.94 2.06-2.06.94zm10 10l.94 2.06.94-2.06 2.06-.94-2.06-.94-.94-2.06-.94 2.06-2.06.94z\"/><path d=\"M17.41 7.96l-1.37-1.37c-.4-.4-.92-.59-1.43-.59-.52 0-1.04.2-1.43.59L10.3 9.45l-7.72 7.72c-.78.78-.78 2.05 0 2.83L4 21.41c.39.39.9.59 1.41.59.51 0 1.02-.2 1.41-.59l7.78-7.78 2.81-2.81c.8-.78.8-2.07 0-2.86zM5.41 20L4 18.59l7.72-7.72 1.47 1.35L5.41 20z\"/>\n",
              "  </svg>\n",
              "      </button>\n",
              "      \n",
              "  <style>\n",
              "    .colab-df-container {\n",
              "      display:flex;\n",
              "      flex-wrap:wrap;\n",
              "      gap: 12px;\n",
              "    }\n",
              "\n",
              "    .colab-df-convert {\n",
              "      background-color: #E8F0FE;\n",
              "      border: none;\n",
              "      border-radius: 50%;\n",
              "      cursor: pointer;\n",
              "      display: none;\n",
              "      fill: #1967D2;\n",
              "      height: 32px;\n",
              "      padding: 0 0 0 0;\n",
              "      width: 32px;\n",
              "    }\n",
              "\n",
              "    .colab-df-convert:hover {\n",
              "      background-color: #E2EBFA;\n",
              "      box-shadow: 0px 1px 2px rgba(60, 64, 67, 0.3), 0px 1px 3px 1px rgba(60, 64, 67, 0.15);\n",
              "      fill: #174EA6;\n",
              "    }\n",
              "\n",
              "    [theme=dark] .colab-df-convert {\n",
              "      background-color: #3B4455;\n",
              "      fill: #D2E3FC;\n",
              "    }\n",
              "\n",
              "    [theme=dark] .colab-df-convert:hover {\n",
              "      background-color: #434B5C;\n",
              "      box-shadow: 0px 1px 3px 1px rgba(0, 0, 0, 0.15);\n",
              "      filter: drop-shadow(0px 1px 2px rgba(0, 0, 0, 0.3));\n",
              "      fill: #FFFFFF;\n",
              "    }\n",
              "  </style>\n",
              "\n",
              "      <script>\n",
              "        const buttonEl =\n",
              "          document.querySelector('#df-82e6d2d7-9949-4301-9d66-8af6a4c44701 button.colab-df-convert');\n",
              "        buttonEl.style.display =\n",
              "          google.colab.kernel.accessAllowed ? 'block' : 'none';\n",
              "\n",
              "        async function convertToInteractive(key) {\n",
              "          const element = document.querySelector('#df-82e6d2d7-9949-4301-9d66-8af6a4c44701');\n",
              "          const dataTable =\n",
              "            await google.colab.kernel.invokeFunction('convertToInteractive',\n",
              "                                                     [key], {});\n",
              "          if (!dataTable) return;\n",
              "\n",
              "          const docLinkHtml = 'Like what you see? Visit the ' +\n",
              "            '<a target=\"_blank\" href=https://colab.research.google.com/notebooks/data_table.ipynb>data table notebook</a>'\n",
              "            + ' to learn more about interactive tables.';\n",
              "          element.innerHTML = '';\n",
              "          dataTable['output_type'] = 'display_data';\n",
              "          await google.colab.output.renderOutput(dataTable, element);\n",
              "          const docLink = document.createElement('div');\n",
              "          docLink.innerHTML = docLinkHtml;\n",
              "          element.appendChild(docLink);\n",
              "        }\n",
              "      </script>\n",
              "    </div>\n",
              "  </div>\n",
              "  "
            ]
          },
          "metadata": {},
          "execution_count": 206
        }
      ]
    },
    {
      "cell_type": "code",
      "source": [
        "# 1. Utilizando o método query() para retornar idades menores que 25 E maior que 20\n",
        "df.query('idade > 20 & idade < 25')\n"
      ],
      "metadata": {
        "id": "b3JI0BbQcvoZ",
        "outputId": "701dbc67-5cbb-446e-a473-151bffbac446",
        "colab": {
          "base_uri": "https://localhost:8080/",
          "height": 112
        }
      },
      "execution_count": 214,
      "outputs": [
        {
          "output_type": "execute_result",
          "data": {
            "text/plain": [
              "    aluno  idade  cidade aniversario\n",
              "2  Evaldo     22  Pinhal         NaT\n",
              "3  Isaias     21  Mococa  2000-04-20"
            ],
            "text/html": [
              "\n",
              "  <div id=\"df-5e24d023-8526-4ec5-bb44-8d8e8a8c6d36\">\n",
              "    <div class=\"colab-df-container\">\n",
              "      <div>\n",
              "<style scoped>\n",
              "    .dataframe tbody tr th:only-of-type {\n",
              "        vertical-align: middle;\n",
              "    }\n",
              "\n",
              "    .dataframe tbody tr th {\n",
              "        vertical-align: top;\n",
              "    }\n",
              "\n",
              "    .dataframe thead th {\n",
              "        text-align: right;\n",
              "    }\n",
              "</style>\n",
              "<table border=\"1\" class=\"dataframe\">\n",
              "  <thead>\n",
              "    <tr style=\"text-align: right;\">\n",
              "      <th></th>\n",
              "      <th>aluno</th>\n",
              "      <th>idade</th>\n",
              "      <th>cidade</th>\n",
              "      <th>aniversario</th>\n",
              "    </tr>\n",
              "  </thead>\n",
              "  <tbody>\n",
              "    <tr>\n",
              "      <th>2</th>\n",
              "      <td>Evaldo</td>\n",
              "      <td>22</td>\n",
              "      <td>Pinhal</td>\n",
              "      <td>NaT</td>\n",
              "    </tr>\n",
              "    <tr>\n",
              "      <th>3</th>\n",
              "      <td>Isaias</td>\n",
              "      <td>21</td>\n",
              "      <td>Mococa</td>\n",
              "      <td>2000-04-20</td>\n",
              "    </tr>\n",
              "  </tbody>\n",
              "</table>\n",
              "</div>\n",
              "      <button class=\"colab-df-convert\" onclick=\"convertToInteractive('df-5e24d023-8526-4ec5-bb44-8d8e8a8c6d36')\"\n",
              "              title=\"Convert this dataframe to an interactive table.\"\n",
              "              style=\"display:none;\">\n",
              "        \n",
              "  <svg xmlns=\"http://www.w3.org/2000/svg\" height=\"24px\"viewBox=\"0 0 24 24\"\n",
              "       width=\"24px\">\n",
              "    <path d=\"M0 0h24v24H0V0z\" fill=\"none\"/>\n",
              "    <path d=\"M18.56 5.44l.94 2.06.94-2.06 2.06-.94-2.06-.94-.94-2.06-.94 2.06-2.06.94zm-11 1L8.5 8.5l.94-2.06 2.06-.94-2.06-.94L8.5 2.5l-.94 2.06-2.06.94zm10 10l.94 2.06.94-2.06 2.06-.94-2.06-.94-.94-2.06-.94 2.06-2.06.94z\"/><path d=\"M17.41 7.96l-1.37-1.37c-.4-.4-.92-.59-1.43-.59-.52 0-1.04.2-1.43.59L10.3 9.45l-7.72 7.72c-.78.78-.78 2.05 0 2.83L4 21.41c.39.39.9.59 1.41.59.51 0 1.02-.2 1.41-.59l7.78-7.78 2.81-2.81c.8-.78.8-2.07 0-2.86zM5.41 20L4 18.59l7.72-7.72 1.47 1.35L5.41 20z\"/>\n",
              "  </svg>\n",
              "      </button>\n",
              "      \n",
              "  <style>\n",
              "    .colab-df-container {\n",
              "      display:flex;\n",
              "      flex-wrap:wrap;\n",
              "      gap: 12px;\n",
              "    }\n",
              "\n",
              "    .colab-df-convert {\n",
              "      background-color: #E8F0FE;\n",
              "      border: none;\n",
              "      border-radius: 50%;\n",
              "      cursor: pointer;\n",
              "      display: none;\n",
              "      fill: #1967D2;\n",
              "      height: 32px;\n",
              "      padding: 0 0 0 0;\n",
              "      width: 32px;\n",
              "    }\n",
              "\n",
              "    .colab-df-convert:hover {\n",
              "      background-color: #E2EBFA;\n",
              "      box-shadow: 0px 1px 2px rgba(60, 64, 67, 0.3), 0px 1px 3px 1px rgba(60, 64, 67, 0.15);\n",
              "      fill: #174EA6;\n",
              "    }\n",
              "\n",
              "    [theme=dark] .colab-df-convert {\n",
              "      background-color: #3B4455;\n",
              "      fill: #D2E3FC;\n",
              "    }\n",
              "\n",
              "    [theme=dark] .colab-df-convert:hover {\n",
              "      background-color: #434B5C;\n",
              "      box-shadow: 0px 1px 3px 1px rgba(0, 0, 0, 0.15);\n",
              "      filter: drop-shadow(0px 1px 2px rgba(0, 0, 0, 0.3));\n",
              "      fill: #FFFFFF;\n",
              "    }\n",
              "  </style>\n",
              "\n",
              "      <script>\n",
              "        const buttonEl =\n",
              "          document.querySelector('#df-5e24d023-8526-4ec5-bb44-8d8e8a8c6d36 button.colab-df-convert');\n",
              "        buttonEl.style.display =\n",
              "          google.colab.kernel.accessAllowed ? 'block' : 'none';\n",
              "\n",
              "        async function convertToInteractive(key) {\n",
              "          const element = document.querySelector('#df-5e24d023-8526-4ec5-bb44-8d8e8a8c6d36');\n",
              "          const dataTable =\n",
              "            await google.colab.kernel.invokeFunction('convertToInteractive',\n",
              "                                                     [key], {});\n",
              "          if (!dataTable) return;\n",
              "\n",
              "          const docLinkHtml = 'Like what you see? Visit the ' +\n",
              "            '<a target=\"_blank\" href=https://colab.research.google.com/notebooks/data_table.ipynb>data table notebook</a>'\n",
              "            + ' to learn more about interactive tables.';\n",
              "          element.innerHTML = '';\n",
              "          dataTable['output_type'] = 'display_data';\n",
              "          await google.colab.output.renderOutput(dataTable, element);\n",
              "          const docLink = document.createElement('div');\n",
              "          docLink.innerHTML = docLinkHtml;\n",
              "          element.appendChild(docLink);\n",
              "        }\n",
              "      </script>\n",
              "    </div>\n",
              "  </div>\n",
              "  "
            ]
          },
          "metadata": {},
          "execution_count": 214
        }
      ]
    },
    {
      "cell_type": "code",
      "source": [
        "# 1. Utilizando o método query() para retornar datas até 1995\n",
        "df.query('aniversario < \"01-01-1995\"')  # repare nas aspas duplas entre as datas"
      ],
      "metadata": {
        "id": "jV5-8SdCbhQn",
        "outputId": "1d4efdaa-f6a8-4936-8ba8-7846c22e5402",
        "colab": {
          "base_uri": "https://localhost:8080/",
          "height": 81
        }
      },
      "execution_count": 215,
      "outputs": [
        {
          "output_type": "execute_result",
          "data": {
            "text/plain": [
              "     aluno  idade cidade aniversario\n",
              "4  Jessyca     35  Poços  1987-12-12"
            ],
            "text/html": [
              "\n",
              "  <div id=\"df-11dd408f-ea70-4d74-af80-ea08f7134305\">\n",
              "    <div class=\"colab-df-container\">\n",
              "      <div>\n",
              "<style scoped>\n",
              "    .dataframe tbody tr th:only-of-type {\n",
              "        vertical-align: middle;\n",
              "    }\n",
              "\n",
              "    .dataframe tbody tr th {\n",
              "        vertical-align: top;\n",
              "    }\n",
              "\n",
              "    .dataframe thead th {\n",
              "        text-align: right;\n",
              "    }\n",
              "</style>\n",
              "<table border=\"1\" class=\"dataframe\">\n",
              "  <thead>\n",
              "    <tr style=\"text-align: right;\">\n",
              "      <th></th>\n",
              "      <th>aluno</th>\n",
              "      <th>idade</th>\n",
              "      <th>cidade</th>\n",
              "      <th>aniversario</th>\n",
              "    </tr>\n",
              "  </thead>\n",
              "  <tbody>\n",
              "    <tr>\n",
              "      <th>4</th>\n",
              "      <td>Jessyca</td>\n",
              "      <td>35</td>\n",
              "      <td>Poços</td>\n",
              "      <td>1987-12-12</td>\n",
              "    </tr>\n",
              "  </tbody>\n",
              "</table>\n",
              "</div>\n",
              "      <button class=\"colab-df-convert\" onclick=\"convertToInteractive('df-11dd408f-ea70-4d74-af80-ea08f7134305')\"\n",
              "              title=\"Convert this dataframe to an interactive table.\"\n",
              "              style=\"display:none;\">\n",
              "        \n",
              "  <svg xmlns=\"http://www.w3.org/2000/svg\" height=\"24px\"viewBox=\"0 0 24 24\"\n",
              "       width=\"24px\">\n",
              "    <path d=\"M0 0h24v24H0V0z\" fill=\"none\"/>\n",
              "    <path d=\"M18.56 5.44l.94 2.06.94-2.06 2.06-.94-2.06-.94-.94-2.06-.94 2.06-2.06.94zm-11 1L8.5 8.5l.94-2.06 2.06-.94-2.06-.94L8.5 2.5l-.94 2.06-2.06.94zm10 10l.94 2.06.94-2.06 2.06-.94-2.06-.94-.94-2.06-.94 2.06-2.06.94z\"/><path d=\"M17.41 7.96l-1.37-1.37c-.4-.4-.92-.59-1.43-.59-.52 0-1.04.2-1.43.59L10.3 9.45l-7.72 7.72c-.78.78-.78 2.05 0 2.83L4 21.41c.39.39.9.59 1.41.59.51 0 1.02-.2 1.41-.59l7.78-7.78 2.81-2.81c.8-.78.8-2.07 0-2.86zM5.41 20L4 18.59l7.72-7.72 1.47 1.35L5.41 20z\"/>\n",
              "  </svg>\n",
              "      </button>\n",
              "      \n",
              "  <style>\n",
              "    .colab-df-container {\n",
              "      display:flex;\n",
              "      flex-wrap:wrap;\n",
              "      gap: 12px;\n",
              "    }\n",
              "\n",
              "    .colab-df-convert {\n",
              "      background-color: #E8F0FE;\n",
              "      border: none;\n",
              "      border-radius: 50%;\n",
              "      cursor: pointer;\n",
              "      display: none;\n",
              "      fill: #1967D2;\n",
              "      height: 32px;\n",
              "      padding: 0 0 0 0;\n",
              "      width: 32px;\n",
              "    }\n",
              "\n",
              "    .colab-df-convert:hover {\n",
              "      background-color: #E2EBFA;\n",
              "      box-shadow: 0px 1px 2px rgba(60, 64, 67, 0.3), 0px 1px 3px 1px rgba(60, 64, 67, 0.15);\n",
              "      fill: #174EA6;\n",
              "    }\n",
              "\n",
              "    [theme=dark] .colab-df-convert {\n",
              "      background-color: #3B4455;\n",
              "      fill: #D2E3FC;\n",
              "    }\n",
              "\n",
              "    [theme=dark] .colab-df-convert:hover {\n",
              "      background-color: #434B5C;\n",
              "      box-shadow: 0px 1px 3px 1px rgba(0, 0, 0, 0.15);\n",
              "      filter: drop-shadow(0px 1px 2px rgba(0, 0, 0, 0.3));\n",
              "      fill: #FFFFFF;\n",
              "    }\n",
              "  </style>\n",
              "\n",
              "      <script>\n",
              "        const buttonEl =\n",
              "          document.querySelector('#df-11dd408f-ea70-4d74-af80-ea08f7134305 button.colab-df-convert');\n",
              "        buttonEl.style.display =\n",
              "          google.colab.kernel.accessAllowed ? 'block' : 'none';\n",
              "\n",
              "        async function convertToInteractive(key) {\n",
              "          const element = document.querySelector('#df-11dd408f-ea70-4d74-af80-ea08f7134305');\n",
              "          const dataTable =\n",
              "            await google.colab.kernel.invokeFunction('convertToInteractive',\n",
              "                                                     [key], {});\n",
              "          if (!dataTable) return;\n",
              "\n",
              "          const docLinkHtml = 'Like what you see? Visit the ' +\n",
              "            '<a target=\"_blank\" href=https://colab.research.google.com/notebooks/data_table.ipynb>data table notebook</a>'\n",
              "            + ' to learn more about interactive tables.';\n",
              "          element.innerHTML = '';\n",
              "          dataTable['output_type'] = 'display_data';\n",
              "          await google.colab.output.renderOutput(dataTable, element);\n",
              "          const docLink = document.createElement('div');\n",
              "          docLink.innerHTML = docLinkHtml;\n",
              "          element.appendChild(docLink);\n",
              "        }\n",
              "      </script>\n",
              "    </div>\n",
              "  </div>\n",
              "  "
            ]
          },
          "metadata": {},
          "execution_count": 215
        }
      ]
    },
    {
      "cell_type": "code",
      "source": [
        "# 2. Utilizando o método .loc[] para buscar quem mora em pinhal\n",
        "df.loc[df['cidade'] == 'Pinhal']\n"
      ],
      "metadata": {
        "id": "2YajCUSXdTXK",
        "outputId": "71eab37d-f1a9-4197-f1d1-beaee471a40a",
        "colab": {
          "base_uri": "https://localhost:8080/",
          "height": 112
        }
      },
      "execution_count": 216,
      "outputs": [
        {
          "output_type": "execute_result",
          "data": {
            "text/plain": [
              "    aluno  idade  cidade aniversario\n",
              "2  Evaldo     22  Pinhal         NaT\n",
              "6    Luiz     40  Pinhal         NaT"
            ],
            "text/html": [
              "\n",
              "  <div id=\"df-7ca21fde-bbef-43b8-a32f-147eacca8589\">\n",
              "    <div class=\"colab-df-container\">\n",
              "      <div>\n",
              "<style scoped>\n",
              "    .dataframe tbody tr th:only-of-type {\n",
              "        vertical-align: middle;\n",
              "    }\n",
              "\n",
              "    .dataframe tbody tr th {\n",
              "        vertical-align: top;\n",
              "    }\n",
              "\n",
              "    .dataframe thead th {\n",
              "        text-align: right;\n",
              "    }\n",
              "</style>\n",
              "<table border=\"1\" class=\"dataframe\">\n",
              "  <thead>\n",
              "    <tr style=\"text-align: right;\">\n",
              "      <th></th>\n",
              "      <th>aluno</th>\n",
              "      <th>idade</th>\n",
              "      <th>cidade</th>\n",
              "      <th>aniversario</th>\n",
              "    </tr>\n",
              "  </thead>\n",
              "  <tbody>\n",
              "    <tr>\n",
              "      <th>2</th>\n",
              "      <td>Evaldo</td>\n",
              "      <td>22</td>\n",
              "      <td>Pinhal</td>\n",
              "      <td>NaT</td>\n",
              "    </tr>\n",
              "    <tr>\n",
              "      <th>6</th>\n",
              "      <td>Luiz</td>\n",
              "      <td>40</td>\n",
              "      <td>Pinhal</td>\n",
              "      <td>NaT</td>\n",
              "    </tr>\n",
              "  </tbody>\n",
              "</table>\n",
              "</div>\n",
              "      <button class=\"colab-df-convert\" onclick=\"convertToInteractive('df-7ca21fde-bbef-43b8-a32f-147eacca8589')\"\n",
              "              title=\"Convert this dataframe to an interactive table.\"\n",
              "              style=\"display:none;\">\n",
              "        \n",
              "  <svg xmlns=\"http://www.w3.org/2000/svg\" height=\"24px\"viewBox=\"0 0 24 24\"\n",
              "       width=\"24px\">\n",
              "    <path d=\"M0 0h24v24H0V0z\" fill=\"none\"/>\n",
              "    <path d=\"M18.56 5.44l.94 2.06.94-2.06 2.06-.94-2.06-.94-.94-2.06-.94 2.06-2.06.94zm-11 1L8.5 8.5l.94-2.06 2.06-.94-2.06-.94L8.5 2.5l-.94 2.06-2.06.94zm10 10l.94 2.06.94-2.06 2.06-.94-2.06-.94-.94-2.06-.94 2.06-2.06.94z\"/><path d=\"M17.41 7.96l-1.37-1.37c-.4-.4-.92-.59-1.43-.59-.52 0-1.04.2-1.43.59L10.3 9.45l-7.72 7.72c-.78.78-.78 2.05 0 2.83L4 21.41c.39.39.9.59 1.41.59.51 0 1.02-.2 1.41-.59l7.78-7.78 2.81-2.81c.8-.78.8-2.07 0-2.86zM5.41 20L4 18.59l7.72-7.72 1.47 1.35L5.41 20z\"/>\n",
              "  </svg>\n",
              "      </button>\n",
              "      \n",
              "  <style>\n",
              "    .colab-df-container {\n",
              "      display:flex;\n",
              "      flex-wrap:wrap;\n",
              "      gap: 12px;\n",
              "    }\n",
              "\n",
              "    .colab-df-convert {\n",
              "      background-color: #E8F0FE;\n",
              "      border: none;\n",
              "      border-radius: 50%;\n",
              "      cursor: pointer;\n",
              "      display: none;\n",
              "      fill: #1967D2;\n",
              "      height: 32px;\n",
              "      padding: 0 0 0 0;\n",
              "      width: 32px;\n",
              "    }\n",
              "\n",
              "    .colab-df-convert:hover {\n",
              "      background-color: #E2EBFA;\n",
              "      box-shadow: 0px 1px 2px rgba(60, 64, 67, 0.3), 0px 1px 3px 1px rgba(60, 64, 67, 0.15);\n",
              "      fill: #174EA6;\n",
              "    }\n",
              "\n",
              "    [theme=dark] .colab-df-convert {\n",
              "      background-color: #3B4455;\n",
              "      fill: #D2E3FC;\n",
              "    }\n",
              "\n",
              "    [theme=dark] .colab-df-convert:hover {\n",
              "      background-color: #434B5C;\n",
              "      box-shadow: 0px 1px 3px 1px rgba(0, 0, 0, 0.15);\n",
              "      filter: drop-shadow(0px 1px 2px rgba(0, 0, 0, 0.3));\n",
              "      fill: #FFFFFF;\n",
              "    }\n",
              "  </style>\n",
              "\n",
              "      <script>\n",
              "        const buttonEl =\n",
              "          document.querySelector('#df-7ca21fde-bbef-43b8-a32f-147eacca8589 button.colab-df-convert');\n",
              "        buttonEl.style.display =\n",
              "          google.colab.kernel.accessAllowed ? 'block' : 'none';\n",
              "\n",
              "        async function convertToInteractive(key) {\n",
              "          const element = document.querySelector('#df-7ca21fde-bbef-43b8-a32f-147eacca8589');\n",
              "          const dataTable =\n",
              "            await google.colab.kernel.invokeFunction('convertToInteractive',\n",
              "                                                     [key], {});\n",
              "          if (!dataTable) return;\n",
              "\n",
              "          const docLinkHtml = 'Like what you see? Visit the ' +\n",
              "            '<a target=\"_blank\" href=https://colab.research.google.com/notebooks/data_table.ipynb>data table notebook</a>'\n",
              "            + ' to learn more about interactive tables.';\n",
              "          element.innerHTML = '';\n",
              "          dataTable['output_type'] = 'display_data';\n",
              "          await google.colab.output.renderOutput(dataTable, element);\n",
              "          const docLink = document.createElement('div');\n",
              "          docLink.innerHTML = docLinkHtml;\n",
              "          element.appendChild(docLink);\n",
              "        }\n",
              "      </script>\n",
              "    </div>\n",
              "  </div>\n",
              "  "
            ]
          },
          "metadata": {},
          "execution_count": 216
        }
      ]
    },
    {
      "cell_type": "code",
      "source": [
        "# 2. Utilizando o método .loc[] para buscar a idade de quem mora em pinhal\n",
        "df.loc[df['cidade'] == 'Pinhal', ['idade']]\n"
      ],
      "metadata": {
        "id": "1BxuSBzkd8MD",
        "outputId": "d31c5089-03cc-4c14-dccf-4598bf77dae7",
        "colab": {
          "base_uri": "https://localhost:8080/",
          "height": 112
        }
      },
      "execution_count": 218,
      "outputs": [
        {
          "output_type": "execute_result",
          "data": {
            "text/plain": [
              "   idade\n",
              "2     22\n",
              "6     40"
            ],
            "text/html": [
              "\n",
              "  <div id=\"df-0aba63d6-3035-49d2-b7b8-1db1c9d3950c\">\n",
              "    <div class=\"colab-df-container\">\n",
              "      <div>\n",
              "<style scoped>\n",
              "    .dataframe tbody tr th:only-of-type {\n",
              "        vertical-align: middle;\n",
              "    }\n",
              "\n",
              "    .dataframe tbody tr th {\n",
              "        vertical-align: top;\n",
              "    }\n",
              "\n",
              "    .dataframe thead th {\n",
              "        text-align: right;\n",
              "    }\n",
              "</style>\n",
              "<table border=\"1\" class=\"dataframe\">\n",
              "  <thead>\n",
              "    <tr style=\"text-align: right;\">\n",
              "      <th></th>\n",
              "      <th>idade</th>\n",
              "    </tr>\n",
              "  </thead>\n",
              "  <tbody>\n",
              "    <tr>\n",
              "      <th>2</th>\n",
              "      <td>22</td>\n",
              "    </tr>\n",
              "    <tr>\n",
              "      <th>6</th>\n",
              "      <td>40</td>\n",
              "    </tr>\n",
              "  </tbody>\n",
              "</table>\n",
              "</div>\n",
              "      <button class=\"colab-df-convert\" onclick=\"convertToInteractive('df-0aba63d6-3035-49d2-b7b8-1db1c9d3950c')\"\n",
              "              title=\"Convert this dataframe to an interactive table.\"\n",
              "              style=\"display:none;\">\n",
              "        \n",
              "  <svg xmlns=\"http://www.w3.org/2000/svg\" height=\"24px\"viewBox=\"0 0 24 24\"\n",
              "       width=\"24px\">\n",
              "    <path d=\"M0 0h24v24H0V0z\" fill=\"none\"/>\n",
              "    <path d=\"M18.56 5.44l.94 2.06.94-2.06 2.06-.94-2.06-.94-.94-2.06-.94 2.06-2.06.94zm-11 1L8.5 8.5l.94-2.06 2.06-.94-2.06-.94L8.5 2.5l-.94 2.06-2.06.94zm10 10l.94 2.06.94-2.06 2.06-.94-2.06-.94-.94-2.06-.94 2.06-2.06.94z\"/><path d=\"M17.41 7.96l-1.37-1.37c-.4-.4-.92-.59-1.43-.59-.52 0-1.04.2-1.43.59L10.3 9.45l-7.72 7.72c-.78.78-.78 2.05 0 2.83L4 21.41c.39.39.9.59 1.41.59.51 0 1.02-.2 1.41-.59l7.78-7.78 2.81-2.81c.8-.78.8-2.07 0-2.86zM5.41 20L4 18.59l7.72-7.72 1.47 1.35L5.41 20z\"/>\n",
              "  </svg>\n",
              "      </button>\n",
              "      \n",
              "  <style>\n",
              "    .colab-df-container {\n",
              "      display:flex;\n",
              "      flex-wrap:wrap;\n",
              "      gap: 12px;\n",
              "    }\n",
              "\n",
              "    .colab-df-convert {\n",
              "      background-color: #E8F0FE;\n",
              "      border: none;\n",
              "      border-radius: 50%;\n",
              "      cursor: pointer;\n",
              "      display: none;\n",
              "      fill: #1967D2;\n",
              "      height: 32px;\n",
              "      padding: 0 0 0 0;\n",
              "      width: 32px;\n",
              "    }\n",
              "\n",
              "    .colab-df-convert:hover {\n",
              "      background-color: #E2EBFA;\n",
              "      box-shadow: 0px 1px 2px rgba(60, 64, 67, 0.3), 0px 1px 3px 1px rgba(60, 64, 67, 0.15);\n",
              "      fill: #174EA6;\n",
              "    }\n",
              "\n",
              "    [theme=dark] .colab-df-convert {\n",
              "      background-color: #3B4455;\n",
              "      fill: #D2E3FC;\n",
              "    }\n",
              "\n",
              "    [theme=dark] .colab-df-convert:hover {\n",
              "      background-color: #434B5C;\n",
              "      box-shadow: 0px 1px 3px 1px rgba(0, 0, 0, 0.15);\n",
              "      filter: drop-shadow(0px 1px 2px rgba(0, 0, 0, 0.3));\n",
              "      fill: #FFFFFF;\n",
              "    }\n",
              "  </style>\n",
              "\n",
              "      <script>\n",
              "        const buttonEl =\n",
              "          document.querySelector('#df-0aba63d6-3035-49d2-b7b8-1db1c9d3950c button.colab-df-convert');\n",
              "        buttonEl.style.display =\n",
              "          google.colab.kernel.accessAllowed ? 'block' : 'none';\n",
              "\n",
              "        async function convertToInteractive(key) {\n",
              "          const element = document.querySelector('#df-0aba63d6-3035-49d2-b7b8-1db1c9d3950c');\n",
              "          const dataTable =\n",
              "            await google.colab.kernel.invokeFunction('convertToInteractive',\n",
              "                                                     [key], {});\n",
              "          if (!dataTable) return;\n",
              "\n",
              "          const docLinkHtml = 'Like what you see? Visit the ' +\n",
              "            '<a target=\"_blank\" href=https://colab.research.google.com/notebooks/data_table.ipynb>data table notebook</a>'\n",
              "            + ' to learn more about interactive tables.';\n",
              "          element.innerHTML = '';\n",
              "          dataTable['output_type'] = 'display_data';\n",
              "          await google.colab.output.renderOutput(dataTable, element);\n",
              "          const docLink = document.createElement('div');\n",
              "          docLink.innerHTML = docLinkHtml;\n",
              "          element.appendChild(docLink);\n",
              "        }\n",
              "      </script>\n",
              "    </div>\n",
              "  </div>\n",
              "  "
            ]
          },
          "metadata": {},
          "execution_count": 218
        }
      ]
    },
    {
      "cell_type": "markdown",
      "source": [
        "Outras formas de utilização do `.loc[ ]`: https://pandas.pydata.org/docs/reference/api/pandas.DataFrame.loc.html"
      ],
      "metadata": {
        "id": "BNcDGOE0eb0R"
      }
    },
    {
      "cell_type": "code",
      "source": [
        "# 3. Utilizando o método .iloc[] para buscar a linha de índice 2\n",
        "df.iloc[2]\n"
      ],
      "metadata": {
        "id": "_k7eCiNaegRZ",
        "outputId": "88546f4f-296e-464f-b5b7-b57f1b4008be",
        "colab": {
          "base_uri": "https://localhost:8080/"
        }
      },
      "execution_count": 219,
      "outputs": [
        {
          "output_type": "execute_result",
          "data": {
            "text/plain": [
              "aluno          Evaldo\n",
              "idade              22\n",
              "cidade         Pinhal\n",
              "aniversario       NaT\n",
              "Name: 2, dtype: object"
            ]
          },
          "metadata": {},
          "execution_count": 219
        }
      ]
    },
    {
      "cell_type": "code",
      "source": [
        "# 3. Utilizando o método .iloc[] para buscar as linhas de índice 2 e 3\n",
        "df.iloc[[2, 3]]\n"
      ],
      "metadata": {
        "id": "_nnC7s7aetwH",
        "outputId": "30ca0fac-ccab-444d-b27c-3fbfb6d62991",
        "colab": {
          "base_uri": "https://localhost:8080/",
          "height": 112
        }
      },
      "execution_count": 221,
      "outputs": [
        {
          "output_type": "execute_result",
          "data": {
            "text/plain": [
              "    aluno  idade  cidade aniversario\n",
              "2  Evaldo     22  Pinhal         NaT\n",
              "3  Isaias     21  Mococa  2000-04-20"
            ],
            "text/html": [
              "\n",
              "  <div id=\"df-8778e709-ea7f-4894-8e72-3bfa1d61a161\">\n",
              "    <div class=\"colab-df-container\">\n",
              "      <div>\n",
              "<style scoped>\n",
              "    .dataframe tbody tr th:only-of-type {\n",
              "        vertical-align: middle;\n",
              "    }\n",
              "\n",
              "    .dataframe tbody tr th {\n",
              "        vertical-align: top;\n",
              "    }\n",
              "\n",
              "    .dataframe thead th {\n",
              "        text-align: right;\n",
              "    }\n",
              "</style>\n",
              "<table border=\"1\" class=\"dataframe\">\n",
              "  <thead>\n",
              "    <tr style=\"text-align: right;\">\n",
              "      <th></th>\n",
              "      <th>aluno</th>\n",
              "      <th>idade</th>\n",
              "      <th>cidade</th>\n",
              "      <th>aniversario</th>\n",
              "    </tr>\n",
              "  </thead>\n",
              "  <tbody>\n",
              "    <tr>\n",
              "      <th>2</th>\n",
              "      <td>Evaldo</td>\n",
              "      <td>22</td>\n",
              "      <td>Pinhal</td>\n",
              "      <td>NaT</td>\n",
              "    </tr>\n",
              "    <tr>\n",
              "      <th>3</th>\n",
              "      <td>Isaias</td>\n",
              "      <td>21</td>\n",
              "      <td>Mococa</td>\n",
              "      <td>2000-04-20</td>\n",
              "    </tr>\n",
              "  </tbody>\n",
              "</table>\n",
              "</div>\n",
              "      <button class=\"colab-df-convert\" onclick=\"convertToInteractive('df-8778e709-ea7f-4894-8e72-3bfa1d61a161')\"\n",
              "              title=\"Convert this dataframe to an interactive table.\"\n",
              "              style=\"display:none;\">\n",
              "        \n",
              "  <svg xmlns=\"http://www.w3.org/2000/svg\" height=\"24px\"viewBox=\"0 0 24 24\"\n",
              "       width=\"24px\">\n",
              "    <path d=\"M0 0h24v24H0V0z\" fill=\"none\"/>\n",
              "    <path d=\"M18.56 5.44l.94 2.06.94-2.06 2.06-.94-2.06-.94-.94-2.06-.94 2.06-2.06.94zm-11 1L8.5 8.5l.94-2.06 2.06-.94-2.06-.94L8.5 2.5l-.94 2.06-2.06.94zm10 10l.94 2.06.94-2.06 2.06-.94-2.06-.94-.94-2.06-.94 2.06-2.06.94z\"/><path d=\"M17.41 7.96l-1.37-1.37c-.4-.4-.92-.59-1.43-.59-.52 0-1.04.2-1.43.59L10.3 9.45l-7.72 7.72c-.78.78-.78 2.05 0 2.83L4 21.41c.39.39.9.59 1.41.59.51 0 1.02-.2 1.41-.59l7.78-7.78 2.81-2.81c.8-.78.8-2.07 0-2.86zM5.41 20L4 18.59l7.72-7.72 1.47 1.35L5.41 20z\"/>\n",
              "  </svg>\n",
              "      </button>\n",
              "      \n",
              "  <style>\n",
              "    .colab-df-container {\n",
              "      display:flex;\n",
              "      flex-wrap:wrap;\n",
              "      gap: 12px;\n",
              "    }\n",
              "\n",
              "    .colab-df-convert {\n",
              "      background-color: #E8F0FE;\n",
              "      border: none;\n",
              "      border-radius: 50%;\n",
              "      cursor: pointer;\n",
              "      display: none;\n",
              "      fill: #1967D2;\n",
              "      height: 32px;\n",
              "      padding: 0 0 0 0;\n",
              "      width: 32px;\n",
              "    }\n",
              "\n",
              "    .colab-df-convert:hover {\n",
              "      background-color: #E2EBFA;\n",
              "      box-shadow: 0px 1px 2px rgba(60, 64, 67, 0.3), 0px 1px 3px 1px rgba(60, 64, 67, 0.15);\n",
              "      fill: #174EA6;\n",
              "    }\n",
              "\n",
              "    [theme=dark] .colab-df-convert {\n",
              "      background-color: #3B4455;\n",
              "      fill: #D2E3FC;\n",
              "    }\n",
              "\n",
              "    [theme=dark] .colab-df-convert:hover {\n",
              "      background-color: #434B5C;\n",
              "      box-shadow: 0px 1px 3px 1px rgba(0, 0, 0, 0.15);\n",
              "      filter: drop-shadow(0px 1px 2px rgba(0, 0, 0, 0.3));\n",
              "      fill: #FFFFFF;\n",
              "    }\n",
              "  </style>\n",
              "\n",
              "      <script>\n",
              "        const buttonEl =\n",
              "          document.querySelector('#df-8778e709-ea7f-4894-8e72-3bfa1d61a161 button.colab-df-convert');\n",
              "        buttonEl.style.display =\n",
              "          google.colab.kernel.accessAllowed ? 'block' : 'none';\n",
              "\n",
              "        async function convertToInteractive(key) {\n",
              "          const element = document.querySelector('#df-8778e709-ea7f-4894-8e72-3bfa1d61a161');\n",
              "          const dataTable =\n",
              "            await google.colab.kernel.invokeFunction('convertToInteractive',\n",
              "                                                     [key], {});\n",
              "          if (!dataTable) return;\n",
              "\n",
              "          const docLinkHtml = 'Like what you see? Visit the ' +\n",
              "            '<a target=\"_blank\" href=https://colab.research.google.com/notebooks/data_table.ipynb>data table notebook</a>'\n",
              "            + ' to learn more about interactive tables.';\n",
              "          element.innerHTML = '';\n",
              "          dataTable['output_type'] = 'display_data';\n",
              "          await google.colab.output.renderOutput(dataTable, element);\n",
              "          const docLink = document.createElement('div');\n",
              "          docLink.innerHTML = docLinkHtml;\n",
              "          element.appendChild(docLink);\n",
              "        }\n",
              "      </script>\n",
              "    </div>\n",
              "  </div>\n",
              "  "
            ]
          },
          "metadata": {},
          "execution_count": 221
        }
      ]
    },
    {
      "cell_type": "markdown",
      "source": [
        "Alterando índices"
      ],
      "metadata": {
        "id": "DXS3P-11e6m6"
      }
    },
    {
      "cell_type": "code",
      "source": [
        "# Relembrando o dataframe\n",
        "df.head(5)\n",
        "\n",
        "# Repare na coluna à esquerda sendo utilizada como índice"
      ],
      "metadata": {
        "id": "S3kwzkUle_0z",
        "outputId": "00252ebf-a4f3-401b-fb74-f0b89a9739bd",
        "colab": {
          "base_uri": "https://localhost:8080/",
          "height": 206
        }
      },
      "execution_count": 222,
      "outputs": [
        {
          "output_type": "execute_result",
          "data": {
            "text/plain": [
              "     aluno  idade     cidade aniversario\n",
              "0     João     20  São Paulo  2002-10-04\n",
              "1  Ribeiro     29   São João  2003-02-20\n",
              "2   Evaldo     22     Pinhal         NaT\n",
              "3   Isaias     21     Mococa  2000-04-20\n",
              "4  Jessyca     35      Poços  1987-12-12"
            ],
            "text/html": [
              "\n",
              "  <div id=\"df-ab159614-0c3b-4f6d-b992-9fa2b3453913\">\n",
              "    <div class=\"colab-df-container\">\n",
              "      <div>\n",
              "<style scoped>\n",
              "    .dataframe tbody tr th:only-of-type {\n",
              "        vertical-align: middle;\n",
              "    }\n",
              "\n",
              "    .dataframe tbody tr th {\n",
              "        vertical-align: top;\n",
              "    }\n",
              "\n",
              "    .dataframe thead th {\n",
              "        text-align: right;\n",
              "    }\n",
              "</style>\n",
              "<table border=\"1\" class=\"dataframe\">\n",
              "  <thead>\n",
              "    <tr style=\"text-align: right;\">\n",
              "      <th></th>\n",
              "      <th>aluno</th>\n",
              "      <th>idade</th>\n",
              "      <th>cidade</th>\n",
              "      <th>aniversario</th>\n",
              "    </tr>\n",
              "  </thead>\n",
              "  <tbody>\n",
              "    <tr>\n",
              "      <th>0</th>\n",
              "      <td>João</td>\n",
              "      <td>20</td>\n",
              "      <td>São Paulo</td>\n",
              "      <td>2002-10-04</td>\n",
              "    </tr>\n",
              "    <tr>\n",
              "      <th>1</th>\n",
              "      <td>Ribeiro</td>\n",
              "      <td>29</td>\n",
              "      <td>São João</td>\n",
              "      <td>2003-02-20</td>\n",
              "    </tr>\n",
              "    <tr>\n",
              "      <th>2</th>\n",
              "      <td>Evaldo</td>\n",
              "      <td>22</td>\n",
              "      <td>Pinhal</td>\n",
              "      <td>NaT</td>\n",
              "    </tr>\n",
              "    <tr>\n",
              "      <th>3</th>\n",
              "      <td>Isaias</td>\n",
              "      <td>21</td>\n",
              "      <td>Mococa</td>\n",
              "      <td>2000-04-20</td>\n",
              "    </tr>\n",
              "    <tr>\n",
              "      <th>4</th>\n",
              "      <td>Jessyca</td>\n",
              "      <td>35</td>\n",
              "      <td>Poços</td>\n",
              "      <td>1987-12-12</td>\n",
              "    </tr>\n",
              "  </tbody>\n",
              "</table>\n",
              "</div>\n",
              "      <button class=\"colab-df-convert\" onclick=\"convertToInteractive('df-ab159614-0c3b-4f6d-b992-9fa2b3453913')\"\n",
              "              title=\"Convert this dataframe to an interactive table.\"\n",
              "              style=\"display:none;\">\n",
              "        \n",
              "  <svg xmlns=\"http://www.w3.org/2000/svg\" height=\"24px\"viewBox=\"0 0 24 24\"\n",
              "       width=\"24px\">\n",
              "    <path d=\"M0 0h24v24H0V0z\" fill=\"none\"/>\n",
              "    <path d=\"M18.56 5.44l.94 2.06.94-2.06 2.06-.94-2.06-.94-.94-2.06-.94 2.06-2.06.94zm-11 1L8.5 8.5l.94-2.06 2.06-.94-2.06-.94L8.5 2.5l-.94 2.06-2.06.94zm10 10l.94 2.06.94-2.06 2.06-.94-2.06-.94-.94-2.06-.94 2.06-2.06.94z\"/><path d=\"M17.41 7.96l-1.37-1.37c-.4-.4-.92-.59-1.43-.59-.52 0-1.04.2-1.43.59L10.3 9.45l-7.72 7.72c-.78.78-.78 2.05 0 2.83L4 21.41c.39.39.9.59 1.41.59.51 0 1.02-.2 1.41-.59l7.78-7.78 2.81-2.81c.8-.78.8-2.07 0-2.86zM5.41 20L4 18.59l7.72-7.72 1.47 1.35L5.41 20z\"/>\n",
              "  </svg>\n",
              "      </button>\n",
              "      \n",
              "  <style>\n",
              "    .colab-df-container {\n",
              "      display:flex;\n",
              "      flex-wrap:wrap;\n",
              "      gap: 12px;\n",
              "    }\n",
              "\n",
              "    .colab-df-convert {\n",
              "      background-color: #E8F0FE;\n",
              "      border: none;\n",
              "      border-radius: 50%;\n",
              "      cursor: pointer;\n",
              "      display: none;\n",
              "      fill: #1967D2;\n",
              "      height: 32px;\n",
              "      padding: 0 0 0 0;\n",
              "      width: 32px;\n",
              "    }\n",
              "\n",
              "    .colab-df-convert:hover {\n",
              "      background-color: #E2EBFA;\n",
              "      box-shadow: 0px 1px 2px rgba(60, 64, 67, 0.3), 0px 1px 3px 1px rgba(60, 64, 67, 0.15);\n",
              "      fill: #174EA6;\n",
              "    }\n",
              "\n",
              "    [theme=dark] .colab-df-convert {\n",
              "      background-color: #3B4455;\n",
              "      fill: #D2E3FC;\n",
              "    }\n",
              "\n",
              "    [theme=dark] .colab-df-convert:hover {\n",
              "      background-color: #434B5C;\n",
              "      box-shadow: 0px 1px 3px 1px rgba(0, 0, 0, 0.15);\n",
              "      filter: drop-shadow(0px 1px 2px rgba(0, 0, 0, 0.3));\n",
              "      fill: #FFFFFF;\n",
              "    }\n",
              "  </style>\n",
              "\n",
              "      <script>\n",
              "        const buttonEl =\n",
              "          document.querySelector('#df-ab159614-0c3b-4f6d-b992-9fa2b3453913 button.colab-df-convert');\n",
              "        buttonEl.style.display =\n",
              "          google.colab.kernel.accessAllowed ? 'block' : 'none';\n",
              "\n",
              "        async function convertToInteractive(key) {\n",
              "          const element = document.querySelector('#df-ab159614-0c3b-4f6d-b992-9fa2b3453913');\n",
              "          const dataTable =\n",
              "            await google.colab.kernel.invokeFunction('convertToInteractive',\n",
              "                                                     [key], {});\n",
              "          if (!dataTable) return;\n",
              "\n",
              "          const docLinkHtml = 'Like what you see? Visit the ' +\n",
              "            '<a target=\"_blank\" href=https://colab.research.google.com/notebooks/data_table.ipynb>data table notebook</a>'\n",
              "            + ' to learn more about interactive tables.';\n",
              "          element.innerHTML = '';\n",
              "          dataTable['output_type'] = 'display_data';\n",
              "          await google.colab.output.renderOutput(dataTable, element);\n",
              "          const docLink = document.createElement('div');\n",
              "          docLink.innerHTML = docLinkHtml;\n",
              "          element.appendChild(docLink);\n",
              "        }\n",
              "      </script>\n",
              "    </div>\n",
              "  </div>\n",
              "  "
            ]
          },
          "metadata": {},
          "execution_count": 222
        }
      ]
    },
    {
      "cell_type": "code",
      "source": [
        "# Alterando o índice para que seja 'aluno'\n",
        "df = df.set_index('aluno')\n",
        "df\n"
      ],
      "metadata": {
        "id": "YAXxWnDJfUPd",
        "outputId": "33cb95ce-64a2-450e-ebe0-91c286779f79",
        "colab": {
          "base_uri": "https://localhost:8080/",
          "height": 300
        }
      },
      "execution_count": 223,
      "outputs": [
        {
          "output_type": "execute_result",
          "data": {
            "text/plain": [
              "         idade     cidade aniversario\n",
              "aluno                                \n",
              "João        20  São Paulo  2002-10-04\n",
              "Ribeiro     29   São João  2003-02-20\n",
              "Evaldo      22     Pinhal         NaT\n",
              "Isaias      21     Mococa  2000-04-20\n",
              "Jessyca     35      Poços  1987-12-12\n",
              "Anne        32   Botelhos  2000-01-01\n",
              "Luiz        40     Pinhal         NaT"
            ],
            "text/html": [
              "\n",
              "  <div id=\"df-9b758e38-e60f-4a97-acf1-497326bf1288\">\n",
              "    <div class=\"colab-df-container\">\n",
              "      <div>\n",
              "<style scoped>\n",
              "    .dataframe tbody tr th:only-of-type {\n",
              "        vertical-align: middle;\n",
              "    }\n",
              "\n",
              "    .dataframe tbody tr th {\n",
              "        vertical-align: top;\n",
              "    }\n",
              "\n",
              "    .dataframe thead th {\n",
              "        text-align: right;\n",
              "    }\n",
              "</style>\n",
              "<table border=\"1\" class=\"dataframe\">\n",
              "  <thead>\n",
              "    <tr style=\"text-align: right;\">\n",
              "      <th></th>\n",
              "      <th>idade</th>\n",
              "      <th>cidade</th>\n",
              "      <th>aniversario</th>\n",
              "    </tr>\n",
              "    <tr>\n",
              "      <th>aluno</th>\n",
              "      <th></th>\n",
              "      <th></th>\n",
              "      <th></th>\n",
              "    </tr>\n",
              "  </thead>\n",
              "  <tbody>\n",
              "    <tr>\n",
              "      <th>João</th>\n",
              "      <td>20</td>\n",
              "      <td>São Paulo</td>\n",
              "      <td>2002-10-04</td>\n",
              "    </tr>\n",
              "    <tr>\n",
              "      <th>Ribeiro</th>\n",
              "      <td>29</td>\n",
              "      <td>São João</td>\n",
              "      <td>2003-02-20</td>\n",
              "    </tr>\n",
              "    <tr>\n",
              "      <th>Evaldo</th>\n",
              "      <td>22</td>\n",
              "      <td>Pinhal</td>\n",
              "      <td>NaT</td>\n",
              "    </tr>\n",
              "    <tr>\n",
              "      <th>Isaias</th>\n",
              "      <td>21</td>\n",
              "      <td>Mococa</td>\n",
              "      <td>2000-04-20</td>\n",
              "    </tr>\n",
              "    <tr>\n",
              "      <th>Jessyca</th>\n",
              "      <td>35</td>\n",
              "      <td>Poços</td>\n",
              "      <td>1987-12-12</td>\n",
              "    </tr>\n",
              "    <tr>\n",
              "      <th>Anne</th>\n",
              "      <td>32</td>\n",
              "      <td>Botelhos</td>\n",
              "      <td>2000-01-01</td>\n",
              "    </tr>\n",
              "    <tr>\n",
              "      <th>Luiz</th>\n",
              "      <td>40</td>\n",
              "      <td>Pinhal</td>\n",
              "      <td>NaT</td>\n",
              "    </tr>\n",
              "  </tbody>\n",
              "</table>\n",
              "</div>\n",
              "      <button class=\"colab-df-convert\" onclick=\"convertToInteractive('df-9b758e38-e60f-4a97-acf1-497326bf1288')\"\n",
              "              title=\"Convert this dataframe to an interactive table.\"\n",
              "              style=\"display:none;\">\n",
              "        \n",
              "  <svg xmlns=\"http://www.w3.org/2000/svg\" height=\"24px\"viewBox=\"0 0 24 24\"\n",
              "       width=\"24px\">\n",
              "    <path d=\"M0 0h24v24H0V0z\" fill=\"none\"/>\n",
              "    <path d=\"M18.56 5.44l.94 2.06.94-2.06 2.06-.94-2.06-.94-.94-2.06-.94 2.06-2.06.94zm-11 1L8.5 8.5l.94-2.06 2.06-.94-2.06-.94L8.5 2.5l-.94 2.06-2.06.94zm10 10l.94 2.06.94-2.06 2.06-.94-2.06-.94-.94-2.06-.94 2.06-2.06.94z\"/><path d=\"M17.41 7.96l-1.37-1.37c-.4-.4-.92-.59-1.43-.59-.52 0-1.04.2-1.43.59L10.3 9.45l-7.72 7.72c-.78.78-.78 2.05 0 2.83L4 21.41c.39.39.9.59 1.41.59.51 0 1.02-.2 1.41-.59l7.78-7.78 2.81-2.81c.8-.78.8-2.07 0-2.86zM5.41 20L4 18.59l7.72-7.72 1.47 1.35L5.41 20z\"/>\n",
              "  </svg>\n",
              "      </button>\n",
              "      \n",
              "  <style>\n",
              "    .colab-df-container {\n",
              "      display:flex;\n",
              "      flex-wrap:wrap;\n",
              "      gap: 12px;\n",
              "    }\n",
              "\n",
              "    .colab-df-convert {\n",
              "      background-color: #E8F0FE;\n",
              "      border: none;\n",
              "      border-radius: 50%;\n",
              "      cursor: pointer;\n",
              "      display: none;\n",
              "      fill: #1967D2;\n",
              "      height: 32px;\n",
              "      padding: 0 0 0 0;\n",
              "      width: 32px;\n",
              "    }\n",
              "\n",
              "    .colab-df-convert:hover {\n",
              "      background-color: #E2EBFA;\n",
              "      box-shadow: 0px 1px 2px rgba(60, 64, 67, 0.3), 0px 1px 3px 1px rgba(60, 64, 67, 0.15);\n",
              "      fill: #174EA6;\n",
              "    }\n",
              "\n",
              "    [theme=dark] .colab-df-convert {\n",
              "      background-color: #3B4455;\n",
              "      fill: #D2E3FC;\n",
              "    }\n",
              "\n",
              "    [theme=dark] .colab-df-convert:hover {\n",
              "      background-color: #434B5C;\n",
              "      box-shadow: 0px 1px 3px 1px rgba(0, 0, 0, 0.15);\n",
              "      filter: drop-shadow(0px 1px 2px rgba(0, 0, 0, 0.3));\n",
              "      fill: #FFFFFF;\n",
              "    }\n",
              "  </style>\n",
              "\n",
              "      <script>\n",
              "        const buttonEl =\n",
              "          document.querySelector('#df-9b758e38-e60f-4a97-acf1-497326bf1288 button.colab-df-convert');\n",
              "        buttonEl.style.display =\n",
              "          google.colab.kernel.accessAllowed ? 'block' : 'none';\n",
              "\n",
              "        async function convertToInteractive(key) {\n",
              "          const element = document.querySelector('#df-9b758e38-e60f-4a97-acf1-497326bf1288');\n",
              "          const dataTable =\n",
              "            await google.colab.kernel.invokeFunction('convertToInteractive',\n",
              "                                                     [key], {});\n",
              "          if (!dataTable) return;\n",
              "\n",
              "          const docLinkHtml = 'Like what you see? Visit the ' +\n",
              "            '<a target=\"_blank\" href=https://colab.research.google.com/notebooks/data_table.ipynb>data table notebook</a>'\n",
              "            + ' to learn more about interactive tables.';\n",
              "          element.innerHTML = '';\n",
              "          dataTable['output_type'] = 'display_data';\n",
              "          await google.colab.output.renderOutput(dataTable, element);\n",
              "          const docLink = document.createElement('div');\n",
              "          docLink.innerHTML = docLinkHtml;\n",
              "          element.appendChild(docLink);\n",
              "        }\n",
              "      </script>\n",
              "    </div>\n",
              "  </div>\n",
              "  "
            ]
          },
          "metadata": {},
          "execution_count": 223
        }
      ]
    },
    {
      "cell_type": "code",
      "source": [
        "# Resetando os índices\n",
        "df = df.reset_index()\n",
        "df\n"
      ],
      "metadata": {
        "id": "iRLXv1MUgVa6",
        "outputId": "ec2f5508-bb9b-4bdc-846d-8b2529d76769",
        "colab": {
          "base_uri": "https://localhost:8080/",
          "height": 269
        }
      },
      "execution_count": 227,
      "outputs": [
        {
          "output_type": "execute_result",
          "data": {
            "text/plain": [
              "     aluno  idade     cidade aniversario  coluna_criada_agora\n",
              "0     João     20  São Paulo  2002-10-04                    1\n",
              "1  Ribeiro     29   São João  2003-02-20                    1\n",
              "2   Evaldo     22     Pinhal         NaT                    1\n",
              "3   Isaias     21     Mococa  2000-04-20                    1\n",
              "4  Jessyca     35      Poços  1987-12-12                    1\n",
              "5     Anne     32   Botelhos  2000-01-01                    1\n",
              "6     Luiz     40     Pinhal         NaT                    1"
            ],
            "text/html": [
              "\n",
              "  <div id=\"df-2bb6a101-15be-4eda-b509-1e4b343e7a67\">\n",
              "    <div class=\"colab-df-container\">\n",
              "      <div>\n",
              "<style scoped>\n",
              "    .dataframe tbody tr th:only-of-type {\n",
              "        vertical-align: middle;\n",
              "    }\n",
              "\n",
              "    .dataframe tbody tr th {\n",
              "        vertical-align: top;\n",
              "    }\n",
              "\n",
              "    .dataframe thead th {\n",
              "        text-align: right;\n",
              "    }\n",
              "</style>\n",
              "<table border=\"1\" class=\"dataframe\">\n",
              "  <thead>\n",
              "    <tr style=\"text-align: right;\">\n",
              "      <th></th>\n",
              "      <th>aluno</th>\n",
              "      <th>idade</th>\n",
              "      <th>cidade</th>\n",
              "      <th>aniversario</th>\n",
              "      <th>coluna_criada_agora</th>\n",
              "    </tr>\n",
              "  </thead>\n",
              "  <tbody>\n",
              "    <tr>\n",
              "      <th>0</th>\n",
              "      <td>João</td>\n",
              "      <td>20</td>\n",
              "      <td>São Paulo</td>\n",
              "      <td>2002-10-04</td>\n",
              "      <td>1</td>\n",
              "    </tr>\n",
              "    <tr>\n",
              "      <th>1</th>\n",
              "      <td>Ribeiro</td>\n",
              "      <td>29</td>\n",
              "      <td>São João</td>\n",
              "      <td>2003-02-20</td>\n",
              "      <td>1</td>\n",
              "    </tr>\n",
              "    <tr>\n",
              "      <th>2</th>\n",
              "      <td>Evaldo</td>\n",
              "      <td>22</td>\n",
              "      <td>Pinhal</td>\n",
              "      <td>NaT</td>\n",
              "      <td>1</td>\n",
              "    </tr>\n",
              "    <tr>\n",
              "      <th>3</th>\n",
              "      <td>Isaias</td>\n",
              "      <td>21</td>\n",
              "      <td>Mococa</td>\n",
              "      <td>2000-04-20</td>\n",
              "      <td>1</td>\n",
              "    </tr>\n",
              "    <tr>\n",
              "      <th>4</th>\n",
              "      <td>Jessyca</td>\n",
              "      <td>35</td>\n",
              "      <td>Poços</td>\n",
              "      <td>1987-12-12</td>\n",
              "      <td>1</td>\n",
              "    </tr>\n",
              "    <tr>\n",
              "      <th>5</th>\n",
              "      <td>Anne</td>\n",
              "      <td>32</td>\n",
              "      <td>Botelhos</td>\n",
              "      <td>2000-01-01</td>\n",
              "      <td>1</td>\n",
              "    </tr>\n",
              "    <tr>\n",
              "      <th>6</th>\n",
              "      <td>Luiz</td>\n",
              "      <td>40</td>\n",
              "      <td>Pinhal</td>\n",
              "      <td>NaT</td>\n",
              "      <td>1</td>\n",
              "    </tr>\n",
              "  </tbody>\n",
              "</table>\n",
              "</div>\n",
              "      <button class=\"colab-df-convert\" onclick=\"convertToInteractive('df-2bb6a101-15be-4eda-b509-1e4b343e7a67')\"\n",
              "              title=\"Convert this dataframe to an interactive table.\"\n",
              "              style=\"display:none;\">\n",
              "        \n",
              "  <svg xmlns=\"http://www.w3.org/2000/svg\" height=\"24px\"viewBox=\"0 0 24 24\"\n",
              "       width=\"24px\">\n",
              "    <path d=\"M0 0h24v24H0V0z\" fill=\"none\"/>\n",
              "    <path d=\"M18.56 5.44l.94 2.06.94-2.06 2.06-.94-2.06-.94-.94-2.06-.94 2.06-2.06.94zm-11 1L8.5 8.5l.94-2.06 2.06-.94-2.06-.94L8.5 2.5l-.94 2.06-2.06.94zm10 10l.94 2.06.94-2.06 2.06-.94-2.06-.94-.94-2.06-.94 2.06-2.06.94z\"/><path d=\"M17.41 7.96l-1.37-1.37c-.4-.4-.92-.59-1.43-.59-.52 0-1.04.2-1.43.59L10.3 9.45l-7.72 7.72c-.78.78-.78 2.05 0 2.83L4 21.41c.39.39.9.59 1.41.59.51 0 1.02-.2 1.41-.59l7.78-7.78 2.81-2.81c.8-.78.8-2.07 0-2.86zM5.41 20L4 18.59l7.72-7.72 1.47 1.35L5.41 20z\"/>\n",
              "  </svg>\n",
              "      </button>\n",
              "      \n",
              "  <style>\n",
              "    .colab-df-container {\n",
              "      display:flex;\n",
              "      flex-wrap:wrap;\n",
              "      gap: 12px;\n",
              "    }\n",
              "\n",
              "    .colab-df-convert {\n",
              "      background-color: #E8F0FE;\n",
              "      border: none;\n",
              "      border-radius: 50%;\n",
              "      cursor: pointer;\n",
              "      display: none;\n",
              "      fill: #1967D2;\n",
              "      height: 32px;\n",
              "      padding: 0 0 0 0;\n",
              "      width: 32px;\n",
              "    }\n",
              "\n",
              "    .colab-df-convert:hover {\n",
              "      background-color: #E2EBFA;\n",
              "      box-shadow: 0px 1px 2px rgba(60, 64, 67, 0.3), 0px 1px 3px 1px rgba(60, 64, 67, 0.15);\n",
              "      fill: #174EA6;\n",
              "    }\n",
              "\n",
              "    [theme=dark] .colab-df-convert {\n",
              "      background-color: #3B4455;\n",
              "      fill: #D2E3FC;\n",
              "    }\n",
              "\n",
              "    [theme=dark] .colab-df-convert:hover {\n",
              "      background-color: #434B5C;\n",
              "      box-shadow: 0px 1px 3px 1px rgba(0, 0, 0, 0.15);\n",
              "      filter: drop-shadow(0px 1px 2px rgba(0, 0, 0, 0.3));\n",
              "      fill: #FFFFFF;\n",
              "    }\n",
              "  </style>\n",
              "\n",
              "      <script>\n",
              "        const buttonEl =\n",
              "          document.querySelector('#df-2bb6a101-15be-4eda-b509-1e4b343e7a67 button.colab-df-convert');\n",
              "        buttonEl.style.display =\n",
              "          google.colab.kernel.accessAllowed ? 'block' : 'none';\n",
              "\n",
              "        async function convertToInteractive(key) {\n",
              "          const element = document.querySelector('#df-2bb6a101-15be-4eda-b509-1e4b343e7a67');\n",
              "          const dataTable =\n",
              "            await google.colab.kernel.invokeFunction('convertToInteractive',\n",
              "                                                     [key], {});\n",
              "          if (!dataTable) return;\n",
              "\n",
              "          const docLinkHtml = 'Like what you see? Visit the ' +\n",
              "            '<a target=\"_blank\" href=https://colab.research.google.com/notebooks/data_table.ipynb>data table notebook</a>'\n",
              "            + ' to learn more about interactive tables.';\n",
              "          element.innerHTML = '';\n",
              "          dataTable['output_type'] = 'display_data';\n",
              "          await google.colab.output.renderOutput(dataTable, element);\n",
              "          const docLink = document.createElement('div');\n",
              "          docLink.innerHTML = docLinkHtml;\n",
              "          element.appendChild(docLink);\n",
              "        }\n",
              "      </script>\n",
              "    </div>\n",
              "  </div>\n",
              "  "
            ]
          },
          "metadata": {},
          "execution_count": 227
        }
      ]
    },
    {
      "cell_type": "markdown",
      "source": [
        "Adicionando e excluindo colunas"
      ],
      "metadata": {
        "id": "_0q5k6K3grw2"
      }
    },
    {
      "cell_type": "code",
      "source": [
        "# Adicionando uma coluna ao DataFrame com valores 1\n",
        "df['coluna_criada_agora'] = 1\n",
        "df"
      ],
      "metadata": {
        "id": "i3nQKIhhguJE",
        "outputId": "9f0c43ce-bb46-4f54-99aa-605e327b1d71",
        "colab": {
          "base_uri": "https://localhost:8080/",
          "height": 300
        }
      },
      "execution_count": 224,
      "outputs": [
        {
          "output_type": "execute_result",
          "data": {
            "text/plain": [
              "         idade     cidade aniversario  coluna_criada_agora\n",
              "aluno                                                     \n",
              "João        20  São Paulo  2002-10-04                    1\n",
              "Ribeiro     29   São João  2003-02-20                    1\n",
              "Evaldo      22     Pinhal         NaT                    1\n",
              "Isaias      21     Mococa  2000-04-20                    1\n",
              "Jessyca     35      Poços  1987-12-12                    1\n",
              "Anne        32   Botelhos  2000-01-01                    1\n",
              "Luiz        40     Pinhal         NaT                    1"
            ],
            "text/html": [
              "\n",
              "  <div id=\"df-6dc5f4ae-e865-47ce-8e6e-5e9a467d09dd\">\n",
              "    <div class=\"colab-df-container\">\n",
              "      <div>\n",
              "<style scoped>\n",
              "    .dataframe tbody tr th:only-of-type {\n",
              "        vertical-align: middle;\n",
              "    }\n",
              "\n",
              "    .dataframe tbody tr th {\n",
              "        vertical-align: top;\n",
              "    }\n",
              "\n",
              "    .dataframe thead th {\n",
              "        text-align: right;\n",
              "    }\n",
              "</style>\n",
              "<table border=\"1\" class=\"dataframe\">\n",
              "  <thead>\n",
              "    <tr style=\"text-align: right;\">\n",
              "      <th></th>\n",
              "      <th>idade</th>\n",
              "      <th>cidade</th>\n",
              "      <th>aniversario</th>\n",
              "      <th>coluna_criada_agora</th>\n",
              "    </tr>\n",
              "    <tr>\n",
              "      <th>aluno</th>\n",
              "      <th></th>\n",
              "      <th></th>\n",
              "      <th></th>\n",
              "      <th></th>\n",
              "    </tr>\n",
              "  </thead>\n",
              "  <tbody>\n",
              "    <tr>\n",
              "      <th>João</th>\n",
              "      <td>20</td>\n",
              "      <td>São Paulo</td>\n",
              "      <td>2002-10-04</td>\n",
              "      <td>1</td>\n",
              "    </tr>\n",
              "    <tr>\n",
              "      <th>Ribeiro</th>\n",
              "      <td>29</td>\n",
              "      <td>São João</td>\n",
              "      <td>2003-02-20</td>\n",
              "      <td>1</td>\n",
              "    </tr>\n",
              "    <tr>\n",
              "      <th>Evaldo</th>\n",
              "      <td>22</td>\n",
              "      <td>Pinhal</td>\n",
              "      <td>NaT</td>\n",
              "      <td>1</td>\n",
              "    </tr>\n",
              "    <tr>\n",
              "      <th>Isaias</th>\n",
              "      <td>21</td>\n",
              "      <td>Mococa</td>\n",
              "      <td>2000-04-20</td>\n",
              "      <td>1</td>\n",
              "    </tr>\n",
              "    <tr>\n",
              "      <th>Jessyca</th>\n",
              "      <td>35</td>\n",
              "      <td>Poços</td>\n",
              "      <td>1987-12-12</td>\n",
              "      <td>1</td>\n",
              "    </tr>\n",
              "    <tr>\n",
              "      <th>Anne</th>\n",
              "      <td>32</td>\n",
              "      <td>Botelhos</td>\n",
              "      <td>2000-01-01</td>\n",
              "      <td>1</td>\n",
              "    </tr>\n",
              "    <tr>\n",
              "      <th>Luiz</th>\n",
              "      <td>40</td>\n",
              "      <td>Pinhal</td>\n",
              "      <td>NaT</td>\n",
              "      <td>1</td>\n",
              "    </tr>\n",
              "  </tbody>\n",
              "</table>\n",
              "</div>\n",
              "      <button class=\"colab-df-convert\" onclick=\"convertToInteractive('df-6dc5f4ae-e865-47ce-8e6e-5e9a467d09dd')\"\n",
              "              title=\"Convert this dataframe to an interactive table.\"\n",
              "              style=\"display:none;\">\n",
              "        \n",
              "  <svg xmlns=\"http://www.w3.org/2000/svg\" height=\"24px\"viewBox=\"0 0 24 24\"\n",
              "       width=\"24px\">\n",
              "    <path d=\"M0 0h24v24H0V0z\" fill=\"none\"/>\n",
              "    <path d=\"M18.56 5.44l.94 2.06.94-2.06 2.06-.94-2.06-.94-.94-2.06-.94 2.06-2.06.94zm-11 1L8.5 8.5l.94-2.06 2.06-.94-2.06-.94L8.5 2.5l-.94 2.06-2.06.94zm10 10l.94 2.06.94-2.06 2.06-.94-2.06-.94-.94-2.06-.94 2.06-2.06.94z\"/><path d=\"M17.41 7.96l-1.37-1.37c-.4-.4-.92-.59-1.43-.59-.52 0-1.04.2-1.43.59L10.3 9.45l-7.72 7.72c-.78.78-.78 2.05 0 2.83L4 21.41c.39.39.9.59 1.41.59.51 0 1.02-.2 1.41-.59l7.78-7.78 2.81-2.81c.8-.78.8-2.07 0-2.86zM5.41 20L4 18.59l7.72-7.72 1.47 1.35L5.41 20z\"/>\n",
              "  </svg>\n",
              "      </button>\n",
              "      \n",
              "  <style>\n",
              "    .colab-df-container {\n",
              "      display:flex;\n",
              "      flex-wrap:wrap;\n",
              "      gap: 12px;\n",
              "    }\n",
              "\n",
              "    .colab-df-convert {\n",
              "      background-color: #E8F0FE;\n",
              "      border: none;\n",
              "      border-radius: 50%;\n",
              "      cursor: pointer;\n",
              "      display: none;\n",
              "      fill: #1967D2;\n",
              "      height: 32px;\n",
              "      padding: 0 0 0 0;\n",
              "      width: 32px;\n",
              "    }\n",
              "\n",
              "    .colab-df-convert:hover {\n",
              "      background-color: #E2EBFA;\n",
              "      box-shadow: 0px 1px 2px rgba(60, 64, 67, 0.3), 0px 1px 3px 1px rgba(60, 64, 67, 0.15);\n",
              "      fill: #174EA6;\n",
              "    }\n",
              "\n",
              "    [theme=dark] .colab-df-convert {\n",
              "      background-color: #3B4455;\n",
              "      fill: #D2E3FC;\n",
              "    }\n",
              "\n",
              "    [theme=dark] .colab-df-convert:hover {\n",
              "      background-color: #434B5C;\n",
              "      box-shadow: 0px 1px 3px 1px rgba(0, 0, 0, 0.15);\n",
              "      filter: drop-shadow(0px 1px 2px rgba(0, 0, 0, 0.3));\n",
              "      fill: #FFFFFF;\n",
              "    }\n",
              "  </style>\n",
              "\n",
              "      <script>\n",
              "        const buttonEl =\n",
              "          document.querySelector('#df-6dc5f4ae-e865-47ce-8e6e-5e9a467d09dd button.colab-df-convert');\n",
              "        buttonEl.style.display =\n",
              "          google.colab.kernel.accessAllowed ? 'block' : 'none';\n",
              "\n",
              "        async function convertToInteractive(key) {\n",
              "          const element = document.querySelector('#df-6dc5f4ae-e865-47ce-8e6e-5e9a467d09dd');\n",
              "          const dataTable =\n",
              "            await google.colab.kernel.invokeFunction('convertToInteractive',\n",
              "                                                     [key], {});\n",
              "          if (!dataTable) return;\n",
              "\n",
              "          const docLinkHtml = 'Like what you see? Visit the ' +\n",
              "            '<a target=\"_blank\" href=https://colab.research.google.com/notebooks/data_table.ipynb>data table notebook</a>'\n",
              "            + ' to learn more about interactive tables.';\n",
              "          element.innerHTML = '';\n",
              "          dataTable['output_type'] = 'display_data';\n",
              "          await google.colab.output.renderOutput(dataTable, element);\n",
              "          const docLink = document.createElement('div');\n",
              "          docLink.innerHTML = docLinkHtml;\n",
              "          element.appendChild(docLink);\n",
              "        }\n",
              "      </script>\n",
              "    </div>\n",
              "  </div>\n",
              "  "
            ]
          },
          "metadata": {},
          "execution_count": 224
        }
      ]
    },
    {
      "cell_type": "code",
      "source": [
        "# Excluindo a coluna_nova\n",
        "df.drop(columns = ['coluna_criada_agora'])\n"
      ],
      "metadata": {
        "id": "tj9N3M0sg2OT",
        "outputId": "26e2eef8-5625-48a9-9ba5-ae48eb7fdc52",
        "colab": {
          "base_uri": "https://localhost:8080/",
          "height": 300
        }
      },
      "execution_count": 225,
      "outputs": [
        {
          "output_type": "execute_result",
          "data": {
            "text/plain": [
              "         idade     cidade aniversario\n",
              "aluno                                \n",
              "João        20  São Paulo  2002-10-04\n",
              "Ribeiro     29   São João  2003-02-20\n",
              "Evaldo      22     Pinhal         NaT\n",
              "Isaias      21     Mococa  2000-04-20\n",
              "Jessyca     35      Poços  1987-12-12\n",
              "Anne        32   Botelhos  2000-01-01\n",
              "Luiz        40     Pinhal         NaT"
            ],
            "text/html": [
              "\n",
              "  <div id=\"df-34957ff3-4f2f-402d-be6f-ef6db3b39def\">\n",
              "    <div class=\"colab-df-container\">\n",
              "      <div>\n",
              "<style scoped>\n",
              "    .dataframe tbody tr th:only-of-type {\n",
              "        vertical-align: middle;\n",
              "    }\n",
              "\n",
              "    .dataframe tbody tr th {\n",
              "        vertical-align: top;\n",
              "    }\n",
              "\n",
              "    .dataframe thead th {\n",
              "        text-align: right;\n",
              "    }\n",
              "</style>\n",
              "<table border=\"1\" class=\"dataframe\">\n",
              "  <thead>\n",
              "    <tr style=\"text-align: right;\">\n",
              "      <th></th>\n",
              "      <th>idade</th>\n",
              "      <th>cidade</th>\n",
              "      <th>aniversario</th>\n",
              "    </tr>\n",
              "    <tr>\n",
              "      <th>aluno</th>\n",
              "      <th></th>\n",
              "      <th></th>\n",
              "      <th></th>\n",
              "    </tr>\n",
              "  </thead>\n",
              "  <tbody>\n",
              "    <tr>\n",
              "      <th>João</th>\n",
              "      <td>20</td>\n",
              "      <td>São Paulo</td>\n",
              "      <td>2002-10-04</td>\n",
              "    </tr>\n",
              "    <tr>\n",
              "      <th>Ribeiro</th>\n",
              "      <td>29</td>\n",
              "      <td>São João</td>\n",
              "      <td>2003-02-20</td>\n",
              "    </tr>\n",
              "    <tr>\n",
              "      <th>Evaldo</th>\n",
              "      <td>22</td>\n",
              "      <td>Pinhal</td>\n",
              "      <td>NaT</td>\n",
              "    </tr>\n",
              "    <tr>\n",
              "      <th>Isaias</th>\n",
              "      <td>21</td>\n",
              "      <td>Mococa</td>\n",
              "      <td>2000-04-20</td>\n",
              "    </tr>\n",
              "    <tr>\n",
              "      <th>Jessyca</th>\n",
              "      <td>35</td>\n",
              "      <td>Poços</td>\n",
              "      <td>1987-12-12</td>\n",
              "    </tr>\n",
              "    <tr>\n",
              "      <th>Anne</th>\n",
              "      <td>32</td>\n",
              "      <td>Botelhos</td>\n",
              "      <td>2000-01-01</td>\n",
              "    </tr>\n",
              "    <tr>\n",
              "      <th>Luiz</th>\n",
              "      <td>40</td>\n",
              "      <td>Pinhal</td>\n",
              "      <td>NaT</td>\n",
              "    </tr>\n",
              "  </tbody>\n",
              "</table>\n",
              "</div>\n",
              "      <button class=\"colab-df-convert\" onclick=\"convertToInteractive('df-34957ff3-4f2f-402d-be6f-ef6db3b39def')\"\n",
              "              title=\"Convert this dataframe to an interactive table.\"\n",
              "              style=\"display:none;\">\n",
              "        \n",
              "  <svg xmlns=\"http://www.w3.org/2000/svg\" height=\"24px\"viewBox=\"0 0 24 24\"\n",
              "       width=\"24px\">\n",
              "    <path d=\"M0 0h24v24H0V0z\" fill=\"none\"/>\n",
              "    <path d=\"M18.56 5.44l.94 2.06.94-2.06 2.06-.94-2.06-.94-.94-2.06-.94 2.06-2.06.94zm-11 1L8.5 8.5l.94-2.06 2.06-.94-2.06-.94L8.5 2.5l-.94 2.06-2.06.94zm10 10l.94 2.06.94-2.06 2.06-.94-2.06-.94-.94-2.06-.94 2.06-2.06.94z\"/><path d=\"M17.41 7.96l-1.37-1.37c-.4-.4-.92-.59-1.43-.59-.52 0-1.04.2-1.43.59L10.3 9.45l-7.72 7.72c-.78.78-.78 2.05 0 2.83L4 21.41c.39.39.9.59 1.41.59.51 0 1.02-.2 1.41-.59l7.78-7.78 2.81-2.81c.8-.78.8-2.07 0-2.86zM5.41 20L4 18.59l7.72-7.72 1.47 1.35L5.41 20z\"/>\n",
              "  </svg>\n",
              "      </button>\n",
              "      \n",
              "  <style>\n",
              "    .colab-df-container {\n",
              "      display:flex;\n",
              "      flex-wrap:wrap;\n",
              "      gap: 12px;\n",
              "    }\n",
              "\n",
              "    .colab-df-convert {\n",
              "      background-color: #E8F0FE;\n",
              "      border: none;\n",
              "      border-radius: 50%;\n",
              "      cursor: pointer;\n",
              "      display: none;\n",
              "      fill: #1967D2;\n",
              "      height: 32px;\n",
              "      padding: 0 0 0 0;\n",
              "      width: 32px;\n",
              "    }\n",
              "\n",
              "    .colab-df-convert:hover {\n",
              "      background-color: #E2EBFA;\n",
              "      box-shadow: 0px 1px 2px rgba(60, 64, 67, 0.3), 0px 1px 3px 1px rgba(60, 64, 67, 0.15);\n",
              "      fill: #174EA6;\n",
              "    }\n",
              "\n",
              "    [theme=dark] .colab-df-convert {\n",
              "      background-color: #3B4455;\n",
              "      fill: #D2E3FC;\n",
              "    }\n",
              "\n",
              "    [theme=dark] .colab-df-convert:hover {\n",
              "      background-color: #434B5C;\n",
              "      box-shadow: 0px 1px 3px 1px rgba(0, 0, 0, 0.15);\n",
              "      filter: drop-shadow(0px 1px 2px rgba(0, 0, 0, 0.3));\n",
              "      fill: #FFFFFF;\n",
              "    }\n",
              "  </style>\n",
              "\n",
              "      <script>\n",
              "        const buttonEl =\n",
              "          document.querySelector('#df-34957ff3-4f2f-402d-be6f-ef6db3b39def button.colab-df-convert');\n",
              "        buttonEl.style.display =\n",
              "          google.colab.kernel.accessAllowed ? 'block' : 'none';\n",
              "\n",
              "        async function convertToInteractive(key) {\n",
              "          const element = document.querySelector('#df-34957ff3-4f2f-402d-be6f-ef6db3b39def');\n",
              "          const dataTable =\n",
              "            await google.colab.kernel.invokeFunction('convertToInteractive',\n",
              "                                                     [key], {});\n",
              "          if (!dataTable) return;\n",
              "\n",
              "          const docLinkHtml = 'Like what you see? Visit the ' +\n",
              "            '<a target=\"_blank\" href=https://colab.research.google.com/notebooks/data_table.ipynb>data table notebook</a>'\n",
              "            + ' to learn more about interactive tables.';\n",
              "          element.innerHTML = '';\n",
              "          dataTable['output_type'] = 'display_data';\n",
              "          await google.colab.output.renderOutput(dataTable, element);\n",
              "          const docLink = document.createElement('div');\n",
              "          docLink.innerHTML = docLinkHtml;\n",
              "          element.appendChild(docLink);\n",
              "        }\n",
              "      </script>\n",
              "    </div>\n",
              "  </div>\n",
              "  "
            ]
          },
          "metadata": {},
          "execution_count": 225
        }
      ]
    },
    {
      "cell_type": "code",
      "source": [
        "# Porém... vamos rodar o DataFrame novamente\n",
        "df\n",
        "\n",
        "# A coluna_nova ainda está lá!"
      ],
      "metadata": {
        "id": "YXIsGeMrhGUD",
        "outputId": "dd857b6f-b68f-4a30-ef4f-baf50f13071b",
        "colab": {
          "base_uri": "https://localhost:8080/",
          "height": 300
        }
      },
      "execution_count": 226,
      "outputs": [
        {
          "output_type": "execute_result",
          "data": {
            "text/plain": [
              "         idade     cidade aniversario  coluna_criada_agora\n",
              "aluno                                                     \n",
              "João        20  São Paulo  2002-10-04                    1\n",
              "Ribeiro     29   São João  2003-02-20                    1\n",
              "Evaldo      22     Pinhal         NaT                    1\n",
              "Isaias      21     Mococa  2000-04-20                    1\n",
              "Jessyca     35      Poços  1987-12-12                    1\n",
              "Anne        32   Botelhos  2000-01-01                    1\n",
              "Luiz        40     Pinhal         NaT                    1"
            ],
            "text/html": [
              "\n",
              "  <div id=\"df-b130565c-00e3-4601-bfd2-83585b4ac3e3\">\n",
              "    <div class=\"colab-df-container\">\n",
              "      <div>\n",
              "<style scoped>\n",
              "    .dataframe tbody tr th:only-of-type {\n",
              "        vertical-align: middle;\n",
              "    }\n",
              "\n",
              "    .dataframe tbody tr th {\n",
              "        vertical-align: top;\n",
              "    }\n",
              "\n",
              "    .dataframe thead th {\n",
              "        text-align: right;\n",
              "    }\n",
              "</style>\n",
              "<table border=\"1\" class=\"dataframe\">\n",
              "  <thead>\n",
              "    <tr style=\"text-align: right;\">\n",
              "      <th></th>\n",
              "      <th>idade</th>\n",
              "      <th>cidade</th>\n",
              "      <th>aniversario</th>\n",
              "      <th>coluna_criada_agora</th>\n",
              "    </tr>\n",
              "    <tr>\n",
              "      <th>aluno</th>\n",
              "      <th></th>\n",
              "      <th></th>\n",
              "      <th></th>\n",
              "      <th></th>\n",
              "    </tr>\n",
              "  </thead>\n",
              "  <tbody>\n",
              "    <tr>\n",
              "      <th>João</th>\n",
              "      <td>20</td>\n",
              "      <td>São Paulo</td>\n",
              "      <td>2002-10-04</td>\n",
              "      <td>1</td>\n",
              "    </tr>\n",
              "    <tr>\n",
              "      <th>Ribeiro</th>\n",
              "      <td>29</td>\n",
              "      <td>São João</td>\n",
              "      <td>2003-02-20</td>\n",
              "      <td>1</td>\n",
              "    </tr>\n",
              "    <tr>\n",
              "      <th>Evaldo</th>\n",
              "      <td>22</td>\n",
              "      <td>Pinhal</td>\n",
              "      <td>NaT</td>\n",
              "      <td>1</td>\n",
              "    </tr>\n",
              "    <tr>\n",
              "      <th>Isaias</th>\n",
              "      <td>21</td>\n",
              "      <td>Mococa</td>\n",
              "      <td>2000-04-20</td>\n",
              "      <td>1</td>\n",
              "    </tr>\n",
              "    <tr>\n",
              "      <th>Jessyca</th>\n",
              "      <td>35</td>\n",
              "      <td>Poços</td>\n",
              "      <td>1987-12-12</td>\n",
              "      <td>1</td>\n",
              "    </tr>\n",
              "    <tr>\n",
              "      <th>Anne</th>\n",
              "      <td>32</td>\n",
              "      <td>Botelhos</td>\n",
              "      <td>2000-01-01</td>\n",
              "      <td>1</td>\n",
              "    </tr>\n",
              "    <tr>\n",
              "      <th>Luiz</th>\n",
              "      <td>40</td>\n",
              "      <td>Pinhal</td>\n",
              "      <td>NaT</td>\n",
              "      <td>1</td>\n",
              "    </tr>\n",
              "  </tbody>\n",
              "</table>\n",
              "</div>\n",
              "      <button class=\"colab-df-convert\" onclick=\"convertToInteractive('df-b130565c-00e3-4601-bfd2-83585b4ac3e3')\"\n",
              "              title=\"Convert this dataframe to an interactive table.\"\n",
              "              style=\"display:none;\">\n",
              "        \n",
              "  <svg xmlns=\"http://www.w3.org/2000/svg\" height=\"24px\"viewBox=\"0 0 24 24\"\n",
              "       width=\"24px\">\n",
              "    <path d=\"M0 0h24v24H0V0z\" fill=\"none\"/>\n",
              "    <path d=\"M18.56 5.44l.94 2.06.94-2.06 2.06-.94-2.06-.94-.94-2.06-.94 2.06-2.06.94zm-11 1L8.5 8.5l.94-2.06 2.06-.94-2.06-.94L8.5 2.5l-.94 2.06-2.06.94zm10 10l.94 2.06.94-2.06 2.06-.94-2.06-.94-.94-2.06-.94 2.06-2.06.94z\"/><path d=\"M17.41 7.96l-1.37-1.37c-.4-.4-.92-.59-1.43-.59-.52 0-1.04.2-1.43.59L10.3 9.45l-7.72 7.72c-.78.78-.78 2.05 0 2.83L4 21.41c.39.39.9.59 1.41.59.51 0 1.02-.2 1.41-.59l7.78-7.78 2.81-2.81c.8-.78.8-2.07 0-2.86zM5.41 20L4 18.59l7.72-7.72 1.47 1.35L5.41 20z\"/>\n",
              "  </svg>\n",
              "      </button>\n",
              "      \n",
              "  <style>\n",
              "    .colab-df-container {\n",
              "      display:flex;\n",
              "      flex-wrap:wrap;\n",
              "      gap: 12px;\n",
              "    }\n",
              "\n",
              "    .colab-df-convert {\n",
              "      background-color: #E8F0FE;\n",
              "      border: none;\n",
              "      border-radius: 50%;\n",
              "      cursor: pointer;\n",
              "      display: none;\n",
              "      fill: #1967D2;\n",
              "      height: 32px;\n",
              "      padding: 0 0 0 0;\n",
              "      width: 32px;\n",
              "    }\n",
              "\n",
              "    .colab-df-convert:hover {\n",
              "      background-color: #E2EBFA;\n",
              "      box-shadow: 0px 1px 2px rgba(60, 64, 67, 0.3), 0px 1px 3px 1px rgba(60, 64, 67, 0.15);\n",
              "      fill: #174EA6;\n",
              "    }\n",
              "\n",
              "    [theme=dark] .colab-df-convert {\n",
              "      background-color: #3B4455;\n",
              "      fill: #D2E3FC;\n",
              "    }\n",
              "\n",
              "    [theme=dark] .colab-df-convert:hover {\n",
              "      background-color: #434B5C;\n",
              "      box-shadow: 0px 1px 3px 1px rgba(0, 0, 0, 0.15);\n",
              "      filter: drop-shadow(0px 1px 2px rgba(0, 0, 0, 0.3));\n",
              "      fill: #FFFFFF;\n",
              "    }\n",
              "  </style>\n",
              "\n",
              "      <script>\n",
              "        const buttonEl =\n",
              "          document.querySelector('#df-b130565c-00e3-4601-bfd2-83585b4ac3e3 button.colab-df-convert');\n",
              "        buttonEl.style.display =\n",
              "          google.colab.kernel.accessAllowed ? 'block' : 'none';\n",
              "\n",
              "        async function convertToInteractive(key) {\n",
              "          const element = document.querySelector('#df-b130565c-00e3-4601-bfd2-83585b4ac3e3');\n",
              "          const dataTable =\n",
              "            await google.colab.kernel.invokeFunction('convertToInteractive',\n",
              "                                                     [key], {});\n",
              "          if (!dataTable) return;\n",
              "\n",
              "          const docLinkHtml = 'Like what you see? Visit the ' +\n",
              "            '<a target=\"_blank\" href=https://colab.research.google.com/notebooks/data_table.ipynb>data table notebook</a>'\n",
              "            + ' to learn more about interactive tables.';\n",
              "          element.innerHTML = '';\n",
              "          dataTable['output_type'] = 'display_data';\n",
              "          await google.colab.output.renderOutput(dataTable, element);\n",
              "          const docLink = document.createElement('div');\n",
              "          docLink.innerHTML = docLinkHtml;\n",
              "          element.appendChild(docLink);\n",
              "        }\n",
              "      </script>\n",
              "    </div>\n",
              "  </div>\n",
              "  "
            ]
          },
          "metadata": {},
          "execution_count": 226
        }
      ]
    },
    {
      "cell_type": "code",
      "source": [
        "# Corrigindo\n",
        "\n",
        "# Método 1: usando inplace()\n",
        "\n",
        "# Método 2: reatribuindo ao DataFrame\n",
        "# df = df.drop(columns = ['coluna_criada_agora'])\n",
        "df"
      ],
      "metadata": {
        "id": "ppWd_lINhQEU",
        "outputId": "f860d98c-9cc1-4c66-b8b9-68d793d9e531",
        "colab": {
          "base_uri": "https://localhost:8080/",
          "height": 269
        }
      },
      "execution_count": 232,
      "outputs": [
        {
          "output_type": "execute_result",
          "data": {
            "text/plain": [
              "     aluno  idade     cidade aniversario\n",
              "0     João     20  São Paulo  2002-10-04\n",
              "1  Ribeiro     29   São João  2003-02-20\n",
              "2   Evaldo     22     Pinhal         NaT\n",
              "3   Isaias     21     Mococa  2000-04-20\n",
              "4  Jessyca     35      Poços  1987-12-12\n",
              "5     Anne     32   Botelhos  2000-01-01\n",
              "6     Luiz     40     Pinhal         NaT"
            ],
            "text/html": [
              "\n",
              "  <div id=\"df-95754d10-a846-4d54-ada2-42f8fbadc71b\">\n",
              "    <div class=\"colab-df-container\">\n",
              "      <div>\n",
              "<style scoped>\n",
              "    .dataframe tbody tr th:only-of-type {\n",
              "        vertical-align: middle;\n",
              "    }\n",
              "\n",
              "    .dataframe tbody tr th {\n",
              "        vertical-align: top;\n",
              "    }\n",
              "\n",
              "    .dataframe thead th {\n",
              "        text-align: right;\n",
              "    }\n",
              "</style>\n",
              "<table border=\"1\" class=\"dataframe\">\n",
              "  <thead>\n",
              "    <tr style=\"text-align: right;\">\n",
              "      <th></th>\n",
              "      <th>aluno</th>\n",
              "      <th>idade</th>\n",
              "      <th>cidade</th>\n",
              "      <th>aniversario</th>\n",
              "    </tr>\n",
              "  </thead>\n",
              "  <tbody>\n",
              "    <tr>\n",
              "      <th>0</th>\n",
              "      <td>João</td>\n",
              "      <td>20</td>\n",
              "      <td>São Paulo</td>\n",
              "      <td>2002-10-04</td>\n",
              "    </tr>\n",
              "    <tr>\n",
              "      <th>1</th>\n",
              "      <td>Ribeiro</td>\n",
              "      <td>29</td>\n",
              "      <td>São João</td>\n",
              "      <td>2003-02-20</td>\n",
              "    </tr>\n",
              "    <tr>\n",
              "      <th>2</th>\n",
              "      <td>Evaldo</td>\n",
              "      <td>22</td>\n",
              "      <td>Pinhal</td>\n",
              "      <td>NaT</td>\n",
              "    </tr>\n",
              "    <tr>\n",
              "      <th>3</th>\n",
              "      <td>Isaias</td>\n",
              "      <td>21</td>\n",
              "      <td>Mococa</td>\n",
              "      <td>2000-04-20</td>\n",
              "    </tr>\n",
              "    <tr>\n",
              "      <th>4</th>\n",
              "      <td>Jessyca</td>\n",
              "      <td>35</td>\n",
              "      <td>Poços</td>\n",
              "      <td>1987-12-12</td>\n",
              "    </tr>\n",
              "    <tr>\n",
              "      <th>5</th>\n",
              "      <td>Anne</td>\n",
              "      <td>32</td>\n",
              "      <td>Botelhos</td>\n",
              "      <td>2000-01-01</td>\n",
              "    </tr>\n",
              "    <tr>\n",
              "      <th>6</th>\n",
              "      <td>Luiz</td>\n",
              "      <td>40</td>\n",
              "      <td>Pinhal</td>\n",
              "      <td>NaT</td>\n",
              "    </tr>\n",
              "  </tbody>\n",
              "</table>\n",
              "</div>\n",
              "      <button class=\"colab-df-convert\" onclick=\"convertToInteractive('df-95754d10-a846-4d54-ada2-42f8fbadc71b')\"\n",
              "              title=\"Convert this dataframe to an interactive table.\"\n",
              "              style=\"display:none;\">\n",
              "        \n",
              "  <svg xmlns=\"http://www.w3.org/2000/svg\" height=\"24px\"viewBox=\"0 0 24 24\"\n",
              "       width=\"24px\">\n",
              "    <path d=\"M0 0h24v24H0V0z\" fill=\"none\"/>\n",
              "    <path d=\"M18.56 5.44l.94 2.06.94-2.06 2.06-.94-2.06-.94-.94-2.06-.94 2.06-2.06.94zm-11 1L8.5 8.5l.94-2.06 2.06-.94-2.06-.94L8.5 2.5l-.94 2.06-2.06.94zm10 10l.94 2.06.94-2.06 2.06-.94-2.06-.94-.94-2.06-.94 2.06-2.06.94z\"/><path d=\"M17.41 7.96l-1.37-1.37c-.4-.4-.92-.59-1.43-.59-.52 0-1.04.2-1.43.59L10.3 9.45l-7.72 7.72c-.78.78-.78 2.05 0 2.83L4 21.41c.39.39.9.59 1.41.59.51 0 1.02-.2 1.41-.59l7.78-7.78 2.81-2.81c.8-.78.8-2.07 0-2.86zM5.41 20L4 18.59l7.72-7.72 1.47 1.35L5.41 20z\"/>\n",
              "  </svg>\n",
              "      </button>\n",
              "      \n",
              "  <style>\n",
              "    .colab-df-container {\n",
              "      display:flex;\n",
              "      flex-wrap:wrap;\n",
              "      gap: 12px;\n",
              "    }\n",
              "\n",
              "    .colab-df-convert {\n",
              "      background-color: #E8F0FE;\n",
              "      border: none;\n",
              "      border-radius: 50%;\n",
              "      cursor: pointer;\n",
              "      display: none;\n",
              "      fill: #1967D2;\n",
              "      height: 32px;\n",
              "      padding: 0 0 0 0;\n",
              "      width: 32px;\n",
              "    }\n",
              "\n",
              "    .colab-df-convert:hover {\n",
              "      background-color: #E2EBFA;\n",
              "      box-shadow: 0px 1px 2px rgba(60, 64, 67, 0.3), 0px 1px 3px 1px rgba(60, 64, 67, 0.15);\n",
              "      fill: #174EA6;\n",
              "    }\n",
              "\n",
              "    [theme=dark] .colab-df-convert {\n",
              "      background-color: #3B4455;\n",
              "      fill: #D2E3FC;\n",
              "    }\n",
              "\n",
              "    [theme=dark] .colab-df-convert:hover {\n",
              "      background-color: #434B5C;\n",
              "      box-shadow: 0px 1px 3px 1px rgba(0, 0, 0, 0.15);\n",
              "      filter: drop-shadow(0px 1px 2px rgba(0, 0, 0, 0.3));\n",
              "      fill: #FFFFFF;\n",
              "    }\n",
              "  </style>\n",
              "\n",
              "      <script>\n",
              "        const buttonEl =\n",
              "          document.querySelector('#df-95754d10-a846-4d54-ada2-42f8fbadc71b button.colab-df-convert');\n",
              "        buttonEl.style.display =\n",
              "          google.colab.kernel.accessAllowed ? 'block' : 'none';\n",
              "\n",
              "        async function convertToInteractive(key) {\n",
              "          const element = document.querySelector('#df-95754d10-a846-4d54-ada2-42f8fbadc71b');\n",
              "          const dataTable =\n",
              "            await google.colab.kernel.invokeFunction('convertToInteractive',\n",
              "                                                     [key], {});\n",
              "          if (!dataTable) return;\n",
              "\n",
              "          const docLinkHtml = 'Like what you see? Visit the ' +\n",
              "            '<a target=\"_blank\" href=https://colab.research.google.com/notebooks/data_table.ipynb>data table notebook</a>'\n",
              "            + ' to learn more about interactive tables.';\n",
              "          element.innerHTML = '';\n",
              "          dataTable['output_type'] = 'display_data';\n",
              "          await google.colab.output.renderOutput(dataTable, element);\n",
              "          const docLink = document.createElement('div');\n",
              "          docLink.innerHTML = docLinkHtml;\n",
              "          element.appendChild(docLink);\n",
              "        }\n",
              "      </script>\n",
              "    </div>\n",
              "  </div>\n",
              "  "
            ]
          },
          "metadata": {},
          "execution_count": 232
        }
      ]
    },
    {
      "cell_type": "markdown",
      "source": [
        "Extra: copiando um DataFrame"
      ],
      "metadata": {
        "id": "OSqBd8Qrhqe3"
      }
    },
    {
      "cell_type": "code",
      "source": [
        "# Copiando o dataframe 'df' para o dataframe 'df2' com o .copy()\n",
        "df2 = df.copy()\n",
        "df2\n"
      ],
      "metadata": {
        "id": "woA5y3JUhuXJ",
        "outputId": "4d4431d9-f48d-428f-b874-7f91f7e76f96",
        "colab": {
          "base_uri": "https://localhost:8080/",
          "height": 269
        }
      },
      "execution_count": 228,
      "outputs": [
        {
          "output_type": "execute_result",
          "data": {
            "text/plain": [
              "     aluno  idade     cidade aniversario  coluna_criada_agora\n",
              "0     João     20  São Paulo  2002-10-04                    1\n",
              "1  Ribeiro     29   São João  2003-02-20                    1\n",
              "2   Evaldo     22     Pinhal         NaT                    1\n",
              "3   Isaias     21     Mococa  2000-04-20                    1\n",
              "4  Jessyca     35      Poços  1987-12-12                    1\n",
              "5     Anne     32   Botelhos  2000-01-01                    1\n",
              "6     Luiz     40     Pinhal         NaT                    1"
            ],
            "text/html": [
              "\n",
              "  <div id=\"df-fbf85e0a-7fc5-4cf0-8c42-6b09e6e408c0\">\n",
              "    <div class=\"colab-df-container\">\n",
              "      <div>\n",
              "<style scoped>\n",
              "    .dataframe tbody tr th:only-of-type {\n",
              "        vertical-align: middle;\n",
              "    }\n",
              "\n",
              "    .dataframe tbody tr th {\n",
              "        vertical-align: top;\n",
              "    }\n",
              "\n",
              "    .dataframe thead th {\n",
              "        text-align: right;\n",
              "    }\n",
              "</style>\n",
              "<table border=\"1\" class=\"dataframe\">\n",
              "  <thead>\n",
              "    <tr style=\"text-align: right;\">\n",
              "      <th></th>\n",
              "      <th>aluno</th>\n",
              "      <th>idade</th>\n",
              "      <th>cidade</th>\n",
              "      <th>aniversario</th>\n",
              "      <th>coluna_criada_agora</th>\n",
              "    </tr>\n",
              "  </thead>\n",
              "  <tbody>\n",
              "    <tr>\n",
              "      <th>0</th>\n",
              "      <td>João</td>\n",
              "      <td>20</td>\n",
              "      <td>São Paulo</td>\n",
              "      <td>2002-10-04</td>\n",
              "      <td>1</td>\n",
              "    </tr>\n",
              "    <tr>\n",
              "      <th>1</th>\n",
              "      <td>Ribeiro</td>\n",
              "      <td>29</td>\n",
              "      <td>São João</td>\n",
              "      <td>2003-02-20</td>\n",
              "      <td>1</td>\n",
              "    </tr>\n",
              "    <tr>\n",
              "      <th>2</th>\n",
              "      <td>Evaldo</td>\n",
              "      <td>22</td>\n",
              "      <td>Pinhal</td>\n",
              "      <td>NaT</td>\n",
              "      <td>1</td>\n",
              "    </tr>\n",
              "    <tr>\n",
              "      <th>3</th>\n",
              "      <td>Isaias</td>\n",
              "      <td>21</td>\n",
              "      <td>Mococa</td>\n",
              "      <td>2000-04-20</td>\n",
              "      <td>1</td>\n",
              "    </tr>\n",
              "    <tr>\n",
              "      <th>4</th>\n",
              "      <td>Jessyca</td>\n",
              "      <td>35</td>\n",
              "      <td>Poços</td>\n",
              "      <td>1987-12-12</td>\n",
              "      <td>1</td>\n",
              "    </tr>\n",
              "    <tr>\n",
              "      <th>5</th>\n",
              "      <td>Anne</td>\n",
              "      <td>32</td>\n",
              "      <td>Botelhos</td>\n",
              "      <td>2000-01-01</td>\n",
              "      <td>1</td>\n",
              "    </tr>\n",
              "    <tr>\n",
              "      <th>6</th>\n",
              "      <td>Luiz</td>\n",
              "      <td>40</td>\n",
              "      <td>Pinhal</td>\n",
              "      <td>NaT</td>\n",
              "      <td>1</td>\n",
              "    </tr>\n",
              "  </tbody>\n",
              "</table>\n",
              "</div>\n",
              "      <button class=\"colab-df-convert\" onclick=\"convertToInteractive('df-fbf85e0a-7fc5-4cf0-8c42-6b09e6e408c0')\"\n",
              "              title=\"Convert this dataframe to an interactive table.\"\n",
              "              style=\"display:none;\">\n",
              "        \n",
              "  <svg xmlns=\"http://www.w3.org/2000/svg\" height=\"24px\"viewBox=\"0 0 24 24\"\n",
              "       width=\"24px\">\n",
              "    <path d=\"M0 0h24v24H0V0z\" fill=\"none\"/>\n",
              "    <path d=\"M18.56 5.44l.94 2.06.94-2.06 2.06-.94-2.06-.94-.94-2.06-.94 2.06-2.06.94zm-11 1L8.5 8.5l.94-2.06 2.06-.94-2.06-.94L8.5 2.5l-.94 2.06-2.06.94zm10 10l.94 2.06.94-2.06 2.06-.94-2.06-.94-.94-2.06-.94 2.06-2.06.94z\"/><path d=\"M17.41 7.96l-1.37-1.37c-.4-.4-.92-.59-1.43-.59-.52 0-1.04.2-1.43.59L10.3 9.45l-7.72 7.72c-.78.78-.78 2.05 0 2.83L4 21.41c.39.39.9.59 1.41.59.51 0 1.02-.2 1.41-.59l7.78-7.78 2.81-2.81c.8-.78.8-2.07 0-2.86zM5.41 20L4 18.59l7.72-7.72 1.47 1.35L5.41 20z\"/>\n",
              "  </svg>\n",
              "      </button>\n",
              "      \n",
              "  <style>\n",
              "    .colab-df-container {\n",
              "      display:flex;\n",
              "      flex-wrap:wrap;\n",
              "      gap: 12px;\n",
              "    }\n",
              "\n",
              "    .colab-df-convert {\n",
              "      background-color: #E8F0FE;\n",
              "      border: none;\n",
              "      border-radius: 50%;\n",
              "      cursor: pointer;\n",
              "      display: none;\n",
              "      fill: #1967D2;\n",
              "      height: 32px;\n",
              "      padding: 0 0 0 0;\n",
              "      width: 32px;\n",
              "    }\n",
              "\n",
              "    .colab-df-convert:hover {\n",
              "      background-color: #E2EBFA;\n",
              "      box-shadow: 0px 1px 2px rgba(60, 64, 67, 0.3), 0px 1px 3px 1px rgba(60, 64, 67, 0.15);\n",
              "      fill: #174EA6;\n",
              "    }\n",
              "\n",
              "    [theme=dark] .colab-df-convert {\n",
              "      background-color: #3B4455;\n",
              "      fill: #D2E3FC;\n",
              "    }\n",
              "\n",
              "    [theme=dark] .colab-df-convert:hover {\n",
              "      background-color: #434B5C;\n",
              "      box-shadow: 0px 1px 3px 1px rgba(0, 0, 0, 0.15);\n",
              "      filter: drop-shadow(0px 1px 2px rgba(0, 0, 0, 0.3));\n",
              "      fill: #FFFFFF;\n",
              "    }\n",
              "  </style>\n",
              "\n",
              "      <script>\n",
              "        const buttonEl =\n",
              "          document.querySelector('#df-fbf85e0a-7fc5-4cf0-8c42-6b09e6e408c0 button.colab-df-convert');\n",
              "        buttonEl.style.display =\n",
              "          google.colab.kernel.accessAllowed ? 'block' : 'none';\n",
              "\n",
              "        async function convertToInteractive(key) {\n",
              "          const element = document.querySelector('#df-fbf85e0a-7fc5-4cf0-8c42-6b09e6e408c0');\n",
              "          const dataTable =\n",
              "            await google.colab.kernel.invokeFunction('convertToInteractive',\n",
              "                                                     [key], {});\n",
              "          if (!dataTable) return;\n",
              "\n",
              "          const docLinkHtml = 'Like what you see? Visit the ' +\n",
              "            '<a target=\"_blank\" href=https://colab.research.google.com/notebooks/data_table.ipynb>data table notebook</a>'\n",
              "            + ' to learn more about interactive tables.';\n",
              "          element.innerHTML = '';\n",
              "          dataTable['output_type'] = 'display_data';\n",
              "          await google.colab.output.renderOutput(dataTable, element);\n",
              "          const docLink = document.createElement('div');\n",
              "          docLink.innerHTML = docLinkHtml;\n",
              "          element.appendChild(docLink);\n",
              "        }\n",
              "      </script>\n",
              "    </div>\n",
              "  </div>\n",
              "  "
            ]
          },
          "metadata": {},
          "execution_count": 228
        }
      ]
    },
    {
      "cell_type": "markdown",
      "source": [
        "- Elementos duplicados\n",
        "- Ocorrência de valores\n",
        "- Operador 'in'\n",
        "- sort_values"
      ],
      "metadata": {
        "id": "o4biVSypiCjJ"
      }
    },
    {
      "cell_type": "code",
      "source": [
        "# Ordenando a coluna idade com o sort_values()\n",
        "\n",
        "df.sort_values('aluno', ascending = True)"
      ],
      "metadata": {
        "id": "e-liDemTiR-B",
        "outputId": "f52c1f95-604e-43b7-91de-2442bed6f299",
        "colab": {
          "base_uri": "https://localhost:8080/",
          "height": 269
        }
      },
      "execution_count": 235,
      "outputs": [
        {
          "output_type": "execute_result",
          "data": {
            "text/plain": [
              "     aluno  idade     cidade aniversario\n",
              "5     Anne     32   Botelhos  2000-01-01\n",
              "2   Evaldo     22     Pinhal         NaT\n",
              "3   Isaias     21     Mococa  2000-04-20\n",
              "4  Jessyca     35      Poços  1987-12-12\n",
              "0     João     20  São Paulo  2002-10-04\n",
              "6     Luiz     40     Pinhal         NaT\n",
              "1  Ribeiro     29   São João  2003-02-20"
            ],
            "text/html": [
              "\n",
              "  <div id=\"df-401f61b6-ec5b-4056-98d5-00db3e1e8169\">\n",
              "    <div class=\"colab-df-container\">\n",
              "      <div>\n",
              "<style scoped>\n",
              "    .dataframe tbody tr th:only-of-type {\n",
              "        vertical-align: middle;\n",
              "    }\n",
              "\n",
              "    .dataframe tbody tr th {\n",
              "        vertical-align: top;\n",
              "    }\n",
              "\n",
              "    .dataframe thead th {\n",
              "        text-align: right;\n",
              "    }\n",
              "</style>\n",
              "<table border=\"1\" class=\"dataframe\">\n",
              "  <thead>\n",
              "    <tr style=\"text-align: right;\">\n",
              "      <th></th>\n",
              "      <th>aluno</th>\n",
              "      <th>idade</th>\n",
              "      <th>cidade</th>\n",
              "      <th>aniversario</th>\n",
              "    </tr>\n",
              "  </thead>\n",
              "  <tbody>\n",
              "    <tr>\n",
              "      <th>5</th>\n",
              "      <td>Anne</td>\n",
              "      <td>32</td>\n",
              "      <td>Botelhos</td>\n",
              "      <td>2000-01-01</td>\n",
              "    </tr>\n",
              "    <tr>\n",
              "      <th>2</th>\n",
              "      <td>Evaldo</td>\n",
              "      <td>22</td>\n",
              "      <td>Pinhal</td>\n",
              "      <td>NaT</td>\n",
              "    </tr>\n",
              "    <tr>\n",
              "      <th>3</th>\n",
              "      <td>Isaias</td>\n",
              "      <td>21</td>\n",
              "      <td>Mococa</td>\n",
              "      <td>2000-04-20</td>\n",
              "    </tr>\n",
              "    <tr>\n",
              "      <th>4</th>\n",
              "      <td>Jessyca</td>\n",
              "      <td>35</td>\n",
              "      <td>Poços</td>\n",
              "      <td>1987-12-12</td>\n",
              "    </tr>\n",
              "    <tr>\n",
              "      <th>0</th>\n",
              "      <td>João</td>\n",
              "      <td>20</td>\n",
              "      <td>São Paulo</td>\n",
              "      <td>2002-10-04</td>\n",
              "    </tr>\n",
              "    <tr>\n",
              "      <th>6</th>\n",
              "      <td>Luiz</td>\n",
              "      <td>40</td>\n",
              "      <td>Pinhal</td>\n",
              "      <td>NaT</td>\n",
              "    </tr>\n",
              "    <tr>\n",
              "      <th>1</th>\n",
              "      <td>Ribeiro</td>\n",
              "      <td>29</td>\n",
              "      <td>São João</td>\n",
              "      <td>2003-02-20</td>\n",
              "    </tr>\n",
              "  </tbody>\n",
              "</table>\n",
              "</div>\n",
              "      <button class=\"colab-df-convert\" onclick=\"convertToInteractive('df-401f61b6-ec5b-4056-98d5-00db3e1e8169')\"\n",
              "              title=\"Convert this dataframe to an interactive table.\"\n",
              "              style=\"display:none;\">\n",
              "        \n",
              "  <svg xmlns=\"http://www.w3.org/2000/svg\" height=\"24px\"viewBox=\"0 0 24 24\"\n",
              "       width=\"24px\">\n",
              "    <path d=\"M0 0h24v24H0V0z\" fill=\"none\"/>\n",
              "    <path d=\"M18.56 5.44l.94 2.06.94-2.06 2.06-.94-2.06-.94-.94-2.06-.94 2.06-2.06.94zm-11 1L8.5 8.5l.94-2.06 2.06-.94-2.06-.94L8.5 2.5l-.94 2.06-2.06.94zm10 10l.94 2.06.94-2.06 2.06-.94-2.06-.94-.94-2.06-.94 2.06-2.06.94z\"/><path d=\"M17.41 7.96l-1.37-1.37c-.4-.4-.92-.59-1.43-.59-.52 0-1.04.2-1.43.59L10.3 9.45l-7.72 7.72c-.78.78-.78 2.05 0 2.83L4 21.41c.39.39.9.59 1.41.59.51 0 1.02-.2 1.41-.59l7.78-7.78 2.81-2.81c.8-.78.8-2.07 0-2.86zM5.41 20L4 18.59l7.72-7.72 1.47 1.35L5.41 20z\"/>\n",
              "  </svg>\n",
              "      </button>\n",
              "      \n",
              "  <style>\n",
              "    .colab-df-container {\n",
              "      display:flex;\n",
              "      flex-wrap:wrap;\n",
              "      gap: 12px;\n",
              "    }\n",
              "\n",
              "    .colab-df-convert {\n",
              "      background-color: #E8F0FE;\n",
              "      border: none;\n",
              "      border-radius: 50%;\n",
              "      cursor: pointer;\n",
              "      display: none;\n",
              "      fill: #1967D2;\n",
              "      height: 32px;\n",
              "      padding: 0 0 0 0;\n",
              "      width: 32px;\n",
              "    }\n",
              "\n",
              "    .colab-df-convert:hover {\n",
              "      background-color: #E2EBFA;\n",
              "      box-shadow: 0px 1px 2px rgba(60, 64, 67, 0.3), 0px 1px 3px 1px rgba(60, 64, 67, 0.15);\n",
              "      fill: #174EA6;\n",
              "    }\n",
              "\n",
              "    [theme=dark] .colab-df-convert {\n",
              "      background-color: #3B4455;\n",
              "      fill: #D2E3FC;\n",
              "    }\n",
              "\n",
              "    [theme=dark] .colab-df-convert:hover {\n",
              "      background-color: #434B5C;\n",
              "      box-shadow: 0px 1px 3px 1px rgba(0, 0, 0, 0.15);\n",
              "      filter: drop-shadow(0px 1px 2px rgba(0, 0, 0, 0.3));\n",
              "      fill: #FFFFFF;\n",
              "    }\n",
              "  </style>\n",
              "\n",
              "      <script>\n",
              "        const buttonEl =\n",
              "          document.querySelector('#df-401f61b6-ec5b-4056-98d5-00db3e1e8169 button.colab-df-convert');\n",
              "        buttonEl.style.display =\n",
              "          google.colab.kernel.accessAllowed ? 'block' : 'none';\n",
              "\n",
              "        async function convertToInteractive(key) {\n",
              "          const element = document.querySelector('#df-401f61b6-ec5b-4056-98d5-00db3e1e8169');\n",
              "          const dataTable =\n",
              "            await google.colab.kernel.invokeFunction('convertToInteractive',\n",
              "                                                     [key], {});\n",
              "          if (!dataTable) return;\n",
              "\n",
              "          const docLinkHtml = 'Like what you see? Visit the ' +\n",
              "            '<a target=\"_blank\" href=https://colab.research.google.com/notebooks/data_table.ipynb>data table notebook</a>'\n",
              "            + ' to learn more about interactive tables.';\n",
              "          element.innerHTML = '';\n",
              "          dataTable['output_type'] = 'display_data';\n",
              "          await google.colab.output.renderOutput(dataTable, element);\n",
              "          const docLink = document.createElement('div');\n",
              "          docLink.innerHTML = docLinkHtml;\n",
              "          element.appendChild(docLink);\n",
              "        }\n",
              "      </script>\n",
              "    </div>\n",
              "  </div>\n",
              "  "
            ]
          },
          "metadata": {},
          "execution_count": 235
        }
      ]
    },
    {
      "cell_type": "code",
      "source": [
        "# Ordenando por data de aniversário\n",
        "df.sort_values('aniversario', ascending = True)\n"
      ],
      "metadata": {
        "id": "RVNRR9tuiVUn",
        "outputId": "c92259a4-ca84-4e93-cb53-3047bc73e414",
        "colab": {
          "base_uri": "https://localhost:8080/",
          "height": 269
        }
      },
      "execution_count": 237,
      "outputs": [
        {
          "output_type": "execute_result",
          "data": {
            "text/plain": [
              "     aluno  idade     cidade aniversario\n",
              "4  Jessyca     35      Poços  1987-12-12\n",
              "5     Anne     32   Botelhos  2000-01-01\n",
              "3   Isaias     21     Mococa  2000-04-20\n",
              "0     João     20  São Paulo  2002-10-04\n",
              "1  Ribeiro     29   São João  2003-02-20\n",
              "2   Evaldo     22     Pinhal         NaT\n",
              "6     Luiz     40     Pinhal         NaT"
            ],
            "text/html": [
              "\n",
              "  <div id=\"df-3956b80a-65c7-41cf-a09b-6daed0cc8642\">\n",
              "    <div class=\"colab-df-container\">\n",
              "      <div>\n",
              "<style scoped>\n",
              "    .dataframe tbody tr th:only-of-type {\n",
              "        vertical-align: middle;\n",
              "    }\n",
              "\n",
              "    .dataframe tbody tr th {\n",
              "        vertical-align: top;\n",
              "    }\n",
              "\n",
              "    .dataframe thead th {\n",
              "        text-align: right;\n",
              "    }\n",
              "</style>\n",
              "<table border=\"1\" class=\"dataframe\">\n",
              "  <thead>\n",
              "    <tr style=\"text-align: right;\">\n",
              "      <th></th>\n",
              "      <th>aluno</th>\n",
              "      <th>idade</th>\n",
              "      <th>cidade</th>\n",
              "      <th>aniversario</th>\n",
              "    </tr>\n",
              "  </thead>\n",
              "  <tbody>\n",
              "    <tr>\n",
              "      <th>4</th>\n",
              "      <td>Jessyca</td>\n",
              "      <td>35</td>\n",
              "      <td>Poços</td>\n",
              "      <td>1987-12-12</td>\n",
              "    </tr>\n",
              "    <tr>\n",
              "      <th>5</th>\n",
              "      <td>Anne</td>\n",
              "      <td>32</td>\n",
              "      <td>Botelhos</td>\n",
              "      <td>2000-01-01</td>\n",
              "    </tr>\n",
              "    <tr>\n",
              "      <th>3</th>\n",
              "      <td>Isaias</td>\n",
              "      <td>21</td>\n",
              "      <td>Mococa</td>\n",
              "      <td>2000-04-20</td>\n",
              "    </tr>\n",
              "    <tr>\n",
              "      <th>0</th>\n",
              "      <td>João</td>\n",
              "      <td>20</td>\n",
              "      <td>São Paulo</td>\n",
              "      <td>2002-10-04</td>\n",
              "    </tr>\n",
              "    <tr>\n",
              "      <th>1</th>\n",
              "      <td>Ribeiro</td>\n",
              "      <td>29</td>\n",
              "      <td>São João</td>\n",
              "      <td>2003-02-20</td>\n",
              "    </tr>\n",
              "    <tr>\n",
              "      <th>2</th>\n",
              "      <td>Evaldo</td>\n",
              "      <td>22</td>\n",
              "      <td>Pinhal</td>\n",
              "      <td>NaT</td>\n",
              "    </tr>\n",
              "    <tr>\n",
              "      <th>6</th>\n",
              "      <td>Luiz</td>\n",
              "      <td>40</td>\n",
              "      <td>Pinhal</td>\n",
              "      <td>NaT</td>\n",
              "    </tr>\n",
              "  </tbody>\n",
              "</table>\n",
              "</div>\n",
              "      <button class=\"colab-df-convert\" onclick=\"convertToInteractive('df-3956b80a-65c7-41cf-a09b-6daed0cc8642')\"\n",
              "              title=\"Convert this dataframe to an interactive table.\"\n",
              "              style=\"display:none;\">\n",
              "        \n",
              "  <svg xmlns=\"http://www.w3.org/2000/svg\" height=\"24px\"viewBox=\"0 0 24 24\"\n",
              "       width=\"24px\">\n",
              "    <path d=\"M0 0h24v24H0V0z\" fill=\"none\"/>\n",
              "    <path d=\"M18.56 5.44l.94 2.06.94-2.06 2.06-.94-2.06-.94-.94-2.06-.94 2.06-2.06.94zm-11 1L8.5 8.5l.94-2.06 2.06-.94-2.06-.94L8.5 2.5l-.94 2.06-2.06.94zm10 10l.94 2.06.94-2.06 2.06-.94-2.06-.94-.94-2.06-.94 2.06-2.06.94z\"/><path d=\"M17.41 7.96l-1.37-1.37c-.4-.4-.92-.59-1.43-.59-.52 0-1.04.2-1.43.59L10.3 9.45l-7.72 7.72c-.78.78-.78 2.05 0 2.83L4 21.41c.39.39.9.59 1.41.59.51 0 1.02-.2 1.41-.59l7.78-7.78 2.81-2.81c.8-.78.8-2.07 0-2.86zM5.41 20L4 18.59l7.72-7.72 1.47 1.35L5.41 20z\"/>\n",
              "  </svg>\n",
              "      </button>\n",
              "      \n",
              "  <style>\n",
              "    .colab-df-container {\n",
              "      display:flex;\n",
              "      flex-wrap:wrap;\n",
              "      gap: 12px;\n",
              "    }\n",
              "\n",
              "    .colab-df-convert {\n",
              "      background-color: #E8F0FE;\n",
              "      border: none;\n",
              "      border-radius: 50%;\n",
              "      cursor: pointer;\n",
              "      display: none;\n",
              "      fill: #1967D2;\n",
              "      height: 32px;\n",
              "      padding: 0 0 0 0;\n",
              "      width: 32px;\n",
              "    }\n",
              "\n",
              "    .colab-df-convert:hover {\n",
              "      background-color: #E2EBFA;\n",
              "      box-shadow: 0px 1px 2px rgba(60, 64, 67, 0.3), 0px 1px 3px 1px rgba(60, 64, 67, 0.15);\n",
              "      fill: #174EA6;\n",
              "    }\n",
              "\n",
              "    [theme=dark] .colab-df-convert {\n",
              "      background-color: #3B4455;\n",
              "      fill: #D2E3FC;\n",
              "    }\n",
              "\n",
              "    [theme=dark] .colab-df-convert:hover {\n",
              "      background-color: #434B5C;\n",
              "      box-shadow: 0px 1px 3px 1px rgba(0, 0, 0, 0.15);\n",
              "      filter: drop-shadow(0px 1px 2px rgba(0, 0, 0, 0.3));\n",
              "      fill: #FFFFFF;\n",
              "    }\n",
              "  </style>\n",
              "\n",
              "      <script>\n",
              "        const buttonEl =\n",
              "          document.querySelector('#df-3956b80a-65c7-41cf-a09b-6daed0cc8642 button.colab-df-convert');\n",
              "        buttonEl.style.display =\n",
              "          google.colab.kernel.accessAllowed ? 'block' : 'none';\n",
              "\n",
              "        async function convertToInteractive(key) {\n",
              "          const element = document.querySelector('#df-3956b80a-65c7-41cf-a09b-6daed0cc8642');\n",
              "          const dataTable =\n",
              "            await google.colab.kernel.invokeFunction('convertToInteractive',\n",
              "                                                     [key], {});\n",
              "          if (!dataTable) return;\n",
              "\n",
              "          const docLinkHtml = 'Like what you see? Visit the ' +\n",
              "            '<a target=\"_blank\" href=https://colab.research.google.com/notebooks/data_table.ipynb>data table notebook</a>'\n",
              "            + ' to learn more about interactive tables.';\n",
              "          element.innerHTML = '';\n",
              "          dataTable['output_type'] = 'display_data';\n",
              "          await google.colab.output.renderOutput(dataTable, element);\n",
              "          const docLink = document.createElement('div');\n",
              "          docLink.innerHTML = docLinkHtml;\n",
              "          element.appendChild(docLink);\n",
              "        }\n",
              "      </script>\n",
              "    </div>\n",
              "  </div>\n",
              "  "
            ]
          },
          "metadata": {},
          "execution_count": 237
        }
      ]
    },
    {
      "cell_type": "code",
      "source": [
        "# Ordenando por coluna texto\n",
        "df.sort_values('aniversario', ascending = False)\n"
      ],
      "metadata": {
        "id": "aXyLJmlXiOXk",
        "outputId": "908e5a8c-31b7-4542-8f85-13e87bb0bca9",
        "colab": {
          "base_uri": "https://localhost:8080/",
          "height": 269
        }
      },
      "execution_count": 238,
      "outputs": [
        {
          "output_type": "execute_result",
          "data": {
            "text/plain": [
              "     aluno  idade     cidade aniversario\n",
              "1  Ribeiro     29   São João  2003-02-20\n",
              "0     João     20  São Paulo  2002-10-04\n",
              "3   Isaias     21     Mococa  2000-04-20\n",
              "5     Anne     32   Botelhos  2000-01-01\n",
              "4  Jessyca     35      Poços  1987-12-12\n",
              "2   Evaldo     22     Pinhal         NaT\n",
              "6     Luiz     40     Pinhal         NaT"
            ],
            "text/html": [
              "\n",
              "  <div id=\"df-c0482b19-40e5-4636-9a68-da90b3745ef8\">\n",
              "    <div class=\"colab-df-container\">\n",
              "      <div>\n",
              "<style scoped>\n",
              "    .dataframe tbody tr th:only-of-type {\n",
              "        vertical-align: middle;\n",
              "    }\n",
              "\n",
              "    .dataframe tbody tr th {\n",
              "        vertical-align: top;\n",
              "    }\n",
              "\n",
              "    .dataframe thead th {\n",
              "        text-align: right;\n",
              "    }\n",
              "</style>\n",
              "<table border=\"1\" class=\"dataframe\">\n",
              "  <thead>\n",
              "    <tr style=\"text-align: right;\">\n",
              "      <th></th>\n",
              "      <th>aluno</th>\n",
              "      <th>idade</th>\n",
              "      <th>cidade</th>\n",
              "      <th>aniversario</th>\n",
              "    </tr>\n",
              "  </thead>\n",
              "  <tbody>\n",
              "    <tr>\n",
              "      <th>1</th>\n",
              "      <td>Ribeiro</td>\n",
              "      <td>29</td>\n",
              "      <td>São João</td>\n",
              "      <td>2003-02-20</td>\n",
              "    </tr>\n",
              "    <tr>\n",
              "      <th>0</th>\n",
              "      <td>João</td>\n",
              "      <td>20</td>\n",
              "      <td>São Paulo</td>\n",
              "      <td>2002-10-04</td>\n",
              "    </tr>\n",
              "    <tr>\n",
              "      <th>3</th>\n",
              "      <td>Isaias</td>\n",
              "      <td>21</td>\n",
              "      <td>Mococa</td>\n",
              "      <td>2000-04-20</td>\n",
              "    </tr>\n",
              "    <tr>\n",
              "      <th>5</th>\n",
              "      <td>Anne</td>\n",
              "      <td>32</td>\n",
              "      <td>Botelhos</td>\n",
              "      <td>2000-01-01</td>\n",
              "    </tr>\n",
              "    <tr>\n",
              "      <th>4</th>\n",
              "      <td>Jessyca</td>\n",
              "      <td>35</td>\n",
              "      <td>Poços</td>\n",
              "      <td>1987-12-12</td>\n",
              "    </tr>\n",
              "    <tr>\n",
              "      <th>2</th>\n",
              "      <td>Evaldo</td>\n",
              "      <td>22</td>\n",
              "      <td>Pinhal</td>\n",
              "      <td>NaT</td>\n",
              "    </tr>\n",
              "    <tr>\n",
              "      <th>6</th>\n",
              "      <td>Luiz</td>\n",
              "      <td>40</td>\n",
              "      <td>Pinhal</td>\n",
              "      <td>NaT</td>\n",
              "    </tr>\n",
              "  </tbody>\n",
              "</table>\n",
              "</div>\n",
              "      <button class=\"colab-df-convert\" onclick=\"convertToInteractive('df-c0482b19-40e5-4636-9a68-da90b3745ef8')\"\n",
              "              title=\"Convert this dataframe to an interactive table.\"\n",
              "              style=\"display:none;\">\n",
              "        \n",
              "  <svg xmlns=\"http://www.w3.org/2000/svg\" height=\"24px\"viewBox=\"0 0 24 24\"\n",
              "       width=\"24px\">\n",
              "    <path d=\"M0 0h24v24H0V0z\" fill=\"none\"/>\n",
              "    <path d=\"M18.56 5.44l.94 2.06.94-2.06 2.06-.94-2.06-.94-.94-2.06-.94 2.06-2.06.94zm-11 1L8.5 8.5l.94-2.06 2.06-.94-2.06-.94L8.5 2.5l-.94 2.06-2.06.94zm10 10l.94 2.06.94-2.06 2.06-.94-2.06-.94-.94-2.06-.94 2.06-2.06.94z\"/><path d=\"M17.41 7.96l-1.37-1.37c-.4-.4-.92-.59-1.43-.59-.52 0-1.04.2-1.43.59L10.3 9.45l-7.72 7.72c-.78.78-.78 2.05 0 2.83L4 21.41c.39.39.9.59 1.41.59.51 0 1.02-.2 1.41-.59l7.78-7.78 2.81-2.81c.8-.78.8-2.07 0-2.86zM5.41 20L4 18.59l7.72-7.72 1.47 1.35L5.41 20z\"/>\n",
              "  </svg>\n",
              "      </button>\n",
              "      \n",
              "  <style>\n",
              "    .colab-df-container {\n",
              "      display:flex;\n",
              "      flex-wrap:wrap;\n",
              "      gap: 12px;\n",
              "    }\n",
              "\n",
              "    .colab-df-convert {\n",
              "      background-color: #E8F0FE;\n",
              "      border: none;\n",
              "      border-radius: 50%;\n",
              "      cursor: pointer;\n",
              "      display: none;\n",
              "      fill: #1967D2;\n",
              "      height: 32px;\n",
              "      padding: 0 0 0 0;\n",
              "      width: 32px;\n",
              "    }\n",
              "\n",
              "    .colab-df-convert:hover {\n",
              "      background-color: #E2EBFA;\n",
              "      box-shadow: 0px 1px 2px rgba(60, 64, 67, 0.3), 0px 1px 3px 1px rgba(60, 64, 67, 0.15);\n",
              "      fill: #174EA6;\n",
              "    }\n",
              "\n",
              "    [theme=dark] .colab-df-convert {\n",
              "      background-color: #3B4455;\n",
              "      fill: #D2E3FC;\n",
              "    }\n",
              "\n",
              "    [theme=dark] .colab-df-convert:hover {\n",
              "      background-color: #434B5C;\n",
              "      box-shadow: 0px 1px 3px 1px rgba(0, 0, 0, 0.15);\n",
              "      filter: drop-shadow(0px 1px 2px rgba(0, 0, 0, 0.3));\n",
              "      fill: #FFFFFF;\n",
              "    }\n",
              "  </style>\n",
              "\n",
              "      <script>\n",
              "        const buttonEl =\n",
              "          document.querySelector('#df-c0482b19-40e5-4636-9a68-da90b3745ef8 button.colab-df-convert');\n",
              "        buttonEl.style.display =\n",
              "          google.colab.kernel.accessAllowed ? 'block' : 'none';\n",
              "\n",
              "        async function convertToInteractive(key) {\n",
              "          const element = document.querySelector('#df-c0482b19-40e5-4636-9a68-da90b3745ef8');\n",
              "          const dataTable =\n",
              "            await google.colab.kernel.invokeFunction('convertToInteractive',\n",
              "                                                     [key], {});\n",
              "          if (!dataTable) return;\n",
              "\n",
              "          const docLinkHtml = 'Like what you see? Visit the ' +\n",
              "            '<a target=\"_blank\" href=https://colab.research.google.com/notebooks/data_table.ipynb>data table notebook</a>'\n",
              "            + ' to learn more about interactive tables.';\n",
              "          element.innerHTML = '';\n",
              "          dataTable['output_type'] = 'display_data';\n",
              "          await google.colab.output.renderOutput(dataTable, element);\n",
              "          const docLink = document.createElement('div');\n",
              "          docLink.innerHTML = docLinkHtml;\n",
              "          element.appendChild(docLink);\n",
              "        }\n",
              "      </script>\n",
              "    </div>\n",
              "  </div>\n",
              "  "
            ]
          },
          "metadata": {},
          "execution_count": 238
        }
      ]
    },
    {
      "cell_type": "markdown",
      "source": [
        "Extra: entendendo o pandas sort_values() <br>\n",
        "https://www.sharpsightlabs.com/blog/pandas-sort_values/"
      ],
      "metadata": {
        "id": "0Tjm2fczm4fw"
      }
    },
    {
      "cell_type": "code",
      "source": [
        "# Procurando se alguém mora em 'Mococa' com o operador 'in'\n",
        "df['cidade'].isin(['Mococa'])\n",
        "\n",
        "\n",
        "# Repare no True para o índice 3"
      ],
      "metadata": {
        "id": "5JN87huBihln",
        "outputId": "15129ef2-a444-4125-be91-7591f9715723",
        "colab": {
          "base_uri": "https://localhost:8080/"
        }
      },
      "execution_count": 241,
      "outputs": [
        {
          "output_type": "execute_result",
          "data": {
            "text/plain": [
              "0    False\n",
              "1    False\n",
              "2    False\n",
              "3     True\n",
              "4    False\n",
              "5    False\n",
              "6    False\n",
              "Name: cidade, dtype: bool"
            ]
          },
          "metadata": {},
          "execution_count": 241
        }
      ]
    },
    {
      "cell_type": "code",
      "source": [
        "# Verificando se há alguma linha duplicada\n",
        "df.duplicated()\n",
        "\n",
        "\n",
        "# Nenhuma linha está duplicada\n",
        "# Consulta extra: https://pandas.pydata.org/docs/reference/api/pandas.DataFrame.duplicated.html"
      ],
      "metadata": {
        "id": "2l7pzZsRi987",
        "outputId": "21d1ef02-a9f4-4d2e-ce64-c80f7e1c3e3a",
        "colab": {
          "base_uri": "https://localhost:8080/"
        }
      },
      "execution_count": 242,
      "outputs": [
        {
          "output_type": "execute_result",
          "data": {
            "text/plain": [
              "0    False\n",
              "1    False\n",
              "2    False\n",
              "3    False\n",
              "4    False\n",
              "5    False\n",
              "6    False\n",
              "dtype: bool"
            ]
          },
          "metadata": {},
          "execution_count": 242
        }
      ]
    },
    {
      "cell_type": "code",
      "source": [
        "# Verificando se há um valor duplicado em 'cidade'\n",
        "df['cidade'].duplicated(keep = False)\n",
        "\n",
        "\n",
        "# Há 2 ocorrências que se repetem"
      ],
      "metadata": {
        "id": "qL40mIPFjNl_",
        "outputId": "64f9e9e6-a789-4271-c163-edfbf1062219",
        "colab": {
          "base_uri": "https://localhost:8080/"
        }
      },
      "execution_count": 244,
      "outputs": [
        {
          "output_type": "execute_result",
          "data": {
            "text/plain": [
              "0    False\n",
              "1    False\n",
              "2     True\n",
              "3    False\n",
              "4    False\n",
              "5    False\n",
              "6     True\n",
              "Name: cidade, dtype: bool"
            ]
          },
          "metadata": {},
          "execution_count": 244
        }
      ]
    },
    {
      "cell_type": "code",
      "source": [
        "# Buscando pelos valores únicos de uma coluna\n",
        "df['cidade'].unique()\n"
      ],
      "metadata": {
        "id": "i6oYuOT6jZGs",
        "outputId": "78a6aa93-4ab4-49fb-c07a-282c85bb4c9e",
        "colab": {
          "base_uri": "https://localhost:8080/"
        }
      },
      "execution_count": 245,
      "outputs": [
        {
          "output_type": "execute_result",
          "data": {
            "text/plain": [
              "array(['São Paulo', 'São João', 'Pinhal', 'Mococa', 'Poços', 'Botelhos'],\n",
              "      dtype=object)"
            ]
          },
          "metadata": {},
          "execution_count": 245
        }
      ]
    },
    {
      "cell_type": "code",
      "source": [
        "# E quantos são os valores únicos?\n",
        "df['cidade'].nunique()\n"
      ],
      "metadata": {
        "id": "2M1L-0Ixjd2B",
        "outputId": "d16ee580-1b65-428e-9f56-046c59283c02",
        "colab": {
          "base_uri": "https://localhost:8080/"
        }
      },
      "execution_count": 246,
      "outputs": [
        {
          "output_type": "execute_result",
          "data": {
            "text/plain": [
              "6"
            ]
          },
          "metadata": {},
          "execution_count": 246
        }
      ]
    },
    {
      "cell_type": "markdown",
      "source": [
        "Maneira rápida de verificar as principais estatísticas do DataFrame"
      ],
      "metadata": {
        "id": "43TsM0Buk9pG"
      }
    },
    {
      "cell_type": "code",
      "source": [
        "# Procurando a contagem, média, desvio padrão, mínimo, percentils e valor máximo\n",
        "df.describe()\n"
      ],
      "metadata": {
        "id": "xvpEQqFdlDQC",
        "outputId": "f68dba8d-109a-4d78-f2c5-2f294d8b3b7c",
        "colab": {
          "base_uri": "https://localhost:8080/",
          "height": 300
        }
      },
      "execution_count": 247,
      "outputs": [
        {
          "output_type": "execute_result",
          "data": {
            "text/plain": [
              "           idade\n",
              "count   7.000000\n",
              "mean   28.428571\n",
              "std     7.721337\n",
              "min    20.000000\n",
              "25%    21.500000\n",
              "50%    29.000000\n",
              "75%    33.500000\n",
              "max    40.000000"
            ],
            "text/html": [
              "\n",
              "  <div id=\"df-74fa6213-e2a2-4b7f-a41c-23557ebfda96\">\n",
              "    <div class=\"colab-df-container\">\n",
              "      <div>\n",
              "<style scoped>\n",
              "    .dataframe tbody tr th:only-of-type {\n",
              "        vertical-align: middle;\n",
              "    }\n",
              "\n",
              "    .dataframe tbody tr th {\n",
              "        vertical-align: top;\n",
              "    }\n",
              "\n",
              "    .dataframe thead th {\n",
              "        text-align: right;\n",
              "    }\n",
              "</style>\n",
              "<table border=\"1\" class=\"dataframe\">\n",
              "  <thead>\n",
              "    <tr style=\"text-align: right;\">\n",
              "      <th></th>\n",
              "      <th>idade</th>\n",
              "    </tr>\n",
              "  </thead>\n",
              "  <tbody>\n",
              "    <tr>\n",
              "      <th>count</th>\n",
              "      <td>7.000000</td>\n",
              "    </tr>\n",
              "    <tr>\n",
              "      <th>mean</th>\n",
              "      <td>28.428571</td>\n",
              "    </tr>\n",
              "    <tr>\n",
              "      <th>std</th>\n",
              "      <td>7.721337</td>\n",
              "    </tr>\n",
              "    <tr>\n",
              "      <th>min</th>\n",
              "      <td>20.000000</td>\n",
              "    </tr>\n",
              "    <tr>\n",
              "      <th>25%</th>\n",
              "      <td>21.500000</td>\n",
              "    </tr>\n",
              "    <tr>\n",
              "      <th>50%</th>\n",
              "      <td>29.000000</td>\n",
              "    </tr>\n",
              "    <tr>\n",
              "      <th>75%</th>\n",
              "      <td>33.500000</td>\n",
              "    </tr>\n",
              "    <tr>\n",
              "      <th>max</th>\n",
              "      <td>40.000000</td>\n",
              "    </tr>\n",
              "  </tbody>\n",
              "</table>\n",
              "</div>\n",
              "      <button class=\"colab-df-convert\" onclick=\"convertToInteractive('df-74fa6213-e2a2-4b7f-a41c-23557ebfda96')\"\n",
              "              title=\"Convert this dataframe to an interactive table.\"\n",
              "              style=\"display:none;\">\n",
              "        \n",
              "  <svg xmlns=\"http://www.w3.org/2000/svg\" height=\"24px\"viewBox=\"0 0 24 24\"\n",
              "       width=\"24px\">\n",
              "    <path d=\"M0 0h24v24H0V0z\" fill=\"none\"/>\n",
              "    <path d=\"M18.56 5.44l.94 2.06.94-2.06 2.06-.94-2.06-.94-.94-2.06-.94 2.06-2.06.94zm-11 1L8.5 8.5l.94-2.06 2.06-.94-2.06-.94L8.5 2.5l-.94 2.06-2.06.94zm10 10l.94 2.06.94-2.06 2.06-.94-2.06-.94-.94-2.06-.94 2.06-2.06.94z\"/><path d=\"M17.41 7.96l-1.37-1.37c-.4-.4-.92-.59-1.43-.59-.52 0-1.04.2-1.43.59L10.3 9.45l-7.72 7.72c-.78.78-.78 2.05 0 2.83L4 21.41c.39.39.9.59 1.41.59.51 0 1.02-.2 1.41-.59l7.78-7.78 2.81-2.81c.8-.78.8-2.07 0-2.86zM5.41 20L4 18.59l7.72-7.72 1.47 1.35L5.41 20z\"/>\n",
              "  </svg>\n",
              "      </button>\n",
              "      \n",
              "  <style>\n",
              "    .colab-df-container {\n",
              "      display:flex;\n",
              "      flex-wrap:wrap;\n",
              "      gap: 12px;\n",
              "    }\n",
              "\n",
              "    .colab-df-convert {\n",
              "      background-color: #E8F0FE;\n",
              "      border: none;\n",
              "      border-radius: 50%;\n",
              "      cursor: pointer;\n",
              "      display: none;\n",
              "      fill: #1967D2;\n",
              "      height: 32px;\n",
              "      padding: 0 0 0 0;\n",
              "      width: 32px;\n",
              "    }\n",
              "\n",
              "    .colab-df-convert:hover {\n",
              "      background-color: #E2EBFA;\n",
              "      box-shadow: 0px 1px 2px rgba(60, 64, 67, 0.3), 0px 1px 3px 1px rgba(60, 64, 67, 0.15);\n",
              "      fill: #174EA6;\n",
              "    }\n",
              "\n",
              "    [theme=dark] .colab-df-convert {\n",
              "      background-color: #3B4455;\n",
              "      fill: #D2E3FC;\n",
              "    }\n",
              "\n",
              "    [theme=dark] .colab-df-convert:hover {\n",
              "      background-color: #434B5C;\n",
              "      box-shadow: 0px 1px 3px 1px rgba(0, 0, 0, 0.15);\n",
              "      filter: drop-shadow(0px 1px 2px rgba(0, 0, 0, 0.3));\n",
              "      fill: #FFFFFF;\n",
              "    }\n",
              "  </style>\n",
              "\n",
              "      <script>\n",
              "        const buttonEl =\n",
              "          document.querySelector('#df-74fa6213-e2a2-4b7f-a41c-23557ebfda96 button.colab-df-convert');\n",
              "        buttonEl.style.display =\n",
              "          google.colab.kernel.accessAllowed ? 'block' : 'none';\n",
              "\n",
              "        async function convertToInteractive(key) {\n",
              "          const element = document.querySelector('#df-74fa6213-e2a2-4b7f-a41c-23557ebfda96');\n",
              "          const dataTable =\n",
              "            await google.colab.kernel.invokeFunction('convertToInteractive',\n",
              "                                                     [key], {});\n",
              "          if (!dataTable) return;\n",
              "\n",
              "          const docLinkHtml = 'Like what you see? Visit the ' +\n",
              "            '<a target=\"_blank\" href=https://colab.research.google.com/notebooks/data_table.ipynb>data table notebook</a>'\n",
              "            + ' to learn more about interactive tables.';\n",
              "          element.innerHTML = '';\n",
              "          dataTable['output_type'] = 'display_data';\n",
              "          await google.colab.output.renderOutput(dataTable, element);\n",
              "          const docLink = document.createElement('div');\n",
              "          docLink.innerHTML = docLinkHtml;\n",
              "          element.appendChild(docLink);\n",
              "        }\n",
              "      </script>\n",
              "    </div>\n",
              "  </div>\n",
              "  "
            ]
          },
          "metadata": {},
          "execution_count": 247
        }
      ]
    },
    {
      "cell_type": "code",
      "source": [
        "# Verificando para strings\n",
        "\n",
        "df.describe(include = ['O'])\n"
      ],
      "metadata": {
        "id": "sXr7QOpKlMML",
        "outputId": "5f85bbbe-0f33-47f6-b352-4b2fe8651a28",
        "colab": {
          "base_uri": "https://localhost:8080/",
          "height": 175
        }
      },
      "execution_count": 248,
      "outputs": [
        {
          "output_type": "execute_result",
          "data": {
            "text/plain": [
              "       aluno  cidade\n",
              "count      7       7\n",
              "unique     7       6\n",
              "top     João  Pinhal\n",
              "freq       1       2"
            ],
            "text/html": [
              "\n",
              "  <div id=\"df-1c2d1b65-6b75-4ccc-b9bb-cdde61b09c54\">\n",
              "    <div class=\"colab-df-container\">\n",
              "      <div>\n",
              "<style scoped>\n",
              "    .dataframe tbody tr th:only-of-type {\n",
              "        vertical-align: middle;\n",
              "    }\n",
              "\n",
              "    .dataframe tbody tr th {\n",
              "        vertical-align: top;\n",
              "    }\n",
              "\n",
              "    .dataframe thead th {\n",
              "        text-align: right;\n",
              "    }\n",
              "</style>\n",
              "<table border=\"1\" class=\"dataframe\">\n",
              "  <thead>\n",
              "    <tr style=\"text-align: right;\">\n",
              "      <th></th>\n",
              "      <th>aluno</th>\n",
              "      <th>cidade</th>\n",
              "    </tr>\n",
              "  </thead>\n",
              "  <tbody>\n",
              "    <tr>\n",
              "      <th>count</th>\n",
              "      <td>7</td>\n",
              "      <td>7</td>\n",
              "    </tr>\n",
              "    <tr>\n",
              "      <th>unique</th>\n",
              "      <td>7</td>\n",
              "      <td>6</td>\n",
              "    </tr>\n",
              "    <tr>\n",
              "      <th>top</th>\n",
              "      <td>João</td>\n",
              "      <td>Pinhal</td>\n",
              "    </tr>\n",
              "    <tr>\n",
              "      <th>freq</th>\n",
              "      <td>1</td>\n",
              "      <td>2</td>\n",
              "    </tr>\n",
              "  </tbody>\n",
              "</table>\n",
              "</div>\n",
              "      <button class=\"colab-df-convert\" onclick=\"convertToInteractive('df-1c2d1b65-6b75-4ccc-b9bb-cdde61b09c54')\"\n",
              "              title=\"Convert this dataframe to an interactive table.\"\n",
              "              style=\"display:none;\">\n",
              "        \n",
              "  <svg xmlns=\"http://www.w3.org/2000/svg\" height=\"24px\"viewBox=\"0 0 24 24\"\n",
              "       width=\"24px\">\n",
              "    <path d=\"M0 0h24v24H0V0z\" fill=\"none\"/>\n",
              "    <path d=\"M18.56 5.44l.94 2.06.94-2.06 2.06-.94-2.06-.94-.94-2.06-.94 2.06-2.06.94zm-11 1L8.5 8.5l.94-2.06 2.06-.94-2.06-.94L8.5 2.5l-.94 2.06-2.06.94zm10 10l.94 2.06.94-2.06 2.06-.94-2.06-.94-.94-2.06-.94 2.06-2.06.94z\"/><path d=\"M17.41 7.96l-1.37-1.37c-.4-.4-.92-.59-1.43-.59-.52 0-1.04.2-1.43.59L10.3 9.45l-7.72 7.72c-.78.78-.78 2.05 0 2.83L4 21.41c.39.39.9.59 1.41.59.51 0 1.02-.2 1.41-.59l7.78-7.78 2.81-2.81c.8-.78.8-2.07 0-2.86zM5.41 20L4 18.59l7.72-7.72 1.47 1.35L5.41 20z\"/>\n",
              "  </svg>\n",
              "      </button>\n",
              "      \n",
              "  <style>\n",
              "    .colab-df-container {\n",
              "      display:flex;\n",
              "      flex-wrap:wrap;\n",
              "      gap: 12px;\n",
              "    }\n",
              "\n",
              "    .colab-df-convert {\n",
              "      background-color: #E8F0FE;\n",
              "      border: none;\n",
              "      border-radius: 50%;\n",
              "      cursor: pointer;\n",
              "      display: none;\n",
              "      fill: #1967D2;\n",
              "      height: 32px;\n",
              "      padding: 0 0 0 0;\n",
              "      width: 32px;\n",
              "    }\n",
              "\n",
              "    .colab-df-convert:hover {\n",
              "      background-color: #E2EBFA;\n",
              "      box-shadow: 0px 1px 2px rgba(60, 64, 67, 0.3), 0px 1px 3px 1px rgba(60, 64, 67, 0.15);\n",
              "      fill: #174EA6;\n",
              "    }\n",
              "\n",
              "    [theme=dark] .colab-df-convert {\n",
              "      background-color: #3B4455;\n",
              "      fill: #D2E3FC;\n",
              "    }\n",
              "\n",
              "    [theme=dark] .colab-df-convert:hover {\n",
              "      background-color: #434B5C;\n",
              "      box-shadow: 0px 1px 3px 1px rgba(0, 0, 0, 0.15);\n",
              "      filter: drop-shadow(0px 1px 2px rgba(0, 0, 0, 0.3));\n",
              "      fill: #FFFFFF;\n",
              "    }\n",
              "  </style>\n",
              "\n",
              "      <script>\n",
              "        const buttonEl =\n",
              "          document.querySelector('#df-1c2d1b65-6b75-4ccc-b9bb-cdde61b09c54 button.colab-df-convert');\n",
              "        buttonEl.style.display =\n",
              "          google.colab.kernel.accessAllowed ? 'block' : 'none';\n",
              "\n",
              "        async function convertToInteractive(key) {\n",
              "          const element = document.querySelector('#df-1c2d1b65-6b75-4ccc-b9bb-cdde61b09c54');\n",
              "          const dataTable =\n",
              "            await google.colab.kernel.invokeFunction('convertToInteractive',\n",
              "                                                     [key], {});\n",
              "          if (!dataTable) return;\n",
              "\n",
              "          const docLinkHtml = 'Like what you see? Visit the ' +\n",
              "            '<a target=\"_blank\" href=https://colab.research.google.com/notebooks/data_table.ipynb>data table notebook</a>'\n",
              "            + ' to learn more about interactive tables.';\n",
              "          element.innerHTML = '';\n",
              "          dataTable['output_type'] = 'display_data';\n",
              "          await google.colab.output.renderOutput(dataTable, element);\n",
              "          const docLink = document.createElement('div');\n",
              "          docLink.innerHTML = docLinkHtml;\n",
              "          element.appendChild(docLink);\n",
              "        }\n",
              "      </script>\n",
              "    </div>\n",
              "  </div>\n",
              "  "
            ]
          },
          "metadata": {},
          "execution_count": 248
        }
      ]
    },
    {
      "cell_type": "markdown",
      "source": [
        "Valores **NaN**"
      ],
      "metadata": {
        "id": "KGuBXFXmmEKM"
      }
    },
    {
      "cell_type": "code",
      "source": [
        "# Buscando se e quantos valores NaN's temos em nosso dataframe\n",
        "\n",
        "df.isna().sum()\n",
        "\n",
        "\n",
        "# Há 2 valores faltantes em aniversario"
      ],
      "metadata": {
        "id": "UvzVo7Vdo2v8",
        "outputId": "88fd8618-92a2-4440-d6a0-4ba19fccdb41",
        "colab": {
          "base_uri": "https://localhost:8080/"
        }
      },
      "execution_count": 249,
      "outputs": [
        {
          "output_type": "execute_result",
          "data": {
            "text/plain": [
              "aluno          0\n",
              "idade          0\n",
              "cidade         0\n",
              "aniversario    2\n",
              "dtype: int64"
            ]
          },
          "metadata": {},
          "execution_count": 249
        }
      ]
    },
    {
      "cell_type": "code",
      "source": [
        "# Preenchendo os valores faltantes com os valores de cima\n",
        "\n",
        "# 1º: Verificando o df antes do processo\n",
        "df"
      ],
      "metadata": {
        "id": "hnf71TiJpShK",
        "outputId": "c5164291-617b-4d9e-9a87-72ca2c20f6f7",
        "colab": {
          "base_uri": "https://localhost:8080/",
          "height": 269
        }
      },
      "execution_count": 250,
      "outputs": [
        {
          "output_type": "execute_result",
          "data": {
            "text/plain": [
              "     aluno  idade     cidade aniversario\n",
              "0     João     20  São Paulo  2002-10-04\n",
              "1  Ribeiro     29   São João  2003-02-20\n",
              "2   Evaldo     22     Pinhal         NaT\n",
              "3   Isaias     21     Mococa  2000-04-20\n",
              "4  Jessyca     35      Poços  1987-12-12\n",
              "5     Anne     32   Botelhos  2000-01-01\n",
              "6     Luiz     40     Pinhal         NaT"
            ],
            "text/html": [
              "\n",
              "  <div id=\"df-936878ac-3361-46b5-ba1c-dfaca41398df\">\n",
              "    <div class=\"colab-df-container\">\n",
              "      <div>\n",
              "<style scoped>\n",
              "    .dataframe tbody tr th:only-of-type {\n",
              "        vertical-align: middle;\n",
              "    }\n",
              "\n",
              "    .dataframe tbody tr th {\n",
              "        vertical-align: top;\n",
              "    }\n",
              "\n",
              "    .dataframe thead th {\n",
              "        text-align: right;\n",
              "    }\n",
              "</style>\n",
              "<table border=\"1\" class=\"dataframe\">\n",
              "  <thead>\n",
              "    <tr style=\"text-align: right;\">\n",
              "      <th></th>\n",
              "      <th>aluno</th>\n",
              "      <th>idade</th>\n",
              "      <th>cidade</th>\n",
              "      <th>aniversario</th>\n",
              "    </tr>\n",
              "  </thead>\n",
              "  <tbody>\n",
              "    <tr>\n",
              "      <th>0</th>\n",
              "      <td>João</td>\n",
              "      <td>20</td>\n",
              "      <td>São Paulo</td>\n",
              "      <td>2002-10-04</td>\n",
              "    </tr>\n",
              "    <tr>\n",
              "      <th>1</th>\n",
              "      <td>Ribeiro</td>\n",
              "      <td>29</td>\n",
              "      <td>São João</td>\n",
              "      <td>2003-02-20</td>\n",
              "    </tr>\n",
              "    <tr>\n",
              "      <th>2</th>\n",
              "      <td>Evaldo</td>\n",
              "      <td>22</td>\n",
              "      <td>Pinhal</td>\n",
              "      <td>NaT</td>\n",
              "    </tr>\n",
              "    <tr>\n",
              "      <th>3</th>\n",
              "      <td>Isaias</td>\n",
              "      <td>21</td>\n",
              "      <td>Mococa</td>\n",
              "      <td>2000-04-20</td>\n",
              "    </tr>\n",
              "    <tr>\n",
              "      <th>4</th>\n",
              "      <td>Jessyca</td>\n",
              "      <td>35</td>\n",
              "      <td>Poços</td>\n",
              "      <td>1987-12-12</td>\n",
              "    </tr>\n",
              "    <tr>\n",
              "      <th>5</th>\n",
              "      <td>Anne</td>\n",
              "      <td>32</td>\n",
              "      <td>Botelhos</td>\n",
              "      <td>2000-01-01</td>\n",
              "    </tr>\n",
              "    <tr>\n",
              "      <th>6</th>\n",
              "      <td>Luiz</td>\n",
              "      <td>40</td>\n",
              "      <td>Pinhal</td>\n",
              "      <td>NaT</td>\n",
              "    </tr>\n",
              "  </tbody>\n",
              "</table>\n",
              "</div>\n",
              "      <button class=\"colab-df-convert\" onclick=\"convertToInteractive('df-936878ac-3361-46b5-ba1c-dfaca41398df')\"\n",
              "              title=\"Convert this dataframe to an interactive table.\"\n",
              "              style=\"display:none;\">\n",
              "        \n",
              "  <svg xmlns=\"http://www.w3.org/2000/svg\" height=\"24px\"viewBox=\"0 0 24 24\"\n",
              "       width=\"24px\">\n",
              "    <path d=\"M0 0h24v24H0V0z\" fill=\"none\"/>\n",
              "    <path d=\"M18.56 5.44l.94 2.06.94-2.06 2.06-.94-2.06-.94-.94-2.06-.94 2.06-2.06.94zm-11 1L8.5 8.5l.94-2.06 2.06-.94-2.06-.94L8.5 2.5l-.94 2.06-2.06.94zm10 10l.94 2.06.94-2.06 2.06-.94-2.06-.94-.94-2.06-.94 2.06-2.06.94z\"/><path d=\"M17.41 7.96l-1.37-1.37c-.4-.4-.92-.59-1.43-.59-.52 0-1.04.2-1.43.59L10.3 9.45l-7.72 7.72c-.78.78-.78 2.05 0 2.83L4 21.41c.39.39.9.59 1.41.59.51 0 1.02-.2 1.41-.59l7.78-7.78 2.81-2.81c.8-.78.8-2.07 0-2.86zM5.41 20L4 18.59l7.72-7.72 1.47 1.35L5.41 20z\"/>\n",
              "  </svg>\n",
              "      </button>\n",
              "      \n",
              "  <style>\n",
              "    .colab-df-container {\n",
              "      display:flex;\n",
              "      flex-wrap:wrap;\n",
              "      gap: 12px;\n",
              "    }\n",
              "\n",
              "    .colab-df-convert {\n",
              "      background-color: #E8F0FE;\n",
              "      border: none;\n",
              "      border-radius: 50%;\n",
              "      cursor: pointer;\n",
              "      display: none;\n",
              "      fill: #1967D2;\n",
              "      height: 32px;\n",
              "      padding: 0 0 0 0;\n",
              "      width: 32px;\n",
              "    }\n",
              "\n",
              "    .colab-df-convert:hover {\n",
              "      background-color: #E2EBFA;\n",
              "      box-shadow: 0px 1px 2px rgba(60, 64, 67, 0.3), 0px 1px 3px 1px rgba(60, 64, 67, 0.15);\n",
              "      fill: #174EA6;\n",
              "    }\n",
              "\n",
              "    [theme=dark] .colab-df-convert {\n",
              "      background-color: #3B4455;\n",
              "      fill: #D2E3FC;\n",
              "    }\n",
              "\n",
              "    [theme=dark] .colab-df-convert:hover {\n",
              "      background-color: #434B5C;\n",
              "      box-shadow: 0px 1px 3px 1px rgba(0, 0, 0, 0.15);\n",
              "      filter: drop-shadow(0px 1px 2px rgba(0, 0, 0, 0.3));\n",
              "      fill: #FFFFFF;\n",
              "    }\n",
              "  </style>\n",
              "\n",
              "      <script>\n",
              "        const buttonEl =\n",
              "          document.querySelector('#df-936878ac-3361-46b5-ba1c-dfaca41398df button.colab-df-convert');\n",
              "        buttonEl.style.display =\n",
              "          google.colab.kernel.accessAllowed ? 'block' : 'none';\n",
              "\n",
              "        async function convertToInteractive(key) {\n",
              "          const element = document.querySelector('#df-936878ac-3361-46b5-ba1c-dfaca41398df');\n",
              "          const dataTable =\n",
              "            await google.colab.kernel.invokeFunction('convertToInteractive',\n",
              "                                                     [key], {});\n",
              "          if (!dataTable) return;\n",
              "\n",
              "          const docLinkHtml = 'Like what you see? Visit the ' +\n",
              "            '<a target=\"_blank\" href=https://colab.research.google.com/notebooks/data_table.ipynb>data table notebook</a>'\n",
              "            + ' to learn more about interactive tables.';\n",
              "          element.innerHTML = '';\n",
              "          dataTable['output_type'] = 'display_data';\n",
              "          await google.colab.output.renderOutput(dataTable, element);\n",
              "          const docLink = document.createElement('div');\n",
              "          docLink.innerHTML = docLinkHtml;\n",
              "          element.appendChild(docLink);\n",
              "        }\n",
              "      </script>\n",
              "    </div>\n",
              "  </div>\n",
              "  "
            ]
          },
          "metadata": {},
          "execution_count": 250
        }
      ]
    },
    {
      "cell_type": "code",
      "source": [
        "# 2º: Completando os valores Na com os valores de cima\n",
        "\n",
        "\n",
        "df['aniversario'].fillna(method = 'pad', inplace = True) # Outros métodos backfill, bfill, pad, ffill, None etc\n",
        "\n",
        "df"
      ],
      "metadata": {
        "id": "GRSg_KQopZZZ",
        "outputId": "90c81a25-1673-49e8-febb-ca88209f3e3c",
        "colab": {
          "base_uri": "https://localhost:8080/",
          "height": 269
        }
      },
      "execution_count": 253,
      "outputs": [
        {
          "output_type": "execute_result",
          "data": {
            "text/plain": [
              "     aluno  idade     cidade aniversario\n",
              "0     João     20  São Paulo  2002-10-04\n",
              "1  Ribeiro     29   São João  2003-02-20\n",
              "2   Evaldo     22     Pinhal  2003-02-20\n",
              "3   Isaias     21     Mococa  2000-04-20\n",
              "4  Jessyca     35      Poços  1987-12-12\n",
              "5     Anne     32   Botelhos  2000-01-01\n",
              "6     Luiz     40     Pinhal  2000-01-01"
            ],
            "text/html": [
              "\n",
              "  <div id=\"df-a74ab8ce-7d27-49f6-b77d-098c8d35f891\">\n",
              "    <div class=\"colab-df-container\">\n",
              "      <div>\n",
              "<style scoped>\n",
              "    .dataframe tbody tr th:only-of-type {\n",
              "        vertical-align: middle;\n",
              "    }\n",
              "\n",
              "    .dataframe tbody tr th {\n",
              "        vertical-align: top;\n",
              "    }\n",
              "\n",
              "    .dataframe thead th {\n",
              "        text-align: right;\n",
              "    }\n",
              "</style>\n",
              "<table border=\"1\" class=\"dataframe\">\n",
              "  <thead>\n",
              "    <tr style=\"text-align: right;\">\n",
              "      <th></th>\n",
              "      <th>aluno</th>\n",
              "      <th>idade</th>\n",
              "      <th>cidade</th>\n",
              "      <th>aniversario</th>\n",
              "    </tr>\n",
              "  </thead>\n",
              "  <tbody>\n",
              "    <tr>\n",
              "      <th>0</th>\n",
              "      <td>João</td>\n",
              "      <td>20</td>\n",
              "      <td>São Paulo</td>\n",
              "      <td>2002-10-04</td>\n",
              "    </tr>\n",
              "    <tr>\n",
              "      <th>1</th>\n",
              "      <td>Ribeiro</td>\n",
              "      <td>29</td>\n",
              "      <td>São João</td>\n",
              "      <td>2003-02-20</td>\n",
              "    </tr>\n",
              "    <tr>\n",
              "      <th>2</th>\n",
              "      <td>Evaldo</td>\n",
              "      <td>22</td>\n",
              "      <td>Pinhal</td>\n",
              "      <td>2003-02-20</td>\n",
              "    </tr>\n",
              "    <tr>\n",
              "      <th>3</th>\n",
              "      <td>Isaias</td>\n",
              "      <td>21</td>\n",
              "      <td>Mococa</td>\n",
              "      <td>2000-04-20</td>\n",
              "    </tr>\n",
              "    <tr>\n",
              "      <th>4</th>\n",
              "      <td>Jessyca</td>\n",
              "      <td>35</td>\n",
              "      <td>Poços</td>\n",
              "      <td>1987-12-12</td>\n",
              "    </tr>\n",
              "    <tr>\n",
              "      <th>5</th>\n",
              "      <td>Anne</td>\n",
              "      <td>32</td>\n",
              "      <td>Botelhos</td>\n",
              "      <td>2000-01-01</td>\n",
              "    </tr>\n",
              "    <tr>\n",
              "      <th>6</th>\n",
              "      <td>Luiz</td>\n",
              "      <td>40</td>\n",
              "      <td>Pinhal</td>\n",
              "      <td>2000-01-01</td>\n",
              "    </tr>\n",
              "  </tbody>\n",
              "</table>\n",
              "</div>\n",
              "      <button class=\"colab-df-convert\" onclick=\"convertToInteractive('df-a74ab8ce-7d27-49f6-b77d-098c8d35f891')\"\n",
              "              title=\"Convert this dataframe to an interactive table.\"\n",
              "              style=\"display:none;\">\n",
              "        \n",
              "  <svg xmlns=\"http://www.w3.org/2000/svg\" height=\"24px\"viewBox=\"0 0 24 24\"\n",
              "       width=\"24px\">\n",
              "    <path d=\"M0 0h24v24H0V0z\" fill=\"none\"/>\n",
              "    <path d=\"M18.56 5.44l.94 2.06.94-2.06 2.06-.94-2.06-.94-.94-2.06-.94 2.06-2.06.94zm-11 1L8.5 8.5l.94-2.06 2.06-.94-2.06-.94L8.5 2.5l-.94 2.06-2.06.94zm10 10l.94 2.06.94-2.06 2.06-.94-2.06-.94-.94-2.06-.94 2.06-2.06.94z\"/><path d=\"M17.41 7.96l-1.37-1.37c-.4-.4-.92-.59-1.43-.59-.52 0-1.04.2-1.43.59L10.3 9.45l-7.72 7.72c-.78.78-.78 2.05 0 2.83L4 21.41c.39.39.9.59 1.41.59.51 0 1.02-.2 1.41-.59l7.78-7.78 2.81-2.81c.8-.78.8-2.07 0-2.86zM5.41 20L4 18.59l7.72-7.72 1.47 1.35L5.41 20z\"/>\n",
              "  </svg>\n",
              "      </button>\n",
              "      \n",
              "  <style>\n",
              "    .colab-df-container {\n",
              "      display:flex;\n",
              "      flex-wrap:wrap;\n",
              "      gap: 12px;\n",
              "    }\n",
              "\n",
              "    .colab-df-convert {\n",
              "      background-color: #E8F0FE;\n",
              "      border: none;\n",
              "      border-radius: 50%;\n",
              "      cursor: pointer;\n",
              "      display: none;\n",
              "      fill: #1967D2;\n",
              "      height: 32px;\n",
              "      padding: 0 0 0 0;\n",
              "      width: 32px;\n",
              "    }\n",
              "\n",
              "    .colab-df-convert:hover {\n",
              "      background-color: #E2EBFA;\n",
              "      box-shadow: 0px 1px 2px rgba(60, 64, 67, 0.3), 0px 1px 3px 1px rgba(60, 64, 67, 0.15);\n",
              "      fill: #174EA6;\n",
              "    }\n",
              "\n",
              "    [theme=dark] .colab-df-convert {\n",
              "      background-color: #3B4455;\n",
              "      fill: #D2E3FC;\n",
              "    }\n",
              "\n",
              "    [theme=dark] .colab-df-convert:hover {\n",
              "      background-color: #434B5C;\n",
              "      box-shadow: 0px 1px 3px 1px rgba(0, 0, 0, 0.15);\n",
              "      filter: drop-shadow(0px 1px 2px rgba(0, 0, 0, 0.3));\n",
              "      fill: #FFFFFF;\n",
              "    }\n",
              "  </style>\n",
              "\n",
              "      <script>\n",
              "        const buttonEl =\n",
              "          document.querySelector('#df-a74ab8ce-7d27-49f6-b77d-098c8d35f891 button.colab-df-convert');\n",
              "        buttonEl.style.display =\n",
              "          google.colab.kernel.accessAllowed ? 'block' : 'none';\n",
              "\n",
              "        async function convertToInteractive(key) {\n",
              "          const element = document.querySelector('#df-a74ab8ce-7d27-49f6-b77d-098c8d35f891');\n",
              "          const dataTable =\n",
              "            await google.colab.kernel.invokeFunction('convertToInteractive',\n",
              "                                                     [key], {});\n",
              "          if (!dataTable) return;\n",
              "\n",
              "          const docLinkHtml = 'Like what you see? Visit the ' +\n",
              "            '<a target=\"_blank\" href=https://colab.research.google.com/notebooks/data_table.ipynb>data table notebook</a>'\n",
              "            + ' to learn more about interactive tables.';\n",
              "          element.innerHTML = '';\n",
              "          dataTable['output_type'] = 'display_data';\n",
              "          await google.colab.output.renderOutput(dataTable, element);\n",
              "          const docLink = document.createElement('div');\n",
              "          docLink.innerHTML = docLinkHtml;\n",
              "          element.appendChild(docLink);\n",
              "        }\n",
              "      </script>\n",
              "    </div>\n",
              "  </div>\n",
              "  "
            ]
          },
          "metadata": {},
          "execution_count": 253
        }
      ]
    },
    {
      "cell_type": "markdown",
      "source": [
        "Outra forma de completar os valores vazios seria utilizando o replace()\n",
        "\n",
        "Fique de olho: https://pandas.pydata.org/docs/reference/api/pandas.DataFrame.replace.html"
      ],
      "metadata": {
        "id": "RQx-UT3rUpiI"
      }
    },
    {
      "cell_type": "markdown",
      "source": [
        "Agrupando com o groupby() e uma função de agregação (como count, nunique, sum, mean etc)"
      ],
      "metadata": {
        "id": "EI6t1yq5GaVa"
      }
    },
    {
      "cell_type": "code",
      "source": [
        "# Realizando um agrupamento para ver quantos alunos moram em cada cidade\n",
        "df_group = df.copy()\n",
        "\n",
        "df_group = df_group.groupby(['cidade'])['aluno'].nunique()\n",
        "\n",
        "df_group\n"
      ],
      "metadata": {
        "id": "U9Dj2mZTGg_L",
        "outputId": "be4a428a-9890-4436-f1ef-f23420402dc2",
        "colab": {
          "base_uri": "https://localhost:8080/"
        }
      },
      "execution_count": 254,
      "outputs": [
        {
          "output_type": "execute_result",
          "data": {
            "text/plain": [
              "cidade\n",
              "Botelhos     1\n",
              "Mococa       1\n",
              "Pinhal       2\n",
              "Poços        1\n",
              "São João     1\n",
              "São Paulo    1\n",
              "Name: aluno, dtype: int64"
            ]
          },
          "metadata": {},
          "execution_count": 254
        }
      ]
    },
    {
      "cell_type": "code",
      "source": [
        "# Agrupamento para verificar a média de idade por cidade\n",
        "df_group2 = df.copy()\n",
        "\n",
        "df_group2 = df_group2.groupby(['cidade'])['idade'].mean()\n",
        "df_group2\n"
      ],
      "metadata": {
        "id": "g89GQ874mERt",
        "outputId": "1fcc6216-0d00-4b8e-bea8-1b82e3ca8e20",
        "colab": {
          "base_uri": "https://localhost:8080/"
        }
      },
      "execution_count": 256,
      "outputs": [
        {
          "output_type": "execute_result",
          "data": {
            "text/plain": [
              "cidade\n",
              "Botelhos     32.0\n",
              "Mococa       21.0\n",
              "Pinhal       31.0\n",
              "Poços        35.0\n",
              "São João     29.0\n",
              "São Paulo    20.0\n",
              "Name: idade, dtype: float64"
            ]
          },
          "metadata": {},
          "execution_count": 256
        }
      ]
    },
    {
      "cell_type": "markdown",
      "source": [
        "Outros métodos de fill: https://pandas.pydata.org/docs/reference/api/pandas.DataFrame.fillna.html\n",
        "\n",
        "(...) e caso queira excluir as linhas ou colunas com valores vazios, utilize o comando `df.dropna()` especificando o 'axis'"
      ],
      "metadata": {
        "id": "5Etl2GJ_p-sI"
      }
    },
    {
      "cell_type": "markdown",
      "source": [
        "**Extra**\n",
        "\n",
        "Faça uma cópia do df anterior com o nome de 'df_exercicio' e então, altere as ocorrências da cidade 'Pinhal' para 'Aguai'.<br>\n",
        "*Imprima o dataframe resultante*"
      ],
      "metadata": {
        "id": "x3PYz5BhkFHd"
      }
    },
    {
      "cell_type": "code",
      "source": [
        "df_exercicio = df.copy()\n",
        "\n",
        "df_exercicio.loc[df_exercicio.cidade == 'Pinhal', 'cidade'] = 'Aguai'\n",
        "df_exercicio"
      ],
      "metadata": {
        "id": "3e8lrt60mFaz",
        "outputId": "f12b11bc-ebb6-4603-89b2-c7060c0f997c",
        "colab": {
          "base_uri": "https://localhost:8080/",
          "height": 269
        }
      },
      "execution_count": 257,
      "outputs": [
        {
          "output_type": "execute_result",
          "data": {
            "text/plain": [
              "     aluno  idade     cidade aniversario\n",
              "0     João     20  São Paulo  2002-10-04\n",
              "1  Ribeiro     29   São João  2003-02-20\n",
              "2   Evaldo     22      Aguai  2003-02-20\n",
              "3   Isaias     21     Mococa  2000-04-20\n",
              "4  Jessyca     35      Poços  1987-12-12\n",
              "5     Anne     32   Botelhos  2000-01-01\n",
              "6     Luiz     40      Aguai  2000-01-01"
            ],
            "text/html": [
              "\n",
              "  <div id=\"df-9d97dac0-27d8-45f8-a7f0-de2c93006469\">\n",
              "    <div class=\"colab-df-container\">\n",
              "      <div>\n",
              "<style scoped>\n",
              "    .dataframe tbody tr th:only-of-type {\n",
              "        vertical-align: middle;\n",
              "    }\n",
              "\n",
              "    .dataframe tbody tr th {\n",
              "        vertical-align: top;\n",
              "    }\n",
              "\n",
              "    .dataframe thead th {\n",
              "        text-align: right;\n",
              "    }\n",
              "</style>\n",
              "<table border=\"1\" class=\"dataframe\">\n",
              "  <thead>\n",
              "    <tr style=\"text-align: right;\">\n",
              "      <th></th>\n",
              "      <th>aluno</th>\n",
              "      <th>idade</th>\n",
              "      <th>cidade</th>\n",
              "      <th>aniversario</th>\n",
              "    </tr>\n",
              "  </thead>\n",
              "  <tbody>\n",
              "    <tr>\n",
              "      <th>0</th>\n",
              "      <td>João</td>\n",
              "      <td>20</td>\n",
              "      <td>São Paulo</td>\n",
              "      <td>2002-10-04</td>\n",
              "    </tr>\n",
              "    <tr>\n",
              "      <th>1</th>\n",
              "      <td>Ribeiro</td>\n",
              "      <td>29</td>\n",
              "      <td>São João</td>\n",
              "      <td>2003-02-20</td>\n",
              "    </tr>\n",
              "    <tr>\n",
              "      <th>2</th>\n",
              "      <td>Evaldo</td>\n",
              "      <td>22</td>\n",
              "      <td>Aguai</td>\n",
              "      <td>2003-02-20</td>\n",
              "    </tr>\n",
              "    <tr>\n",
              "      <th>3</th>\n",
              "      <td>Isaias</td>\n",
              "      <td>21</td>\n",
              "      <td>Mococa</td>\n",
              "      <td>2000-04-20</td>\n",
              "    </tr>\n",
              "    <tr>\n",
              "      <th>4</th>\n",
              "      <td>Jessyca</td>\n",
              "      <td>35</td>\n",
              "      <td>Poços</td>\n",
              "      <td>1987-12-12</td>\n",
              "    </tr>\n",
              "    <tr>\n",
              "      <th>5</th>\n",
              "      <td>Anne</td>\n",
              "      <td>32</td>\n",
              "      <td>Botelhos</td>\n",
              "      <td>2000-01-01</td>\n",
              "    </tr>\n",
              "    <tr>\n",
              "      <th>6</th>\n",
              "      <td>Luiz</td>\n",
              "      <td>40</td>\n",
              "      <td>Aguai</td>\n",
              "      <td>2000-01-01</td>\n",
              "    </tr>\n",
              "  </tbody>\n",
              "</table>\n",
              "</div>\n",
              "      <button class=\"colab-df-convert\" onclick=\"convertToInteractive('df-9d97dac0-27d8-45f8-a7f0-de2c93006469')\"\n",
              "              title=\"Convert this dataframe to an interactive table.\"\n",
              "              style=\"display:none;\">\n",
              "        \n",
              "  <svg xmlns=\"http://www.w3.org/2000/svg\" height=\"24px\"viewBox=\"0 0 24 24\"\n",
              "       width=\"24px\">\n",
              "    <path d=\"M0 0h24v24H0V0z\" fill=\"none\"/>\n",
              "    <path d=\"M18.56 5.44l.94 2.06.94-2.06 2.06-.94-2.06-.94-.94-2.06-.94 2.06-2.06.94zm-11 1L8.5 8.5l.94-2.06 2.06-.94-2.06-.94L8.5 2.5l-.94 2.06-2.06.94zm10 10l.94 2.06.94-2.06 2.06-.94-2.06-.94-.94-2.06-.94 2.06-2.06.94z\"/><path d=\"M17.41 7.96l-1.37-1.37c-.4-.4-.92-.59-1.43-.59-.52 0-1.04.2-1.43.59L10.3 9.45l-7.72 7.72c-.78.78-.78 2.05 0 2.83L4 21.41c.39.39.9.59 1.41.59.51 0 1.02-.2 1.41-.59l7.78-7.78 2.81-2.81c.8-.78.8-2.07 0-2.86zM5.41 20L4 18.59l7.72-7.72 1.47 1.35L5.41 20z\"/>\n",
              "  </svg>\n",
              "      </button>\n",
              "      \n",
              "  <style>\n",
              "    .colab-df-container {\n",
              "      display:flex;\n",
              "      flex-wrap:wrap;\n",
              "      gap: 12px;\n",
              "    }\n",
              "\n",
              "    .colab-df-convert {\n",
              "      background-color: #E8F0FE;\n",
              "      border: none;\n",
              "      border-radius: 50%;\n",
              "      cursor: pointer;\n",
              "      display: none;\n",
              "      fill: #1967D2;\n",
              "      height: 32px;\n",
              "      padding: 0 0 0 0;\n",
              "      width: 32px;\n",
              "    }\n",
              "\n",
              "    .colab-df-convert:hover {\n",
              "      background-color: #E2EBFA;\n",
              "      box-shadow: 0px 1px 2px rgba(60, 64, 67, 0.3), 0px 1px 3px 1px rgba(60, 64, 67, 0.15);\n",
              "      fill: #174EA6;\n",
              "    }\n",
              "\n",
              "    [theme=dark] .colab-df-convert {\n",
              "      background-color: #3B4455;\n",
              "      fill: #D2E3FC;\n",
              "    }\n",
              "\n",
              "    [theme=dark] .colab-df-convert:hover {\n",
              "      background-color: #434B5C;\n",
              "      box-shadow: 0px 1px 3px 1px rgba(0, 0, 0, 0.15);\n",
              "      filter: drop-shadow(0px 1px 2px rgba(0, 0, 0, 0.3));\n",
              "      fill: #FFFFFF;\n",
              "    }\n",
              "  </style>\n",
              "\n",
              "      <script>\n",
              "        const buttonEl =\n",
              "          document.querySelector('#df-9d97dac0-27d8-45f8-a7f0-de2c93006469 button.colab-df-convert');\n",
              "        buttonEl.style.display =\n",
              "          google.colab.kernel.accessAllowed ? 'block' : 'none';\n",
              "\n",
              "        async function convertToInteractive(key) {\n",
              "          const element = document.querySelector('#df-9d97dac0-27d8-45f8-a7f0-de2c93006469');\n",
              "          const dataTable =\n",
              "            await google.colab.kernel.invokeFunction('convertToInteractive',\n",
              "                                                     [key], {});\n",
              "          if (!dataTable) return;\n",
              "\n",
              "          const docLinkHtml = 'Like what you see? Visit the ' +\n",
              "            '<a target=\"_blank\" href=https://colab.research.google.com/notebooks/data_table.ipynb>data table notebook</a>'\n",
              "            + ' to learn more about interactive tables.';\n",
              "          element.innerHTML = '';\n",
              "          dataTable['output_type'] = 'display_data';\n",
              "          await google.colab.output.renderOutput(dataTable, element);\n",
              "          const docLink = document.createElement('div');\n",
              "          docLink.innerHTML = docLinkHtml;\n",
              "          element.appendChild(docLink);\n",
              "        }\n",
              "      </script>\n",
              "    </div>\n",
              "  </div>\n",
              "  "
            ]
          },
          "metadata": {},
          "execution_count": 257
        }
      ]
    },
    {
      "cell_type": "markdown",
      "source": [
        "Lendo arquivos em Pandas\n",
        "\n",
        "<img src=\"data:image/jpeg;base64,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\" width=50%>"
      ],
      "metadata": {
        "id": "C0Q4UDsmqD1p"
      }
    },
    {
      "cell_type": "markdown",
      "source": [
        "Link para o dataset de exemplo:\n",
        "https://www.kaggle.com/datasets/nehalbirla/vehicle-dataset-from-cardekho"
      ],
      "metadata": {
        "id": "CsI7pToaRlhx"
      }
    },
    {
      "cell_type": "code",
      "source": [
        "data = pd.read_csv()\n",
        "\n",
        "# Outros parâmetros úteis para o pd.read():\n",
        "  # encoding: colocamos o 'encode'. Ex. UTF-8\n",
        "  # skiprows: pulamos N linhas iniciais do arquivo\n",
        "  # sep: Tipo de separador. No csv geralmente é a vírgula ','\n",
        "  # skipfooter: pulamos N linhas finais do arquivo\n",
        "  # thousands: especificamos como está os milhares. Ex. 10.000,00 = dez mil\n",
        "  # decimal: especificamos como está os decimais. Ex. 10,5 = dez vírgula cinco\n",
        "\n",
        "data.head()"
      ],
      "metadata": {
        "id": "Wj4Ipxk7qRqA",
        "outputId": "167b83d1-eb4e-4d27-d8a3-3841249da7a8",
        "colab": {
          "base_uri": "https://localhost:8080/",
          "height": 130
        }
      },
      "execution_count": 258,
      "outputs": [
        {
          "output_type": "error",
          "ename": "SyntaxError",
          "evalue": "ignored",
          "traceback": [
            "\u001b[0;36m  File \u001b[0;32m\"<ipython-input-258-4261d9552aae>\"\u001b[0;36m, line \u001b[0;32m1\u001b[0m\n\u001b[0;31m    data = pd.read_csv(https://raw.githubusercontent.com/GuilhermeRuy97/Curso-ministrado-Python-para-Dados/main/Car%20details%20v3.csv)\u001b[0m\n\u001b[0m                                                                                                                     ^\u001b[0m\n\u001b[0;31mSyntaxError\u001b[0m\u001b[0;31m:\u001b[0m invalid decimal literal\n"
          ]
        }
      ]
    },
    {
      "cell_type": "markdown",
      "source": [
        "Quantas linhas e colunas tem nosso arquivo?"
      ],
      "metadata": {
        "id": "9ZFGTyAaHO9e"
      }
    },
    {
      "cell_type": "code",
      "source": [
        "# Utilizando o df.shape\n"
      ],
      "metadata": {
        "id": "IBiJHjqExD-1"
      },
      "execution_count": null,
      "outputs": []
    },
    {
      "cell_type": "code",
      "source": [
        "# Especificando o que retornar do df.shape[x]\n",
        "\n",
        "print(f\"Num linhas: {}\")\n",
        "print(f\"Num colunas: {}\")"
      ],
      "metadata": {
        "id": "Y7k3Kq-lHRIw"
      },
      "execution_count": null,
      "outputs": []
    },
    {
      "cell_type": "code",
      "source": [
        "# Lendo o arquivo do github\n",
        "\n",
        "data2 = pd.read_csv('https://raw.githubusercontent.com/GuilhermeRuy97/Curso-ministrado-Python-para-Dados/main/Car%20details%20v3.csv')\n",
        "data2.head()"
      ],
      "metadata": {
        "id": "17ticwdXrYSU",
        "outputId": "81e2f921-a69b-49bc-f4e9-14096cb1ec97",
        "colab": {
          "base_uri": "https://localhost:8080/",
          "height": 337
        }
      },
      "execution_count": 259,
      "outputs": [
        {
          "output_type": "execute_result",
          "data": {
            "text/plain": [
              "                           name  year  selling_price  km_driven    fuel  \\\n",
              "0        Maruti Swift Dzire VDI  2014         450000     145500  Diesel   \n",
              "1  Skoda Rapid 1.5 TDI Ambition  2014         370000     120000  Diesel   \n",
              "2      Honda City 2017-2020 EXi  2006         158000     140000  Petrol   \n",
              "3     Hyundai i20 Sportz Diesel  2010         225000     127000  Diesel   \n",
              "4        Maruti Swift VXI BSIII  2007         130000     120000  Petrol   \n",
              "\n",
              "  seller_type transmission         owner     mileage   engine   max_power  \\\n",
              "0  Individual       Manual   First Owner   23.4 kmpl  1248 CC      74 bhp   \n",
              "1  Individual       Manual  Second Owner  21.14 kmpl  1498 CC  103.52 bhp   \n",
              "2  Individual       Manual   Third Owner   17.7 kmpl  1497 CC      78 bhp   \n",
              "3  Individual       Manual   First Owner   23.0 kmpl  1396 CC      90 bhp   \n",
              "4  Individual       Manual   First Owner   16.1 kmpl  1298 CC    88.2 bhp   \n",
              "\n",
              "                     torque  seats  \n",
              "0            190Nm@ 2000rpm    5.0  \n",
              "1       250Nm@ 1500-2500rpm    5.0  \n",
              "2     12.7@ 2,700(kgm@ rpm)    5.0  \n",
              "3  22.4 kgm at 1750-2750rpm    5.0  \n",
              "4     11.5@ 4,500(kgm@ rpm)    5.0  "
            ],
            "text/html": [
              "\n",
              "  <div id=\"df-d94a15d3-0cd3-4b13-af89-e908084a9fcb\">\n",
              "    <div class=\"colab-df-container\">\n",
              "      <div>\n",
              "<style scoped>\n",
              "    .dataframe tbody tr th:only-of-type {\n",
              "        vertical-align: middle;\n",
              "    }\n",
              "\n",
              "    .dataframe tbody tr th {\n",
              "        vertical-align: top;\n",
              "    }\n",
              "\n",
              "    .dataframe thead th {\n",
              "        text-align: right;\n",
              "    }\n",
              "</style>\n",
              "<table border=\"1\" class=\"dataframe\">\n",
              "  <thead>\n",
              "    <tr style=\"text-align: right;\">\n",
              "      <th></th>\n",
              "      <th>name</th>\n",
              "      <th>year</th>\n",
              "      <th>selling_price</th>\n",
              "      <th>km_driven</th>\n",
              "      <th>fuel</th>\n",
              "      <th>seller_type</th>\n",
              "      <th>transmission</th>\n",
              "      <th>owner</th>\n",
              "      <th>mileage</th>\n",
              "      <th>engine</th>\n",
              "      <th>max_power</th>\n",
              "      <th>torque</th>\n",
              "      <th>seats</th>\n",
              "    </tr>\n",
              "  </thead>\n",
              "  <tbody>\n",
              "    <tr>\n",
              "      <th>0</th>\n",
              "      <td>Maruti Swift Dzire VDI</td>\n",
              "      <td>2014</td>\n",
              "      <td>450000</td>\n",
              "      <td>145500</td>\n",
              "      <td>Diesel</td>\n",
              "      <td>Individual</td>\n",
              "      <td>Manual</td>\n",
              "      <td>First Owner</td>\n",
              "      <td>23.4 kmpl</td>\n",
              "      <td>1248 CC</td>\n",
              "      <td>74 bhp</td>\n",
              "      <td>190Nm@ 2000rpm</td>\n",
              "      <td>5.0</td>\n",
              "    </tr>\n",
              "    <tr>\n",
              "      <th>1</th>\n",
              "      <td>Skoda Rapid 1.5 TDI Ambition</td>\n",
              "      <td>2014</td>\n",
              "      <td>370000</td>\n",
              "      <td>120000</td>\n",
              "      <td>Diesel</td>\n",
              "      <td>Individual</td>\n",
              "      <td>Manual</td>\n",
              "      <td>Second Owner</td>\n",
              "      <td>21.14 kmpl</td>\n",
              "      <td>1498 CC</td>\n",
              "      <td>103.52 bhp</td>\n",
              "      <td>250Nm@ 1500-2500rpm</td>\n",
              "      <td>5.0</td>\n",
              "    </tr>\n",
              "    <tr>\n",
              "      <th>2</th>\n",
              "      <td>Honda City 2017-2020 EXi</td>\n",
              "      <td>2006</td>\n",
              "      <td>158000</td>\n",
              "      <td>140000</td>\n",
              "      <td>Petrol</td>\n",
              "      <td>Individual</td>\n",
              "      <td>Manual</td>\n",
              "      <td>Third Owner</td>\n",
              "      <td>17.7 kmpl</td>\n",
              "      <td>1497 CC</td>\n",
              "      <td>78 bhp</td>\n",
              "      <td>12.7@ 2,700(kgm@ rpm)</td>\n",
              "      <td>5.0</td>\n",
              "    </tr>\n",
              "    <tr>\n",
              "      <th>3</th>\n",
              "      <td>Hyundai i20 Sportz Diesel</td>\n",
              "      <td>2010</td>\n",
              "      <td>225000</td>\n",
              "      <td>127000</td>\n",
              "      <td>Diesel</td>\n",
              "      <td>Individual</td>\n",
              "      <td>Manual</td>\n",
              "      <td>First Owner</td>\n",
              "      <td>23.0 kmpl</td>\n",
              "      <td>1396 CC</td>\n",
              "      <td>90 bhp</td>\n",
              "      <td>22.4 kgm at 1750-2750rpm</td>\n",
              "      <td>5.0</td>\n",
              "    </tr>\n",
              "    <tr>\n",
              "      <th>4</th>\n",
              "      <td>Maruti Swift VXI BSIII</td>\n",
              "      <td>2007</td>\n",
              "      <td>130000</td>\n",
              "      <td>120000</td>\n",
              "      <td>Petrol</td>\n",
              "      <td>Individual</td>\n",
              "      <td>Manual</td>\n",
              "      <td>First Owner</td>\n",
              "      <td>16.1 kmpl</td>\n",
              "      <td>1298 CC</td>\n",
              "      <td>88.2 bhp</td>\n",
              "      <td>11.5@ 4,500(kgm@ rpm)</td>\n",
              "      <td>5.0</td>\n",
              "    </tr>\n",
              "  </tbody>\n",
              "</table>\n",
              "</div>\n",
              "      <button class=\"colab-df-convert\" onclick=\"convertToInteractive('df-d94a15d3-0cd3-4b13-af89-e908084a9fcb')\"\n",
              "              title=\"Convert this dataframe to an interactive table.\"\n",
              "              style=\"display:none;\">\n",
              "        \n",
              "  <svg xmlns=\"http://www.w3.org/2000/svg\" height=\"24px\"viewBox=\"0 0 24 24\"\n",
              "       width=\"24px\">\n",
              "    <path d=\"M0 0h24v24H0V0z\" fill=\"none\"/>\n",
              "    <path d=\"M18.56 5.44l.94 2.06.94-2.06 2.06-.94-2.06-.94-.94-2.06-.94 2.06-2.06.94zm-11 1L8.5 8.5l.94-2.06 2.06-.94-2.06-.94L8.5 2.5l-.94 2.06-2.06.94zm10 10l.94 2.06.94-2.06 2.06-.94-2.06-.94-.94-2.06-.94 2.06-2.06.94z\"/><path d=\"M17.41 7.96l-1.37-1.37c-.4-.4-.92-.59-1.43-.59-.52 0-1.04.2-1.43.59L10.3 9.45l-7.72 7.72c-.78.78-.78 2.05 0 2.83L4 21.41c.39.39.9.59 1.41.59.51 0 1.02-.2 1.41-.59l7.78-7.78 2.81-2.81c.8-.78.8-2.07 0-2.86zM5.41 20L4 18.59l7.72-7.72 1.47 1.35L5.41 20z\"/>\n",
              "  </svg>\n",
              "      </button>\n",
              "      \n",
              "  <style>\n",
              "    .colab-df-container {\n",
              "      display:flex;\n",
              "      flex-wrap:wrap;\n",
              "      gap: 12px;\n",
              "    }\n",
              "\n",
              "    .colab-df-convert {\n",
              "      background-color: #E8F0FE;\n",
              "      border: none;\n",
              "      border-radius: 50%;\n",
              "      cursor: pointer;\n",
              "      display: none;\n",
              "      fill: #1967D2;\n",
              "      height: 32px;\n",
              "      padding: 0 0 0 0;\n",
              "      width: 32px;\n",
              "    }\n",
              "\n",
              "    .colab-df-convert:hover {\n",
              "      background-color: #E2EBFA;\n",
              "      box-shadow: 0px 1px 2px rgba(60, 64, 67, 0.3), 0px 1px 3px 1px rgba(60, 64, 67, 0.15);\n",
              "      fill: #174EA6;\n",
              "    }\n",
              "\n",
              "    [theme=dark] .colab-df-convert {\n",
              "      background-color: #3B4455;\n",
              "      fill: #D2E3FC;\n",
              "    }\n",
              "\n",
              "    [theme=dark] .colab-df-convert:hover {\n",
              "      background-color: #434B5C;\n",
              "      box-shadow: 0px 1px 3px 1px rgba(0, 0, 0, 0.15);\n",
              "      filter: drop-shadow(0px 1px 2px rgba(0, 0, 0, 0.3));\n",
              "      fill: #FFFFFF;\n",
              "    }\n",
              "  </style>\n",
              "\n",
              "      <script>\n",
              "        const buttonEl =\n",
              "          document.querySelector('#df-d94a15d3-0cd3-4b13-af89-e908084a9fcb button.colab-df-convert');\n",
              "        buttonEl.style.display =\n",
              "          google.colab.kernel.accessAllowed ? 'block' : 'none';\n",
              "\n",
              "        async function convertToInteractive(key) {\n",
              "          const element = document.querySelector('#df-d94a15d3-0cd3-4b13-af89-e908084a9fcb');\n",
              "          const dataTable =\n",
              "            await google.colab.kernel.invokeFunction('convertToInteractive',\n",
              "                                                     [key], {});\n",
              "          if (!dataTable) return;\n",
              "\n",
              "          const docLinkHtml = 'Like what you see? Visit the ' +\n",
              "            '<a target=\"_blank\" href=https://colab.research.google.com/notebooks/data_table.ipynb>data table notebook</a>'\n",
              "            + ' to learn more about interactive tables.';\n",
              "          element.innerHTML = '';\n",
              "          dataTable['output_type'] = 'display_data';\n",
              "          await google.colab.output.renderOutput(dataTable, element);\n",
              "          const docLink = document.createElement('div');\n",
              "          docLink.innerHTML = docLinkHtml;\n",
              "          element.appendChild(docLink);\n",
              "        }\n",
              "      </script>\n",
              "    </div>\n",
              "  </div>\n",
              "  "
            ]
          },
          "metadata": {},
          "execution_count": 259
        }
      ]
    },
    {
      "cell_type": "markdown",
      "source": [
        "Outras visões interessantes:"
      ],
      "metadata": {
        "id": "h_2yfE6qS4ew"
      }
    },
    {
      "cell_type": "code",
      "source": [
        "# Quantos carros de cada tipo há por coluna\n",
        "data2['name'].value_counts()"
      ],
      "metadata": {
        "id": "6FUpscNxS8Bv",
        "outputId": "163e9452-ee3c-42ea-948b-bb0a5ccd48cf",
        "colab": {
          "base_uri": "https://localhost:8080/"
        }
      },
      "execution_count": 260,
      "outputs": [
        {
          "output_type": "execute_result",
          "data": {
            "text/plain": [
              "Maruti Swift Dzire VDI                             129\n",
              "Maruti Alto 800 LXI                                 82\n",
              "Maruti Alto LXi                                     71\n",
              "BMW X4 M Sport X xDrive20d                          62\n",
              "Maruti Swift VDI                                    61\n",
              "                                                  ... \n",
              "Skoda Fabia 1.4 TDI Ambiente                         1\n",
              "Mahindra Scorpio VLX 2WD AT BSIII                    1\n",
              "Renault KWID Climber 1.0 AMT                         1\n",
              "Mahindra XUV300 W8 Option Dual Tone Diesel BSIV      1\n",
              "Toyota Innova 2.5 GX (Diesel) 8 Seater BS IV         1\n",
              "Name: name, Length: 2058, dtype: int64"
            ]
          },
          "metadata": {},
          "execution_count": 260
        }
      ]
    },
    {
      "cell_type": "code",
      "source": [
        "# Deixando os nomes dos carros em maiúsculo com o apply()\n",
        "\n",
        "def deixa_maiscula(nome):\n",
        "  return nome.upper()\n",
        "\n",
        "data2['name'].apply(deixa_maiscula)"
      ],
      "metadata": {
        "id": "lBlxd5RYTXOj",
        "outputId": "907582cc-e4cc-4370-b2ca-54f2b5ebe2ae",
        "colab": {
          "base_uri": "https://localhost:8080/"
        }
      },
      "execution_count": 261,
      "outputs": [
        {
          "output_type": "execute_result",
          "data": {
            "text/plain": [
              "0             MARUTI SWIFT DZIRE VDI\n",
              "1       SKODA RAPID 1.5 TDI AMBITION\n",
              "2           HONDA CITY 2017-2020 EXI\n",
              "3          HYUNDAI I20 SPORTZ DIESEL\n",
              "4             MARUTI SWIFT VXI BSIII\n",
              "                    ...             \n",
              "8123               HYUNDAI I20 MAGNA\n",
              "8124           HYUNDAI VERNA CRDI SX\n",
              "8125          MARUTI SWIFT DZIRE ZDI\n",
              "8126                 TATA INDIGO CR4\n",
              "8127                 TATA INDIGO CR4\n",
              "Name: name, Length: 8128, dtype: object"
            ]
          },
          "metadata": {},
          "execution_count": 261
        }
      ]
    },
    {
      "cell_type": "markdown",
      "source": [
        "  Por fim, para salvar o resultado do seu trabalho, por exemplo, no formato CSV:\n",
        "\n",
        "`  df.to_csv('nome.extensao')`"
      ],
      "metadata": {
        "id": "Bne6nu8AVdiM"
      }
    },
    {
      "cell_type": "code",
      "source": [
        "data2.to_csv('carros_maisculo.csv')"
      ],
      "metadata": {
        "id": "A0yUQOOIqDwA"
      },
      "execution_count": 262,
      "outputs": []
    },
    {
      "cell_type": "markdown",
      "source": [
        "Leitura extra para entender o básico do pandas: <br>\n",
        "https://medium.com/data-hackers/uma-introdu%C3%A7%C3%A3o-simples-ao-pandas-1e15eea37fa1"
      ],
      "metadata": {
        "id": "6Xvj_n-mNrfu"
      }
    }
  ]
}